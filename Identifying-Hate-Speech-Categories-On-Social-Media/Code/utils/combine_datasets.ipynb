{
 "cells": [
  {
   "cell_type": "code",
   "execution_count": 78,
   "metadata": {},
   "outputs": [],
   "source": [
    "import pandas as pd\n",
    "pd.options.display.float_format = '{:.0f}'.format"
   ]
  },
  {
   "cell_type": "code",
   "execution_count": 79,
   "metadata": {},
   "outputs": [
    {
     "data": {
      "text/html": [
       "<div>\n",
       "<style scoped>\n",
       "    .dataframe tbody tr th:only-of-type {\n",
       "        vertical-align: middle;\n",
       "    }\n",
       "\n",
       "    .dataframe tbody tr th {\n",
       "        vertical-align: top;\n",
       "    }\n",
       "\n",
       "    .dataframe thead th {\n",
       "        text-align: right;\n",
       "    }\n",
       "</style>\n",
       "<table border=\"1\" class=\"dataframe\">\n",
       "  <thead>\n",
       "    <tr style=\"text-align: right;\">\n",
       "      <th></th>\n",
       "      <th>id</th>\n",
       "      <th>text</th>\n",
       "      <th>Annotation</th>\n",
       "    </tr>\n",
       "  </thead>\n",
       "  <tbody>\n",
       "    <tr>\n",
       "      <th>0</th>\n",
       "      <td>596965466238619648</td>\n",
       "      <td>I just found the *perfect* rental. Why can't m...</td>\n",
       "      <td>Neither</td>\n",
       "    </tr>\n",
       "    <tr>\n",
       "      <th>1</th>\n",
       "      <td>575891807873040384</td>\n",
       "      <td>@wetsprocket every time they \"discover\" anythi...</td>\n",
       "      <td>Neither</td>\n",
       "    </tr>\n",
       "    <tr>\n",
       "      <th>2</th>\n",
       "      <td>595259457828884480</td>\n",
       "      <td>ok time to write code bbl.\\n\\nmaking a new thing.</td>\n",
       "      <td>Neither</td>\n",
       "    </tr>\n",
       "    <tr>\n",
       "      <th>3</th>\n",
       "      <td>572344911002927104</td>\n",
       "      <td>Refined dessert! NOT #MKR</td>\n",
       "      <td>Neither</td>\n",
       "    </tr>\n",
       "    <tr>\n",
       "      <th>4</th>\n",
       "      <td>568132033215475712</td>\n",
       "      <td>@furt1v3ly @ClarkHat One of the best things an...</td>\n",
       "      <td>Neither</td>\n",
       "    </tr>\n",
       "  </tbody>\n",
       "</table>\n",
       "</div>"
      ],
      "text/plain": [
       "                   id                                               text  \\\n",
       "0  596965466238619648  I just found the *perfect* rental. Why can't m...   \n",
       "1  575891807873040384  @wetsprocket every time they \"discover\" anythi...   \n",
       "2  595259457828884480  ok time to write code bbl.\\n\\nmaking a new thing.   \n",
       "3  572344911002927104                          Refined dessert! NOT #MKR   \n",
       "4  568132033215475712  @furt1v3ly @ClarkHat One of the best things an...   \n",
       "\n",
       "  Annotation  \n",
       "0    Neither  \n",
       "1    Neither  \n",
       "2    Neither  \n",
       "3    Neither  \n",
       "4    Neither  "
      ]
     },
     "execution_count": 79,
     "metadata": {},
     "output_type": "execute_result"
    }
   ],
   "source": [
    "df1 = pd.read_csv(r'C:\\Users\\jackc\\Semester2\\Project\\Identifying-Hate-Speech-Categories-On-Social-Media\\Data\\unclean_dataset_p1.csv')\n",
    "df2 = pd.read_csv(r'C:\\Users\\jackc\\Semester2\\Project\\Identifying-Hate-Speech-Categories-On-Social-Media\\Data\\unclean_dataset_p2.csv')\n",
    "\n",
    "df1.head(5)"
   ]
  },
  {
   "cell_type": "code",
   "execution_count": 80,
   "metadata": {},
   "outputs": [
    {
     "data": {
      "text/html": [
       "<div>\n",
       "<style scoped>\n",
       "    .dataframe tbody tr th:only-of-type {\n",
       "        vertical-align: middle;\n",
       "    }\n",
       "\n",
       "    .dataframe tbody tr th {\n",
       "        vertical-align: top;\n",
       "    }\n",
       "\n",
       "    .dataframe thead th {\n",
       "        text-align: right;\n",
       "    }\n",
       "</style>\n",
       "<table border=\"1\" class=\"dataframe\">\n",
       "  <thead>\n",
       "    <tr style=\"text-align: right;\">\n",
       "      <th></th>\n",
       "      <th>tweet_id</th>\n",
       "      <th>text</th>\n",
       "      <th>label</th>\n",
       "    </tr>\n",
       "  </thead>\n",
       "  <tbody>\n",
       "    <tr>\n",
       "      <th>0</th>\n",
       "      <td>625778285025346048</td>\n",
       "      <td>American Voices: Boy Scouts To Lift Ban On Gay...</td>\n",
       "      <td>homophobia</td>\n",
       "    </tr>\n",
       "    <tr>\n",
       "      <th>1</th>\n",
       "      <td>555102898556636992</td>\n",
       "      <td>Homosexuality is a disease!pic.twitter.com/Re2...</td>\n",
       "      <td>homophobia</td>\n",
       "    </tr>\n",
       "    <tr>\n",
       "      <th>2</th>\n",
       "      <td>535859739163243008</td>\n",
       "      <td>Gay Man Unaware He Focus Of Thousands Of Praye...</td>\n",
       "      <td>homophobia</td>\n",
       "    </tr>\n",
       "    <tr>\n",
       "      <th>3</th>\n",
       "      <td>448730038905478976</td>\n",
       "      <td>Stop smearing feces on the wall, homosexuals! ...</td>\n",
       "      <td>homophobia</td>\n",
       "    </tr>\n",
       "    <tr>\n",
       "      <th>4</th>\n",
       "      <td>360126262154510016</td>\n",
       "      <td>A Straight Man Asks How to Ditch a Gay Friend ...</td>\n",
       "      <td>homophobia</td>\n",
       "    </tr>\n",
       "  </tbody>\n",
       "</table>\n",
       "</div>"
      ],
      "text/plain": [
       "            tweet_id                                               text  \\\n",
       "0 625778285025346048  American Voices: Boy Scouts To Lift Ban On Gay...   \n",
       "1 555102898556636992  Homosexuality is a disease!pic.twitter.com/Re2...   \n",
       "2 535859739163243008  Gay Man Unaware He Focus Of Thousands Of Praye...   \n",
       "3 448730038905478976  Stop smearing feces on the wall, homosexuals! ...   \n",
       "4 360126262154510016  A Straight Man Asks How to Ditch a Gay Friend ...   \n",
       "\n",
       "        label  \n",
       "0  homophobia  \n",
       "1  homophobia  \n",
       "2  homophobia  \n",
       "3  homophobia  \n",
       "4  homophobia  "
      ]
     },
     "execution_count": 80,
     "metadata": {},
     "output_type": "execute_result"
    }
   ],
   "source": [
    "df2.head(5)"
   ]
  },
  {
   "cell_type": "code",
   "execution_count": 81,
   "metadata": {},
   "outputs": [
    {
     "data": {
      "text/html": [
       "<div>\n",
       "<style scoped>\n",
       "    .dataframe tbody tr th:only-of-type {\n",
       "        vertical-align: middle;\n",
       "    }\n",
       "\n",
       "    .dataframe tbody tr th {\n",
       "        vertical-align: top;\n",
       "    }\n",
       "\n",
       "    .dataframe thead th {\n",
       "        text-align: right;\n",
       "    }\n",
       "</style>\n",
       "<table border=\"1\" class=\"dataframe\">\n",
       "  <thead>\n",
       "    <tr style=\"text-align: right;\">\n",
       "      <th></th>\n",
       "      <th>id</th>\n",
       "      <th>text</th>\n",
       "      <th>Annotation</th>\n",
       "    </tr>\n",
       "  </thead>\n",
       "  <tbody>\n",
       "    <tr>\n",
       "      <th>0</th>\n",
       "      <td>625778285025346048</td>\n",
       "      <td>American Voices: Boy Scouts To Lift Ban On Gay...</td>\n",
       "      <td>homophobia</td>\n",
       "    </tr>\n",
       "    <tr>\n",
       "      <th>1</th>\n",
       "      <td>555102898556636992</td>\n",
       "      <td>Homosexuality is a disease!pic.twitter.com/Re2...</td>\n",
       "      <td>homophobia</td>\n",
       "    </tr>\n",
       "    <tr>\n",
       "      <th>2</th>\n",
       "      <td>535859739163243008</td>\n",
       "      <td>Gay Man Unaware He Focus Of Thousands Of Praye...</td>\n",
       "      <td>homophobia</td>\n",
       "    </tr>\n",
       "    <tr>\n",
       "      <th>3</th>\n",
       "      <td>448730038905478976</td>\n",
       "      <td>Stop smearing feces on the wall, homosexuals! ...</td>\n",
       "      <td>homophobia</td>\n",
       "    </tr>\n",
       "    <tr>\n",
       "      <th>4</th>\n",
       "      <td>360126262154510016</td>\n",
       "      <td>A Straight Man Asks How to Ditch a Gay Friend ...</td>\n",
       "      <td>homophobia</td>\n",
       "    </tr>\n",
       "  </tbody>\n",
       "</table>\n",
       "</div>"
      ],
      "text/plain": [
       "                  id                                               text  \\\n",
       "0 625778285025346048  American Voices: Boy Scouts To Lift Ban On Gay...   \n",
       "1 555102898556636992  Homosexuality is a disease!pic.twitter.com/Re2...   \n",
       "2 535859739163243008  Gay Man Unaware He Focus Of Thousands Of Praye...   \n",
       "3 448730038905478976  Stop smearing feces on the wall, homosexuals! ...   \n",
       "4 360126262154510016  A Straight Man Asks How to Ditch a Gay Friend ...   \n",
       "\n",
       "   Annotation  \n",
       "0  homophobia  \n",
       "1  homophobia  \n",
       "2  homophobia  \n",
       "3  homophobia  \n",
       "4  homophobia  "
      ]
     },
     "execution_count": 81,
     "metadata": {},
     "output_type": "execute_result"
    }
   ],
   "source": [
    "#renaming the label column in df2 to 'Annotation', and the tweet_id to id - preparation to merge both the dataframes\n",
    "df2 = df2.rename(columns={\"label\": \"Annotation\", \"tweet_id\": \"id\"})\n",
    "df2.head(5)"
   ]
  },
  {
   "cell_type": "code",
   "execution_count": 82,
   "metadata": {},
   "outputs": [
    {
     "name": "stdout",
     "output_type": "stream",
     "text": [
      "df1 size:  6909\n",
      "df2 size:  87\n",
      "combined dataset size:  6996\n"
     ]
    }
   ],
   "source": [
    "#combine both the dataframes into one dataset\n",
    "print(\"df1 size: \", len(df1))\n",
    "print(\"df2 size: \", len(df2))\n",
    "frames = [df1, df2]\n",
    "dataset = pd.concat(frames)\n",
    "print(\"combined dataset size: \", len(dataset))\n"
   ]
  },
  {
   "cell_type": "code",
   "execution_count": 83,
   "metadata": {},
   "outputs": [
    {
     "name": "stdout",
     "output_type": "stream",
     "text": [
      "Empty DataFrame\n",
      "Columns: [id, text, Annotation]\n",
      "Index: []\n",
      "combined dataset size without duplicate tweets:  6996\n"
     ]
    }
   ],
   "source": [
    "#check for and remove any duplicate tweets\n",
    "\n",
    "print(dataset[dataset.duplicated(['id'], keep='first')])\n",
    "dataset_no_dupes = dataset.drop_duplicates(subset=['id'], keep='first')\n",
    "print(\"combined dataset size without duplicate tweets: \", len(dataset_no_dupes))"
   ]
  },
  {
   "cell_type": "code",
   "execution_count": 84,
   "metadata": {},
   "outputs": [
    {
     "name": "stdout",
     "output_type": "stream",
     "text": [
      "dataset size without 'both' class: 6946\n"
     ]
    }
   ],
   "source": [
    "#for simplicity in classification, the tweets that contain 'both' will be removed\n",
    "combined_dataset = dataset_no_dupes[dataset_no_dupes.Annotation != 'Both']\n",
    "print(\"dataset size without 'both' class:\", len(final_dataset))"
   ]
  },
  {
   "cell_type": "code",
   "execution_count": 85,
   "metadata": {},
   "outputs": [
    {
     "name": "stdout",
     "output_type": "stream",
     "text": [
      "Neither       5850\n",
      "Sexism         911\n",
      "Racism          98\n",
      "Homophobia      87\n",
      "Name: Annotation, dtype: int64\n"
     ]
    },
    {
     "name": "stderr",
     "output_type": "stream",
     "text": [
      "C:\\ProgramData\\Anaconda3\\lib\\site-packages\\pandas\\core\\series.py:4563: SettingWithCopyWarning: \n",
      "A value is trying to be set on a copy of a slice from a DataFrame\n",
      "\n",
      "See the caveats in the documentation: https://pandas.pydata.org/pandas-docs/stable/user_guide/indexing.html#returning-a-view-versus-a-copy\n",
      "  return super().replace(\n"
     ]
    }
   ],
   "source": [
    "combined_dataset[\"Annotation\"].replace({\"homophobia\": \"Homophobia\"}, inplace=True)\n",
    "        \n",
    "print(combined_dataset['Annotation'].value_counts())"
   ]
  },
  {
   "cell_type": "code",
   "execution_count": 86,
   "metadata": {},
   "outputs": [],
   "source": [
    "combined_dataset.to_csv(r\"C:\\Users\\jackc\\Semester2\\Project\\Identifying-Hate-Speech-Categories-On-Social-Media\\Data\\unclean_combined_dataset.csv\",\n",
    "              index=False)"
   ]
  },
  {
   "cell_type": "code",
   "execution_count": null,
   "metadata": {},
   "outputs": [],
   "source": []
  }
 ],
 "metadata": {
  "kernelspec": {
   "display_name": "Python 3",
   "language": "python",
   "name": "python3"
  },
  "language_info": {
   "codemirror_mode": {
    "name": "ipython",
    "version": 3
   },
   "file_extension": ".py",
   "mimetype": "text/x-python",
   "name": "python",
   "nbconvert_exporter": "python",
   "pygments_lexer": "ipython3",
   "version": "3.8.5"
  }
 },
 "nbformat": 4,
 "nbformat_minor": 4
}
