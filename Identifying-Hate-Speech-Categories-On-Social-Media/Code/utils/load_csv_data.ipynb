{
 "cells": [
  {
   "cell_type": "code",
   "execution_count": 141,
   "metadata": {},
   "outputs": [],
   "source": [
    "import pandas as pd\n",
    "pd.options.display.float_format = '{:.0f}'.format"
   ]
  },
  {
   "cell_type": "code",
   "execution_count": 142,
   "metadata": {},
   "outputs": [],
   "source": [
    "#reading csv file\n",
    "df = pd.read_csv(r'C:\\Users\\jackc\\Semester2\\Project\\Identifying-Hate-Speech-Categories-On-Social-Media\\Data\\hate_speech_data.csv',\n",
    "                sep='|', index_col=[0])"
   ]
  },
  {
   "cell_type": "code",
   "execution_count": 143,
   "metadata": {},
   "outputs": [
    {
     "data": {
      "text/html": [
       "<div>\n",
       "<style scoped>\n",
       "    .dataframe tbody tr th:only-of-type {\n",
       "        vertical-align: middle;\n",
       "    }\n",
       "\n",
       "    .dataframe tbody tr th {\n",
       "        vertical-align: top;\n",
       "    }\n",
       "\n",
       "    .dataframe thead th {\n",
       "        text-align: right;\n",
       "    }\n",
       "</style>\n",
       "<table border=\"1\" class=\"dataframe\">\n",
       "  <thead>\n",
       "    <tr style=\"text-align: right;\">\n",
       "      <th></th>\n",
       "      <th>tweet_id</th>\n",
       "      <th>text</th>\n",
       "      <th>label</th>\n",
       "    </tr>\n",
       "  </thead>\n",
       "  <tbody>\n",
       "    <tr>\n",
       "      <th>0</th>\n",
       "      <td>576424537065156608</td>\n",
       "      <td>@AAmbrosim a ta. Kkkk kkkk as feminazi</td>\n",
       "      <td>sexism</td>\n",
       "    </tr>\n",
       "    <tr>\n",
       "      <th>1</th>\n",
       "      <td>570757526846881792</td>\n",
       "      <td>@Javanzord @Douglas_Feer feminazi</td>\n",
       "      <td>sexism</td>\n",
       "    </tr>\n",
       "    <tr>\n",
       "      <th>2</th>\n",
       "      <td>576536812283269120</td>\n",
       "      <td>bro my icon is literally feminazi misanandrist...</td>\n",
       "      <td>sexism</td>\n",
       "    </tr>\n",
       "    <tr>\n",
       "      <th>3</th>\n",
       "      <td>576428713023143936</td>\n",
       "      <td>RT @PhilGonc: @Independent \"Stop Male Violence...</td>\n",
       "      <td>sexism</td>\n",
       "    </tr>\n",
       "    <tr>\n",
       "      <th>4</th>\n",
       "      <td>572336406053322816</td>\n",
       "      <td>Sauce, capsicum and stock from a packet / jar....</td>\n",
       "      <td>sexism</td>\n",
       "    </tr>\n",
       "  </tbody>\n",
       "</table>\n",
       "</div>"
      ],
      "text/plain": [
       "            tweet_id                                               text  \\\n",
       "0 576424537065156608             @AAmbrosim a ta. Kkkk kkkk as feminazi   \n",
       "1 570757526846881792                  @Javanzord @Douglas_Feer feminazi   \n",
       "2 576536812283269120  bro my icon is literally feminazi misanandrist...   \n",
       "3 576428713023143936  RT @PhilGonc: @Independent \"Stop Male Violence...   \n",
       "4 572336406053322816  Sauce, capsicum and stock from a packet / jar....   \n",
       "\n",
       "    label  \n",
       "0  sexism  \n",
       "1  sexism  \n",
       "2  sexism  \n",
       "3  sexism  \n",
       "4  sexism  "
      ]
     },
     "execution_count": 143,
     "metadata": {},
     "output_type": "execute_result"
    }
   ],
   "source": [
    "df.head(5)"
   ]
  },
  {
   "cell_type": "code",
   "execution_count": 144,
   "metadata": {},
   "outputs": [
    {
     "name": "stdout",
     "output_type": "stream",
     "text": [
      "none          16844\n",
      "sexism         3963\n",
      "homophobia       87\n",
      "Name: label, dtype: int64\n"
     ]
    }
   ],
   "source": [
    "print(df['label'].value_counts())"
   ]
  },
  {
   "cell_type": "code",
   "execution_count": 145,
   "metadata": {},
   "outputs": [
    {
     "data": {
      "text/html": [
       "<div>\n",
       "<style scoped>\n",
       "    .dataframe tbody tr th:only-of-type {\n",
       "        vertical-align: middle;\n",
       "    }\n",
       "\n",
       "    .dataframe tbody tr th {\n",
       "        vertical-align: top;\n",
       "    }\n",
       "\n",
       "    .dataframe thead th {\n",
       "        text-align: right;\n",
       "    }\n",
       "</style>\n",
       "<table border=\"1\" class=\"dataframe\">\n",
       "  <thead>\n",
       "    <tr style=\"text-align: right;\">\n",
       "      <th></th>\n",
       "      <th>tweet_id</th>\n",
       "      <th>text</th>\n",
       "      <th>label</th>\n",
       "    </tr>\n",
       "  </thead>\n",
       "  <tbody>\n",
       "    <tr>\n",
       "      <th>20807</th>\n",
       "      <td>625778285025346048</td>\n",
       "      <td>American Voices: Boy Scouts To Lift Ban On Gay...</td>\n",
       "      <td>homophobia</td>\n",
       "    </tr>\n",
       "    <tr>\n",
       "      <th>20808</th>\n",
       "      <td>555102898556636992</td>\n",
       "      <td>Homosexuality is a disease!pic.twitter.com/Re2...</td>\n",
       "      <td>homophobia</td>\n",
       "    </tr>\n",
       "    <tr>\n",
       "      <th>20809</th>\n",
       "      <td>535859739163243008</td>\n",
       "      <td>Gay Man Unaware He Focus Of Thousands Of Praye...</td>\n",
       "      <td>homophobia</td>\n",
       "    </tr>\n",
       "    <tr>\n",
       "      <th>20810</th>\n",
       "      <td>448730038905478976</td>\n",
       "      <td>Stop smearing feces on the wall, homosexuals! ...</td>\n",
       "      <td>homophobia</td>\n",
       "    </tr>\n",
       "    <tr>\n",
       "      <th>20811</th>\n",
       "      <td>360126262154510016</td>\n",
       "      <td>A Straight Man Asks How to Ditch a Gay Friend ...</td>\n",
       "      <td>homophobia</td>\n",
       "    </tr>\n",
       "  </tbody>\n",
       "</table>\n",
       "</div>"
      ],
      "text/plain": [
       "                tweet_id                                               text  \\\n",
       "20807 625778285025346048  American Voices: Boy Scouts To Lift Ban On Gay...   \n",
       "20808 555102898556636992  Homosexuality is a disease!pic.twitter.com/Re2...   \n",
       "20809 535859739163243008  Gay Man Unaware He Focus Of Thousands Of Praye...   \n",
       "20810 448730038905478976  Stop smearing feces on the wall, homosexuals! ...   \n",
       "20811 360126262154510016  A Straight Man Asks How to Ditch a Gay Friend ...   \n",
       "\n",
       "            label  \n",
       "20807  homophobia  \n",
       "20808  homophobia  \n",
       "20809  homophobia  \n",
       "20810  homophobia  \n",
       "20811  homophobia  "
      ]
     },
     "execution_count": 145,
     "metadata": {},
     "output_type": "execute_result"
    }
   ],
   "source": [
    "homophobic_tweets = df[df['label'] == 'homophobia']\n",
    "homophobic_tweets.head(5)"
   ]
  },
  {
   "cell_type": "code",
   "execution_count": 147,
   "metadata": {},
   "outputs": [
    {
     "name": "stderr",
     "output_type": "stream",
     "text": [
      "<ipython-input-147-3a69299f6bd5>:1: SettingWithCopyWarning: \n",
      "A value is trying to be set on a copy of a slice from a DataFrame.\n",
      "Try using .loc[row_indexer,col_indexer] = value instead\n",
      "\n",
      "See the caveats in the documentation: https://pandas.pydata.org/pandas-docs/stable/user_guide/indexing.html#returning-a-view-versus-a-copy\n",
      "  homophobic_tweets['tweet_id'] = homophobic_tweets['tweet_id'].astype(float)\n"
     ]
    },
    {
     "data": {
      "text/html": [
       "<div>\n",
       "<style scoped>\n",
       "    .dataframe tbody tr th:only-of-type {\n",
       "        vertical-align: middle;\n",
       "    }\n",
       "\n",
       "    .dataframe tbody tr th {\n",
       "        vertical-align: top;\n",
       "    }\n",
       "\n",
       "    .dataframe thead th {\n",
       "        text-align: right;\n",
       "    }\n",
       "</style>\n",
       "<table border=\"1\" class=\"dataframe\">\n",
       "  <thead>\n",
       "    <tr style=\"text-align: right;\">\n",
       "      <th></th>\n",
       "      <th>tweet_id</th>\n",
       "      <th>text</th>\n",
       "      <th>label</th>\n",
       "    </tr>\n",
       "  </thead>\n",
       "  <tbody>\n",
       "    <tr>\n",
       "      <th>20807</th>\n",
       "      <td>625778285025346048</td>\n",
       "      <td>American Voices: Boy Scouts To Lift Ban On Gay...</td>\n",
       "      <td>homophobia</td>\n",
       "    </tr>\n",
       "    <tr>\n",
       "      <th>20808</th>\n",
       "      <td>555102898556636992</td>\n",
       "      <td>Homosexuality is a disease!pic.twitter.com/Re2...</td>\n",
       "      <td>homophobia</td>\n",
       "    </tr>\n",
       "    <tr>\n",
       "      <th>20809</th>\n",
       "      <td>535859739163243008</td>\n",
       "      <td>Gay Man Unaware He Focus Of Thousands Of Praye...</td>\n",
       "      <td>homophobia</td>\n",
       "    </tr>\n",
       "    <tr>\n",
       "      <th>20810</th>\n",
       "      <td>448730038905478976</td>\n",
       "      <td>Stop smearing feces on the wall, homosexuals! ...</td>\n",
       "      <td>homophobia</td>\n",
       "    </tr>\n",
       "    <tr>\n",
       "      <th>20811</th>\n",
       "      <td>360126262154510016</td>\n",
       "      <td>A Straight Man Asks How to Ditch a Gay Friend ...</td>\n",
       "      <td>homophobia</td>\n",
       "    </tr>\n",
       "  </tbody>\n",
       "</table>\n",
       "</div>"
      ],
      "text/plain": [
       "                tweet_id                                               text  \\\n",
       "20807 625778285025346048  American Voices: Boy Scouts To Lift Ban On Gay...   \n",
       "20808 555102898556636992  Homosexuality is a disease!pic.twitter.com/Re2...   \n",
       "20809 535859739163243008  Gay Man Unaware He Focus Of Thousands Of Praye...   \n",
       "20810 448730038905478976  Stop smearing feces on the wall, homosexuals! ...   \n",
       "20811 360126262154510016  A Straight Man Asks How to Ditch a Gay Friend ...   \n",
       "\n",
       "            label  \n",
       "20807  homophobia  \n",
       "20808  homophobia  \n",
       "20809  homophobia  \n",
       "20810  homophobia  \n",
       "20811  homophobia  "
      ]
     },
     "execution_count": 147,
     "metadata": {},
     "output_type": "execute_result"
    }
   ],
   "source": [
    "homophobic_tweets['tweet_id'] = homophobic_tweets['tweet_id'].astype(float)\n",
    "homophobic_tweets.head(5)"
   ]
  },
  {
   "cell_type": "code",
   "execution_count": 148,
   "metadata": {},
   "outputs": [],
   "source": [
    "homophobic_tweets.to_csv(r\"C:\\Users\\jackc\\Semester2\\Project\\Identifying-Hate-Speech-Categories-On-Social-Media\\Data\\unclean_dataset_p2.csv\", \n",
    "                         index=False)"
   ]
  },
  {
   "cell_type": "code",
   "execution_count": null,
   "metadata": {},
   "outputs": [],
   "source": []
  }
 ],
 "metadata": {
  "kernelspec": {
   "display_name": "Python 3",
   "language": "python",
   "name": "python3"
  },
  "language_info": {
   "codemirror_mode": {
    "name": "ipython",
    "version": 3
   },
   "file_extension": ".py",
   "mimetype": "text/x-python",
   "name": "python",
   "nbconvert_exporter": "python",
   "pygments_lexer": "ipython3",
   "version": "3.8.5"
  }
 },
 "nbformat": 4,
 "nbformat_minor": 4
}
