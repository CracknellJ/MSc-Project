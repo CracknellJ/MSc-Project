{
 "cells": [
  {
   "cell_type": "code",
   "execution_count": 46,
   "metadata": {},
   "outputs": [],
   "source": [
    "import pandas as pd\n",
    "import numpy as np\n",
    "import matplotlib.pyplot as plt\n",
    "from sklearn.model_selection import train_test_split, GridSearchCV\n",
    "from sklearn.feature_extraction.text import CountVectorizer\n",
    "from sklearn import svm\n",
    "from sklearn.linear_model import LogisticRegression\n",
    "from sklearn.metrics import precision_score, recall_score, f1_score, accuracy_score, plot_confusion_matrix\n",
    "import nltk\n",
    "\n",
    "import pickle"
   ]
  },
  {
   "cell_type": "code",
   "execution_count": 47,
   "metadata": {},
   "outputs": [
    {
     "data": {
      "text/html": [
       "<div>\n",
       "<style scoped>\n",
       "    .dataframe tbody tr th:only-of-type {\n",
       "        vertical-align: middle;\n",
       "    }\n",
       "\n",
       "    .dataframe tbody tr th {\n",
       "        vertical-align: top;\n",
       "    }\n",
       "\n",
       "    .dataframe thead th {\n",
       "        text-align: right;\n",
       "    }\n",
       "</style>\n",
       "<table border=\"1\" class=\"dataframe\">\n",
       "  <thead>\n",
       "    <tr style=\"text-align: right;\">\n",
       "      <th></th>\n",
       "      <th>id</th>\n",
       "      <th>text</th>\n",
       "      <th>Annotation</th>\n",
       "      <th>clean_text</th>\n",
       "      <th>clean_text_sl</th>\n",
       "      <th>Hate</th>\n",
       "    </tr>\n",
       "  </thead>\n",
       "  <tbody>\n",
       "    <tr>\n",
       "      <th>0</th>\n",
       "      <td>5.969655e+17</td>\n",
       "      <td>I just found the *perfect* rental. Why can't m...</td>\n",
       "      <td>Neither</td>\n",
       "      <td>i just found the perfect rental why cant my le...</td>\n",
       "      <td>found perfect rental cant lease right</td>\n",
       "      <td>0</td>\n",
       "    </tr>\n",
       "    <tr>\n",
       "      <th>1</th>\n",
       "      <td>5.758918e+17</td>\n",
       "      <td>@wetsprocket every time they \"discover\" anythi...</td>\n",
       "      <td>Neither</td>\n",
       "      <td>every time they discover anything its either ...</td>\n",
       "      <td>every time discover anything either incorrect ...</td>\n",
       "      <td>0</td>\n",
       "    </tr>\n",
       "    <tr>\n",
       "      <th>2</th>\n",
       "      <td>5.952595e+17</td>\n",
       "      <td>ok time to write code bbl.\\n\\nmaking a new thing.</td>\n",
       "      <td>Neither</td>\n",
       "      <td>ok time to write code bbl\\n\\nmaking a new thing</td>\n",
       "      <td>ok time write code bbl making new thing</td>\n",
       "      <td>0</td>\n",
       "    </tr>\n",
       "    <tr>\n",
       "      <th>3</th>\n",
       "      <td>5.723449e+17</td>\n",
       "      <td>Refined dessert! NOT #MKR</td>\n",
       "      <td>Neither</td>\n",
       "      <td>refined dessert not mkr</td>\n",
       "      <td>refined dessert mkr</td>\n",
       "      <td>0</td>\n",
       "    </tr>\n",
       "    <tr>\n",
       "      <th>4</th>\n",
       "      <td>5.681320e+17</td>\n",
       "      <td>@furt1v3ly @ClarkHat One of the best things an...</td>\n",
       "      <td>Neither</td>\n",
       "      <td>one of the best things anyone can do to impr...</td>\n",
       "      <td>one best thing anyone improve understanding gr...</td>\n",
       "      <td>0</td>\n",
       "    </tr>\n",
       "  </tbody>\n",
       "</table>\n",
       "</div>"
      ],
      "text/plain": [
       "             id                                               text Annotation  \\\n",
       "0  5.969655e+17  I just found the *perfect* rental. Why can't m...    Neither   \n",
       "1  5.758918e+17  @wetsprocket every time they \"discover\" anythi...    Neither   \n",
       "2  5.952595e+17  ok time to write code bbl.\\n\\nmaking a new thing.    Neither   \n",
       "3  5.723449e+17                          Refined dessert! NOT #MKR    Neither   \n",
       "4  5.681320e+17  @furt1v3ly @ClarkHat One of the best things an...    Neither   \n",
       "\n",
       "                                          clean_text  \\\n",
       "0  i just found the perfect rental why cant my le...   \n",
       "1   every time they discover anything its either ...   \n",
       "2    ok time to write code bbl\\n\\nmaking a new thing   \n",
       "3                            refined dessert not mkr   \n",
       "4    one of the best things anyone can do to impr...   \n",
       "\n",
       "                                       clean_text_sl  Hate  \n",
       "0              found perfect rental cant lease right     0  \n",
       "1  every time discover anything either incorrect ...     0  \n",
       "2            ok time write code bbl making new thing     0  \n",
       "3                                refined dessert mkr     0  \n",
       "4  one best thing anyone improve understanding gr...     0  "
      ]
     },
     "execution_count": 47,
     "metadata": {},
     "output_type": "execute_result"
    }
   ],
   "source": [
    "#Load in data and split for train and test sets\n",
    "df = pd.read_csv(r'C:\\Users\\jackc\\Semester2\\Project\\Identifying-Hate-Speech-Categories-On-Social-Media\\Data\\clean_dataset.csv')\n",
    "X_train, X_test, y_train, y_test = train_test_split(df['clean_text_sl'], df['Annotation'], test_size=0.25, random_state=12)\n",
    "                                                       \n",
    "df.head(5)"
   ]
  },
  {
   "cell_type": "code",
   "execution_count": 48,
   "metadata": {},
   "outputs": [],
   "source": [
    "#create count matrix\n",
    "counts = CountVectorizer()\n",
    "count_train = counts.fit_transform(X_train)\n",
    "count_test = counts.transform(X_test)"
   ]
  },
  {
   "cell_type": "markdown",
   "metadata": {},
   "source": [
    "## Default LR"
   ]
  },
  {
   "cell_type": "code",
   "execution_count": 49,
   "metadata": {},
   "outputs": [],
   "source": [
    "default_LR = LogisticRegression(penalty='l2', dual=False, C=1, class_weight=None, \n",
    "                                solver='lbfgs', random_state=12)"
   ]
  },
  {
   "cell_type": "code",
   "execution_count": 50,
   "metadata": {},
   "outputs": [
    {
     "name": "stdout",
     "output_type": "stream",
     "text": [
      "training...\n",
      "complete.\n",
      "predicting...\n",
      "complete.\n"
     ]
    }
   ],
   "source": [
    "# train classifier\n",
    "print(\"training...\")\n",
    "default_LR.fit(count_train, y_train)\n",
    "print(\"complete.\")\n",
    "# use classifier to predict on test set\n",
    "print(\"predicting...\")\n",
    "default_LR_test_preds = default_LR.predict(count_test)\n",
    "print(\"complete.\")"
   ]
  },
  {
   "cell_type": "code",
   "execution_count": 51,
   "metadata": {},
   "outputs": [
    {
     "name": "stdout",
     "output_type": "stream",
     "text": [
      "Model evaluation metrics\n",
      "Precision: 0.797\n",
      "Recall: 0.619\n",
      "Macro F1 Score: 0.683\n"
     ]
    }
   ],
   "source": [
    "LR_metrics = {}\n",
    "default_LR_precision = precision_score(y_test, default_LR_test_preds, average='macro')\n",
    "default_LR_recall = recall_score(y_test, default_LR_test_preds, average='macro')\n",
    "default_LR_macro_f1_score = f1_score(y_test, default_LR_test_preds, average='macro')\n",
    "\n",
    "#model evaluation\n",
    "print('Model evaluation metrics')\n",
    "print('Precision: {:.3}'.format(default_LR_precision))\n",
    "print('Recall: {:.3}'.format(default_LR_recall))\n",
    "print('Macro F1 Score: {:.3}'.format(default_LR_macro_f1_score))\n",
    "\n",
    "LR_metrics['Default LR'] = {'precision': default_LR_precision, 'recall': default_LR_recall, \n",
    "                            'macro_f1': default_LR_macro_f1_score}"
   ]
  },
  {
   "cell_type": "code",
   "execution_count": 52,
   "metadata": {},
   "outputs": [
    {
     "data": {
      "text/plain": [
       "<sklearn.metrics._plot.confusion_matrix.ConfusionMatrixDisplay at 0x21a196fb160>"
      ]
     },
     "execution_count": 52,
     "metadata": {},
     "output_type": "execute_result"
    },
    {
     "data": {
      "image/png": "[encoded data removed]",
      "text/plain": [
       "<Figure size 432x288 with 2 Axes>"
      ]
     },
     "metadata": {
      "needs_background": "light"
     },
     "output_type": "display_data"
    }
   ],
   "source": [
    "plot_confusion_matrix(default_LR, count_test, y_test)"
   ]
  },
  {
   "cell_type": "markdown",
   "metadata": {},
   "source": [
    "## Grid Search LR"
   ]
  },
  {
   "cell_type": "code",
   "execution_count": 53,
   "metadata": {},
   "outputs": [
    {
     "name": "stdout",
     "output_type": "stream",
     "text": [
      "Fitting 5 folds for each of 180 candidates, totalling 900 fits\n",
      "[CV] C=1, class_weight=None, dual=True, penalty=l1, solver=newton-cg .\n",
      "[CV]  C=1, class_weight=None, dual=True, penalty=l1, solver=newton-cg, score=nan, total=   0.0s\n",
      "[CV] C=1, class_weight=None, dual=True, penalty=l1, solver=newton-cg .\n",
      "[CV]  C=1, class_weight=None, dual=True, penalty=l1, solver=newton-cg, score=nan, total=   0.0s\n",
      "[CV] C=1, class_weight=None, dual=True, penalty=l1, solver=newton-cg .\n",
      "[CV]  C=1, class_weight=None, dual=True, penalty=l1, solver=newton-cg, score=nan, total=   0.0s\n",
      "[CV] C=1, class_weight=None, dual=True, penalty=l1, solver=newton-cg .\n",
      "[CV]  C=1, class_weight=None, dual=True, penalty=l1, solver=newton-cg, score=nan, total=   0.0s\n",
      "[CV] C=1, class_weight=None, dual=True, penalty=l1, solver=newton-cg .\n",
      "[CV]  C=1, class_weight=None, dual=True, penalty=l1, solver=newton-cg, score=nan, total=   0.0s\n",
      "[CV] C=1, class_weight=None, dual=True, penalty=l1, solver=lbfgs .....\n",
      "[CV]  C=1, class_weight=None, dual=True, penalty=l1, solver=lbfgs, score=nan, total=   0.0s\n",
      "[CV] C=1, class_weight=None, dual=True, penalty=l1, solver=lbfgs .....\n",
      "[CV]  C=1, class_weight=None, dual=True, penalty=l1, solver=lbfgs, score=nan, total=   0.0s\n",
      "[CV] C=1, class_weight=None, dual=True, penalty=l1, solver=lbfgs .....\n",
      "[CV]  C=1, class_weight=None, dual=True, penalty=l1, solver=lbfgs, score=nan, total=   0.0s\n",
      "[CV] C=1, class_weight=None, dual=True, penalty=l1, solver=lbfgs .....\n",
      "[CV]  C=1, class_weight=None, dual=True, penalty=l1, solver=lbfgs, score=nan, total=   0.0s\n",
      "[CV] C=1, class_weight=None, dual=True, penalty=l1, solver=lbfgs .....\n",
      "[CV]  C=1, class_weight=None, dual=True, penalty=l1, solver=lbfgs, score=nan, total=   0.0s\n",
      "[CV] C=1, class_weight=None, dual=True, penalty=l1, solver=sag .......\n",
      "[CV]  C=1, class_weight=None, dual=True, penalty=l1, solver=sag, score=nan, total=   0.0s\n",
      "[CV] C=1, class_weight=None, dual=True, penalty=l1, solver=sag .......\n",
      "[CV]  C=1, class_weight=None, dual=True, penalty=l1, solver=sag, score=nan, total=   0.0s\n",
      "[CV] C=1, class_weight=None, dual=True, penalty=l1, solver=sag .......\n",
      "[CV]  C=1, class_weight=None, dual=True, penalty=l1, solver=sag, score=nan, total=   0.0s\n",
      "[CV] C=1, class_weight=None, dual=True, penalty=l1, solver=sag .......\n",
      "[CV]  C=1, class_weight=None, dual=True, penalty=l1, solver=sag, score=nan, total=   0.0s\n",
      "[CV] C=1, class_weight=None, dual=True, penalty=l1, solver=sag .......\n",
      "[CV]  C=1, class_weight=None, dual=True, penalty=l1, solver=sag, score=nan, total=   0.0s\n",
      "[CV] C=1, class_weight=None, dual=True, penalty=l1, solver=saga ......\n",
      "[CV]  C=1, class_weight=None, dual=True, penalty=l1, solver=saga, score=nan, total=   0.0s\n",
      "[CV] C=1, class_weight=None, dual=True, penalty=l1, solver=saga ......\n",
      "[CV]  C=1, class_weight=None, dual=True, penalty=l1, solver=saga, score=nan, total=   0.0s\n",
      "[CV] C=1, class_weight=None, dual=True, penalty=l1, solver=saga ......\n",
      "[CV]  C=1, class_weight=None, dual=True, penalty=l1, solver=saga, score=nan, total=   0.0s\n",
      "[CV] C=1, class_weight=None, dual=True, penalty=l1, solver=saga ......\n",
      "[CV]  C=1, class_weight=None, dual=True, penalty=l1, solver=saga, score=nan, total=   0.0s\n",
      "[CV] C=1, class_weight=None, dual=True, penalty=l1, solver=saga ......\n",
      "[CV]  C=1, class_weight=None, dual=True, penalty=l1, solver=saga, score=nan, total=   0.0s\n",
      "[CV] C=1, class_weight=None, dual=True, penalty=l1, solver=liblinear .\n",
      "[CV]  C=1, class_weight=None, dual=True, penalty=l1, solver=liblinear, score=nan, total=   0.0s\n",
      "[CV] C=1, class_weight=None, dual=True, penalty=l1, solver=liblinear .\n",
      "[CV]  C=1, class_weight=None, dual=True, penalty=l1, solver=liblinear, score=nan, total=   0.0s\n",
      "[CV] C=1, class_weight=None, dual=True, penalty=l1, solver=liblinear .\n",
      "[CV]  C=1, class_weight=None, dual=True, penalty=l1, solver=liblinear, score=nan, total=   0.0s\n",
      "[CV] C=1, class_weight=None, dual=True, penalty=l1, solver=liblinear .\n",
      "[CV]  C=1, class_weight=None, dual=True, penalty=l1, solver=liblinear, score=nan, total=   0.0s\n",
      "[CV] C=1, class_weight=None, dual=True, penalty=l1, solver=liblinear .\n",
      "[CV]  C=1, class_weight=None, dual=True, penalty=l1, solver=liblinear, score=nan, total=   0.0s\n",
      "[CV] C=1, class_weight=None, dual=True, penalty=l2, solver=newton-cg .\n",
      "[CV]  C=1, class_weight=None, dual=True, penalty=l2, solver=newton-cg, score=nan, total=   0.0s\n",
      "[CV] C=1, class_weight=None, dual=True, penalty=l2, solver=newton-cg .\n",
      "[CV]  C=1, class_weight=None, dual=True, penalty=l2, solver=newton-cg, score=nan, total=   0.0s\n",
      "[CV] C=1, class_weight=None, dual=True, penalty=l2, solver=newton-cg .\n",
      "[CV]  C=1, class_weight=None, dual=True, penalty=l2, solver=newton-cg, score=nan, total=   0.0s\n",
      "[CV] C=1, class_weight=None, dual=True, penalty=l2, solver=newton-cg .\n",
      "[CV]  C=1, class_weight=None, dual=True, penalty=l2, solver=newton-cg, score=nan, total=   0.0s\n",
      "[CV] C=1, class_weight=None, dual=True, penalty=l2, solver=newton-cg .\n",
      "[CV]  C=1, class_weight=None, dual=True, penalty=l2, solver=newton-cg, score=nan, total=   0.0s\n",
      "[CV] C=1, class_weight=None, dual=True, penalty=l2, solver=lbfgs .....\n",
      "[CV]  C=1, class_weight=None, dual=True, penalty=l2, solver=lbfgs, score=nan, total=   0.0s\n",
      "[CV] C=1, class_weight=None, dual=True, penalty=l2, solver=lbfgs .....\n",
      "[CV]  C=1, class_weight=None, dual=True, penalty=l2, solver=lbfgs, score=nan, total=   0.0s\n",
      "[CV] C=1, class_weight=None, dual=True, penalty=l2, solver=lbfgs .....\n",
      "[CV]  C=1, class_weight=None, dual=True, penalty=l2, solver=lbfgs, score=nan, total=   0.0s\n",
      "[CV] C=1, class_weight=None, dual=True, penalty=l2, solver=lbfgs .....\n",
      "[CV]  C=1, class_weight=None, dual=True, penalty=l2, solver=lbfgs, score=nan, total=   0.0s\n",
      "[CV] C=1, class_weight=None, dual=True, penalty=l2, solver=lbfgs .....\n",
      "[CV]  C=1, class_weight=None, dual=True, penalty=l2, solver=lbfgs, score=nan, total=   0.0s\n",
      "[CV] C=1, class_weight=None, dual=True, penalty=l2, solver=sag .......\n",
      "[CV]  C=1, class_weight=None, dual=True, penalty=l2, solver=sag, score=nan, total=   0.0s\n",
      "[CV] C=1, class_weight=None, dual=True, penalty=l2, solver=sag .......\n",
      "[CV]  C=1, class_weight=None, dual=True, penalty=l2, solver=sag, score=nan, total=   0.0s\n",
      "[CV] C=1, class_weight=None, dual=True, penalty=l2, solver=sag .......\n",
      "[CV]  C=1, class_weight=None, dual=True, penalty=l2, solver=sag, score=nan, total=   0.0s\n",
      "[CV] C=1, class_weight=None, dual=True, penalty=l2, solver=sag .......\n",
      "[CV]  C=1, class_weight=None, dual=True, penalty=l2, solver=sag, score=nan, total=   0.0s\n",
      "[CV] C=1, class_weight=None, dual=True, penalty=l2, solver=sag .......\n",
      "[CV]  C=1, class_weight=None, dual=True, penalty=l2, solver=sag, score=nan, total=   0.0s\n",
      "[CV] C=1, class_weight=None, dual=True, penalty=l2, solver=saga ......\n",
      "[CV]  C=1, class_weight=None, dual=True, penalty=l2, solver=saga, score=nan, total=   0.0s\n",
      "[CV] C=1, class_weight=None, dual=True, penalty=l2, solver=saga ......\n",
      "[CV]  C=1, class_weight=None, dual=True, penalty=l2, solver=saga, score=nan, total=   0.0s\n",
      "[CV] C=1, class_weight=None, dual=True, penalty=l2, solver=saga ......\n",
      "[CV]  C=1, class_weight=None, dual=True, penalty=l2, solver=saga, score=nan, total=   0.0s\n",
      "[CV] C=1, class_weight=None, dual=True, penalty=l2, solver=saga ......\n",
      "[CV]  C=1, class_weight=None, dual=True, penalty=l2, solver=saga, score=nan, total=   0.0s\n",
      "[CV] C=1, class_weight=None, dual=True, penalty=l2, solver=saga ......\n",
      "[CV]  C=1, class_weight=None, dual=True, penalty=l2, solver=saga, score=nan, total=   0.0s\n",
      "[CV] C=1, class_weight=None, dual=True, penalty=l2, solver=liblinear .\n",
      "[CV]  C=1, class_weight=None, dual=True, penalty=l2, solver=liblinear, score=0.633, total=   0.1s\n",
      "[CV] C=1, class_weight=None, dual=True, penalty=l2, solver=liblinear .\n"
     ]
    },
    {
     "name": "stderr",
     "output_type": "stream",
     "text": [
      "[Parallel(n_jobs=1)]: Using backend SequentialBackend with 1 concurrent workers.\n",
      "C:\\ProgramData\\Anaconda3\\lib\\site-packages\\sklearn\\model_selection\\_validation.py:548: FitFailedWarning: Estimator fit failed. The score on this train-test partition for these parameters will be set to nan. Details: \n",
      "Traceback (most recent call last):\n",
      "  File \"C:\\ProgramData\\Anaconda3\\lib\\site-packages\\sklearn\\model_selection\\_validation.py\", line 531, in _fit_and_score\n",
      "    estimator.fit(X_train, y_train, **fit_params)\n",
      "  File \"C:\\ProgramData\\Anaconda3\\lib\\site-packages\\sklearn\\linear_model\\_logistic.py\", line 1304, in fit\n",
      "    solver = _check_solver(self.solver, self.penalty, self.dual)\n",
      "  File \"C:\\ProgramData\\Anaconda3\\lib\\site-packages\\sklearn\\linear_model\\_logistic.py\", line 442, in _check_solver\n",
      "    raise ValueError(\"Solver %s supports only 'l2' or 'none' penalties, \"\n",
      "ValueError: Solver newton-cg supports only 'l2' or 'none' penalties, got l1 penalty.\n",
      "\n",
      "  warnings.warn(\"Estimator fit failed. The score on this train-test\"\n",
      "[Parallel(n_jobs=1)]: Done   1 out of   1 | elapsed:    0.0s remaining:    0.0s\n",
      "[Parallel(n_jobs=1)]: Done   2 out of   2 | elapsed:    0.0s remaining:    0.0s\n",
      "C:\\ProgramData\\Anaconda3\\lib\\site-packages\\sklearn\\model_selection\\_validation.py:548: FitFailedWarning: Estimator fit failed. The score on this train-test partition for these parameters will be set to nan. Details: \n",
      "Traceback (most recent call last):\n",
      "  File \"C:\\ProgramData\\Anaconda3\\lib\\site-packages\\sklearn\\model_selection\\_validation.py\", line 531, in _fit_and_score\n",
      "    estimator.fit(X_train, y_train, **fit_params)\n",
      "  File \"C:\\ProgramData\\Anaconda3\\lib\\site-packages\\sklearn\\linear_model\\_logistic.py\", line 1304, in fit\n",
      "    solver = _check_solver(self.solver, self.penalty, self.dual)\n",
      "  File \"C:\\ProgramData\\Anaconda3\\lib\\site-packages\\sklearn\\linear_model\\_logistic.py\", line 442, in _check_solver\n",
      "    raise ValueError(\"Solver %s supports only 'l2' or 'none' penalties, \"\n",
      "ValueError: Solver lbfgs supports only 'l2' or 'none' penalties, got l1 penalty.\n",
      "\n",
      "  warnings.warn(\"Estimator fit failed. The score on this train-test\"\n",
      "C:\\ProgramData\\Anaconda3\\lib\\site-packages\\sklearn\\model_selection\\_validation.py:548: FitFailedWarning: Estimator fit failed. The score on this train-test partition for these parameters will be set to nan. Details: \n",
      "Traceback (most recent call last):\n",
      "  File \"C:\\ProgramData\\Anaconda3\\lib\\site-packages\\sklearn\\model_selection\\_validation.py\", line 531, in _fit_and_score\n",
      "    estimator.fit(X_train, y_train, **fit_params)\n",
      "  File \"C:\\ProgramData\\Anaconda3\\lib\\site-packages\\sklearn\\linear_model\\_logistic.py\", line 1304, in fit\n",
      "    solver = _check_solver(self.solver, self.penalty, self.dual)\n",
      "  File \"C:\\ProgramData\\Anaconda3\\lib\\site-packages\\sklearn\\linear_model\\_logistic.py\", line 442, in _check_solver\n",
      "    raise ValueError(\"Solver %s supports only 'l2' or 'none' penalties, \"\n",
      "ValueError: Solver sag supports only 'l2' or 'none' penalties, got l1 penalty.\n",
      "\n",
      "  warnings.warn(\"Estimator fit failed. The score on this train-test\"\n",
      "C:\\ProgramData\\Anaconda3\\lib\\site-packages\\sklearn\\model_selection\\_validation.py:548: FitFailedWarning: Estimator fit failed. The score on this train-test partition for these parameters will be set to nan. Details: \n",
      "Traceback (most recent call last):\n",
      "  File \"C:\\ProgramData\\Anaconda3\\lib\\site-packages\\sklearn\\model_selection\\_validation.py\", line 531, in _fit_and_score\n",
      "    estimator.fit(X_train, y_train, **fit_params)\n",
      "  File \"C:\\ProgramData\\Anaconda3\\lib\\site-packages\\sklearn\\linear_model\\_logistic.py\", line 1304, in fit\n",
      "    solver = _check_solver(self.solver, self.penalty, self.dual)\n",
      "  File \"C:\\ProgramData\\Anaconda3\\lib\\site-packages\\sklearn\\linear_model\\_logistic.py\", line 445, in _check_solver\n",
      "    raise ValueError(\"Solver %s supports only \"\n",
      "ValueError: Solver saga supports only dual=False, got dual=True\n",
      "\n",
      "  warnings.warn(\"Estimator fit failed. The score on this train-test\"\n",
      "C:\\ProgramData\\Anaconda3\\lib\\site-packages\\sklearn\\model_selection\\_validation.py:548: FitFailedWarning: Estimator fit failed. The score on this train-test partition for these parameters will be set to nan. Details: \n",
      "Traceback (most recent call last):\n",
      "  File \"C:\\ProgramData\\Anaconda3\\lib\\site-packages\\sklearn\\model_selection\\_validation.py\", line 531, in _fit_and_score\n",
      "    estimator.fit(X_train, y_train, **fit_params)\n",
      "  File \"C:\\ProgramData\\Anaconda3\\lib\\site-packages\\sklearn\\linear_model\\_logistic.py\", line 1356, in fit\n",
      "    self.coef_, self.intercept_, n_iter_ = _fit_liblinear(\n",
      "  File \"C:\\ProgramData\\Anaconda3\\lib\\site-packages\\sklearn\\svm\\_base.py\", line 965, in _fit_liblinear\n",
      "    solver_type = _get_liblinear_solver_type(multi_class, penalty, loss, dual)\n",
      "  File \"C:\\ProgramData\\Anaconda3\\lib\\site-packages\\sklearn\\svm\\_base.py\", line 821, in _get_liblinear_solver_type\n",
      "    raise ValueError('Unsupported set of arguments: %s, '\n",
      "ValueError: Unsupported set of arguments: The combination of penalty='l1' and loss='logistic_regression' are not supported when dual=True, Parameters: penalty='l1', loss='logistic_regression', dual=True\n",
      "\n",
      "  warnings.warn(\"Estimator fit failed. The score on this train-test\"\n",
      "C:\\ProgramData\\Anaconda3\\lib\\site-packages\\sklearn\\model_selection\\_validation.py:548: FitFailedWarning: Estimator fit failed. The score on this train-test partition for these parameters will be set to nan. Details: \n",
      "Traceback (most recent call last):\n",
      "  File \"C:\\ProgramData\\Anaconda3\\lib\\site-packages\\sklearn\\model_selection\\_validation.py\", line 531, in _fit_and_score\n",
      "    estimator.fit(X_train, y_train, **fit_params)\n",
      "  File \"C:\\ProgramData\\Anaconda3\\lib\\site-packages\\sklearn\\linear_model\\_logistic.py\", line 1304, in fit\n",
      "    solver = _check_solver(self.solver, self.penalty, self.dual)\n",
      "  File \"C:\\ProgramData\\Anaconda3\\lib\\site-packages\\sklearn\\linear_model\\_logistic.py\", line 445, in _check_solver\n",
      "    raise ValueError(\"Solver %s supports only \"\n",
      "ValueError: Solver newton-cg supports only dual=False, got dual=True\n",
      "\n",
      "  warnings.warn(\"Estimator fit failed. The score on this train-test\"\n",
      "C:\\ProgramData\\Anaconda3\\lib\\site-packages\\sklearn\\model_selection\\_validation.py:548: FitFailedWarning: Estimator fit failed. The score on this train-test partition for these parameters will be set to nan. Details: \n",
      "Traceback (most recent call last):\n",
      "  File \"C:\\ProgramData\\Anaconda3\\lib\\site-packages\\sklearn\\model_selection\\_validation.py\", line 531, in _fit_and_score\n",
      "    estimator.fit(X_train, y_train, **fit_params)\n",
      "  File \"C:\\ProgramData\\Anaconda3\\lib\\site-packages\\sklearn\\linear_model\\_logistic.py\", line 1304, in fit\n",
      "    solver = _check_solver(self.solver, self.penalty, self.dual)\n",
      "  File \"C:\\ProgramData\\Anaconda3\\lib\\site-packages\\sklearn\\linear_model\\_logistic.py\", line 445, in _check_solver\n",
      "    raise ValueError(\"Solver %s supports only \"\n",
      "ValueError: Solver lbfgs supports only dual=False, got dual=True\n",
      "\n",
      "  warnings.warn(\"Estimator fit failed. The score on this train-test\"\n",
      "C:\\ProgramData\\Anaconda3\\lib\\site-packages\\sklearn\\model_selection\\_validation.py:548: FitFailedWarning: Estimator fit failed. The score on this train-test partition for these parameters will be set to nan. Details: \n",
      "Traceback (most recent call last):\n",
      "  File \"C:\\ProgramData\\Anaconda3\\lib\\site-packages\\sklearn\\model_selection\\_validation.py\", line 531, in _fit_and_score\n",
      "    estimator.fit(X_train, y_train, **fit_params)\n",
      "  File \"C:\\ProgramData\\Anaconda3\\lib\\site-packages\\sklearn\\linear_model\\_logistic.py\", line 1304, in fit\n",
      "    solver = _check_solver(self.solver, self.penalty, self.dual)\n",
      "  File \"C:\\ProgramData\\Anaconda3\\lib\\site-packages\\sklearn\\linear_model\\_logistic.py\", line 445, in _check_solver\n",
      "    raise ValueError(\"Solver %s supports only \"\n",
      "ValueError: Solver sag supports only dual=False, got dual=True\n",
      "\n",
      "  warnings.warn(\"Estimator fit failed. The score on this train-test\"\n"
     ]
    },
    {
     "name": "stdout",
     "output_type": "stream",
     "text": [
      "[CV]  C=1, class_weight=None, dual=True, penalty=l2, solver=liblinear, score=0.620, total=   0.0s\n",
      "[CV] C=1, class_weight=None, dual=True, penalty=l2, solver=liblinear .\n",
      "[CV]  C=1, class_weight=None, dual=True, penalty=l2, solver=liblinear, score=0.621, total=   0.1s\n",
      "[CV] C=1, class_weight=None, dual=True, penalty=l2, solver=liblinear .\n",
      "[CV]  C=1, class_weight=None, dual=True, penalty=l2, solver=liblinear, score=0.587, total=   0.1s\n",
      "[CV] C=1, class_weight=None, dual=True, penalty=l2, solver=liblinear .\n",
      "[CV]  C=1, class_weight=None, dual=True, penalty=l2, solver=liblinear, score=0.643, total=   0.1s\n",
      "[CV] C=1, class_weight=None, dual=True, penalty=elasticnet, solver=newton-cg \n",
      "[CV]  C=1, class_weight=None, dual=True, penalty=elasticnet, solver=newton-cg, score=nan, total=   0.0s\n",
      "[CV] C=1, class_weight=None, dual=True, penalty=elasticnet, solver=newton-cg \n",
      "[CV]  C=1, class_weight=None, dual=True, penalty=elasticnet, solver=newton-cg, score=nan, total=   0.0s\n",
      "[CV] C=1, class_weight=None, dual=True, penalty=elasticnet, solver=newton-cg \n",
      "[CV]  C=1, class_weight=None, dual=True, penalty=elasticnet, solver=newton-cg, score=nan, total=   0.0s\n",
      "[CV] C=1, class_weight=None, dual=True, penalty=elasticnet, solver=newton-cg \n",
      "[CV]  C=1, class_weight=None, dual=True, penalty=elasticnet, solver=newton-cg, score=nan, total=   0.0s\n",
      "[CV] C=1, class_weight=None, dual=True, penalty=elasticnet, solver=newton-cg \n",
      "[CV]  C=1, class_weight=None, dual=True, penalty=elasticnet, solver=newton-cg, score=nan, total=   0.0s\n",
      "[CV] C=1, class_weight=None, dual=True, penalty=elasticnet, solver=lbfgs \n",
      "[CV]  C=1, class_weight=None, dual=True, penalty=elasticnet, solver=lbfgs, score=nan, total=   0.0s\n",
      "[CV] C=1, class_weight=None, dual=True, penalty=elasticnet, solver=lbfgs \n"
     ]
    },
    {
     "name": "stderr",
     "output_type": "stream",
     "text": [
      "C:\\ProgramData\\Anaconda3\\lib\\site-packages\\sklearn\\model_selection\\_validation.py:548: FitFailedWarning: Estimator fit failed. The score on this train-test partition for these parameters will be set to nan. Details: \n",
      "Traceback (most recent call last):\n",
      "  File \"C:\\ProgramData\\Anaconda3\\lib\\site-packages\\sklearn\\model_selection\\_validation.py\", line 531, in _fit_and_score\n",
      "    estimator.fit(X_train, y_train, **fit_params)\n",
      "  File \"C:\\ProgramData\\Anaconda3\\lib\\site-packages\\sklearn\\linear_model\\_logistic.py\", line 1304, in fit\n",
      "    solver = _check_solver(self.solver, self.penalty, self.dual)\n",
      "  File \"C:\\ProgramData\\Anaconda3\\lib\\site-packages\\sklearn\\linear_model\\_logistic.py\", line 442, in _check_solver\n",
      "    raise ValueError(\"Solver %s supports only 'l2' or 'none' penalties, \"\n",
      "ValueError: Solver newton-cg supports only 'l2' or 'none' penalties, got elasticnet penalty.\n",
      "\n",
      "  warnings.warn(\"Estimator fit failed. The score on this train-test\"\n",
      "C:\\ProgramData\\Anaconda3\\lib\\site-packages\\sklearn\\model_selection\\_validation.py:548: FitFailedWarning: Estimator fit failed. The score on this train-test partition for these parameters will be set to nan. Details: \n",
      "Traceback (most recent call last):\n",
      "  File \"C:\\ProgramData\\Anaconda3\\lib\\site-packages\\sklearn\\model_selection\\_validation.py\", line 531, in _fit_and_score\n",
      "    estimator.fit(X_train, y_train, **fit_params)\n",
      "  File \"C:\\ProgramData\\Anaconda3\\lib\\site-packages\\sklearn\\linear_model\\_logistic.py\", line 1304, in fit\n",
      "    solver = _check_solver(self.solver, self.penalty, self.dual)\n",
      "  File \"C:\\ProgramData\\Anaconda3\\lib\\site-packages\\sklearn\\linear_model\\_logistic.py\", line 442, in _check_solver\n",
      "    raise ValueError(\"Solver %s supports only 'l2' or 'none' penalties, \"\n",
      "ValueError: Solver lbfgs supports only 'l2' or 'none' penalties, got elasticnet penalty.\n",
      "\n",
      "  warnings.warn(\"Estimator fit failed. The score on this train-test\"\n",
      "C:\\ProgramData\\Anaconda3\\lib\\site-packages\\sklearn\\model_selection\\_validation.py:548: FitFailedWarning: Estimator fit failed. The score on this train-test partition for these parameters will be set to nan. Details: \n",
      "Traceback (most recent call last):\n",
      "  File \"C:\\ProgramData\\Anaconda3\\lib\\site-packages\\sklearn\\model_selection\\_validation.py\", line 531, in _fit_and_score\n",
      "    estimator.fit(X_train, y_train, **fit_params)\n",
      "  File \"C:\\ProgramData\\Anaconda3\\lib\\site-packages\\sklearn\\linear_model\\_logistic.py\", line 1304, in fit\n",
      "    solver = _check_solver(self.solver, self.penalty, self.dual)\n",
      "  File \"C:\\ProgramData\\Anaconda3\\lib\\site-packages\\sklearn\\linear_model\\_logistic.py\", line 442, in _check_solver\n",
      "    raise ValueError(\"Solver %s supports only 'l2' or 'none' penalties, \"\n",
      "ValueError: Solver sag supports only 'l2' or 'none' penalties, got elasticnet penalty.\n",
      "\n",
      "  warnings.warn(\"Estimator fit failed. The score on this train-test\"\n",
      "C:\\ProgramData\\Anaconda3\\lib\\site-packages\\sklearn\\model_selection\\_validation.py:548: FitFailedWarning: Estimator fit failed. The score on this train-test partition for these parameters will be set to nan. Details: \n",
      "Traceback (most recent call last):\n",
      "  File \"C:\\ProgramData\\Anaconda3\\lib\\site-packages\\sklearn\\model_selection\\_validation.py\", line 531, in _fit_and_score\n",
      "    estimator.fit(X_train, y_train, **fit_params)\n",
      "  File \"C:\\ProgramData\\Anaconda3\\lib\\site-packages\\sklearn\\linear_model\\_logistic.py\", line 1304, in fit\n",
      "    solver = _check_solver(self.solver, self.penalty, self.dual)\n",
      "  File \"C:\\ProgramData\\Anaconda3\\lib\\site-packages\\sklearn\\linear_model\\_logistic.py\", line 449, in _check_solver\n",
      "    raise ValueError(\"Only 'saga' solver supports elasticnet penalty,\"\n",
      "ValueError: Only 'saga' solver supports elasticnet penalty, got solver=liblinear.\n",
      "\n",
      "  warnings.warn(\"Estimator fit failed. The score on this train-test\"\n"
     ]
    },
    {
     "name": "stdout",
     "output_type": "stream",
     "text": [
      "[CV]  C=1, class_weight=None, dual=True, penalty=elasticnet, solver=lbfgs, score=nan, total=   0.0s\n",
      "[CV] C=1, class_weight=None, dual=True, penalty=elasticnet, solver=lbfgs \n",
      "[CV]  C=1, class_weight=None, dual=True, penalty=elasticnet, solver=lbfgs, score=nan, total=   0.0s\n",
      "[CV] C=1, class_weight=None, dual=True, penalty=elasticnet, solver=lbfgs \n",
      "[CV]  C=1, class_weight=None, dual=True, penalty=elasticnet, solver=lbfgs, score=nan, total=   0.0s\n",
      "[CV] C=1, class_weight=None, dual=True, penalty=elasticnet, solver=lbfgs \n",
      "[CV]  C=1, class_weight=None, dual=True, penalty=elasticnet, solver=lbfgs, score=nan, total=   0.0s\n",
      "[CV] C=1, class_weight=None, dual=True, penalty=elasticnet, solver=sag \n",
      "[CV]  C=1, class_weight=None, dual=True, penalty=elasticnet, solver=sag, score=nan, total=   0.0s\n",
      "[CV] C=1, class_weight=None, dual=True, penalty=elasticnet, solver=sag \n",
      "[CV]  C=1, class_weight=None, dual=True, penalty=elasticnet, solver=sag, score=nan, total=   0.0s\n",
      "[CV] C=1, class_weight=None, dual=True, penalty=elasticnet, solver=sag \n",
      "[CV]  C=1, class_weight=None, dual=True, penalty=elasticnet, solver=sag, score=nan, total=   0.0s\n",
      "[CV] C=1, class_weight=None, dual=True, penalty=elasticnet, solver=sag \n",
      "[CV]  C=1, class_weight=None, dual=True, penalty=elasticnet, solver=sag, score=nan, total=   0.0s\n",
      "[CV] C=1, class_weight=None, dual=True, penalty=elasticnet, solver=sag \n",
      "[CV]  C=1, class_weight=None, dual=True, penalty=elasticnet, solver=sag, score=nan, total=   0.0s\n",
      "[CV] C=1, class_weight=None, dual=True, penalty=elasticnet, solver=saga \n",
      "[CV]  C=1, class_weight=None, dual=True, penalty=elasticnet, solver=saga, score=nan, total=   0.0s\n",
      "[CV] C=1, class_weight=None, dual=True, penalty=elasticnet, solver=saga \n",
      "[CV]  C=1, class_weight=None, dual=True, penalty=elasticnet, solver=saga, score=nan, total=   0.0s\n",
      "[CV] C=1, class_weight=None, dual=True, penalty=elasticnet, solver=saga \n",
      "[CV]  C=1, class_weight=None, dual=True, penalty=elasticnet, solver=saga, score=nan, total=   0.0s\n",
      "[CV] C=1, class_weight=None, dual=True, penalty=elasticnet, solver=saga \n",
      "[CV]  C=1, class_weight=None, dual=True, penalty=elasticnet, solver=saga, score=nan, total=   0.0s\n",
      "[CV] C=1, class_weight=None, dual=True, penalty=elasticnet, solver=saga \n",
      "[CV]  C=1, class_weight=None, dual=True, penalty=elasticnet, solver=saga, score=nan, total=   0.0s\n",
      "[CV] C=1, class_weight=None, dual=True, penalty=elasticnet, solver=liblinear \n",
      "[CV]  C=1, class_weight=None, dual=True, penalty=elasticnet, solver=liblinear, score=nan, total=   0.0s\n",
      "[CV] C=1, class_weight=None, dual=True, penalty=elasticnet, solver=liblinear \n",
      "[CV]  C=1, class_weight=None, dual=True, penalty=elasticnet, solver=liblinear, score=nan, total=   0.0s\n",
      "[CV] C=1, class_weight=None, dual=True, penalty=elasticnet, solver=liblinear \n",
      "[CV]  C=1, class_weight=None, dual=True, penalty=elasticnet, solver=liblinear, score=nan, total=   0.0s\n",
      "[CV] C=1, class_weight=None, dual=True, penalty=elasticnet, solver=liblinear \n",
      "[CV]  C=1, class_weight=None, dual=True, penalty=elasticnet, solver=liblinear, score=nan, total=   0.0s\n",
      "[CV] C=1, class_weight=None, dual=True, penalty=elasticnet, solver=liblinear \n",
      "[CV]  C=1, class_weight=None, dual=True, penalty=elasticnet, solver=liblinear, score=nan, total=   0.0s\n",
      "[CV] C=1, class_weight=None, dual=False, penalty=l1, solver=newton-cg \n",
      "[CV]  C=1, class_weight=None, dual=False, penalty=l1, solver=newton-cg, score=nan, total=   0.0s\n",
      "[CV] C=1, class_weight=None, dual=False, penalty=l1, solver=newton-cg \n",
      "[CV]  C=1, class_weight=None, dual=False, penalty=l1, solver=newton-cg, score=nan, total=   0.0s\n",
      "[CV] C=1, class_weight=None, dual=False, penalty=l1, solver=newton-cg \n",
      "[CV]  C=1, class_weight=None, dual=False, penalty=l1, solver=newton-cg, score=nan, total=   0.0s\n",
      "[CV] C=1, class_weight=None, dual=False, penalty=l1, solver=newton-cg \n",
      "[CV]  C=1, class_weight=None, dual=False, penalty=l1, solver=newton-cg, score=nan, total=   0.0s\n",
      "[CV] C=1, class_weight=None, dual=False, penalty=l1, solver=newton-cg \n",
      "[CV]  C=1, class_weight=None, dual=False, penalty=l1, solver=newton-cg, score=nan, total=   0.0s\n",
      "[CV] C=1, class_weight=None, dual=False, penalty=l1, solver=lbfgs ....\n",
      "[CV]  C=1, class_weight=None, dual=False, penalty=l1, solver=lbfgs, score=nan, total=   0.0s\n",
      "[CV] C=1, class_weight=None, dual=False, penalty=l1, solver=lbfgs ....\n",
      "[CV]  C=1, class_weight=None, dual=False, penalty=l1, solver=lbfgs, score=nan, total=   0.0s\n",
      "[CV] C=1, class_weight=None, dual=False, penalty=l1, solver=lbfgs ....\n",
      "[CV]  C=1, class_weight=None, dual=False, penalty=l1, solver=lbfgs, score=nan, total=   0.0s\n",
      "[CV] C=1, class_weight=None, dual=False, penalty=l1, solver=lbfgs ....\n",
      "[CV]  C=1, class_weight=None, dual=False, penalty=l1, solver=lbfgs, score=nan, total=   0.0s\n",
      "[CV] C=1, class_weight=None, dual=False, penalty=l1, solver=lbfgs ....\n",
      "[CV]  C=1, class_weight=None, dual=False, penalty=l1, solver=lbfgs, score=nan, total=   0.0s\n",
      "[CV] C=1, class_weight=None, dual=False, penalty=l1, solver=sag ......\n",
      "[CV]  C=1, class_weight=None, dual=False, penalty=l1, solver=sag, score=nan, total=   0.0s\n",
      "[CV] C=1, class_weight=None, dual=False, penalty=l1, solver=sag ......\n",
      "[CV]  C=1, class_weight=None, dual=False, penalty=l1, solver=sag, score=nan, total=   0.0s\n",
      "[CV] C=1, class_weight=None, dual=False, penalty=l1, solver=sag ......\n",
      "[CV]  C=1, class_weight=None, dual=False, penalty=l1, solver=sag, score=nan, total=   0.0s\n",
      "[CV] C=1, class_weight=None, dual=False, penalty=l1, solver=sag ......\n",
      "[CV]  C=1, class_weight=None, dual=False, penalty=l1, solver=sag, score=nan, total=   0.0s\n",
      "[CV] C=1, class_weight=None, dual=False, penalty=l1, solver=sag ......\n",
      "[CV]  C=1, class_weight=None, dual=False, penalty=l1, solver=sag, score=nan, total=   0.0s\n",
      "[CV] C=1, class_weight=None, dual=False, penalty=l1, solver=saga .....\n"
     ]
    },
    {
     "name": "stderr",
     "output_type": "stream",
     "text": [
      "C:\\ProgramData\\Anaconda3\\lib\\site-packages\\sklearn\\linear_model\\_sag.py:329: ConvergenceWarning: The max_iter was reached which means the coef_ did not converge\n",
      "  warnings.warn(\"The max_iter was reached which means \"\n"
     ]
    },
    {
     "name": "stdout",
     "output_type": "stream",
     "text": [
      "[CV]  C=1, class_weight=None, dual=False, penalty=l1, solver=saga, score=0.713, total=   1.2s\n",
      "[CV] C=1, class_weight=None, dual=False, penalty=l1, solver=saga .....\n"
     ]
    },
    {
     "name": "stderr",
     "output_type": "stream",
     "text": [
      "C:\\ProgramData\\Anaconda3\\lib\\site-packages\\sklearn\\linear_model\\_sag.py:329: ConvergenceWarning: The max_iter was reached which means the coef_ did not converge\n",
      "  warnings.warn(\"The max_iter was reached which means \"\n"
     ]
    },
    {
     "name": "stdout",
     "output_type": "stream",
     "text": [
      "[CV]  C=1, class_weight=None, dual=False, penalty=l1, solver=saga, score=0.662, total=   1.0s\n",
      "[CV] C=1, class_weight=None, dual=False, penalty=l1, solver=saga .....\n"
     ]
    },
    {
     "name": "stderr",
     "output_type": "stream",
     "text": [
      "C:\\ProgramData\\Anaconda3\\lib\\site-packages\\sklearn\\linear_model\\_sag.py:329: ConvergenceWarning: The max_iter was reached which means the coef_ did not converge\n",
      "  warnings.warn(\"The max_iter was reached which means \"\n"
     ]
    },
    {
     "name": "stdout",
     "output_type": "stream",
     "text": [
      "[CV]  C=1, class_weight=None, dual=False, penalty=l1, solver=saga, score=0.696, total=   1.3s\n",
      "[CV] C=1, class_weight=None, dual=False, penalty=l1, solver=saga .....\n"
     ]
    },
    {
     "name": "stderr",
     "output_type": "stream",
     "text": [
      "C:\\ProgramData\\Anaconda3\\lib\\site-packages\\sklearn\\linear_model\\_sag.py:329: ConvergenceWarning: The max_iter was reached which means the coef_ did not converge\n",
      "  warnings.warn(\"The max_iter was reached which means \"\n"
     ]
    },
    {
     "name": "stdout",
     "output_type": "stream",
     "text": [
      "[CV]  C=1, class_weight=None, dual=False, penalty=l1, solver=saga, score=0.754, total=   1.3s\n",
      "[CV] C=1, class_weight=None, dual=False, penalty=l1, solver=saga .....\n"
     ]
    },
    {
     "name": "stderr",
     "output_type": "stream",
     "text": [
      "C:\\ProgramData\\Anaconda3\\lib\\site-packages\\sklearn\\linear_model\\_sag.py:329: ConvergenceWarning: The max_iter was reached which means the coef_ did not converge\n",
      "  warnings.warn(\"The max_iter was reached which means \"\n"
     ]
    },
    {
     "name": "stdout",
     "output_type": "stream",
     "text": [
      "[CV]  C=1, class_weight=None, dual=False, penalty=l1, solver=saga, score=0.666, total=   1.3s\n",
      "[CV] C=1, class_weight=None, dual=False, penalty=l1, solver=liblinear \n",
      "[CV]  C=1, class_weight=None, dual=False, penalty=l1, solver=liblinear, score=0.722, total=   0.0s\n",
      "[CV] C=1, class_weight=None, dual=False, penalty=l1, solver=liblinear \n",
      "[CV]  C=1, class_weight=None, dual=False, penalty=l1, solver=liblinear, score=0.698, total=   0.0s\n",
      "[CV] C=1, class_weight=None, dual=False, penalty=l1, solver=liblinear \n",
      "[CV]  C=1, class_weight=None, dual=False, penalty=l1, solver=liblinear, score=0.675, total=   0.0s\n",
      "[CV] C=1, class_weight=None, dual=False, penalty=l1, solver=liblinear \n",
      "[CV]  C=1, class_weight=None, dual=False, penalty=l1, solver=liblinear, score=0.717, total=   0.0s\n",
      "[CV] C=1, class_weight=None, dual=False, penalty=l1, solver=liblinear \n",
      "[CV]  C=1, class_weight=None, dual=False, penalty=l1, solver=liblinear, score=0.682, total=   0.0s\n",
      "[CV] C=1, class_weight=None, dual=False, penalty=l2, solver=newton-cg \n",
      "[CV]  C=1, class_weight=None, dual=False, penalty=l2, solver=newton-cg, score=0.653, total=   0.3s\n",
      "[CV] C=1, class_weight=None, dual=False, penalty=l2, solver=newton-cg \n",
      "[CV]  C=1, class_weight=None, dual=False, penalty=l2, solver=newton-cg, score=0.619, total=   0.3s\n",
      "[CV] C=1, class_weight=None, dual=False, penalty=l2, solver=newton-cg \n",
      "[CV]  C=1, class_weight=None, dual=False, penalty=l2, solver=newton-cg, score=0.636, total=   0.3s\n",
      "[CV] C=1, class_weight=None, dual=False, penalty=l2, solver=newton-cg \n",
      "[CV]  C=1, class_weight=None, dual=False, penalty=l2, solver=newton-cg, score=0.608, total=   0.3s\n",
      "[CV] C=1, class_weight=None, dual=False, penalty=l2, solver=newton-cg \n",
      "[CV]  C=1, class_weight=None, dual=False, penalty=l2, solver=newton-cg, score=0.640, total=   0.2s\n",
      "[CV] C=1, class_weight=None, dual=False, penalty=l2, solver=lbfgs ....\n",
      "[CV]  C=1, class_weight=None, dual=False, penalty=l2, solver=lbfgs, score=0.653, total=   0.4s\n",
      "[CV] C=1, class_weight=None, dual=False, penalty=l2, solver=lbfgs ....\n",
      "[CV]  C=1, class_weight=None, dual=False, penalty=l2, solver=lbfgs, score=0.619, total=   0.4s\n",
      "[CV] C=1, class_weight=None, dual=False, penalty=l2, solver=lbfgs ....\n",
      "[CV]  C=1, class_weight=None, dual=False, penalty=l2, solver=lbfgs, score=0.636, total=   0.4s\n",
      "[CV] C=1, class_weight=None, dual=False, penalty=l2, solver=lbfgs ....\n",
      "[CV]  C=1, class_weight=None, dual=False, penalty=l2, solver=lbfgs, score=0.608, total=   0.5s\n",
      "[CV] C=1, class_weight=None, dual=False, penalty=l2, solver=lbfgs ....\n",
      "[CV]  C=1, class_weight=None, dual=False, penalty=l2, solver=lbfgs, score=0.640, total=   0.4s\n",
      "[CV] C=1, class_weight=None, dual=False, penalty=l2, solver=sag ......\n",
      "[CV]  C=1, class_weight=None, dual=False, penalty=l2, solver=sag, score=0.671, total=   0.2s\n",
      "[CV] C=1, class_weight=None, dual=False, penalty=l2, solver=sag ......\n"
     ]
    },
    {
     "name": "stderr",
     "output_type": "stream",
     "text": [
      "C:\\ProgramData\\Anaconda3\\lib\\site-packages\\sklearn\\linear_model\\_sag.py:329: ConvergenceWarning: The max_iter was reached which means the coef_ did not converge\n",
      "  warnings.warn(\"The max_iter was reached which means \"\n",
      "C:\\ProgramData\\Anaconda3\\lib\\site-packages\\sklearn\\linear_model\\_sag.py:329: ConvergenceWarning: The max_iter was reached which means the coef_ did not converge\n",
      "  warnings.warn(\"The max_iter was reached which means \"\n",
      "C:\\ProgramData\\Anaconda3\\lib\\site-packages\\sklearn\\linear_model\\_sag.py:329: ConvergenceWarning: The max_iter was reached which means the coef_ did not converge\n",
      "  warnings.warn(\"The max_iter was reached which means \"\n"
     ]
    },
    {
     "name": "stdout",
     "output_type": "stream",
     "text": [
      "[CV]  C=1, class_weight=None, dual=False, penalty=l2, solver=sag, score=0.619, total=   0.2s\n",
      "[CV] C=1, class_weight=None, dual=False, penalty=l2, solver=sag ......\n"
     ]
    },
    {
     "name": "stderr",
     "output_type": "stream",
     "text": [
      "C:\\ProgramData\\Anaconda3\\lib\\site-packages\\sklearn\\linear_model\\_sag.py:329: ConvergenceWarning: The max_iter was reached which means the coef_ did not converge\n",
      "  warnings.warn(\"The max_iter was reached which means \"\n"
     ]
    },
    {
     "name": "stdout",
     "output_type": "stream",
     "text": [
      "[CV]  C=1, class_weight=None, dual=False, penalty=l2, solver=sag, score=0.636, total=   0.2s\n",
      "[CV] C=1, class_weight=None, dual=False, penalty=l2, solver=sag ......\n"
     ]
    },
    {
     "name": "stderr",
     "output_type": "stream",
     "text": [
      "C:\\ProgramData\\Anaconda3\\lib\\site-packages\\sklearn\\linear_model\\_sag.py:329: ConvergenceWarning: The max_iter was reached which means the coef_ did not converge\n",
      "  warnings.warn(\"The max_iter was reached which means \"\n"
     ]
    },
    {
     "name": "stdout",
     "output_type": "stream",
     "text": [
      "[CV]  C=1, class_weight=None, dual=False, penalty=l2, solver=sag, score=0.622, total=   0.2s\n",
      "[CV] C=1, class_weight=None, dual=False, penalty=l2, solver=sag ......\n",
      "[CV]  C=1, class_weight=None, dual=False, penalty=l2, solver=sag, score=0.640, total=   0.2s\n",
      "[CV] C=1, class_weight=None, dual=False, penalty=l2, solver=saga .....\n"
     ]
    },
    {
     "name": "stderr",
     "output_type": "stream",
     "text": [
      "C:\\ProgramData\\Anaconda3\\lib\\site-packages\\sklearn\\linear_model\\_sag.py:329: ConvergenceWarning: The max_iter was reached which means the coef_ did not converge\n",
      "  warnings.warn(\"The max_iter was reached which means \"\n"
     ]
    },
    {
     "name": "stdout",
     "output_type": "stream",
     "text": [
      "[CV]  C=1, class_weight=None, dual=False, penalty=l2, solver=saga, score=0.674, total=   0.2s\n",
      "[CV] C=1, class_weight=None, dual=False, penalty=l2, solver=saga .....\n"
     ]
    },
    {
     "name": "stderr",
     "output_type": "stream",
     "text": [
      "C:\\ProgramData\\Anaconda3\\lib\\site-packages\\sklearn\\linear_model\\_sag.py:329: ConvergenceWarning: The max_iter was reached which means the coef_ did not converge\n",
      "  warnings.warn(\"The max_iter was reached which means \"\n"
     ]
    },
    {
     "name": "stdout",
     "output_type": "stream",
     "text": [
      "[CV]  C=1, class_weight=None, dual=False, penalty=l2, solver=saga, score=0.616, total=   0.2s\n",
      "[CV] C=1, class_weight=None, dual=False, penalty=l2, solver=saga .....\n"
     ]
    },
    {
     "name": "stderr",
     "output_type": "stream",
     "text": [
      "C:\\ProgramData\\Anaconda3\\lib\\site-packages\\sklearn\\linear_model\\_sag.py:329: ConvergenceWarning: The max_iter was reached which means the coef_ did not converge\n",
      "  warnings.warn(\"The max_iter was reached which means \"\n"
     ]
    },
    {
     "name": "stdout",
     "output_type": "stream",
     "text": [
      "[CV]  C=1, class_weight=None, dual=False, penalty=l2, solver=saga, score=0.651, total=   0.2s\n",
      "[CV] C=1, class_weight=None, dual=False, penalty=l2, solver=saga .....\n"
     ]
    },
    {
     "name": "stderr",
     "output_type": "stream",
     "text": [
      "C:\\ProgramData\\Anaconda3\\lib\\site-packages\\sklearn\\linear_model\\_sag.py:329: ConvergenceWarning: The max_iter was reached which means the coef_ did not converge\n",
      "  warnings.warn(\"The max_iter was reached which means \"\n"
     ]
    },
    {
     "name": "stdout",
     "output_type": "stream",
     "text": [
      "[CV]  C=1, class_weight=None, dual=False, penalty=l2, solver=saga, score=0.662, total=   0.2s\n",
      "[CV] C=1, class_weight=None, dual=False, penalty=l2, solver=saga .....\n"
     ]
    },
    {
     "name": "stderr",
     "output_type": "stream",
     "text": [
      "C:\\ProgramData\\Anaconda3\\lib\\site-packages\\sklearn\\linear_model\\_sag.py:329: ConvergenceWarning: The max_iter was reached which means the coef_ did not converge\n",
      "  warnings.warn(\"The max_iter was reached which means \"\n"
     ]
    },
    {
     "name": "stdout",
     "output_type": "stream",
     "text": [
      "[CV]  C=1, class_weight=None, dual=False, penalty=l2, solver=saga, score=0.639, total=   0.2s\n",
      "[CV] C=1, class_weight=None, dual=False, penalty=l2, solver=liblinear \n",
      "[CV]  C=1, class_weight=None, dual=False, penalty=l2, solver=liblinear, score=0.633, total=   0.1s\n",
      "[CV] C=1, class_weight=None, dual=False, penalty=l2, solver=liblinear \n",
      "[CV]  C=1, class_weight=None, dual=False, penalty=l2, solver=liblinear, score=0.620, total=   0.1s\n",
      "[CV] C=1, class_weight=None, dual=False, penalty=l2, solver=liblinear \n",
      "[CV]  C=1, class_weight=None, dual=False, penalty=l2, solver=liblinear, score=0.621, total=   0.1s\n",
      "[CV] C=1, class_weight=None, dual=False, penalty=l2, solver=liblinear \n",
      "[CV]  C=1, class_weight=None, dual=False, penalty=l2, solver=liblinear, score=0.587, total=   0.1s\n",
      "[CV] C=1, class_weight=None, dual=False, penalty=l2, solver=liblinear \n",
      "[CV]  C=1, class_weight=None, dual=False, penalty=l2, solver=liblinear, score=0.643, total=   0.1s\n",
      "[CV] C=1, class_weight=None, dual=False, penalty=elasticnet, solver=newton-cg \n",
      "[CV]  C=1, class_weight=None, dual=False, penalty=elasticnet, solver=newton-cg, score=nan, total=   0.0s\n",
      "[CV] C=1, class_weight=None, dual=False, penalty=elasticnet, solver=newton-cg \n",
      "[CV]  C=1, class_weight=None, dual=False, penalty=elasticnet, solver=newton-cg, score=nan, total=   0.0s\n",
      "[CV] C=1, class_weight=None, dual=False, penalty=elasticnet, solver=newton-cg \n",
      "[CV]  C=1, class_weight=None, dual=False, penalty=elasticnet, solver=newton-cg, score=nan, total=   0.0s\n",
      "[CV] C=1, class_weight=None, dual=False, penalty=elasticnet, solver=newton-cg \n",
      "[CV]  C=1, class_weight=None, dual=False, penalty=elasticnet, solver=newton-cg, score=nan, total=   0.0s\n",
      "[CV] C=1, class_weight=None, dual=False, penalty=elasticnet, solver=newton-cg \n",
      "[CV]  C=1, class_weight=None, dual=False, penalty=elasticnet, solver=newton-cg, score=nan, total=   0.0s\n",
      "[CV] C=1, class_weight=None, dual=False, penalty=elasticnet, solver=lbfgs \n",
      "[CV]  C=1, class_weight=None, dual=False, penalty=elasticnet, solver=lbfgs, score=nan, total=   0.0s\n",
      "[CV] C=1, class_weight=None, dual=False, penalty=elasticnet, solver=lbfgs \n",
      "[CV]  C=1, class_weight=None, dual=False, penalty=elasticnet, solver=lbfgs, score=nan, total=   0.0s\n",
      "[CV] C=1, class_weight=None, dual=False, penalty=elasticnet, solver=lbfgs \n",
      "[CV]  C=1, class_weight=None, dual=False, penalty=elasticnet, solver=lbfgs, score=nan, total=   0.0s\n",
      "[CV] C=1, class_weight=None, dual=False, penalty=elasticnet, solver=lbfgs \n",
      "[CV]  C=1, class_weight=None, dual=False, penalty=elasticnet, solver=lbfgs, score=nan, total=   0.0s\n",
      "[CV] C=1, class_weight=None, dual=False, penalty=elasticnet, solver=lbfgs \n",
      "[CV]  C=1, class_weight=None, dual=False, penalty=elasticnet, solver=lbfgs, score=nan, total=   0.0s\n",
      "[CV] C=1, class_weight=None, dual=False, penalty=elasticnet, solver=sag \n",
      "[CV]  C=1, class_weight=None, dual=False, penalty=elasticnet, solver=sag, score=nan, total=   0.0s\n",
      "[CV] C=1, class_weight=None, dual=False, penalty=elasticnet, solver=sag \n",
      "[CV]  C=1, class_weight=None, dual=False, penalty=elasticnet, solver=sag, score=nan, total=   0.0s\n",
      "[CV] C=1, class_weight=None, dual=False, penalty=elasticnet, solver=sag \n",
      "[CV]  C=1, class_weight=None, dual=False, penalty=elasticnet, solver=sag, score=nan, total=   0.0s\n",
      "[CV] C=1, class_weight=None, dual=False, penalty=elasticnet, solver=sag \n",
      "[CV]  C=1, class_weight=None, dual=False, penalty=elasticnet, solver=sag, score=nan, total=   0.0s\n",
      "[CV] C=1, class_weight=None, dual=False, penalty=elasticnet, solver=sag \n",
      "[CV]  C=1, class_weight=None, dual=False, penalty=elasticnet, solver=sag, score=nan, total=   0.0s\n",
      "[CV] C=1, class_weight=None, dual=False, penalty=elasticnet, solver=saga \n",
      "[CV]  C=1, class_weight=None, dual=False, penalty=elasticnet, solver=saga, score=nan, total=   0.0s\n",
      "[CV] C=1, class_weight=None, dual=False, penalty=elasticnet, solver=saga \n",
      "[CV]  C=1, class_weight=None, dual=False, penalty=elasticnet, solver=saga, score=nan, total=   0.0s\n",
      "[CV] C=1, class_weight=None, dual=False, penalty=elasticnet, solver=saga \n",
      "[CV]  C=1, class_weight=None, dual=False, penalty=elasticnet, solver=saga, score=nan, total=   0.0s\n",
      "[CV] C=1, class_weight=None, dual=False, penalty=elasticnet, solver=saga \n",
      "[CV]  C=1, class_weight=None, dual=False, penalty=elasticnet, solver=saga, score=nan, total=   0.0s\n",
      "[CV] C=1, class_weight=None, dual=False, penalty=elasticnet, solver=saga \n",
      "[CV]  C=1, class_weight=None, dual=False, penalty=elasticnet, solver=saga, score=nan, total=   0.0s\n",
      "[CV] C=1, class_weight=None, dual=False, penalty=elasticnet, solver=liblinear \n",
      "[CV]  C=1, class_weight=None, dual=False, penalty=elasticnet, solver=liblinear, score=nan, total=   0.0s\n",
      "[CV] C=1, class_weight=None, dual=False, penalty=elasticnet, solver=liblinear \n",
      "[CV]  C=1, class_weight=None, dual=False, penalty=elasticnet, solver=liblinear, score=nan, total=   0.0s\n",
      "[CV] C=1, class_weight=None, dual=False, penalty=elasticnet, solver=liblinear \n",
      "[CV]  C=1, class_weight=None, dual=False, penalty=elasticnet, solver=liblinear, score=nan, total=   0.0s\n",
      "[CV] C=1, class_weight=None, dual=False, penalty=elasticnet, solver=liblinear \n",
      "[CV]  C=1, class_weight=None, dual=False, penalty=elasticnet, solver=liblinear, score=nan, total=   0.0s\n",
      "[CV] C=1, class_weight=None, dual=False, penalty=elasticnet, solver=liblinear \n",
      "[CV]  C=1, class_weight=None, dual=False, penalty=elasticnet, solver=liblinear, score=nan, total=   0.0s\n",
      "[CV] C=1, class_weight=balanced, dual=True, penalty=l1, solver=newton-cg \n",
      "[CV]  C=1, class_weight=balanced, dual=True, penalty=l1, solver=newton-cg, score=nan, total=   0.0s\n",
      "[CV] C=1, class_weight=balanced, dual=True, penalty=l1, solver=newton-cg \n",
      "[CV]  C=1, class_weight=balanced, dual=True, penalty=l1, solver=newton-cg, score=nan, total=   0.0s\n",
      "[CV] C=1, class_weight=balanced, dual=True, penalty=l1, solver=newton-cg \n",
      "[CV]  C=1, class_weight=balanced, dual=True, penalty=l1, solver=newton-cg, score=nan, total=   0.0s\n",
      "[CV] C=1, class_weight=balanced, dual=True, penalty=l1, solver=newton-cg \n",
      "[CV]  C=1, class_weight=balanced, dual=True, penalty=l1, solver=newton-cg, score=nan, total=   0.0s\n",
      "[CV] C=1, class_weight=balanced, dual=True, penalty=l1, solver=newton-cg \n",
      "[CV]  C=1, class_weight=balanced, dual=True, penalty=l1, solver=newton-cg, score=nan, total=   0.0s\n",
      "[CV] C=1, class_weight=balanced, dual=True, penalty=l1, solver=lbfgs .\n",
      "[CV]  C=1, class_weight=balanced, dual=True, penalty=l1, solver=lbfgs, score=nan, total=   0.0s\n",
      "[CV] C=1, class_weight=balanced, dual=True, penalty=l1, solver=lbfgs .\n",
      "[CV]  C=1, class_weight=balanced, dual=True, penalty=l1, solver=lbfgs, score=nan, total=   0.0s\n",
      "[CV] C=1, class_weight=balanced, dual=True, penalty=l1, solver=lbfgs .\n",
      "[CV]  C=1, class_weight=balanced, dual=True, penalty=l1, solver=lbfgs, score=nan, total=   0.0s\n",
      "[CV] C=1, class_weight=balanced, dual=True, penalty=l1, solver=lbfgs .\n",
      "[CV]  C=1, class_weight=balanced, dual=True, penalty=l1, solver=lbfgs, score=nan, total=   0.0s\n",
      "[CV] C=1, class_weight=balanced, dual=True, penalty=l1, solver=lbfgs .\n",
      "[CV]  C=1, class_weight=balanced, dual=True, penalty=l1, solver=lbfgs, score=nan, total=   0.0s\n",
      "[CV] C=1, class_weight=balanced, dual=True, penalty=l1, solver=sag ...\n",
      "[CV]  C=1, class_weight=balanced, dual=True, penalty=l1, solver=sag, score=nan, total=   0.0s\n",
      "[CV] C=1, class_weight=balanced, dual=True, penalty=l1, solver=sag ...\n",
      "[CV]  C=1, class_weight=balanced, dual=True, penalty=l1, solver=sag, score=nan, total=   0.0s\n",
      "[CV] C=1, class_weight=balanced, dual=True, penalty=l1, solver=sag ...\n",
      "[CV]  C=1, class_weight=balanced, dual=True, penalty=l1, solver=sag, score=nan, total=   0.0s\n",
      "[CV] C=1, class_weight=balanced, dual=True, penalty=l1, solver=sag ...\n",
      "[CV]  C=1, class_weight=balanced, dual=True, penalty=l1, solver=sag, score=nan, total=   0.0s\n",
      "[CV] C=1, class_weight=balanced, dual=True, penalty=l1, solver=sag ...\n",
      "[CV]  C=1, class_weight=balanced, dual=True, penalty=l1, solver=sag, score=nan, total=   0.0s\n",
      "[CV] C=1, class_weight=balanced, dual=True, penalty=l1, solver=saga ..\n",
      "[CV]  C=1, class_weight=balanced, dual=True, penalty=l1, solver=saga, score=nan, total=   0.0s\n",
      "[CV] C=1, class_weight=balanced, dual=True, penalty=l1, solver=saga ..\n",
      "[CV]  C=1, class_weight=balanced, dual=True, penalty=l1, solver=saga, score=nan, total=   0.0s\n",
      "[CV] C=1, class_weight=balanced, dual=True, penalty=l1, solver=saga ..\n",
      "[CV]  C=1, class_weight=balanced, dual=True, penalty=l1, solver=saga, score=nan, total=   0.0s\n",
      "[CV] C=1, class_weight=balanced, dual=True, penalty=l1, solver=saga ..\n",
      "[CV]  C=1, class_weight=balanced, dual=True, penalty=l1, solver=saga, score=nan, total=   0.0s\n",
      "[CV] C=1, class_weight=balanced, dual=True, penalty=l1, solver=saga ..\n",
      "[CV]  C=1, class_weight=balanced, dual=True, penalty=l1, solver=saga, score=nan, total=   0.0s\n",
      "[CV] C=1, class_weight=balanced, dual=True, penalty=l1, solver=liblinear \n",
      "[CV]  C=1, class_weight=balanced, dual=True, penalty=l1, solver=liblinear, score=nan, total=   0.0s\n",
      "[CV] C=1, class_weight=balanced, dual=True, penalty=l1, solver=liblinear \n",
      "[CV]  C=1, class_weight=balanced, dual=True, penalty=l1, solver=liblinear, score=nan, total=   0.0s\n",
      "[CV] C=1, class_weight=balanced, dual=True, penalty=l1, solver=liblinear \n",
      "[CV]  C=1, class_weight=balanced, dual=True, penalty=l1, solver=liblinear, score=nan, total=   0.0s\n",
      "[CV] C=1, class_weight=balanced, dual=True, penalty=l1, solver=liblinear \n",
      "[CV]  C=1, class_weight=balanced, dual=True, penalty=l1, solver=liblinear, score=nan, total=   0.0s\n",
      "[CV] C=1, class_weight=balanced, dual=True, penalty=l1, solver=liblinear \n",
      "[CV]  C=1, class_weight=balanced, dual=True, penalty=l1, solver=liblinear, score=nan, total=   0.0s\n",
      "[CV] C=1, class_weight=balanced, dual=True, penalty=l2, solver=newton-cg \n",
      "[CV]  C=1, class_weight=balanced, dual=True, penalty=l2, solver=newton-cg, score=nan, total=   0.0s\n",
      "[CV] C=1, class_weight=balanced, dual=True, penalty=l2, solver=newton-cg \n",
      "[CV]  C=1, class_weight=balanced, dual=True, penalty=l2, solver=newton-cg, score=nan, total=   0.0s\n",
      "[CV] C=1, class_weight=balanced, dual=True, penalty=l2, solver=newton-cg \n",
      "[CV]  C=1, class_weight=balanced, dual=True, penalty=l2, solver=newton-cg, score=nan, total=   0.0s\n",
      "[CV] C=1, class_weight=balanced, dual=True, penalty=l2, solver=newton-cg \n"
     ]
    },
    {
     "name": "stderr",
     "output_type": "stream",
     "text": [
      "C:\\ProgramData\\Anaconda3\\lib\\site-packages\\sklearn\\model_selection\\_validation.py:548: FitFailedWarning: Estimator fit failed. The score on this train-test partition for these parameters will be set to nan. Details: \n",
      "Traceback (most recent call last):\n",
      "  File \"C:\\ProgramData\\Anaconda3\\lib\\site-packages\\sklearn\\model_selection\\_validation.py\", line 531, in _fit_and_score\n",
      "    estimator.fit(X_train, y_train, **fit_params)\n",
      "  File \"C:\\ProgramData\\Anaconda3\\lib\\site-packages\\sklearn\\linear_model\\_logistic.py\", line 1304, in fit\n",
      "    solver = _check_solver(self.solver, self.penalty, self.dual)\n",
      "  File \"C:\\ProgramData\\Anaconda3\\lib\\site-packages\\sklearn\\linear_model\\_logistic.py\", line 442, in _check_solver\n",
      "    raise ValueError(\"Solver %s supports only 'l2' or 'none' penalties, \"\n",
      "ValueError: Solver newton-cg supports only 'l2' or 'none' penalties, got elasticnet penalty.\n",
      "\n",
      "  warnings.warn(\"Estimator fit failed. The score on this train-test\"\n",
      "C:\\ProgramData\\Anaconda3\\lib\\site-packages\\sklearn\\model_selection\\_validation.py:548: FitFailedWarning: Estimator fit failed. The score on this train-test partition for these parameters will be set to nan. Details: \n",
      "Traceback (most recent call last):\n",
      "  File \"C:\\ProgramData\\Anaconda3\\lib\\site-packages\\sklearn\\model_selection\\_validation.py\", line 531, in _fit_and_score\n",
      "    estimator.fit(X_train, y_train, **fit_params)\n",
      "  File \"C:\\ProgramData\\Anaconda3\\lib\\site-packages\\sklearn\\linear_model\\_logistic.py\", line 1304, in fit\n",
      "    solver = _check_solver(self.solver, self.penalty, self.dual)\n",
      "  File \"C:\\ProgramData\\Anaconda3\\lib\\site-packages\\sklearn\\linear_model\\_logistic.py\", line 442, in _check_solver\n",
      "    raise ValueError(\"Solver %s supports only 'l2' or 'none' penalties, \"\n",
      "ValueError: Solver lbfgs supports only 'l2' or 'none' penalties, got elasticnet penalty.\n",
      "\n",
      "  warnings.warn(\"Estimator fit failed. The score on this train-test\"\n",
      "C:\\ProgramData\\Anaconda3\\lib\\site-packages\\sklearn\\model_selection\\_validation.py:548: FitFailedWarning: Estimator fit failed. The score on this train-test partition for these parameters will be set to nan. Details: \n",
      "Traceback (most recent call last):\n",
      "  File \"C:\\ProgramData\\Anaconda3\\lib\\site-packages\\sklearn\\model_selection\\_validation.py\", line 531, in _fit_and_score\n",
      "    estimator.fit(X_train, y_train, **fit_params)\n",
      "  File \"C:\\ProgramData\\Anaconda3\\lib\\site-packages\\sklearn\\linear_model\\_logistic.py\", line 1304, in fit\n",
      "    solver = _check_solver(self.solver, self.penalty, self.dual)\n",
      "  File \"C:\\ProgramData\\Anaconda3\\lib\\site-packages\\sklearn\\linear_model\\_logistic.py\", line 442, in _check_solver\n",
      "    raise ValueError(\"Solver %s supports only 'l2' or 'none' penalties, \"\n",
      "ValueError: Solver sag supports only 'l2' or 'none' penalties, got elasticnet penalty.\n",
      "\n",
      "  warnings.warn(\"Estimator fit failed. The score on this train-test\"\n",
      "C:\\ProgramData\\Anaconda3\\lib\\site-packages\\sklearn\\model_selection\\_validation.py:548: FitFailedWarning: Estimator fit failed. The score on this train-test partition for these parameters will be set to nan. Details: \n",
      "Traceback (most recent call last):\n",
      "  File \"C:\\ProgramData\\Anaconda3\\lib\\site-packages\\sklearn\\model_selection\\_validation.py\", line 531, in _fit_and_score\n",
      "    estimator.fit(X_train, y_train, **fit_params)\n",
      "  File \"C:\\ProgramData\\Anaconda3\\lib\\site-packages\\sklearn\\linear_model\\_logistic.py\", line 1312, in fit\n",
      "    raise ValueError(\"l1_ratio must be between 0 and 1;\"\n",
      "ValueError: l1_ratio must be between 0 and 1; got (l1_ratio=None)\n",
      "\n",
      "  warnings.warn(\"Estimator fit failed. The score on this train-test\"\n",
      "C:\\ProgramData\\Anaconda3\\lib\\site-packages\\sklearn\\model_selection\\_validation.py:548: FitFailedWarning: Estimator fit failed. The score on this train-test partition for these parameters will be set to nan. Details: \n",
      "Traceback (most recent call last):\n",
      "  File \"C:\\ProgramData\\Anaconda3\\lib\\site-packages\\sklearn\\model_selection\\_validation.py\", line 531, in _fit_and_score\n",
      "    estimator.fit(X_train, y_train, **fit_params)\n",
      "  File \"C:\\ProgramData\\Anaconda3\\lib\\site-packages\\sklearn\\linear_model\\_logistic.py\", line 1304, in fit\n",
      "    solver = _check_solver(self.solver, self.penalty, self.dual)\n",
      "  File \"C:\\ProgramData\\Anaconda3\\lib\\site-packages\\sklearn\\linear_model\\_logistic.py\", line 449, in _check_solver\n",
      "    raise ValueError(\"Only 'saga' solver supports elasticnet penalty,\"\n",
      "ValueError: Only 'saga' solver supports elasticnet penalty, got solver=liblinear.\n",
      "\n",
      "  warnings.warn(\"Estimator fit failed. The score on this train-test\"\n",
      "C:\\ProgramData\\Anaconda3\\lib\\site-packages\\sklearn\\model_selection\\_validation.py:548: FitFailedWarning: Estimator fit failed. The score on this train-test partition for these parameters will be set to nan. Details: \n",
      "Traceback (most recent call last):\n",
      "  File \"C:\\ProgramData\\Anaconda3\\lib\\site-packages\\sklearn\\model_selection\\_validation.py\", line 531, in _fit_and_score\n",
      "    estimator.fit(X_train, y_train, **fit_params)\n",
      "  File \"C:\\ProgramData\\Anaconda3\\lib\\site-packages\\sklearn\\linear_model\\_logistic.py\", line 1304, in fit\n",
      "    solver = _check_solver(self.solver, self.penalty, self.dual)\n",
      "  File \"C:\\ProgramData\\Anaconda3\\lib\\site-packages\\sklearn\\linear_model\\_logistic.py\", line 442, in _check_solver\n",
      "    raise ValueError(\"Solver %s supports only 'l2' or 'none' penalties, \"\n",
      "ValueError: Solver newton-cg supports only 'l2' or 'none' penalties, got l1 penalty.\n",
      "\n",
      "  warnings.warn(\"Estimator fit failed. The score on this train-test\"\n",
      "C:\\ProgramData\\Anaconda3\\lib\\site-packages\\sklearn\\model_selection\\_validation.py:548: FitFailedWarning: Estimator fit failed. The score on this train-test partition for these parameters will be set to nan. Details: \n",
      "Traceback (most recent call last):\n",
      "  File \"C:\\ProgramData\\Anaconda3\\lib\\site-packages\\sklearn\\model_selection\\_validation.py\", line 531, in _fit_and_score\n",
      "    estimator.fit(X_train, y_train, **fit_params)\n",
      "  File \"C:\\ProgramData\\Anaconda3\\lib\\site-packages\\sklearn\\linear_model\\_logistic.py\", line 1304, in fit\n",
      "    solver = _check_solver(self.solver, self.penalty, self.dual)\n",
      "  File \"C:\\ProgramData\\Anaconda3\\lib\\site-packages\\sklearn\\linear_model\\_logistic.py\", line 442, in _check_solver\n",
      "    raise ValueError(\"Solver %s supports only 'l2' or 'none' penalties, \"\n",
      "ValueError: Solver lbfgs supports only 'l2' or 'none' penalties, got l1 penalty.\n",
      "\n",
      "  warnings.warn(\"Estimator fit failed. The score on this train-test\"\n",
      "C:\\ProgramData\\Anaconda3\\lib\\site-packages\\sklearn\\model_selection\\_validation.py:548: FitFailedWarning: Estimator fit failed. The score on this train-test partition for these parameters will be set to nan. Details: \n",
      "Traceback (most recent call last):\n",
      "  File \"C:\\ProgramData\\Anaconda3\\lib\\site-packages\\sklearn\\model_selection\\_validation.py\", line 531, in _fit_and_score\n",
      "    estimator.fit(X_train, y_train, **fit_params)\n",
      "  File \"C:\\ProgramData\\Anaconda3\\lib\\site-packages\\sklearn\\linear_model\\_logistic.py\", line 1304, in fit\n",
      "    solver = _check_solver(self.solver, self.penalty, self.dual)\n",
      "  File \"C:\\ProgramData\\Anaconda3\\lib\\site-packages\\sklearn\\linear_model\\_logistic.py\", line 442, in _check_solver\n",
      "    raise ValueError(\"Solver %s supports only 'l2' or 'none' penalties, \"\n",
      "ValueError: Solver sag supports only 'l2' or 'none' penalties, got l1 penalty.\n",
      "\n",
      "  warnings.warn(\"Estimator fit failed. The score on this train-test\"\n",
      "C:\\ProgramData\\Anaconda3\\lib\\site-packages\\sklearn\\model_selection\\_validation.py:548: FitFailedWarning: Estimator fit failed. The score on this train-test partition for these parameters will be set to nan. Details: \n",
      "Traceback (most recent call last):\n",
      "  File \"C:\\ProgramData\\Anaconda3\\lib\\site-packages\\sklearn\\model_selection\\_validation.py\", line 531, in _fit_and_score\n",
      "    estimator.fit(X_train, y_train, **fit_params)\n",
      "  File \"C:\\ProgramData\\Anaconda3\\lib\\site-packages\\sklearn\\linear_model\\_logistic.py\", line 1304, in fit\n",
      "    solver = _check_solver(self.solver, self.penalty, self.dual)\n",
      "  File \"C:\\ProgramData\\Anaconda3\\lib\\site-packages\\sklearn\\linear_model\\_logistic.py\", line 445, in _check_solver\n",
      "    raise ValueError(\"Solver %s supports only \"\n",
      "ValueError: Solver saga supports only dual=False, got dual=True\n",
      "\n",
      "  warnings.warn(\"Estimator fit failed. The score on this train-test\"\n",
      "C:\\ProgramData\\Anaconda3\\lib\\site-packages\\sklearn\\model_selection\\_validation.py:548: FitFailedWarning: Estimator fit failed. The score on this train-test partition for these parameters will be set to nan. Details: \n",
      "Traceback (most recent call last):\n",
      "  File \"C:\\ProgramData\\Anaconda3\\lib\\site-packages\\sklearn\\model_selection\\_validation.py\", line 531, in _fit_and_score\n",
      "    estimator.fit(X_train, y_train, **fit_params)\n",
      "  File \"C:\\ProgramData\\Anaconda3\\lib\\site-packages\\sklearn\\linear_model\\_logistic.py\", line 1356, in fit\n",
      "    self.coef_, self.intercept_, n_iter_ = _fit_liblinear(\n",
      "  File \"C:\\ProgramData\\Anaconda3\\lib\\site-packages\\sklearn\\svm\\_base.py\", line 965, in _fit_liblinear\n",
      "    solver_type = _get_liblinear_solver_type(multi_class, penalty, loss, dual)\n",
      "  File \"C:\\ProgramData\\Anaconda3\\lib\\site-packages\\sklearn\\svm\\_base.py\", line 821, in _get_liblinear_solver_type\n",
      "    raise ValueError('Unsupported set of arguments: %s, '\n",
      "ValueError: Unsupported set of arguments: The combination of penalty='l1' and loss='logistic_regression' are not supported when dual=True, Parameters: penalty='l1', loss='logistic_regression', dual=True\n",
      "\n",
      "  warnings.warn(\"Estimator fit failed. The score on this train-test\"\n",
      "C:\\ProgramData\\Anaconda3\\lib\\site-packages\\sklearn\\model_selection\\_validation.py:548: FitFailedWarning: Estimator fit failed. The score on this train-test partition for these parameters will be set to nan. Details: \n",
      "Traceback (most recent call last):\n",
      "  File \"C:\\ProgramData\\Anaconda3\\lib\\site-packages\\sklearn\\model_selection\\_validation.py\", line 531, in _fit_and_score\n",
      "    estimator.fit(X_train, y_train, **fit_params)\n",
      "  File \"C:\\ProgramData\\Anaconda3\\lib\\site-packages\\sklearn\\linear_model\\_logistic.py\", line 1304, in fit\n",
      "    solver = _check_solver(self.solver, self.penalty, self.dual)\n",
      "  File \"C:\\ProgramData\\Anaconda3\\lib\\site-packages\\sklearn\\linear_model\\_logistic.py\", line 445, in _check_solver\n",
      "    raise ValueError(\"Solver %s supports only \"\n",
      "ValueError: Solver newton-cg supports only dual=False, got dual=True\n",
      "\n",
      "  warnings.warn(\"Estimator fit failed. The score on this train-test\"\n",
      "C:\\ProgramData\\Anaconda3\\lib\\site-packages\\sklearn\\model_selection\\_validation.py:548: FitFailedWarning: Estimator fit failed. The score on this train-test partition for these parameters will be set to nan. Details: \n",
      "Traceback (most recent call last):\n",
      "  File \"C:\\ProgramData\\Anaconda3\\lib\\site-packages\\sklearn\\model_selection\\_validation.py\", line 531, in _fit_and_score\n",
      "    estimator.fit(X_train, y_train, **fit_params)\n",
      "  File \"C:\\ProgramData\\Anaconda3\\lib\\site-packages\\sklearn\\linear_model\\_logistic.py\", line 1304, in fit\n",
      "    solver = _check_solver(self.solver, self.penalty, self.dual)\n",
      "  File \"C:\\ProgramData\\Anaconda3\\lib\\site-packages\\sklearn\\linear_model\\_logistic.py\", line 445, in _check_solver\n",
      "    raise ValueError(\"Solver %s supports only \"\n",
      "ValueError: Solver lbfgs supports only dual=False, got dual=True\n",
      "\n",
      "  warnings.warn(\"Estimator fit failed. The score on this train-test\"\n",
      "C:\\ProgramData\\Anaconda3\\lib\\site-packages\\sklearn\\model_selection\\_validation.py:548: FitFailedWarning: Estimator fit failed. The score on this train-test partition for these parameters will be set to nan. Details: \n",
      "Traceback (most recent call last):\n",
      "  File \"C:\\ProgramData\\Anaconda3\\lib\\site-packages\\sklearn\\model_selection\\_validation.py\", line 531, in _fit_and_score\n",
      "    estimator.fit(X_train, y_train, **fit_params)\n",
      "  File \"C:\\ProgramData\\Anaconda3\\lib\\site-packages\\sklearn\\linear_model\\_logistic.py\", line 1304, in fit\n",
      "    solver = _check_solver(self.solver, self.penalty, self.dual)\n",
      "  File \"C:\\ProgramData\\Anaconda3\\lib\\site-packages\\sklearn\\linear_model\\_logistic.py\", line 445, in _check_solver\n",
      "    raise ValueError(\"Solver %s supports only \"\n",
      "ValueError: Solver sag supports only dual=False, got dual=True\n",
      "\n",
      "  warnings.warn(\"Estimator fit failed. The score on this train-test\"\n"
     ]
    },
    {
     "name": "stdout",
     "output_type": "stream",
     "text": [
      "[CV]  C=1, class_weight=balanced, dual=True, penalty=l2, solver=newton-cg, score=nan, total=   0.0s\n",
      "[CV] C=1, class_weight=balanced, dual=True, penalty=l2, solver=newton-cg \n",
      "[CV]  C=1, class_weight=balanced, dual=True, penalty=l2, solver=newton-cg, score=nan, total=   0.0s\n",
      "[CV] C=1, class_weight=balanced, dual=True, penalty=l2, solver=lbfgs .\n",
      "[CV]  C=1, class_weight=balanced, dual=True, penalty=l2, solver=lbfgs, score=nan, total=   0.0s\n",
      "[CV] C=1, class_weight=balanced, dual=True, penalty=l2, solver=lbfgs .\n",
      "[CV]  C=1, class_weight=balanced, dual=True, penalty=l2, solver=lbfgs, score=nan, total=   0.0s\n",
      "[CV] C=1, class_weight=balanced, dual=True, penalty=l2, solver=lbfgs .\n",
      "[CV]  C=1, class_weight=balanced, dual=True, penalty=l2, solver=lbfgs, score=nan, total=   0.0s\n",
      "[CV] C=1, class_weight=balanced, dual=True, penalty=l2, solver=lbfgs .\n",
      "[CV]  C=1, class_weight=balanced, dual=True, penalty=l2, solver=lbfgs, score=nan, total=   0.0s\n",
      "[CV] C=1, class_weight=balanced, dual=True, penalty=l2, solver=lbfgs .\n",
      "[CV]  C=1, class_weight=balanced, dual=True, penalty=l2, solver=lbfgs, score=nan, total=   0.0s\n",
      "[CV] C=1, class_weight=balanced, dual=True, penalty=l2, solver=sag ...\n",
      "[CV]  C=1, class_weight=balanced, dual=True, penalty=l2, solver=sag, score=nan, total=   0.0s\n",
      "[CV] C=1, class_weight=balanced, dual=True, penalty=l2, solver=sag ...\n",
      "[CV]  C=1, class_weight=balanced, dual=True, penalty=l2, solver=sag, score=nan, total=   0.0s\n",
      "[CV] C=1, class_weight=balanced, dual=True, penalty=l2, solver=sag ...\n",
      "[CV]  C=1, class_weight=balanced, dual=True, penalty=l2, solver=sag, score=nan, total=   0.0s\n",
      "[CV] C=1, class_weight=balanced, dual=True, penalty=l2, solver=sag ...\n",
      "[CV]  C=1, class_weight=balanced, dual=True, penalty=l2, solver=sag, score=nan, total=   0.0s\n",
      "[CV] C=1, class_weight=balanced, dual=True, penalty=l2, solver=sag ...\n",
      "[CV]  C=1, class_weight=balanced, dual=True, penalty=l2, solver=sag, score=nan, total=   0.0s\n",
      "[CV] C=1, class_weight=balanced, dual=True, penalty=l2, solver=saga ..\n",
      "[CV]  C=1, class_weight=balanced, dual=True, penalty=l2, solver=saga, score=nan, total=   0.0s\n",
      "[CV] C=1, class_weight=balanced, dual=True, penalty=l2, solver=saga ..\n",
      "[CV]  C=1, class_weight=balanced, dual=True, penalty=l2, solver=saga, score=nan, total=   0.0s\n",
      "[CV] C=1, class_weight=balanced, dual=True, penalty=l2, solver=saga ..\n",
      "[CV]  C=1, class_weight=balanced, dual=True, penalty=l2, solver=saga, score=nan, total=   0.0s\n",
      "[CV] C=1, class_weight=balanced, dual=True, penalty=l2, solver=saga ..\n",
      "[CV]  C=1, class_weight=balanced, dual=True, penalty=l2, solver=saga, score=nan, total=   0.0s\n",
      "[CV] C=1, class_weight=balanced, dual=True, penalty=l2, solver=saga ..\n",
      "[CV]  C=1, class_weight=balanced, dual=True, penalty=l2, solver=saga, score=nan, total=   0.0s\n",
      "[CV] C=1, class_weight=balanced, dual=True, penalty=l2, solver=liblinear \n",
      "[CV]  C=1, class_weight=balanced, dual=True, penalty=l2, solver=liblinear, score=0.715, total=   0.1s\n",
      "[CV] C=1, class_weight=balanced, dual=True, penalty=l2, solver=liblinear \n",
      "[CV]  C=1, class_weight=balanced, dual=True, penalty=l2, solver=liblinear, score=0.765, total=   0.1s\n",
      "[CV] C=1, class_weight=balanced, dual=True, penalty=l2, solver=liblinear \n",
      "[CV]  C=1, class_weight=balanced, dual=True, penalty=l2, solver=liblinear, score=0.682, total=   0.1s\n",
      "[CV] C=1, class_weight=balanced, dual=True, penalty=l2, solver=liblinear \n",
      "[CV]  C=1, class_weight=balanced, dual=True, penalty=l2, solver=liblinear, score=0.765, total=   0.1s\n",
      "[CV] C=1, class_weight=balanced, dual=True, penalty=l2, solver=liblinear \n",
      "[CV]  C=1, class_weight=balanced, dual=True, penalty=l2, solver=liblinear, score=0.772, total=   0.1s\n",
      "[CV] C=1, class_weight=balanced, dual=True, penalty=elasticnet, solver=newton-cg \n",
      "[CV]  C=1, class_weight=balanced, dual=True, penalty=elasticnet, solver=newton-cg, score=nan, total=   0.0s\n",
      "[CV] C=1, class_weight=balanced, dual=True, penalty=elasticnet, solver=newton-cg \n",
      "[CV]  C=1, class_weight=balanced, dual=True, penalty=elasticnet, solver=newton-cg, score=nan, total=   0.0s\n",
      "[CV] C=1, class_weight=balanced, dual=True, penalty=elasticnet, solver=newton-cg \n",
      "[CV]  C=1, class_weight=balanced, dual=True, penalty=elasticnet, solver=newton-cg, score=nan, total=   0.0s\n",
      "[CV] C=1, class_weight=balanced, dual=True, penalty=elasticnet, solver=newton-cg \n",
      "[CV]  C=1, class_weight=balanced, dual=True, penalty=elasticnet, solver=newton-cg, score=nan, total=   0.0s\n",
      "[CV] C=1, class_weight=balanced, dual=True, penalty=elasticnet, solver=newton-cg \n",
      "[CV]  C=1, class_weight=balanced, dual=True, penalty=elasticnet, solver=newton-cg, score=nan, total=   0.0s\n",
      "[CV] C=1, class_weight=balanced, dual=True, penalty=elasticnet, solver=lbfgs \n",
      "[CV]  C=1, class_weight=balanced, dual=True, penalty=elasticnet, solver=lbfgs, score=nan, total=   0.0s\n",
      "[CV] C=1, class_weight=balanced, dual=True, penalty=elasticnet, solver=lbfgs \n",
      "[CV]  C=1, class_weight=balanced, dual=True, penalty=elasticnet, solver=lbfgs, score=nan, total=   0.0s\n",
      "[CV] C=1, class_weight=balanced, dual=True, penalty=elasticnet, solver=lbfgs \n",
      "[CV]  C=1, class_weight=balanced, dual=True, penalty=elasticnet, solver=lbfgs, score=nan, total=   0.0s\n",
      "[CV] C=1, class_weight=balanced, dual=True, penalty=elasticnet, solver=lbfgs \n",
      "[CV]  C=1, class_weight=balanced, dual=True, penalty=elasticnet, solver=lbfgs, score=nan, total=   0.0s\n",
      "[CV] C=1, class_weight=balanced, dual=True, penalty=elasticnet, solver=lbfgs \n",
      "[CV]  C=1, class_weight=balanced, dual=True, penalty=elasticnet, solver=lbfgs, score=nan, total=   0.0s\n",
      "[CV] C=1, class_weight=balanced, dual=True, penalty=elasticnet, solver=sag \n",
      "[CV]  C=1, class_weight=balanced, dual=True, penalty=elasticnet, solver=sag, score=nan, total=   0.0s\n",
      "[CV] C=1, class_weight=balanced, dual=True, penalty=elasticnet, solver=sag \n",
      "[CV]  C=1, class_weight=balanced, dual=True, penalty=elasticnet, solver=sag, score=nan, total=   0.0s\n",
      "[CV] C=1, class_weight=balanced, dual=True, penalty=elasticnet, solver=sag \n",
      "[CV]  C=1, class_weight=balanced, dual=True, penalty=elasticnet, solver=sag, score=nan, total=   0.0s\n",
      "[CV] C=1, class_weight=balanced, dual=True, penalty=elasticnet, solver=sag \n",
      "[CV]  C=1, class_weight=balanced, dual=True, penalty=elasticnet, solver=sag, score=nan, total=   0.0s\n",
      "[CV] C=1, class_weight=balanced, dual=True, penalty=elasticnet, solver=sag \n",
      "[CV]  C=1, class_weight=balanced, dual=True, penalty=elasticnet, solver=sag, score=nan, total=   0.0s\n",
      "[CV] C=1, class_weight=balanced, dual=True, penalty=elasticnet, solver=saga \n",
      "[CV]  C=1, class_weight=balanced, dual=True, penalty=elasticnet, solver=saga, score=nan, total=   0.0s\n",
      "[CV] C=1, class_weight=balanced, dual=True, penalty=elasticnet, solver=saga \n",
      "[CV]  C=1, class_weight=balanced, dual=True, penalty=elasticnet, solver=saga, score=nan, total=   0.0s\n",
      "[CV] C=1, class_weight=balanced, dual=True, penalty=elasticnet, solver=saga \n",
      "[CV]  C=1, class_weight=balanced, dual=True, penalty=elasticnet, solver=saga, score=nan, total=   0.0s\n",
      "[CV] C=1, class_weight=balanced, dual=True, penalty=elasticnet, solver=saga \n",
      "[CV]  C=1, class_weight=balanced, dual=True, penalty=elasticnet, solver=saga, score=nan, total=   0.0s\n",
      "[CV] C=1, class_weight=balanced, dual=True, penalty=elasticnet, solver=saga \n",
      "[CV]  C=1, class_weight=balanced, dual=True, penalty=elasticnet, solver=saga, score=nan, total=   0.0s\n",
      "[CV] C=1, class_weight=balanced, dual=True, penalty=elasticnet, solver=liblinear \n",
      "[CV]  C=1, class_weight=balanced, dual=True, penalty=elasticnet, solver=liblinear, score=nan, total=   0.0s\n",
      "[CV] C=1, class_weight=balanced, dual=True, penalty=elasticnet, solver=liblinear \n",
      "[CV]  C=1, class_weight=balanced, dual=True, penalty=elasticnet, solver=liblinear, score=nan, total=   0.0s\n",
      "[CV] C=1, class_weight=balanced, dual=True, penalty=elasticnet, solver=liblinear \n",
      "[CV]  C=1, class_weight=balanced, dual=True, penalty=elasticnet, solver=liblinear, score=nan, total=   0.0s\n",
      "[CV] C=1, class_weight=balanced, dual=True, penalty=elasticnet, solver=liblinear \n",
      "[CV]  C=1, class_weight=balanced, dual=True, penalty=elasticnet, solver=liblinear, score=nan, total=   0.0s\n",
      "[CV] C=1, class_weight=balanced, dual=True, penalty=elasticnet, solver=liblinear \n",
      "[CV]  C=1, class_weight=balanced, dual=True, penalty=elasticnet, solver=liblinear, score=nan, total=   0.0s\n",
      "[CV] C=1, class_weight=balanced, dual=False, penalty=l1, solver=newton-cg \n",
      "[CV]  C=1, class_weight=balanced, dual=False, penalty=l1, solver=newton-cg, score=nan, total=   0.0s\n",
      "[CV] C=1, class_weight=balanced, dual=False, penalty=l1, solver=newton-cg \n",
      "[CV]  C=1, class_weight=balanced, dual=False, penalty=l1, solver=newton-cg, score=nan, total=   0.0s\n",
      "[CV] C=1, class_weight=balanced, dual=False, penalty=l1, solver=newton-cg \n",
      "[CV]  C=1, class_weight=balanced, dual=False, penalty=l1, solver=newton-cg, score=nan, total=   0.0s\n",
      "[CV] C=1, class_weight=balanced, dual=False, penalty=l1, solver=newton-cg \n",
      "[CV]  C=1, class_weight=balanced, dual=False, penalty=l1, solver=newton-cg, score=nan, total=   0.0s\n",
      "[CV] C=1, class_weight=balanced, dual=False, penalty=l1, solver=newton-cg \n",
      "[CV]  C=1, class_weight=balanced, dual=False, penalty=l1, solver=newton-cg, score=nan, total=   0.0s\n",
      "[CV] C=1, class_weight=balanced, dual=False, penalty=l1, solver=lbfgs \n",
      "[CV]  C=1, class_weight=balanced, dual=False, penalty=l1, solver=lbfgs, score=nan, total=   0.0s\n",
      "[CV] C=1, class_weight=balanced, dual=False, penalty=l1, solver=lbfgs \n",
      "[CV]  C=1, class_weight=balanced, dual=False, penalty=l1, solver=lbfgs, score=nan, total=   0.0s\n",
      "[CV] C=1, class_weight=balanced, dual=False, penalty=l1, solver=lbfgs \n",
      "[CV]  C=1, class_weight=balanced, dual=False, penalty=l1, solver=lbfgs, score=nan, total=   0.0s\n",
      "[CV] C=1, class_weight=balanced, dual=False, penalty=l1, solver=lbfgs \n",
      "[CV]  C=1, class_weight=balanced, dual=False, penalty=l1, solver=lbfgs, score=nan, total=   0.0s\n",
      "[CV] C=1, class_weight=balanced, dual=False, penalty=l1, solver=lbfgs \n",
      "[CV]  C=1, class_weight=balanced, dual=False, penalty=l1, solver=lbfgs, score=nan, total=   0.0s\n",
      "[CV] C=1, class_weight=balanced, dual=False, penalty=l1, solver=sag ..\n",
      "[CV]  C=1, class_weight=balanced, dual=False, penalty=l1, solver=sag, score=nan, total=   0.0s\n",
      "[CV] C=1, class_weight=balanced, dual=False, penalty=l1, solver=sag ..\n",
      "[CV]  C=1, class_weight=balanced, dual=False, penalty=l1, solver=sag, score=nan, total=   0.0s\n",
      "[CV] C=1, class_weight=balanced, dual=False, penalty=l1, solver=sag ..\n",
      "[CV]  C=1, class_weight=balanced, dual=False, penalty=l1, solver=sag, score=nan, total=   0.0s\n",
      "[CV] C=1, class_weight=balanced, dual=False, penalty=l1, solver=sag ..\n",
      "[CV]  C=1, class_weight=balanced, dual=False, penalty=l1, solver=sag, score=nan, total=   0.0s\n",
      "[CV] C=1, class_weight=balanced, dual=False, penalty=l1, solver=sag ..\n",
      "[CV]  C=1, class_weight=balanced, dual=False, penalty=l1, solver=sag, score=nan, total=   0.0s\n",
      "[CV] C=1, class_weight=balanced, dual=False, penalty=l1, solver=saga .\n"
     ]
    },
    {
     "name": "stderr",
     "output_type": "stream",
     "text": [
      "C:\\ProgramData\\Anaconda3\\lib\\site-packages\\sklearn\\linear_model\\_sag.py:329: ConvergenceWarning: The max_iter was reached which means the coef_ did not converge\n",
      "  warnings.warn(\"The max_iter was reached which means \"\n"
     ]
    },
    {
     "name": "stdout",
     "output_type": "stream",
     "text": [
      "[CV]  C=1, class_weight=balanced, dual=False, penalty=l1, solver=saga, score=0.661, total=   1.5s\n",
      "[CV] C=1, class_weight=balanced, dual=False, penalty=l1, solver=saga .\n"
     ]
    },
    {
     "name": "stderr",
     "output_type": "stream",
     "text": [
      "C:\\ProgramData\\Anaconda3\\lib\\site-packages\\sklearn\\linear_model\\_sag.py:329: ConvergenceWarning: The max_iter was reached which means the coef_ did not converge\n",
      "  warnings.warn(\"The max_iter was reached which means \"\n"
     ]
    },
    {
     "name": "stdout",
     "output_type": "stream",
     "text": [
      "[CV]  C=1, class_weight=balanced, dual=False, penalty=l1, solver=saga, score=0.784, total=   1.1s\n",
      "[CV] C=1, class_weight=balanced, dual=False, penalty=l1, solver=saga .\n"
     ]
    },
    {
     "name": "stderr",
     "output_type": "stream",
     "text": [
      "C:\\ProgramData\\Anaconda3\\lib\\site-packages\\sklearn\\linear_model\\_sag.py:329: ConvergenceWarning: The max_iter was reached which means the coef_ did not converge\n",
      "  warnings.warn(\"The max_iter was reached which means \"\n"
     ]
    },
    {
     "name": "stdout",
     "output_type": "stream",
     "text": [
      "[CV]  C=1, class_weight=balanced, dual=False, penalty=l1, solver=saga, score=0.665, total=   1.4s\n",
      "[CV] C=1, class_weight=balanced, dual=False, penalty=l1, solver=saga .\n"
     ]
    },
    {
     "name": "stderr",
     "output_type": "stream",
     "text": [
      "C:\\ProgramData\\Anaconda3\\lib\\site-packages\\sklearn\\linear_model\\_sag.py:329: ConvergenceWarning: The max_iter was reached which means the coef_ did not converge\n",
      "  warnings.warn(\"The max_iter was reached which means \"\n"
     ]
    },
    {
     "name": "stdout",
     "output_type": "stream",
     "text": [
      "[CV]  C=1, class_weight=balanced, dual=False, penalty=l1, solver=saga, score=0.743, total=   1.4s\n",
      "[CV] C=1, class_weight=balanced, dual=False, penalty=l1, solver=saga .\n"
     ]
    },
    {
     "name": "stderr",
     "output_type": "stream",
     "text": [
      "C:\\ProgramData\\Anaconda3\\lib\\site-packages\\sklearn\\linear_model\\_sag.py:329: ConvergenceWarning: The max_iter was reached which means the coef_ did not converge\n",
      "  warnings.warn(\"The max_iter was reached which means \"\n"
     ]
    },
    {
     "name": "stdout",
     "output_type": "stream",
     "text": [
      "[CV]  C=1, class_weight=balanced, dual=False, penalty=l1, solver=saga, score=0.763, total=   1.4s\n",
      "[CV] C=1, class_weight=balanced, dual=False, penalty=l1, solver=liblinear \n"
     ]
    },
    {
     "name": "stderr",
     "output_type": "stream",
     "text": [
      "C:\\ProgramData\\Anaconda3\\lib\\site-packages\\sklearn\\svm\\_base.py:976: ConvergenceWarning: Liblinear failed to converge, increase the number of iterations.\n",
      "  warnings.warn(\"Liblinear failed to converge, increase \"\n"
     ]
    },
    {
     "name": "stdout",
     "output_type": "stream",
     "text": [
      "[CV]  C=1, class_weight=balanced, dual=False, penalty=l1, solver=liblinear, score=0.715, total=   3.0s\n",
      "[CV] C=1, class_weight=balanced, dual=False, penalty=l1, solver=liblinear \n",
      "[CV]  C=1, class_weight=balanced, dual=False, penalty=l1, solver=liblinear, score=0.799, total=   0.1s\n",
      "[CV] C=1, class_weight=balanced, dual=False, penalty=l1, solver=liblinear \n",
      "[CV]  C=1, class_weight=balanced, dual=False, penalty=l1, solver=liblinear, score=0.689, total=   3.2s\n",
      "[CV] C=1, class_weight=balanced, dual=False, penalty=l1, solver=liblinear \n",
      "[CV]  C=1, class_weight=balanced, dual=False, penalty=l1, solver=liblinear, score=0.768, total=   0.1s\n",
      "[CV] C=1, class_weight=balanced, dual=False, penalty=l1, solver=liblinear \n",
      "[CV]  C=1, class_weight=balanced, dual=False, penalty=l1, solver=liblinear, score=0.776, total=   3.0s\n",
      "[CV] C=1, class_weight=balanced, dual=False, penalty=l2, solver=newton-cg \n",
      "[CV]  C=1, class_weight=balanced, dual=False, penalty=l2, solver=newton-cg, score=0.682, total=   0.2s\n",
      "[CV] C=1, class_weight=balanced, dual=False, penalty=l2, solver=newton-cg \n",
      "[CV]  C=1, class_weight=balanced, dual=False, penalty=l2, solver=newton-cg, score=0.799, total=   0.2s\n",
      "[CV] C=1, class_weight=balanced, dual=False, penalty=l2, solver=newton-cg \n",
      "[CV]  C=1, class_weight=balanced, dual=False, penalty=l2, solver=newton-cg, score=0.700, total=   0.2s\n",
      "[CV] C=1, class_weight=balanced, dual=False, penalty=l2, solver=newton-cg \n",
      "[CV]  C=1, class_weight=balanced, dual=False, penalty=l2, solver=newton-cg, score=0.768, total=   0.2s\n",
      "[CV] C=1, class_weight=balanced, dual=False, penalty=l2, solver=newton-cg \n",
      "[CV]  C=1, class_weight=balanced, dual=False, penalty=l2, solver=newton-cg, score=0.772, total=   0.3s\n",
      "[CV] C=1, class_weight=balanced, dual=False, penalty=l2, solver=lbfgs \n",
      "[CV]  C=1, class_weight=balanced, dual=False, penalty=l2, solver=lbfgs, score=0.682, total=   0.5s\n",
      "[CV] C=1, class_weight=balanced, dual=False, penalty=l2, solver=lbfgs \n",
      "[CV]  C=1, class_weight=balanced, dual=False, penalty=l2, solver=lbfgs, score=0.799, total=   0.4s\n",
      "[CV] C=1, class_weight=balanced, dual=False, penalty=l2, solver=lbfgs \n",
      "[CV]  C=1, class_weight=balanced, dual=False, penalty=l2, solver=lbfgs, score=0.700, total=   0.4s\n",
      "[CV] C=1, class_weight=balanced, dual=False, penalty=l2, solver=lbfgs \n",
      "[CV]  C=1, class_weight=balanced, dual=False, penalty=l2, solver=lbfgs, score=0.768, total=   0.3s\n",
      "[CV] C=1, class_weight=balanced, dual=False, penalty=l2, solver=lbfgs \n",
      "[CV]  C=1, class_weight=balanced, dual=False, penalty=l2, solver=lbfgs, score=0.772, total=   0.4s\n",
      "[CV] C=1, class_weight=balanced, dual=False, penalty=l2, solver=sag ..\n"
     ]
    },
    {
     "name": "stderr",
     "output_type": "stream",
     "text": [
      "C:\\ProgramData\\Anaconda3\\lib\\site-packages\\sklearn\\linear_model\\_sag.py:329: ConvergenceWarning: The max_iter was reached which means the coef_ did not converge\n",
      "  warnings.warn(\"The max_iter was reached which means \"\n",
      "C:\\ProgramData\\Anaconda3\\lib\\site-packages\\sklearn\\linear_model\\_sag.py:329: ConvergenceWarning: The max_iter was reached which means the coef_ did not converge\n",
      "  warnings.warn(\"The max_iter was reached which means \"\n"
     ]
    },
    {
     "name": "stdout",
     "output_type": "stream",
     "text": [
      "[CV]  C=1, class_weight=balanced, dual=False, penalty=l2, solver=sag, score=0.696, total=   0.2s\n",
      "[CV] C=1, class_weight=balanced, dual=False, penalty=l2, solver=sag ..\n",
      "[CV]  C=1, class_weight=balanced, dual=False, penalty=l2, solver=sag, score=0.800, total=   0.2s"
     ]
    },
    {
     "name": "stderr",
     "output_type": "stream",
     "text": [
      "C:\\ProgramData\\Anaconda3\\lib\\site-packages\\sklearn\\linear_model\\_sag.py:329: ConvergenceWarning: The max_iter was reached which means the coef_ did not converge\n",
      "  warnings.warn(\"The max_iter was reached which means \"\n",
      "C:\\ProgramData\\Anaconda3\\lib\\site-packages\\sklearn\\linear_model\\_sag.py:329: ConvergenceWarning: The max_iter was reached which means the coef_ did not converge\n",
      "  warnings.warn(\"The max_iter was reached which means \"\n"
     ]
    },
    {
     "name": "stdout",
     "output_type": "stream",
     "text": [
      "\n",
      "[CV] C=1, class_weight=balanced, dual=False, penalty=l2, solver=sag ..\n",
      "[CV]  C=1, class_weight=balanced, dual=False, penalty=l2, solver=sag, score=0.699, total=   0.2s\n",
      "[CV] C=1, class_weight=balanced, dual=False, penalty=l2, solver=sag ..\n"
     ]
    },
    {
     "name": "stderr",
     "output_type": "stream",
     "text": [
      "C:\\ProgramData\\Anaconda3\\lib\\site-packages\\sklearn\\linear_model\\_sag.py:329: ConvergenceWarning: The max_iter was reached which means the coef_ did not converge\n",
      "  warnings.warn(\"The max_iter was reached which means \"\n"
     ]
    },
    {
     "name": "stdout",
     "output_type": "stream",
     "text": [
      "[CV]  C=1, class_weight=balanced, dual=False, penalty=l2, solver=sag, score=0.775, total=   0.2s\n",
      "[CV] C=1, class_weight=balanced, dual=False, penalty=l2, solver=sag ..\n",
      "[CV]  C=1, class_weight=balanced, dual=False, penalty=l2, solver=sag, score=0.766, total=   0.2s\n",
      "[CV] C=1, class_weight=balanced, dual=False, penalty=l2, solver=saga .\n"
     ]
    },
    {
     "name": "stderr",
     "output_type": "stream",
     "text": [
      "C:\\ProgramData\\Anaconda3\\lib\\site-packages\\sklearn\\linear_model\\_sag.py:329: ConvergenceWarning: The max_iter was reached which means the coef_ did not converge\n",
      "  warnings.warn(\"The max_iter was reached which means \"\n"
     ]
    },
    {
     "name": "stdout",
     "output_type": "stream",
     "text": [
      "[CV]  C=1, class_weight=balanced, dual=False, penalty=l2, solver=saga, score=0.695, total=   0.2s\n",
      "[CV] C=1, class_weight=balanced, dual=False, penalty=l2, solver=saga .\n"
     ]
    },
    {
     "name": "stderr",
     "output_type": "stream",
     "text": [
      "C:\\ProgramData\\Anaconda3\\lib\\site-packages\\sklearn\\linear_model\\_sag.py:329: ConvergenceWarning: The max_iter was reached which means the coef_ did not converge\n",
      "  warnings.warn(\"The max_iter was reached which means \"\n",
      "C:\\ProgramData\\Anaconda3\\lib\\site-packages\\sklearn\\linear_model\\_sag.py:329: ConvergenceWarning: The max_iter was reached which means the coef_ did not converge\n",
      "  warnings.warn(\"The max_iter was reached which means \"\n"
     ]
    },
    {
     "name": "stdout",
     "output_type": "stream",
     "text": [
      "[CV]  C=1, class_weight=balanced, dual=False, penalty=l2, solver=saga, score=0.799, total=   0.2s\n",
      "[CV] C=1, class_weight=balanced, dual=False, penalty=l2, solver=saga .\n"
     ]
    },
    {
     "name": "stderr",
     "output_type": "stream",
     "text": [
      "C:\\ProgramData\\Anaconda3\\lib\\site-packages\\sklearn\\linear_model\\_sag.py:329: ConvergenceWarning: The max_iter was reached which means the coef_ did not converge\n",
      "  warnings.warn(\"The max_iter was reached which means \"\n"
     ]
    },
    {
     "name": "stdout",
     "output_type": "stream",
     "text": [
      "[CV]  C=1, class_weight=balanced, dual=False, penalty=l2, solver=saga, score=0.697, total=   0.2s\n",
      "[CV] C=1, class_weight=balanced, dual=False, penalty=l2, solver=saga .\n"
     ]
    },
    {
     "name": "stderr",
     "output_type": "stream",
     "text": [
      "C:\\ProgramData\\Anaconda3\\lib\\site-packages\\sklearn\\linear_model\\_sag.py:329: ConvergenceWarning: The max_iter was reached which means the coef_ did not converge\n",
      "  warnings.warn(\"The max_iter was reached which means \"\n"
     ]
    },
    {
     "name": "stdout",
     "output_type": "stream",
     "text": [
      "[CV]  C=1, class_weight=balanced, dual=False, penalty=l2, solver=saga, score=0.759, total=   0.2s\n",
      "[CV] C=1, class_weight=balanced, dual=False, penalty=l2, solver=saga .\n",
      "[CV]  C=1, class_weight=balanced, dual=False, penalty=l2, solver=saga, score=0.764, total=   0.2s\n",
      "[CV] C=1, class_weight=balanced, dual=False, penalty=l2, solver=liblinear \n",
      "[CV]  C=1, class_weight=balanced, dual=False, penalty=l2, solver=liblinear, score=0.715, total=   0.1s\n",
      "[CV] C=1, class_weight=balanced, dual=False, penalty=l2, solver=liblinear \n",
      "[CV]  C=1, class_weight=balanced, dual=False, penalty=l2, solver=liblinear, score=0.765, total=   0.1s\n",
      "[CV] C=1, class_weight=balanced, dual=False, penalty=l2, solver=liblinear \n",
      "[CV]  C=1, class_weight=balanced, dual=False, penalty=l2, solver=liblinear, score=0.682, total=   0.0s\n",
      "[CV] C=1, class_weight=balanced, dual=False, penalty=l2, solver=liblinear \n",
      "[CV]  C=1, class_weight=balanced, dual=False, penalty=l2, solver=liblinear, score=0.765, total=   0.1s\n",
      "[CV] C=1, class_weight=balanced, dual=False, penalty=l2, solver=liblinear \n",
      "[CV]  C=1, class_weight=balanced, dual=False, penalty=l2, solver=liblinear, score=0.772, total=   0.1s\n",
      "[CV] C=1, class_weight=balanced, dual=False, penalty=elasticnet, solver=newton-cg \n",
      "[CV]  C=1, class_weight=balanced, dual=False, penalty=elasticnet, solver=newton-cg, score=nan, total=   0.0s\n",
      "[CV] C=1, class_weight=balanced, dual=False, penalty=elasticnet, solver=newton-cg \n",
      "[CV]  C=1, class_weight=balanced, dual=False, penalty=elasticnet, solver=newton-cg, score=nan, total=   0.0s\n",
      "[CV] C=1, class_weight=balanced, dual=False, penalty=elasticnet, solver=newton-cg \n",
      "[CV]  C=1, class_weight=balanced, dual=False, penalty=elasticnet, solver=newton-cg, score=nan, total=   0.0s\n",
      "[CV] C=1, class_weight=balanced, dual=False, penalty=elasticnet, solver=newton-cg \n",
      "[CV]  C=1, class_weight=balanced, dual=False, penalty=elasticnet, solver=newton-cg, score=nan, total=   0.0s\n",
      "[CV] C=1, class_weight=balanced, dual=False, penalty=elasticnet, solver=newton-cg \n",
      "[CV]  C=1, class_weight=balanced, dual=False, penalty=elasticnet, solver=newton-cg, score=nan, total=   0.0s\n",
      "[CV] C=1, class_weight=balanced, dual=False, penalty=elasticnet, solver=lbfgs \n",
      "[CV]  C=1, class_weight=balanced, dual=False, penalty=elasticnet, solver=lbfgs, score=nan, total=   0.0s\n",
      "[CV] C=1, class_weight=balanced, dual=False, penalty=elasticnet, solver=lbfgs \n",
      "[CV]  C=1, class_weight=balanced, dual=False, penalty=elasticnet, solver=lbfgs, score=nan, total=   0.0s\n",
      "[CV] C=1, class_weight=balanced, dual=False, penalty=elasticnet, solver=lbfgs \n",
      "[CV]  C=1, class_weight=balanced, dual=False, penalty=elasticnet, solver=lbfgs, score=nan, total=   0.0s\n",
      "[CV] C=1, class_weight=balanced, dual=False, penalty=elasticnet, solver=lbfgs \n",
      "[CV]  C=1, class_weight=balanced, dual=False, penalty=elasticnet, solver=lbfgs, score=nan, total=   0.0s\n",
      "[CV] C=1, class_weight=balanced, dual=False, penalty=elasticnet, solver=lbfgs \n",
      "[CV]  C=1, class_weight=balanced, dual=False, penalty=elasticnet, solver=lbfgs, score=nan, total=   0.0s\n",
      "[CV] C=1, class_weight=balanced, dual=False, penalty=elasticnet, solver=sag \n",
      "[CV]  C=1, class_weight=balanced, dual=False, penalty=elasticnet, solver=sag, score=nan, total=   0.0s\n",
      "[CV] C=1, class_weight=balanced, dual=False, penalty=elasticnet, solver=sag \n",
      "[CV]  C=1, class_weight=balanced, dual=False, penalty=elasticnet, solver=sag, score=nan, total=   0.0s\n",
      "[CV] C=1, class_weight=balanced, dual=False, penalty=elasticnet, solver=sag \n",
      "[CV]  C=1, class_weight=balanced, dual=False, penalty=elasticnet, solver=sag, score=nan, total=   0.0s\n",
      "[CV] C=1, class_weight=balanced, dual=False, penalty=elasticnet, solver=sag \n",
      "[CV]  C=1, class_weight=balanced, dual=False, penalty=elasticnet, solver=sag, score=nan, total=   0.0s\n",
      "[CV] C=1, class_weight=balanced, dual=False, penalty=elasticnet, solver=sag \n",
      "[CV]  C=1, class_weight=balanced, dual=False, penalty=elasticnet, solver=sag, score=nan, total=   0.0s\n",
      "[CV] C=1, class_weight=balanced, dual=False, penalty=elasticnet, solver=saga \n",
      "[CV]  C=1, class_weight=balanced, dual=False, penalty=elasticnet, solver=saga, score=nan, total=   0.0s\n",
      "[CV] C=1, class_weight=balanced, dual=False, penalty=elasticnet, solver=saga \n",
      "[CV]  C=1, class_weight=balanced, dual=False, penalty=elasticnet, solver=saga, score=nan, total=   0.0s\n",
      "[CV] C=1, class_weight=balanced, dual=False, penalty=elasticnet, solver=saga \n",
      "[CV]  C=1, class_weight=balanced, dual=False, penalty=elasticnet, solver=saga, score=nan, total=   0.0s\n",
      "[CV] C=1, class_weight=balanced, dual=False, penalty=elasticnet, solver=saga \n",
      "[CV]  C=1, class_weight=balanced, dual=False, penalty=elasticnet, solver=saga, score=nan, total=   0.0s\n",
      "[CV] C=1, class_weight=balanced, dual=False, penalty=elasticnet, solver=saga \n",
      "[CV]  C=1, class_weight=balanced, dual=False, penalty=elasticnet, solver=saga, score=nan, total=   0.0s\n",
      "[CV] C=1, class_weight=balanced, dual=False, penalty=elasticnet, solver=liblinear \n",
      "[CV]  C=1, class_weight=balanced, dual=False, penalty=elasticnet, solver=liblinear, score=nan, total=   0.0s\n",
      "[CV] C=1, class_weight=balanced, dual=False, penalty=elasticnet, solver=liblinear \n",
      "[CV]  C=1, class_weight=balanced, dual=False, penalty=elasticnet, solver=liblinear, score=nan, total=   0.0s\n",
      "[CV] C=1, class_weight=balanced, dual=False, penalty=elasticnet, solver=liblinear \n",
      "[CV]  C=1, class_weight=balanced, dual=False, penalty=elasticnet, solver=liblinear, score=nan, total=   0.0s\n",
      "[CV] C=1, class_weight=balanced, dual=False, penalty=elasticnet, solver=liblinear \n",
      "[CV]  C=1, class_weight=balanced, dual=False, penalty=elasticnet, solver=liblinear, score=nan, total=   0.0s\n",
      "[CV] C=1, class_weight=balanced, dual=False, penalty=elasticnet, solver=liblinear \n",
      "[CV]  C=1, class_weight=balanced, dual=False, penalty=elasticnet, solver=liblinear, score=nan, total=   0.0s\n",
      "[CV] C=10, class_weight=None, dual=True, penalty=l1, solver=newton-cg \n",
      "[CV]  C=10, class_weight=None, dual=True, penalty=l1, solver=newton-cg, score=nan, total=   0.0s\n",
      "[CV] C=10, class_weight=None, dual=True, penalty=l1, solver=newton-cg \n",
      "[CV]  C=10, class_weight=None, dual=True, penalty=l1, solver=newton-cg, score=nan, total=   0.0s\n",
      "[CV] C=10, class_weight=None, dual=True, penalty=l1, solver=newton-cg \n",
      "[CV]  C=10, class_weight=None, dual=True, penalty=l1, solver=newton-cg, score=nan, total=   0.0s\n",
      "[CV] C=10, class_weight=None, dual=True, penalty=l1, solver=newton-cg \n",
      "[CV]  C=10, class_weight=None, dual=True, penalty=l1, solver=newton-cg, score=nan, total=   0.0s\n",
      "[CV] C=10, class_weight=None, dual=True, penalty=l1, solver=newton-cg \n",
      "[CV]  C=10, class_weight=None, dual=True, penalty=l1, solver=newton-cg, score=nan, total=   0.0s\n",
      "[CV] C=10, class_weight=None, dual=True, penalty=l1, solver=lbfgs ....\n",
      "[CV]  C=10, class_weight=None, dual=True, penalty=l1, solver=lbfgs, score=nan, total=   0.0s\n",
      "[CV] C=10, class_weight=None, dual=True, penalty=l1, solver=lbfgs ....\n",
      "[CV]  C=10, class_weight=None, dual=True, penalty=l1, solver=lbfgs, score=nan, total=   0.0s\n",
      "[CV] C=10, class_weight=None, dual=True, penalty=l1, solver=lbfgs ....\n",
      "[CV]  C=10, class_weight=None, dual=True, penalty=l1, solver=lbfgs, score=nan, total=   0.0s\n",
      "[CV] C=10, class_weight=None, dual=True, penalty=l1, solver=lbfgs ....\n",
      "[CV]  C=10, class_weight=None, dual=True, penalty=l1, solver=lbfgs, score=nan, total=   0.0s\n",
      "[CV] C=10, class_weight=None, dual=True, penalty=l1, solver=lbfgs ....\n",
      "[CV]  C=10, class_weight=None, dual=True, penalty=l1, solver=lbfgs, score=nan, total=   0.0s\n",
      "[CV] C=10, class_weight=None, dual=True, penalty=l1, solver=sag ......\n",
      "[CV]  C=10, class_weight=None, dual=True, penalty=l1, solver=sag, score=nan, total=   0.0s\n",
      "[CV] C=10, class_weight=None, dual=True, penalty=l1, solver=sag ......\n",
      "[CV]  C=10, class_weight=None, dual=True, penalty=l1, solver=sag, score=nan, total=   0.0s\n",
      "[CV] C=10, class_weight=None, dual=True, penalty=l1, solver=sag ......\n",
      "[CV]  C=10, class_weight=None, dual=True, penalty=l1, solver=sag, score=nan, total=   0.0s\n",
      "[CV] C=10, class_weight=None, dual=True, penalty=l1, solver=sag ......\n",
      "[CV]  C=10, class_weight=None, dual=True, penalty=l1, solver=sag, score=nan, total=   0.0s\n",
      "[CV] C=10, class_weight=None, dual=True, penalty=l1, solver=sag ......\n",
      "[CV]  C=10, class_weight=None, dual=True, penalty=l1, solver=sag, score=nan, total=   0.0s\n",
      "[CV] C=10, class_weight=None, dual=True, penalty=l1, solver=saga .....\n",
      "[CV]  C=10, class_weight=None, dual=True, penalty=l1, solver=saga, score=nan, total=   0.0s\n",
      "[CV] C=10, class_weight=None, dual=True, penalty=l1, solver=saga .....\n",
      "[CV]  C=10, class_weight=None, dual=True, penalty=l1, solver=saga, score=nan, total=   0.0s\n",
      "[CV] C=10, class_weight=None, dual=True, penalty=l1, solver=saga .....\n",
      "[CV]  C=10, class_weight=None, dual=True, penalty=l1, solver=saga, score=nan, total=   0.0s\n",
      "[CV] C=10, class_weight=None, dual=True, penalty=l1, solver=saga .....\n",
      "[CV]  C=10, class_weight=None, dual=True, penalty=l1, solver=saga, score=nan, total=   0.0s\n",
      "[CV] C=10, class_weight=None, dual=True, penalty=l1, solver=saga .....\n",
      "[CV]  C=10, class_weight=None, dual=True, penalty=l1, solver=saga, score=nan, total=   0.0s\n",
      "[CV] C=10, class_weight=None, dual=True, penalty=l1, solver=liblinear \n",
      "[CV]  C=10, class_weight=None, dual=True, penalty=l1, solver=liblinear, score=nan, total=   0.0s\n",
      "[CV] C=10, class_weight=None, dual=True, penalty=l1, solver=liblinear \n",
      "[CV]  C=10, class_weight=None, dual=True, penalty=l1, solver=liblinear, score=nan, total=   0.0s\n",
      "[CV] C=10, class_weight=None, dual=True, penalty=l1, solver=liblinear \n",
      "[CV]  C=10, class_weight=None, dual=True, penalty=l1, solver=liblinear, score=nan, total=   0.0s\n",
      "[CV] C=10, class_weight=None, dual=True, penalty=l1, solver=liblinear \n",
      "[CV]  C=10, class_weight=None, dual=True, penalty=l1, solver=liblinear, score=nan, total=   0.0s\n",
      "[CV] C=10, class_weight=None, dual=True, penalty=l1, solver=liblinear \n",
      "[CV]  C=10, class_weight=None, dual=True, penalty=l1, solver=liblinear, score=nan, total=   0.0s"
     ]
    },
    {
     "name": "stderr",
     "output_type": "stream",
     "text": [
      "C:\\ProgramData\\Anaconda3\\lib\\site-packages\\sklearn\\model_selection\\_validation.py:548: FitFailedWarning: Estimator fit failed. The score on this train-test partition for these parameters will be set to nan. Details: \n",
      "Traceback (most recent call last):\n",
      "  File \"C:\\ProgramData\\Anaconda3\\lib\\site-packages\\sklearn\\model_selection\\_validation.py\", line 531, in _fit_and_score\n",
      "    estimator.fit(X_train, y_train, **fit_params)\n",
      "  File \"C:\\ProgramData\\Anaconda3\\lib\\site-packages\\sklearn\\linear_model\\_logistic.py\", line 1304, in fit\n",
      "    solver = _check_solver(self.solver, self.penalty, self.dual)\n",
      "  File \"C:\\ProgramData\\Anaconda3\\lib\\site-packages\\sklearn\\linear_model\\_logistic.py\", line 442, in _check_solver\n",
      "    raise ValueError(\"Solver %s supports only 'l2' or 'none' penalties, \"\n",
      "ValueError: Solver newton-cg supports only 'l2' or 'none' penalties, got elasticnet penalty.\n",
      "\n",
      "  warnings.warn(\"Estimator fit failed. The score on this train-test\"\n",
      "C:\\ProgramData\\Anaconda3\\lib\\site-packages\\sklearn\\model_selection\\_validation.py:548: FitFailedWarning: Estimator fit failed. The score on this train-test partition for these parameters will be set to nan. Details: \n",
      "Traceback (most recent call last):\n",
      "  File \"C:\\ProgramData\\Anaconda3\\lib\\site-packages\\sklearn\\model_selection\\_validation.py\", line 531, in _fit_and_score\n",
      "    estimator.fit(X_train, y_train, **fit_params)\n",
      "  File \"C:\\ProgramData\\Anaconda3\\lib\\site-packages\\sklearn\\linear_model\\_logistic.py\", line 1304, in fit\n",
      "    solver = _check_solver(self.solver, self.penalty, self.dual)\n",
      "  File \"C:\\ProgramData\\Anaconda3\\lib\\site-packages\\sklearn\\linear_model\\_logistic.py\", line 442, in _check_solver\n",
      "    raise ValueError(\"Solver %s supports only 'l2' or 'none' penalties, \"\n",
      "ValueError: Solver lbfgs supports only 'l2' or 'none' penalties, got elasticnet penalty.\n",
      "\n",
      "  warnings.warn(\"Estimator fit failed. The score on this train-test\"\n",
      "C:\\ProgramData\\Anaconda3\\lib\\site-packages\\sklearn\\model_selection\\_validation.py:548: FitFailedWarning: Estimator fit failed. The score on this train-test partition for these parameters will be set to nan. Details: \n",
      "Traceback (most recent call last):\n",
      "  File \"C:\\ProgramData\\Anaconda3\\lib\\site-packages\\sklearn\\model_selection\\_validation.py\", line 531, in _fit_and_score\n",
      "    estimator.fit(X_train, y_train, **fit_params)\n",
      "  File \"C:\\ProgramData\\Anaconda3\\lib\\site-packages\\sklearn\\linear_model\\_logistic.py\", line 1304, in fit\n",
      "    solver = _check_solver(self.solver, self.penalty, self.dual)\n",
      "  File \"C:\\ProgramData\\Anaconda3\\lib\\site-packages\\sklearn\\linear_model\\_logistic.py\", line 442, in _check_solver\n",
      "    raise ValueError(\"Solver %s supports only 'l2' or 'none' penalties, \"\n",
      "ValueError: Solver sag supports only 'l2' or 'none' penalties, got elasticnet penalty.\n",
      "\n",
      "  warnings.warn(\"Estimator fit failed. The score on this train-test\"\n",
      "C:\\ProgramData\\Anaconda3\\lib\\site-packages\\sklearn\\model_selection\\_validation.py:548: FitFailedWarning: Estimator fit failed. The score on this train-test partition for these parameters will be set to nan. Details: \n",
      "Traceback (most recent call last):\n",
      "  File \"C:\\ProgramData\\Anaconda3\\lib\\site-packages\\sklearn\\model_selection\\_validation.py\", line 531, in _fit_and_score\n",
      "    estimator.fit(X_train, y_train, **fit_params)\n",
      "  File \"C:\\ProgramData\\Anaconda3\\lib\\site-packages\\sklearn\\linear_model\\_logistic.py\", line 1312, in fit\n",
      "    raise ValueError(\"l1_ratio must be between 0 and 1;\"\n",
      "ValueError: l1_ratio must be between 0 and 1; got (l1_ratio=None)\n",
      "\n",
      "  warnings.warn(\"Estimator fit failed. The score on this train-test\"\n",
      "C:\\ProgramData\\Anaconda3\\lib\\site-packages\\sklearn\\model_selection\\_validation.py:548: FitFailedWarning: Estimator fit failed. The score on this train-test partition for these parameters will be set to nan. Details: \n",
      "Traceback (most recent call last):\n",
      "  File \"C:\\ProgramData\\Anaconda3\\lib\\site-packages\\sklearn\\model_selection\\_validation.py\", line 531, in _fit_and_score\n",
      "    estimator.fit(X_train, y_train, **fit_params)\n",
      "  File \"C:\\ProgramData\\Anaconda3\\lib\\site-packages\\sklearn\\linear_model\\_logistic.py\", line 1304, in fit\n",
      "    solver = _check_solver(self.solver, self.penalty, self.dual)\n",
      "  File \"C:\\ProgramData\\Anaconda3\\lib\\site-packages\\sklearn\\linear_model\\_logistic.py\", line 449, in _check_solver\n",
      "    raise ValueError(\"Only 'saga' solver supports elasticnet penalty,\"\n",
      "ValueError: Only 'saga' solver supports elasticnet penalty, got solver=liblinear.\n",
      "\n",
      "  warnings.warn(\"Estimator fit failed. The score on this train-test\"\n",
      "C:\\ProgramData\\Anaconda3\\lib\\site-packages\\sklearn\\model_selection\\_validation.py:548: FitFailedWarning: Estimator fit failed. The score on this train-test partition for these parameters will be set to nan. Details: \n",
      "Traceback (most recent call last):\n",
      "  File \"C:\\ProgramData\\Anaconda3\\lib\\site-packages\\sklearn\\model_selection\\_validation.py\", line 531, in _fit_and_score\n",
      "    estimator.fit(X_train, y_train, **fit_params)\n",
      "  File \"C:\\ProgramData\\Anaconda3\\lib\\site-packages\\sklearn\\linear_model\\_logistic.py\", line 1304, in fit\n",
      "    solver = _check_solver(self.solver, self.penalty, self.dual)\n",
      "  File \"C:\\ProgramData\\Anaconda3\\lib\\site-packages\\sklearn\\linear_model\\_logistic.py\", line 442, in _check_solver\n",
      "    raise ValueError(\"Solver %s supports only 'l2' or 'none' penalties, \"\n",
      "ValueError: Solver newton-cg supports only 'l2' or 'none' penalties, got l1 penalty.\n",
      "\n",
      "  warnings.warn(\"Estimator fit failed. The score on this train-test\"\n",
      "C:\\ProgramData\\Anaconda3\\lib\\site-packages\\sklearn\\model_selection\\_validation.py:548: FitFailedWarning: Estimator fit failed. The score on this train-test partition for these parameters will be set to nan. Details: \n",
      "Traceback (most recent call last):\n",
      "  File \"C:\\ProgramData\\Anaconda3\\lib\\site-packages\\sklearn\\model_selection\\_validation.py\", line 531, in _fit_and_score\n",
      "    estimator.fit(X_train, y_train, **fit_params)\n",
      "  File \"C:\\ProgramData\\Anaconda3\\lib\\site-packages\\sklearn\\linear_model\\_logistic.py\", line 1304, in fit\n",
      "    solver = _check_solver(self.solver, self.penalty, self.dual)\n",
      "  File \"C:\\ProgramData\\Anaconda3\\lib\\site-packages\\sklearn\\linear_model\\_logistic.py\", line 442, in _check_solver\n",
      "    raise ValueError(\"Solver %s supports only 'l2' or 'none' penalties, \"\n",
      "ValueError: Solver lbfgs supports only 'l2' or 'none' penalties, got l1 penalty.\n",
      "\n",
      "  warnings.warn(\"Estimator fit failed. The score on this train-test\"\n",
      "C:\\ProgramData\\Anaconda3\\lib\\site-packages\\sklearn\\model_selection\\_validation.py:548: FitFailedWarning: Estimator fit failed. The score on this train-test partition for these parameters will be set to nan. Details: \n",
      "Traceback (most recent call last):\n",
      "  File \"C:\\ProgramData\\Anaconda3\\lib\\site-packages\\sklearn\\model_selection\\_validation.py\", line 531, in _fit_and_score\n",
      "    estimator.fit(X_train, y_train, **fit_params)\n",
      "  File \"C:\\ProgramData\\Anaconda3\\lib\\site-packages\\sklearn\\linear_model\\_logistic.py\", line 1304, in fit\n",
      "    solver = _check_solver(self.solver, self.penalty, self.dual)\n",
      "  File \"C:\\ProgramData\\Anaconda3\\lib\\site-packages\\sklearn\\linear_model\\_logistic.py\", line 442, in _check_solver\n",
      "    raise ValueError(\"Solver %s supports only 'l2' or 'none' penalties, \"\n",
      "ValueError: Solver sag supports only 'l2' or 'none' penalties, got l1 penalty.\n",
      "\n",
      "  warnings.warn(\"Estimator fit failed. The score on this train-test\"\n",
      "C:\\ProgramData\\Anaconda3\\lib\\site-packages\\sklearn\\model_selection\\_validation.py:548: FitFailedWarning: Estimator fit failed. The score on this train-test partition for these parameters will be set to nan. Details: \n",
      "Traceback (most recent call last):\n",
      "  File \"C:\\ProgramData\\Anaconda3\\lib\\site-packages\\sklearn\\model_selection\\_validation.py\", line 531, in _fit_and_score\n",
      "    estimator.fit(X_train, y_train, **fit_params)\n",
      "  File \"C:\\ProgramData\\Anaconda3\\lib\\site-packages\\sklearn\\linear_model\\_logistic.py\", line 1304, in fit\n",
      "    solver = _check_solver(self.solver, self.penalty, self.dual)\n",
      "  File \"C:\\ProgramData\\Anaconda3\\lib\\site-packages\\sklearn\\linear_model\\_logistic.py\", line 445, in _check_solver\n",
      "    raise ValueError(\"Solver %s supports only \"\n",
      "ValueError: Solver saga supports only dual=False, got dual=True\n",
      "\n",
      "  warnings.warn(\"Estimator fit failed. The score on this train-test\"\n",
      "C:\\ProgramData\\Anaconda3\\lib\\site-packages\\sklearn\\model_selection\\_validation.py:548: FitFailedWarning: Estimator fit failed. The score on this train-test partition for these parameters will be set to nan. Details: \n",
      "Traceback (most recent call last):\n",
      "  File \"C:\\ProgramData\\Anaconda3\\lib\\site-packages\\sklearn\\model_selection\\_validation.py\", line 531, in _fit_and_score\n",
      "    estimator.fit(X_train, y_train, **fit_params)\n",
      "  File \"C:\\ProgramData\\Anaconda3\\lib\\site-packages\\sklearn\\linear_model\\_logistic.py\", line 1356, in fit\n",
      "    self.coef_, self.intercept_, n_iter_ = _fit_liblinear(\n",
      "  File \"C:\\ProgramData\\Anaconda3\\lib\\site-packages\\sklearn\\svm\\_base.py\", line 965, in _fit_liblinear\n",
      "    solver_type = _get_liblinear_solver_type(multi_class, penalty, loss, dual)\n",
      "  File \"C:\\ProgramData\\Anaconda3\\lib\\site-packages\\sklearn\\svm\\_base.py\", line 821, in _get_liblinear_solver_type\n",
      "    raise ValueError('Unsupported set of arguments: %s, '\n",
      "ValueError: Unsupported set of arguments: The combination of penalty='l1' and loss='logistic_regression' are not supported when dual=True, Parameters: penalty='l1', loss='logistic_regression', dual=True\n",
      "\n",
      "  warnings.warn(\"Estimator fit failed. The score on this train-test\"\n",
      "C:\\ProgramData\\Anaconda3\\lib\\site-packages\\sklearn\\model_selection\\_validation.py:548: FitFailedWarning: Estimator fit failed. The score on this train-test partition for these parameters will be set to nan. Details: \n",
      "Traceback (most recent call last):\n",
      "  File \"C:\\ProgramData\\Anaconda3\\lib\\site-packages\\sklearn\\model_selection\\_validation.py\", line 531, in _fit_and_score\n",
      "    estimator.fit(X_train, y_train, **fit_params)\n",
      "  File \"C:\\ProgramData\\Anaconda3\\lib\\site-packages\\sklearn\\linear_model\\_logistic.py\", line 1304, in fit\n",
      "    solver = _check_solver(self.solver, self.penalty, self.dual)\n",
      "  File \"C:\\ProgramData\\Anaconda3\\lib\\site-packages\\sklearn\\linear_model\\_logistic.py\", line 445, in _check_solver\n",
      "    raise ValueError(\"Solver %s supports only \"\n",
      "ValueError: Solver newton-cg supports only dual=False, got dual=True\n",
      "\n",
      "  warnings.warn(\"Estimator fit failed. The score on this train-test\"\n",
      "C:\\ProgramData\\Anaconda3\\lib\\site-packages\\sklearn\\model_selection\\_validation.py:548: FitFailedWarning: Estimator fit failed. The score on this train-test partition for these parameters will be set to nan. Details: \n",
      "Traceback (most recent call last):\n",
      "  File \"C:\\ProgramData\\Anaconda3\\lib\\site-packages\\sklearn\\model_selection\\_validation.py\", line 531, in _fit_and_score\n",
      "    estimator.fit(X_train, y_train, **fit_params)\n",
      "  File \"C:\\ProgramData\\Anaconda3\\lib\\site-packages\\sklearn\\linear_model\\_logistic.py\", line 1304, in fit\n",
      "    solver = _check_solver(self.solver, self.penalty, self.dual)\n",
      "  File \"C:\\ProgramData\\Anaconda3\\lib\\site-packages\\sklearn\\linear_model\\_logistic.py\", line 445, in _check_solver\n",
      "    raise ValueError(\"Solver %s supports only \"\n",
      "ValueError: Solver lbfgs supports only dual=False, got dual=True\n",
      "\n",
      "  warnings.warn(\"Estimator fit failed. The score on this train-test\"\n",
      "C:\\ProgramData\\Anaconda3\\lib\\site-packages\\sklearn\\model_selection\\_validation.py:548: FitFailedWarning: Estimator fit failed. The score on this train-test partition for these parameters will be set to nan. Details: \n",
      "Traceback (most recent call last):\n",
      "  File \"C:\\ProgramData\\Anaconda3\\lib\\site-packages\\sklearn\\model_selection\\_validation.py\", line 531, in _fit_and_score\n",
      "    estimator.fit(X_train, y_train, **fit_params)\n",
      "  File \"C:\\ProgramData\\Anaconda3\\lib\\site-packages\\sklearn\\linear_model\\_logistic.py\", line 1304, in fit\n",
      "    solver = _check_solver(self.solver, self.penalty, self.dual)\n",
      "  File \"C:\\ProgramData\\Anaconda3\\lib\\site-packages\\sklearn\\linear_model\\_logistic.py\", line 445, in _check_solver\n",
      "    raise ValueError(\"Solver %s supports only \"\n",
      "ValueError: Solver sag supports only dual=False, got dual=True\n",
      "\n",
      "  warnings.warn(\"Estimator fit failed. The score on this train-test\"\n"
     ]
    },
    {
     "name": "stdout",
     "output_type": "stream",
     "text": [
      "\n",
      "[CV] C=10, class_weight=None, dual=True, penalty=l2, solver=newton-cg \n",
      "[CV]  C=10, class_weight=None, dual=True, penalty=l2, solver=newton-cg, score=nan, total=   0.0s\n",
      "[CV] C=10, class_weight=None, dual=True, penalty=l2, solver=newton-cg \n",
      "[CV]  C=10, class_weight=None, dual=True, penalty=l2, solver=newton-cg, score=nan, total=   0.0s\n",
      "[CV] C=10, class_weight=None, dual=True, penalty=l2, solver=newton-cg \n",
      "[CV]  C=10, class_weight=None, dual=True, penalty=l2, solver=newton-cg, score=nan, total=   0.0s\n",
      "[CV] C=10, class_weight=None, dual=True, penalty=l2, solver=newton-cg \n",
      "[CV]  C=10, class_weight=None, dual=True, penalty=l2, solver=newton-cg, score=nan, total=   0.0s\n",
      "[CV] C=10, class_weight=None, dual=True, penalty=l2, solver=newton-cg \n",
      "[CV]  C=10, class_weight=None, dual=True, penalty=l2, solver=newton-cg, score=nan, total=   0.0s\n",
      "[CV] C=10, class_weight=None, dual=True, penalty=l2, solver=lbfgs ....\n",
      "[CV]  C=10, class_weight=None, dual=True, penalty=l2, solver=lbfgs, score=nan, total=   0.0s\n",
      "[CV] C=10, class_weight=None, dual=True, penalty=l2, solver=lbfgs ....\n",
      "[CV]  C=10, class_weight=None, dual=True, penalty=l2, solver=lbfgs, score=nan, total=   0.0s\n",
      "[CV] C=10, class_weight=None, dual=True, penalty=l2, solver=lbfgs ....\n",
      "[CV]  C=10, class_weight=None, dual=True, penalty=l2, solver=lbfgs, score=nan, total=   0.0s\n",
      "[CV] C=10, class_weight=None, dual=True, penalty=l2, solver=lbfgs ....\n",
      "[CV]  C=10, class_weight=None, dual=True, penalty=l2, solver=lbfgs, score=nan, total=   0.0s\n",
      "[CV] C=10, class_weight=None, dual=True, penalty=l2, solver=lbfgs ....\n",
      "[CV]  C=10, class_weight=None, dual=True, penalty=l2, solver=lbfgs, score=nan, total=   0.0s\n",
      "[CV] C=10, class_weight=None, dual=True, penalty=l2, solver=sag ......\n",
      "[CV]  C=10, class_weight=None, dual=True, penalty=l2, solver=sag, score=nan, total=   0.0s\n",
      "[CV] C=10, class_weight=None, dual=True, penalty=l2, solver=sag ......\n",
      "[CV]  C=10, class_weight=None, dual=True, penalty=l2, solver=sag, score=nan, total=   0.0s\n",
      "[CV] C=10, class_weight=None, dual=True, penalty=l2, solver=sag ......\n",
      "[CV]  C=10, class_weight=None, dual=True, penalty=l2, solver=sag, score=nan, total=   0.0s\n",
      "[CV] C=10, class_weight=None, dual=True, penalty=l2, solver=sag ......\n",
      "[CV]  C=10, class_weight=None, dual=True, penalty=l2, solver=sag, score=nan, total=   0.0s\n",
      "[CV] C=10, class_weight=None, dual=True, penalty=l2, solver=sag ......\n",
      "[CV]  C=10, class_weight=None, dual=True, penalty=l2, solver=sag, score=nan, total=   0.0s\n",
      "[CV] C=10, class_weight=None, dual=True, penalty=l2, solver=saga .....\n",
      "[CV]  C=10, class_weight=None, dual=True, penalty=l2, solver=saga, score=nan, total=   0.0s\n",
      "[CV] C=10, class_weight=None, dual=True, penalty=l2, solver=saga .....\n",
      "[CV]  C=10, class_weight=None, dual=True, penalty=l2, solver=saga, score=nan, total=   0.0s\n",
      "[CV] C=10, class_weight=None, dual=True, penalty=l2, solver=saga .....\n",
      "[CV]  C=10, class_weight=None, dual=True, penalty=l2, solver=saga, score=nan, total=   0.0s\n",
      "[CV] C=10, class_weight=None, dual=True, penalty=l2, solver=saga .....\n",
      "[CV]  C=10, class_weight=None, dual=True, penalty=l2, solver=saga, score=nan, total=   0.0s\n",
      "[CV] C=10, class_weight=None, dual=True, penalty=l2, solver=saga .....\n",
      "[CV]  C=10, class_weight=None, dual=True, penalty=l2, solver=saga, score=nan, total=   0.0s\n",
      "[CV] C=10, class_weight=None, dual=True, penalty=l2, solver=liblinear \n",
      "[CV]  C=10, class_weight=None, dual=True, penalty=l2, solver=liblinear, score=0.681, total=   0.1s\n",
      "[CV] C=10, class_weight=None, dual=True, penalty=l2, solver=liblinear \n"
     ]
    },
    {
     "name": "stderr",
     "output_type": "stream",
     "text": [
      "C:\\ProgramData\\Anaconda3\\lib\\site-packages\\sklearn\\svm\\_base.py:976: ConvergenceWarning: Liblinear failed to converge, increase the number of iterations.\n",
      "  warnings.warn(\"Liblinear failed to converge, increase \"\n"
     ]
    },
    {
     "name": "stdout",
     "output_type": "stream",
     "text": [
      "[CV]  C=10, class_weight=None, dual=True, penalty=l2, solver=liblinear, score=0.679, total=   0.1s\n",
      "[CV] C=10, class_weight=None, dual=True, penalty=l2, solver=liblinear \n",
      "[CV]  C=10, class_weight=None, dual=True, penalty=l2, solver=liblinear, score=0.637, total=   0.1s\n",
      "[CV] C=10, class_weight=None, dual=True, penalty=l2, solver=liblinear \n",
      "[CV]  C=10, class_weight=None, dual=True, penalty=l2, solver=liblinear, score=0.706, total=   0.1s\n",
      "[CV] C=10, class_weight=None, dual=True, penalty=l2, solver=liblinear \n",
      "[CV]  C=10, class_weight=None, dual=True, penalty=l2, solver=liblinear, score=0.704, total=   0.2s\n",
      "[CV] C=10, class_weight=None, dual=True, penalty=elasticnet, solver=newton-cg \n",
      "[CV]  C=10, class_weight=None, dual=True, penalty=elasticnet, solver=newton-cg, score=nan, total=   0.0s\n",
      "[CV] C=10, class_weight=None, dual=True, penalty=elasticnet, solver=newton-cg \n",
      "[CV]  C=10, class_weight=None, dual=True, penalty=elasticnet, solver=newton-cg, score=nan, total=   0.0s\n",
      "[CV] C=10, class_weight=None, dual=True, penalty=elasticnet, solver=newton-cg \n",
      "[CV]  C=10, class_weight=None, dual=True, penalty=elasticnet, solver=newton-cg, score=nan, total=   0.0s\n",
      "[CV] C=10, class_weight=None, dual=True, penalty=elasticnet, solver=newton-cg \n",
      "[CV]  C=10, class_weight=None, dual=True, penalty=elasticnet, solver=newton-cg, score=nan, total=   0.0s\n",
      "[CV] C=10, class_weight=None, dual=True, penalty=elasticnet, solver=newton-cg \n",
      "[CV]  C=10, class_weight=None, dual=True, penalty=elasticnet, solver=newton-cg, score=nan, total=   0.0s\n",
      "[CV] C=10, class_weight=None, dual=True, penalty=elasticnet, solver=lbfgs \n",
      "[CV]  C=10, class_weight=None, dual=True, penalty=elasticnet, solver=lbfgs, score=nan, total=   0.0s\n",
      "[CV] C=10, class_weight=None, dual=True, penalty=elasticnet, solver=lbfgs \n",
      "[CV]  C=10, class_weight=None, dual=True, penalty=elasticnet, solver=lbfgs, score=nan, total=   0.0s\n",
      "[CV] C=10, class_weight=None, dual=True, penalty=elasticnet, solver=lbfgs \n",
      "[CV]  C=10, class_weight=None, dual=True, penalty=elasticnet, solver=lbfgs, score=nan, total=   0.0s\n",
      "[CV] C=10, class_weight=None, dual=True, penalty=elasticnet, solver=lbfgs \n",
      "[CV]  C=10, class_weight=None, dual=True, penalty=elasticnet, solver=lbfgs, score=nan, total=   0.0s\n",
      "[CV] C=10, class_weight=None, dual=True, penalty=elasticnet, solver=lbfgs \n",
      "[CV]  C=10, class_weight=None, dual=True, penalty=elasticnet, solver=lbfgs, score=nan, total=   0.0s\n",
      "[CV] C=10, class_weight=None, dual=True, penalty=elasticnet, solver=sag \n",
      "[CV]  C=10, class_weight=None, dual=True, penalty=elasticnet, solver=sag, score=nan, total=   0.0s\n",
      "[CV] C=10, class_weight=None, dual=True, penalty=elasticnet, solver=sag \n",
      "[CV]  C=10, class_weight=None, dual=True, penalty=elasticnet, solver=sag, score=nan, total=   0.0s\n",
      "[CV] C=10, class_weight=None, dual=True, penalty=elasticnet, solver=sag \n",
      "[CV]  C=10, class_weight=None, dual=True, penalty=elasticnet, solver=sag, score=nan, total=   0.0s\n",
      "[CV] C=10, class_weight=None, dual=True, penalty=elasticnet, solver=sag \n",
      "[CV]  C=10, class_weight=None, dual=True, penalty=elasticnet, solver=sag, score=nan, total=   0.0s\n",
      "[CV] C=10, class_weight=None, dual=True, penalty=elasticnet, solver=sag \n",
      "[CV]  C=10, class_weight=None, dual=True, penalty=elasticnet, solver=sag, score=nan, total=   0.0s\n",
      "[CV] C=10, class_weight=None, dual=True, penalty=elasticnet, solver=saga \n",
      "[CV]  C=10, class_weight=None, dual=True, penalty=elasticnet, solver=saga, score=nan, total=   0.0s\n",
      "[CV] C=10, class_weight=None, dual=True, penalty=elasticnet, solver=saga \n",
      "[CV]  C=10, class_weight=None, dual=True, penalty=elasticnet, solver=saga, score=nan, total=   0.0s\n",
      "[CV] C=10, class_weight=None, dual=True, penalty=elasticnet, solver=saga \n",
      "[CV]  C=10, class_weight=None, dual=True, penalty=elasticnet, solver=saga, score=nan, total=   0.0s\n",
      "[CV] C=10, class_weight=None, dual=True, penalty=elasticnet, solver=saga \n",
      "[CV]  C=10, class_weight=None, dual=True, penalty=elasticnet, solver=saga, score=nan, total=   0.0s\n",
      "[CV] C=10, class_weight=None, dual=True, penalty=elasticnet, solver=saga \n",
      "[CV]  C=10, class_weight=None, dual=True, penalty=elasticnet, solver=saga, score=nan, total=   0.0s\n",
      "[CV] C=10, class_weight=None, dual=True, penalty=elasticnet, solver=liblinear \n",
      "[CV]  C=10, class_weight=None, dual=True, penalty=elasticnet, solver=liblinear, score=nan, total=   0.0s\n",
      "[CV] C=10, class_weight=None, dual=True, penalty=elasticnet, solver=liblinear \n",
      "[CV]  C=10, class_weight=None, dual=True, penalty=elasticnet, solver=liblinear, score=nan, total=   0.0s\n",
      "[CV] C=10, class_weight=None, dual=True, penalty=elasticnet, solver=liblinear \n",
      "[CV]  C=10, class_weight=None, dual=True, penalty=elasticnet, solver=liblinear, score=nan, total=   0.0s\n",
      "[CV] C=10, class_weight=None, dual=True, penalty=elasticnet, solver=liblinear \n",
      "[CV]  C=10, class_weight=None, dual=True, penalty=elasticnet, solver=liblinear, score=nan, total=   0.0s\n",
      "[CV] C=10, class_weight=None, dual=True, penalty=elasticnet, solver=liblinear \n",
      "[CV]  C=10, class_weight=None, dual=True, penalty=elasticnet, solver=liblinear, score=nan, total=   0.0s\n",
      "[CV] C=10, class_weight=None, dual=False, penalty=l1, solver=newton-cg \n",
      "[CV]  C=10, class_weight=None, dual=False, penalty=l1, solver=newton-cg, score=nan, total=   0.0s\n",
      "[CV] C=10, class_weight=None, dual=False, penalty=l1, solver=newton-cg \n",
      "[CV]  C=10, class_weight=None, dual=False, penalty=l1, solver=newton-cg, score=nan, total=   0.0s\n",
      "[CV] C=10, class_weight=None, dual=False, penalty=l1, solver=newton-cg \n",
      "[CV]  C=10, class_weight=None, dual=False, penalty=l1, solver=newton-cg, score=nan, total=   0.0s\n",
      "[CV] C=10, class_weight=None, dual=False, penalty=l1, solver=newton-cg \n",
      "[CV]  C=10, class_weight=None, dual=False, penalty=l1, solver=newton-cg, score=nan, total=   0.0s\n",
      "[CV] C=10, class_weight=None, dual=False, penalty=l1, solver=newton-cg \n",
      "[CV]  C=10, class_weight=None, dual=False, penalty=l1, solver=newton-cg, score=nan, total=   0.0s\n",
      "[CV] C=10, class_weight=None, dual=False, penalty=l1, solver=lbfgs ...\n",
      "[CV]  C=10, class_weight=None, dual=False, penalty=l1, solver=lbfgs, score=nan, total=   0.0s\n",
      "[CV] C=10, class_weight=None, dual=False, penalty=l1, solver=lbfgs ...\n",
      "[CV]  C=10, class_weight=None, dual=False, penalty=l1, solver=lbfgs, score=nan, total=   0.0s\n",
      "[CV] C=10, class_weight=None, dual=False, penalty=l1, solver=lbfgs ...\n",
      "[CV]  C=10, class_weight=None, dual=False, penalty=l1, solver=lbfgs, score=nan, total=   0.0s\n",
      "[CV] C=10, class_weight=None, dual=False, penalty=l1, solver=lbfgs ...\n",
      "[CV]  C=10, class_weight=None, dual=False, penalty=l1, solver=lbfgs, score=nan, total=   0.0s\n",
      "[CV] C=10, class_weight=None, dual=False, penalty=l1, solver=lbfgs ...\n",
      "[CV]  C=10, class_weight=None, dual=False, penalty=l1, solver=lbfgs, score=nan, total=   0.0s\n",
      "[CV] C=10, class_weight=None, dual=False, penalty=l1, solver=sag .....\n",
      "[CV]  C=10, class_weight=None, dual=False, penalty=l1, solver=sag, score=nan, total=   0.0s\n",
      "[CV] C=10, class_weight=None, dual=False, penalty=l1, solver=sag .....\n",
      "[CV]  C=10, class_weight=None, dual=False, penalty=l1, solver=sag, score=nan, total=   0.0s\n",
      "[CV] C=10, class_weight=None, dual=False, penalty=l1, solver=sag .....\n",
      "[CV]  C=10, class_weight=None, dual=False, penalty=l1, solver=sag, score=nan, total=   0.0s\n",
      "[CV] C=10, class_weight=None, dual=False, penalty=l1, solver=sag .....\n",
      "[CV]  C=10, class_weight=None, dual=False, penalty=l1, solver=sag, score=nan, total=   0.0s\n",
      "[CV] C=10, class_weight=None, dual=False, penalty=l1, solver=sag .....\n",
      "[CV]  C=10, class_weight=None, dual=False, penalty=l1, solver=sag, score=nan, total=   0.0s\n",
      "[CV] C=10, class_weight=None, dual=False, penalty=l1, solver=saga ....\n"
     ]
    },
    {
     "name": "stderr",
     "output_type": "stream",
     "text": [
      "C:\\ProgramData\\Anaconda3\\lib\\site-packages\\sklearn\\linear_model\\_sag.py:329: ConvergenceWarning: The max_iter was reached which means the coef_ did not converge\n",
      "  warnings.warn(\"The max_iter was reached which means \"\n"
     ]
    },
    {
     "name": "stdout",
     "output_type": "stream",
     "text": [
      "[CV]  C=10, class_weight=None, dual=False, penalty=l1, solver=saga, score=0.715, total=  10.1s\n",
      "[CV] C=10, class_weight=None, dual=False, penalty=l1, solver=saga ....\n"
     ]
    },
    {
     "name": "stderr",
     "output_type": "stream",
     "text": [
      "C:\\ProgramData\\Anaconda3\\lib\\site-packages\\sklearn\\linear_model\\_sag.py:329: ConvergenceWarning: The max_iter was reached which means the coef_ did not converge\n",
      "  warnings.warn(\"The max_iter was reached which means \"\n"
     ]
    },
    {
     "name": "stdout",
     "output_type": "stream",
     "text": [
      "[CV]  C=10, class_weight=None, dual=False, penalty=l1, solver=saga, score=0.707, total=   6.3s\n",
      "[CV] C=10, class_weight=None, dual=False, penalty=l1, solver=saga ....\n"
     ]
    },
    {
     "name": "stderr",
     "output_type": "stream",
     "text": [
      "C:\\ProgramData\\Anaconda3\\lib\\site-packages\\sklearn\\linear_model\\_sag.py:329: ConvergenceWarning: The max_iter was reached which means the coef_ did not converge\n",
      "  warnings.warn(\"The max_iter was reached which means \"\n"
     ]
    },
    {
     "name": "stdout",
     "output_type": "stream",
     "text": [
      "[CV]  C=10, class_weight=None, dual=False, penalty=l1, solver=saga, score=0.666, total=   9.8s\n",
      "[CV] C=10, class_weight=None, dual=False, penalty=l1, solver=saga ....\n"
     ]
    },
    {
     "name": "stderr",
     "output_type": "stream",
     "text": [
      "C:\\ProgramData\\Anaconda3\\lib\\site-packages\\sklearn\\linear_model\\_sag.py:329: ConvergenceWarning: The max_iter was reached which means the coef_ did not converge\n",
      "  warnings.warn(\"The max_iter was reached which means \"\n"
     ]
    },
    {
     "name": "stdout",
     "output_type": "stream",
     "text": [
      "[CV]  C=10, class_weight=None, dual=False, penalty=l1, solver=saga, score=0.711, total=  10.2s\n",
      "[CV] C=10, class_weight=None, dual=False, penalty=l1, solver=saga ....\n"
     ]
    },
    {
     "name": "stderr",
     "output_type": "stream",
     "text": [
      "C:\\ProgramData\\Anaconda3\\lib\\site-packages\\sklearn\\linear_model\\_sag.py:329: ConvergenceWarning: The max_iter was reached which means the coef_ did not converge\n",
      "  warnings.warn(\"The max_iter was reached which means \"\n"
     ]
    },
    {
     "name": "stdout",
     "output_type": "stream",
     "text": [
      "[CV]  C=10, class_weight=None, dual=False, penalty=l1, solver=saga, score=0.745, total=  10.4s\n",
      "[CV] C=10, class_weight=None, dual=False, penalty=l1, solver=liblinear \n",
      "[CV]  C=10, class_weight=None, dual=False, penalty=l1, solver=liblinear, score=0.688, total=   0.1s\n",
      "[CV] C=10, class_weight=None, dual=False, penalty=l1, solver=liblinear \n"
     ]
    },
    {
     "name": "stderr",
     "output_type": "stream",
     "text": [
      "C:\\ProgramData\\Anaconda3\\lib\\site-packages\\sklearn\\svm\\_base.py:976: ConvergenceWarning: Liblinear failed to converge, increase the number of iterations.\n",
      "  warnings.warn(\"Liblinear failed to converge, increase \"\n"
     ]
    },
    {
     "name": "stdout",
     "output_type": "stream",
     "text": [
      "[CV]  C=10, class_weight=None, dual=False, penalty=l1, solver=liblinear, score=0.712, total=   1.7s\n",
      "[CV] C=10, class_weight=None, dual=False, penalty=l1, solver=liblinear \n",
      "[CV]  C=10, class_weight=None, dual=False, penalty=l1, solver=liblinear, score=0.692, total=   0.1s\n",
      "[CV] C=10, class_weight=None, dual=False, penalty=l1, solver=liblinear \n",
      "[CV]  C=10, class_weight=None, dual=False, penalty=l1, solver=liblinear, score=0.759, total=   0.1s\n",
      "[CV] C=10, class_weight=None, dual=False, penalty=l1, solver=liblinear \n",
      "[CV]  C=10, class_weight=None, dual=False, penalty=l1, solver=liblinear, score=0.687, total=   0.1s\n",
      "[CV] C=10, class_weight=None, dual=False, penalty=l2, solver=newton-cg \n",
      "[CV]  C=10, class_weight=None, dual=False, penalty=l2, solver=newton-cg, score=0.701, total=   0.4s\n",
      "[CV] C=10, class_weight=None, dual=False, penalty=l2, solver=newton-cg \n",
      "[CV]  C=10, class_weight=None, dual=False, penalty=l2, solver=newton-cg, score=0.675, total=   0.4s\n",
      "[CV] C=10, class_weight=None, dual=False, penalty=l2, solver=newton-cg \n",
      "[CV]  C=10, class_weight=None, dual=False, penalty=l2, solver=newton-cg, score=0.665, total=   0.4s\n",
      "[CV] C=10, class_weight=None, dual=False, penalty=l2, solver=newton-cg \n",
      "[CV]  C=10, class_weight=None, dual=False, penalty=l2, solver=newton-cg, score=0.715, total=   0.4s\n",
      "[CV] C=10, class_weight=None, dual=False, penalty=l2, solver=newton-cg \n",
      "[CV]  C=10, class_weight=None, dual=False, penalty=l2, solver=newton-cg, score=0.694, total=   0.4s\n",
      "[CV] C=10, class_weight=None, dual=False, penalty=l2, solver=lbfgs ...\n"
     ]
    },
    {
     "name": "stderr",
     "output_type": "stream",
     "text": [
      "C:\\ProgramData\\Anaconda3\\lib\\site-packages\\sklearn\\linear_model\\_logistic.py:762: ConvergenceWarning: lbfgs failed to converge (status=1):\n",
      "STOP: TOTAL NO. of ITERATIONS REACHED LIMIT.\n",
      "\n",
      "Increase the number of iterations (max_iter) or scale the data as shown in:\n",
      "    https://scikit-learn.org/stable/modules/preprocessing.html\n",
      "Please also refer to the documentation for alternative solver options:\n",
      "    https://scikit-learn.org/stable/modules/linear_model.html#logistic-regression\n",
      "  n_iter_i = _check_optimize_result(\n"
     ]
    },
    {
     "name": "stdout",
     "output_type": "stream",
     "text": [
      "[CV]  C=10, class_weight=None, dual=False, penalty=l2, solver=lbfgs, score=0.701, total=   0.6s\n",
      "[CV] C=10, class_weight=None, dual=False, penalty=l2, solver=lbfgs ...\n"
     ]
    },
    {
     "name": "stderr",
     "output_type": "stream",
     "text": [
      "C:\\ProgramData\\Anaconda3\\lib\\site-packages\\sklearn\\linear_model\\_logistic.py:762: ConvergenceWarning: lbfgs failed to converge (status=1):\n",
      "STOP: TOTAL NO. of ITERATIONS REACHED LIMIT.\n",
      "\n",
      "Increase the number of iterations (max_iter) or scale the data as shown in:\n",
      "    https://scikit-learn.org/stable/modules/preprocessing.html\n",
      "Please also refer to the documentation for alternative solver options:\n",
      "    https://scikit-learn.org/stable/modules/linear_model.html#logistic-regression\n",
      "  n_iter_i = _check_optimize_result(\n"
     ]
    },
    {
     "name": "stdout",
     "output_type": "stream",
     "text": [
      "[CV]  C=10, class_weight=None, dual=False, penalty=l2, solver=lbfgs, score=0.675, total=   0.6s\n",
      "[CV] C=10, class_weight=None, dual=False, penalty=l2, solver=lbfgs ...\n"
     ]
    },
    {
     "name": "stderr",
     "output_type": "stream",
     "text": [
      "C:\\ProgramData\\Anaconda3\\lib\\site-packages\\sklearn\\linear_model\\_logistic.py:762: ConvergenceWarning: lbfgs failed to converge (status=1):\n",
      "STOP: TOTAL NO. of ITERATIONS REACHED LIMIT.\n",
      "\n",
      "Increase the number of iterations (max_iter) or scale the data as shown in:\n",
      "    https://scikit-learn.org/stable/modules/preprocessing.html\n",
      "Please also refer to the documentation for alternative solver options:\n",
      "    https://scikit-learn.org/stable/modules/linear_model.html#logistic-regression\n",
      "  n_iter_i = _check_optimize_result(\n"
     ]
    },
    {
     "name": "stdout",
     "output_type": "stream",
     "text": [
      "[CV]  C=10, class_weight=None, dual=False, penalty=l2, solver=lbfgs, score=0.665, total=   0.5s\n",
      "[CV] C=10, class_weight=None, dual=False, penalty=l2, solver=lbfgs ...\n"
     ]
    },
    {
     "name": "stderr",
     "output_type": "stream",
     "text": [
      "C:\\ProgramData\\Anaconda3\\lib\\site-packages\\sklearn\\linear_model\\_logistic.py:762: ConvergenceWarning: lbfgs failed to converge (status=1):\n",
      "STOP: TOTAL NO. of ITERATIONS REACHED LIMIT.\n",
      "\n",
      "Increase the number of iterations (max_iter) or scale the data as shown in:\n",
      "    https://scikit-learn.org/stable/modules/preprocessing.html\n",
      "Please also refer to the documentation for alternative solver options:\n",
      "    https://scikit-learn.org/stable/modules/linear_model.html#logistic-regression\n",
      "  n_iter_i = _check_optimize_result(\n"
     ]
    },
    {
     "name": "stdout",
     "output_type": "stream",
     "text": [
      "[CV]  C=10, class_weight=None, dual=False, penalty=l2, solver=lbfgs, score=0.715, total=   0.6s\n",
      "[CV] C=10, class_weight=None, dual=False, penalty=l2, solver=lbfgs ...\n"
     ]
    },
    {
     "name": "stderr",
     "output_type": "stream",
     "text": [
      "C:\\ProgramData\\Anaconda3\\lib\\site-packages\\sklearn\\linear_model\\_logistic.py:762: ConvergenceWarning: lbfgs failed to converge (status=1):\n",
      "STOP: TOTAL NO. of ITERATIONS REACHED LIMIT.\n",
      "\n",
      "Increase the number of iterations (max_iter) or scale the data as shown in:\n",
      "    https://scikit-learn.org/stable/modules/preprocessing.html\n",
      "Please also refer to the documentation for alternative solver options:\n",
      "    https://scikit-learn.org/stable/modules/linear_model.html#logistic-regression\n",
      "  n_iter_i = _check_optimize_result(\n",
      "C:\\ProgramData\\Anaconda3\\lib\\site-packages\\sklearn\\linear_model\\_sag.py:329: ConvergenceWarning: The max_iter was reached which means the coef_ did not converge\n",
      "  warnings.warn(\"The max_iter was reached which means \"\n"
     ]
    },
    {
     "name": "stdout",
     "output_type": "stream",
     "text": [
      "[CV]  C=10, class_weight=None, dual=False, penalty=l2, solver=lbfgs, score=0.694, total=   0.6s\n",
      "[CV] C=10, class_weight=None, dual=False, penalty=l2, solver=sag .....\n"
     ]
    },
    {
     "name": "stderr",
     "output_type": "stream",
     "text": [
      "C:\\ProgramData\\Anaconda3\\lib\\site-packages\\sklearn\\linear_model\\_sag.py:329: ConvergenceWarning: The max_iter was reached which means the coef_ did not converge\n",
      "  warnings.warn(\"The max_iter was reached which means \"\n"
     ]
    },
    {
     "name": "stdout",
     "output_type": "stream",
     "text": [
      "[CV]  C=10, class_weight=None, dual=False, penalty=l2, solver=sag, score=0.722, total=   0.2s\n",
      "[CV] C=10, class_weight=None, dual=False, penalty=l2, solver=sag .....\n",
      "[CV]  C=10, class_weight=None, dual=False, penalty=l2, solver=sag, score=0.662, total=   0.2s\n",
      "[CV] C=10, class_weight=None, dual=False, penalty=l2, solver=sag .....\n"
     ]
    },
    {
     "name": "stderr",
     "output_type": "stream",
     "text": [
      "C:\\ProgramData\\Anaconda3\\lib\\site-packages\\sklearn\\linear_model\\_sag.py:329: ConvergenceWarning: The max_iter was reached which means the coef_ did not converge\n",
      "  warnings.warn(\"The max_iter was reached which means \"\n"
     ]
    },
    {
     "name": "stdout",
     "output_type": "stream",
     "text": [
      "[CV]  C=10, class_weight=None, dual=False, penalty=l2, solver=sag, score=0.654, total=   0.2s\n",
      "[CV] C=10, class_weight=None, dual=False, penalty=l2, solver=sag .....\n"
     ]
    },
    {
     "name": "stderr",
     "output_type": "stream",
     "text": [
      "C:\\ProgramData\\Anaconda3\\lib\\site-packages\\sklearn\\linear_model\\_sag.py:329: ConvergenceWarning: The max_iter was reached which means the coef_ did not converge\n",
      "  warnings.warn(\"The max_iter was reached which means \"\n"
     ]
    },
    {
     "name": "stdout",
     "output_type": "stream",
     "text": [
      "[CV]  C=10, class_weight=None, dual=False, penalty=l2, solver=sag, score=0.691, total=   0.2s\n",
      "[CV] C=10, class_weight=None, dual=False, penalty=l2, solver=sag .....\n"
     ]
    },
    {
     "name": "stderr",
     "output_type": "stream",
     "text": [
      "C:\\ProgramData\\Anaconda3\\lib\\site-packages\\sklearn\\linear_model\\_sag.py:329: ConvergenceWarning: The max_iter was reached which means the coef_ did not converge\n",
      "  warnings.warn(\"The max_iter was reached which means \"\n"
     ]
    },
    {
     "name": "stdout",
     "output_type": "stream",
     "text": [
      "[CV]  C=10, class_weight=None, dual=False, penalty=l2, solver=sag, score=0.697, total=   0.2s\n",
      "[CV] C=10, class_weight=None, dual=False, penalty=l2, solver=saga ....\n"
     ]
    },
    {
     "name": "stderr",
     "output_type": "stream",
     "text": [
      "C:\\ProgramData\\Anaconda3\\lib\\site-packages\\sklearn\\linear_model\\_sag.py:329: ConvergenceWarning: The max_iter was reached which means the coef_ did not converge\n",
      "  warnings.warn(\"The max_iter was reached which means \"\n"
     ]
    },
    {
     "name": "stdout",
     "output_type": "stream",
     "text": [
      "[CV]  C=10, class_weight=None, dual=False, penalty=l2, solver=saga, score=0.716, total=   0.2s\n",
      "[CV] C=10, class_weight=None, dual=False, penalty=l2, solver=saga ....\n"
     ]
    },
    {
     "name": "stderr",
     "output_type": "stream",
     "text": [
      "C:\\ProgramData\\Anaconda3\\lib\\site-packages\\sklearn\\linear_model\\_sag.py:329: ConvergenceWarning: The max_iter was reached which means the coef_ did not converge\n",
      "  warnings.warn(\"The max_iter was reached which means \"\n"
     ]
    },
    {
     "name": "stdout",
     "output_type": "stream",
     "text": [
      "[CV]  C=10, class_weight=None, dual=False, penalty=l2, solver=saga, score=0.660, total=   0.2s\n",
      "[CV] C=10, class_weight=None, dual=False, penalty=l2, solver=saga ....\n"
     ]
    },
    {
     "name": "stderr",
     "output_type": "stream",
     "text": [
      "C:\\ProgramData\\Anaconda3\\lib\\site-packages\\sklearn\\linear_model\\_sag.py:329: ConvergenceWarning: The max_iter was reached which means the coef_ did not converge\n",
      "  warnings.warn(\"The max_iter was reached which means \"\n"
     ]
    },
    {
     "name": "stdout",
     "output_type": "stream",
     "text": [
      "[CV]  C=10, class_weight=None, dual=False, penalty=l2, solver=saga, score=0.670, total=   0.2s\n",
      "[CV] C=10, class_weight=None, dual=False, penalty=l2, solver=saga ....\n"
     ]
    },
    {
     "name": "stderr",
     "output_type": "stream",
     "text": [
      "C:\\ProgramData\\Anaconda3\\lib\\site-packages\\sklearn\\linear_model\\_sag.py:329: ConvergenceWarning: The max_iter was reached which means the coef_ did not converge\n",
      "  warnings.warn(\"The max_iter was reached which means \"\n"
     ]
    },
    {
     "name": "stdout",
     "output_type": "stream",
     "text": [
      "[CV]  C=10, class_weight=None, dual=False, penalty=l2, solver=saga, score=0.697, total=   0.2s\n",
      "[CV] C=10, class_weight=None, dual=False, penalty=l2, solver=saga ....\n"
     ]
    },
    {
     "name": "stderr",
     "output_type": "stream",
     "text": [
      "C:\\ProgramData\\Anaconda3\\lib\\site-packages\\sklearn\\linear_model\\_sag.py:329: ConvergenceWarning: The max_iter was reached which means the coef_ did not converge\n",
      "  warnings.warn(\"The max_iter was reached which means \"\n"
     ]
    },
    {
     "name": "stdout",
     "output_type": "stream",
     "text": [
      "[CV]  C=10, class_weight=None, dual=False, penalty=l2, solver=saga, score=0.697, total=   0.2s\n",
      "[CV] C=10, class_weight=None, dual=False, penalty=l2, solver=liblinear \n",
      "[CV]  C=10, class_weight=None, dual=False, penalty=l2, solver=liblinear, score=0.681, total=   0.1s\n",
      "[CV] C=10, class_weight=None, dual=False, penalty=l2, solver=liblinear \n",
      "[CV]  C=10, class_weight=None, dual=False, penalty=l2, solver=liblinear, score=0.679, total=   0.1s\n",
      "[CV] C=10, class_weight=None, dual=False, penalty=l2, solver=liblinear \n",
      "[CV]  C=10, class_weight=None, dual=False, penalty=l2, solver=liblinear, score=0.637, total=   0.1s\n",
      "[CV] C=10, class_weight=None, dual=False, penalty=l2, solver=liblinear \n",
      "[CV]  C=10, class_weight=None, dual=False, penalty=l2, solver=liblinear, score=0.706, total=   0.1s\n",
      "[CV] C=10, class_weight=None, dual=False, penalty=l2, solver=liblinear \n",
      "[CV]  C=10, class_weight=None, dual=False, penalty=l2, solver=liblinear, score=0.704, total=   0.1s\n",
      "[CV] C=10, class_weight=None, dual=False, penalty=elasticnet, solver=newton-cg \n",
      "[CV]  C=10, class_weight=None, dual=False, penalty=elasticnet, solver=newton-cg, score=nan, total=   0.0s\n",
      "[CV] C=10, class_weight=None, dual=False, penalty=elasticnet, solver=newton-cg \n"
     ]
    },
    {
     "name": "stderr",
     "output_type": "stream",
     "text": [
      "C:\\ProgramData\\Anaconda3\\lib\\site-packages\\sklearn\\model_selection\\_validation.py:548: FitFailedWarning: Estimator fit failed. The score on this train-test partition for these parameters will be set to nan. Details: \n",
      "Traceback (most recent call last):\n",
      "  File \"C:\\ProgramData\\Anaconda3\\lib\\site-packages\\sklearn\\model_selection\\_validation.py\", line 531, in _fit_and_score\n",
      "    estimator.fit(X_train, y_train, **fit_params)\n",
      "  File \"C:\\ProgramData\\Anaconda3\\lib\\site-packages\\sklearn\\linear_model\\_logistic.py\", line 1304, in fit\n",
      "    solver = _check_solver(self.solver, self.penalty, self.dual)\n",
      "  File \"C:\\ProgramData\\Anaconda3\\lib\\site-packages\\sklearn\\linear_model\\_logistic.py\", line 442, in _check_solver\n",
      "    raise ValueError(\"Solver %s supports only 'l2' or 'none' penalties, \"\n",
      "ValueError: Solver newton-cg supports only 'l2' or 'none' penalties, got elasticnet penalty.\n",
      "\n",
      "  warnings.warn(\"Estimator fit failed. The score on this train-test\"\n",
      "C:\\ProgramData\\Anaconda3\\lib\\site-packages\\sklearn\\model_selection\\_validation.py:548: FitFailedWarning: Estimator fit failed. The score on this train-test partition for these parameters will be set to nan. Details: \n",
      "Traceback (most recent call last):\n",
      "  File \"C:\\ProgramData\\Anaconda3\\lib\\site-packages\\sklearn\\model_selection\\_validation.py\", line 531, in _fit_and_score\n",
      "    estimator.fit(X_train, y_train, **fit_params)\n",
      "  File \"C:\\ProgramData\\Anaconda3\\lib\\site-packages\\sklearn\\linear_model\\_logistic.py\", line 1304, in fit\n",
      "    solver = _check_solver(self.solver, self.penalty, self.dual)\n",
      "  File \"C:\\ProgramData\\Anaconda3\\lib\\site-packages\\sklearn\\linear_model\\_logistic.py\", line 442, in _check_solver\n",
      "    raise ValueError(\"Solver %s supports only 'l2' or 'none' penalties, \"\n",
      "ValueError: Solver lbfgs supports only 'l2' or 'none' penalties, got elasticnet penalty.\n",
      "\n",
      "  warnings.warn(\"Estimator fit failed. The score on this train-test\"\n",
      "C:\\ProgramData\\Anaconda3\\lib\\site-packages\\sklearn\\model_selection\\_validation.py:548: FitFailedWarning: Estimator fit failed. The score on this train-test partition for these parameters will be set to nan. Details: \n",
      "Traceback (most recent call last):\n",
      "  File \"C:\\ProgramData\\Anaconda3\\lib\\site-packages\\sklearn\\model_selection\\_validation.py\", line 531, in _fit_and_score\n",
      "    estimator.fit(X_train, y_train, **fit_params)\n",
      "  File \"C:\\ProgramData\\Anaconda3\\lib\\site-packages\\sklearn\\linear_model\\_logistic.py\", line 1304, in fit\n",
      "    solver = _check_solver(self.solver, self.penalty, self.dual)\n",
      "  File \"C:\\ProgramData\\Anaconda3\\lib\\site-packages\\sklearn\\linear_model\\_logistic.py\", line 442, in _check_solver\n",
      "    raise ValueError(\"Solver %s supports only 'l2' or 'none' penalties, \"\n",
      "ValueError: Solver sag supports only 'l2' or 'none' penalties, got elasticnet penalty.\n",
      "\n",
      "  warnings.warn(\"Estimator fit failed. The score on this train-test\"\n",
      "C:\\ProgramData\\Anaconda3\\lib\\site-packages\\sklearn\\model_selection\\_validation.py:548: FitFailedWarning: Estimator fit failed. The score on this train-test partition for these parameters will be set to nan. Details: \n",
      "Traceback (most recent call last):\n",
      "  File \"C:\\ProgramData\\Anaconda3\\lib\\site-packages\\sklearn\\model_selection\\_validation.py\", line 531, in _fit_and_score\n",
      "    estimator.fit(X_train, y_train, **fit_params)\n",
      "  File \"C:\\ProgramData\\Anaconda3\\lib\\site-packages\\sklearn\\linear_model\\_logistic.py\", line 1312, in fit\n",
      "    raise ValueError(\"l1_ratio must be between 0 and 1;\"\n",
      "ValueError: l1_ratio must be between 0 and 1; got (l1_ratio=None)\n",
      "\n",
      "  warnings.warn(\"Estimator fit failed. The score on this train-test\"\n",
      "C:\\ProgramData\\Anaconda3\\lib\\site-packages\\sklearn\\model_selection\\_validation.py:548: FitFailedWarning: Estimator fit failed. The score on this train-test partition for these parameters will be set to nan. Details: \n",
      "Traceback (most recent call last):\n",
      "  File \"C:\\ProgramData\\Anaconda3\\lib\\site-packages\\sklearn\\model_selection\\_validation.py\", line 531, in _fit_and_score\n",
      "    estimator.fit(X_train, y_train, **fit_params)\n",
      "  File \"C:\\ProgramData\\Anaconda3\\lib\\site-packages\\sklearn\\linear_model\\_logistic.py\", line 1304, in fit\n",
      "    solver = _check_solver(self.solver, self.penalty, self.dual)\n",
      "  File \"C:\\ProgramData\\Anaconda3\\lib\\site-packages\\sklearn\\linear_model\\_logistic.py\", line 449, in _check_solver\n",
      "    raise ValueError(\"Only 'saga' solver supports elasticnet penalty,\"\n",
      "ValueError: Only 'saga' solver supports elasticnet penalty, got solver=liblinear.\n",
      "\n",
      "  warnings.warn(\"Estimator fit failed. The score on this train-test\"\n",
      "C:\\ProgramData\\Anaconda3\\lib\\site-packages\\sklearn\\model_selection\\_validation.py:548: FitFailedWarning: Estimator fit failed. The score on this train-test partition for these parameters will be set to nan. Details: \n",
      "Traceback (most recent call last):\n",
      "  File \"C:\\ProgramData\\Anaconda3\\lib\\site-packages\\sklearn\\model_selection\\_validation.py\", line 531, in _fit_and_score\n",
      "    estimator.fit(X_train, y_train, **fit_params)\n",
      "  File \"C:\\ProgramData\\Anaconda3\\lib\\site-packages\\sklearn\\linear_model\\_logistic.py\", line 1304, in fit\n",
      "    solver = _check_solver(self.solver, self.penalty, self.dual)\n",
      "  File \"C:\\ProgramData\\Anaconda3\\lib\\site-packages\\sklearn\\linear_model\\_logistic.py\", line 442, in _check_solver\n",
      "    raise ValueError(\"Solver %s supports only 'l2' or 'none' penalties, \"\n",
      "ValueError: Solver newton-cg supports only 'l2' or 'none' penalties, got l1 penalty.\n",
      "\n",
      "  warnings.warn(\"Estimator fit failed. The score on this train-test\"\n",
      "C:\\ProgramData\\Anaconda3\\lib\\site-packages\\sklearn\\model_selection\\_validation.py:548: FitFailedWarning: Estimator fit failed. The score on this train-test partition for these parameters will be set to nan. Details: \n",
      "Traceback (most recent call last):\n",
      "  File \"C:\\ProgramData\\Anaconda3\\lib\\site-packages\\sklearn\\model_selection\\_validation.py\", line 531, in _fit_and_score\n",
      "    estimator.fit(X_train, y_train, **fit_params)\n",
      "  File \"C:\\ProgramData\\Anaconda3\\lib\\site-packages\\sklearn\\linear_model\\_logistic.py\", line 1304, in fit\n",
      "    solver = _check_solver(self.solver, self.penalty, self.dual)\n",
      "  File \"C:\\ProgramData\\Anaconda3\\lib\\site-packages\\sklearn\\linear_model\\_logistic.py\", line 442, in _check_solver\n",
      "    raise ValueError(\"Solver %s supports only 'l2' or 'none' penalties, \"\n",
      "ValueError: Solver lbfgs supports only 'l2' or 'none' penalties, got l1 penalty.\n",
      "\n",
      "  warnings.warn(\"Estimator fit failed. The score on this train-test\"\n",
      "C:\\ProgramData\\Anaconda3\\lib\\site-packages\\sklearn\\model_selection\\_validation.py:548: FitFailedWarning: Estimator fit failed. The score on this train-test partition for these parameters will be set to nan. Details: \n",
      "Traceback (most recent call last):\n",
      "  File \"C:\\ProgramData\\Anaconda3\\lib\\site-packages\\sklearn\\model_selection\\_validation.py\", line 531, in _fit_and_score\n",
      "    estimator.fit(X_train, y_train, **fit_params)\n",
      "  File \"C:\\ProgramData\\Anaconda3\\lib\\site-packages\\sklearn\\linear_model\\_logistic.py\", line 1304, in fit\n",
      "    solver = _check_solver(self.solver, self.penalty, self.dual)\n",
      "  File \"C:\\ProgramData\\Anaconda3\\lib\\site-packages\\sklearn\\linear_model\\_logistic.py\", line 442, in _check_solver\n",
      "    raise ValueError(\"Solver %s supports only 'l2' or 'none' penalties, \"\n",
      "ValueError: Solver sag supports only 'l2' or 'none' penalties, got l1 penalty.\n",
      "\n",
      "  warnings.warn(\"Estimator fit failed. The score on this train-test\"\n",
      "C:\\ProgramData\\Anaconda3\\lib\\site-packages\\sklearn\\model_selection\\_validation.py:548: FitFailedWarning: Estimator fit failed. The score on this train-test partition for these parameters will be set to nan. Details: \n",
      "Traceback (most recent call last):\n",
      "  File \"C:\\ProgramData\\Anaconda3\\lib\\site-packages\\sklearn\\model_selection\\_validation.py\", line 531, in _fit_and_score\n",
      "    estimator.fit(X_train, y_train, **fit_params)\n",
      "  File \"C:\\ProgramData\\Anaconda3\\lib\\site-packages\\sklearn\\linear_model\\_logistic.py\", line 1304, in fit\n",
      "    solver = _check_solver(self.solver, self.penalty, self.dual)\n",
      "  File \"C:\\ProgramData\\Anaconda3\\lib\\site-packages\\sklearn\\linear_model\\_logistic.py\", line 445, in _check_solver\n",
      "    raise ValueError(\"Solver %s supports only \"\n",
      "ValueError: Solver saga supports only dual=False, got dual=True\n",
      "\n",
      "  warnings.warn(\"Estimator fit failed. The score on this train-test\"\n",
      "C:\\ProgramData\\Anaconda3\\lib\\site-packages\\sklearn\\model_selection\\_validation.py:548: FitFailedWarning: Estimator fit failed. The score on this train-test partition for these parameters will be set to nan. Details: \n",
      "Traceback (most recent call last):\n",
      "  File \"C:\\ProgramData\\Anaconda3\\lib\\site-packages\\sklearn\\model_selection\\_validation.py\", line 531, in _fit_and_score\n",
      "    estimator.fit(X_train, y_train, **fit_params)\n",
      "  File \"C:\\ProgramData\\Anaconda3\\lib\\site-packages\\sklearn\\linear_model\\_logistic.py\", line 1356, in fit\n",
      "    self.coef_, self.intercept_, n_iter_ = _fit_liblinear(\n",
      "  File \"C:\\ProgramData\\Anaconda3\\lib\\site-packages\\sklearn\\svm\\_base.py\", line 965, in _fit_liblinear\n",
      "    solver_type = _get_liblinear_solver_type(multi_class, penalty, loss, dual)\n",
      "  File \"C:\\ProgramData\\Anaconda3\\lib\\site-packages\\sklearn\\svm\\_base.py\", line 821, in _get_liblinear_solver_type\n",
      "    raise ValueError('Unsupported set of arguments: %s, '\n",
      "ValueError: Unsupported set of arguments: The combination of penalty='l1' and loss='logistic_regression' are not supported when dual=True, Parameters: penalty='l1', loss='logistic_regression', dual=True\n",
      "\n",
      "  warnings.warn(\"Estimator fit failed. The score on this train-test\"\n",
      "C:\\ProgramData\\Anaconda3\\lib\\site-packages\\sklearn\\model_selection\\_validation.py:548: FitFailedWarning: Estimator fit failed. The score on this train-test partition for these parameters will be set to nan. Details: \n",
      "Traceback (most recent call last):\n",
      "  File \"C:\\ProgramData\\Anaconda3\\lib\\site-packages\\sklearn\\model_selection\\_validation.py\", line 531, in _fit_and_score\n",
      "    estimator.fit(X_train, y_train, **fit_params)\n",
      "  File \"C:\\ProgramData\\Anaconda3\\lib\\site-packages\\sklearn\\linear_model\\_logistic.py\", line 1304, in fit\n",
      "    solver = _check_solver(self.solver, self.penalty, self.dual)\n",
      "  File \"C:\\ProgramData\\Anaconda3\\lib\\site-packages\\sklearn\\linear_model\\_logistic.py\", line 445, in _check_solver\n",
      "    raise ValueError(\"Solver %s supports only \"\n",
      "ValueError: Solver newton-cg supports only dual=False, got dual=True\n",
      "\n",
      "  warnings.warn(\"Estimator fit failed. The score on this train-test\"\n",
      "C:\\ProgramData\\Anaconda3\\lib\\site-packages\\sklearn\\model_selection\\_validation.py:548: FitFailedWarning: Estimator fit failed. The score on this train-test partition for these parameters will be set to nan. Details: \n",
      "Traceback (most recent call last):\n",
      "  File \"C:\\ProgramData\\Anaconda3\\lib\\site-packages\\sklearn\\model_selection\\_validation.py\", line 531, in _fit_and_score\n",
      "    estimator.fit(X_train, y_train, **fit_params)\n",
      "  File \"C:\\ProgramData\\Anaconda3\\lib\\site-packages\\sklearn\\linear_model\\_logistic.py\", line 1304, in fit\n",
      "    solver = _check_solver(self.solver, self.penalty, self.dual)\n",
      "  File \"C:\\ProgramData\\Anaconda3\\lib\\site-packages\\sklearn\\linear_model\\_logistic.py\", line 445, in _check_solver\n",
      "    raise ValueError(\"Solver %s supports only \"\n",
      "ValueError: Solver lbfgs supports only dual=False, got dual=True\n",
      "\n",
      "  warnings.warn(\"Estimator fit failed. The score on this train-test\"\n",
      "C:\\ProgramData\\Anaconda3\\lib\\site-packages\\sklearn\\model_selection\\_validation.py:548: FitFailedWarning: Estimator fit failed. The score on this train-test partition for these parameters will be set to nan. Details: \n",
      "Traceback (most recent call last):\n",
      "  File \"C:\\ProgramData\\Anaconda3\\lib\\site-packages\\sklearn\\model_selection\\_validation.py\", line 531, in _fit_and_score\n",
      "    estimator.fit(X_train, y_train, **fit_params)\n",
      "  File \"C:\\ProgramData\\Anaconda3\\lib\\site-packages\\sklearn\\linear_model\\_logistic.py\", line 1304, in fit\n",
      "    solver = _check_solver(self.solver, self.penalty, self.dual)\n",
      "  File \"C:\\ProgramData\\Anaconda3\\lib\\site-packages\\sklearn\\linear_model\\_logistic.py\", line 445, in _check_solver\n",
      "    raise ValueError(\"Solver %s supports only \"\n",
      "ValueError: Solver sag supports only dual=False, got dual=True\n",
      "\n",
      "  warnings.warn(\"Estimator fit failed. The score on this train-test\"\n"
     ]
    },
    {
     "name": "stdout",
     "output_type": "stream",
     "text": [
      "[CV]  C=10, class_weight=None, dual=False, penalty=elasticnet, solver=newton-cg, score=nan, total=   0.0s\n",
      "[CV] C=10, class_weight=None, dual=False, penalty=elasticnet, solver=newton-cg \n",
      "[CV]  C=10, class_weight=None, dual=False, penalty=elasticnet, solver=newton-cg, score=nan, total=   0.0s\n",
      "[CV] C=10, class_weight=None, dual=False, penalty=elasticnet, solver=newton-cg \n",
      "[CV]  C=10, class_weight=None, dual=False, penalty=elasticnet, solver=newton-cg, score=nan, total=   0.0s\n",
      "[CV] C=10, class_weight=None, dual=False, penalty=elasticnet, solver=newton-cg \n",
      "[CV]  C=10, class_weight=None, dual=False, penalty=elasticnet, solver=newton-cg, score=nan, total=   0.0s\n",
      "[CV] C=10, class_weight=None, dual=False, penalty=elasticnet, solver=lbfgs \n",
      "[CV]  C=10, class_weight=None, dual=False, penalty=elasticnet, solver=lbfgs, score=nan, total=   0.0s\n",
      "[CV] C=10, class_weight=None, dual=False, penalty=elasticnet, solver=lbfgs \n",
      "[CV]  C=10, class_weight=None, dual=False, penalty=elasticnet, solver=lbfgs, score=nan, total=   0.0s\n",
      "[CV] C=10, class_weight=None, dual=False, penalty=elasticnet, solver=lbfgs \n",
      "[CV]  C=10, class_weight=None, dual=False, penalty=elasticnet, solver=lbfgs, score=nan, total=   0.0s\n",
      "[CV] C=10, class_weight=None, dual=False, penalty=elasticnet, solver=lbfgs \n",
      "[CV]  C=10, class_weight=None, dual=False, penalty=elasticnet, solver=lbfgs, score=nan, total=   0.0s\n",
      "[CV] C=10, class_weight=None, dual=False, penalty=elasticnet, solver=lbfgs \n",
      "[CV]  C=10, class_weight=None, dual=False, penalty=elasticnet, solver=lbfgs, score=nan, total=   0.0s\n",
      "[CV] C=10, class_weight=None, dual=False, penalty=elasticnet, solver=sag \n",
      "[CV]  C=10, class_weight=None, dual=False, penalty=elasticnet, solver=sag, score=nan, total=   0.0s\n",
      "[CV] C=10, class_weight=None, dual=False, penalty=elasticnet, solver=sag \n",
      "[CV]  C=10, class_weight=None, dual=False, penalty=elasticnet, solver=sag, score=nan, total=   0.0s\n",
      "[CV] C=10, class_weight=None, dual=False, penalty=elasticnet, solver=sag \n",
      "[CV]  C=10, class_weight=None, dual=False, penalty=elasticnet, solver=sag, score=nan, total=   0.0s\n",
      "[CV] C=10, class_weight=None, dual=False, penalty=elasticnet, solver=sag \n",
      "[CV]  C=10, class_weight=None, dual=False, penalty=elasticnet, solver=sag, score=nan, total=   0.0s\n",
      "[CV] C=10, class_weight=None, dual=False, penalty=elasticnet, solver=sag \n",
      "[CV]  C=10, class_weight=None, dual=False, penalty=elasticnet, solver=sag, score=nan, total=   0.0s\n",
      "[CV] C=10, class_weight=None, dual=False, penalty=elasticnet, solver=saga \n",
      "[CV]  C=10, class_weight=None, dual=False, penalty=elasticnet, solver=saga, score=nan, total=   0.0s\n",
      "[CV] C=10, class_weight=None, dual=False, penalty=elasticnet, solver=saga \n",
      "[CV]  C=10, class_weight=None, dual=False, penalty=elasticnet, solver=saga, score=nan, total=   0.0s\n",
      "[CV] C=10, class_weight=None, dual=False, penalty=elasticnet, solver=saga \n",
      "[CV]  C=10, class_weight=None, dual=False, penalty=elasticnet, solver=saga, score=nan, total=   0.0s\n",
      "[CV] C=10, class_weight=None, dual=False, penalty=elasticnet, solver=saga \n",
      "[CV]  C=10, class_weight=None, dual=False, penalty=elasticnet, solver=saga, score=nan, total=   0.0s\n",
      "[CV] C=10, class_weight=None, dual=False, penalty=elasticnet, solver=saga \n",
      "[CV]  C=10, class_weight=None, dual=False, penalty=elasticnet, solver=saga, score=nan, total=   0.0s\n",
      "[CV] C=10, class_weight=None, dual=False, penalty=elasticnet, solver=liblinear \n",
      "[CV]  C=10, class_weight=None, dual=False, penalty=elasticnet, solver=liblinear, score=nan, total=   0.0s\n",
      "[CV] C=10, class_weight=None, dual=False, penalty=elasticnet, solver=liblinear \n",
      "[CV]  C=10, class_weight=None, dual=False, penalty=elasticnet, solver=liblinear, score=nan, total=   0.0s\n",
      "[CV] C=10, class_weight=None, dual=False, penalty=elasticnet, solver=liblinear \n",
      "[CV]  C=10, class_weight=None, dual=False, penalty=elasticnet, solver=liblinear, score=nan, total=   0.0s\n",
      "[CV] C=10, class_weight=None, dual=False, penalty=elasticnet, solver=liblinear \n",
      "[CV]  C=10, class_weight=None, dual=False, penalty=elasticnet, solver=liblinear, score=nan, total=   0.0s\n",
      "[CV] C=10, class_weight=None, dual=False, penalty=elasticnet, solver=liblinear \n",
      "[CV]  C=10, class_weight=None, dual=False, penalty=elasticnet, solver=liblinear, score=nan, total=   0.0s\n",
      "[CV] C=10, class_weight=balanced, dual=True, penalty=l1, solver=newton-cg \n",
      "[CV]  C=10, class_weight=balanced, dual=True, penalty=l1, solver=newton-cg, score=nan, total=   0.0s\n",
      "[CV] C=10, class_weight=balanced, dual=True, penalty=l1, solver=newton-cg \n",
      "[CV]  C=10, class_weight=balanced, dual=True, penalty=l1, solver=newton-cg, score=nan, total=   0.0s\n",
      "[CV] C=10, class_weight=balanced, dual=True, penalty=l1, solver=newton-cg \n",
      "[CV]  C=10, class_weight=balanced, dual=True, penalty=l1, solver=newton-cg, score=nan, total=   0.0s\n",
      "[CV] C=10, class_weight=balanced, dual=True, penalty=l1, solver=newton-cg \n",
      "[CV]  C=10, class_weight=balanced, dual=True, penalty=l1, solver=newton-cg, score=nan, total=   0.0s\n",
      "[CV] C=10, class_weight=balanced, dual=True, penalty=l1, solver=newton-cg \n",
      "[CV]  C=10, class_weight=balanced, dual=True, penalty=l1, solver=newton-cg, score=nan, total=   0.0s\n",
      "[CV] C=10, class_weight=balanced, dual=True, penalty=l1, solver=lbfgs \n",
      "[CV]  C=10, class_weight=balanced, dual=True, penalty=l1, solver=lbfgs, score=nan, total=   0.0s\n",
      "[CV] C=10, class_weight=balanced, dual=True, penalty=l1, solver=lbfgs \n",
      "[CV]  C=10, class_weight=balanced, dual=True, penalty=l1, solver=lbfgs, score=nan, total=   0.0s\n",
      "[CV] C=10, class_weight=balanced, dual=True, penalty=l1, solver=lbfgs \n",
      "[CV]  C=10, class_weight=balanced, dual=True, penalty=l1, solver=lbfgs, score=nan, total=   0.0s\n",
      "[CV] C=10, class_weight=balanced, dual=True, penalty=l1, solver=lbfgs \n",
      "[CV]  C=10, class_weight=balanced, dual=True, penalty=l1, solver=lbfgs, score=nan, total=   0.0s\n",
      "[CV] C=10, class_weight=balanced, dual=True, penalty=l1, solver=lbfgs \n",
      "[CV]  C=10, class_weight=balanced, dual=True, penalty=l1, solver=lbfgs, score=nan, total=   0.0s\n",
      "[CV] C=10, class_weight=balanced, dual=True, penalty=l1, solver=sag ..\n",
      "[CV]  C=10, class_weight=balanced, dual=True, penalty=l1, solver=sag, score=nan, total=   0.0s\n",
      "[CV] C=10, class_weight=balanced, dual=True, penalty=l1, solver=sag ..\n",
      "[CV]  C=10, class_weight=balanced, dual=True, penalty=l1, solver=sag, score=nan, total=   0.0s\n",
      "[CV] C=10, class_weight=balanced, dual=True, penalty=l1, solver=sag ..\n",
      "[CV]  C=10, class_weight=balanced, dual=True, penalty=l1, solver=sag, score=nan, total=   0.0s\n",
      "[CV] C=10, class_weight=balanced, dual=True, penalty=l1, solver=sag ..\n",
      "[CV]  C=10, class_weight=balanced, dual=True, penalty=l1, solver=sag, score=nan, total=   0.0s\n",
      "[CV] C=10, class_weight=balanced, dual=True, penalty=l1, solver=sag ..\n",
      "[CV]  C=10, class_weight=balanced, dual=True, penalty=l1, solver=sag, score=nan, total=   0.0s\n",
      "[CV] C=10, class_weight=balanced, dual=True, penalty=l1, solver=saga .\n",
      "[CV]  C=10, class_weight=balanced, dual=True, penalty=l1, solver=saga, score=nan, total=   0.0s\n",
      "[CV] C=10, class_weight=balanced, dual=True, penalty=l1, solver=saga .\n",
      "[CV]  C=10, class_weight=balanced, dual=True, penalty=l1, solver=saga, score=nan, total=   0.0s\n",
      "[CV] C=10, class_weight=balanced, dual=True, penalty=l1, solver=saga .\n",
      "[CV]  C=10, class_weight=balanced, dual=True, penalty=l1, solver=saga, score=nan, total=   0.0s\n",
      "[CV] C=10, class_weight=balanced, dual=True, penalty=l1, solver=saga .\n",
      "[CV]  C=10, class_weight=balanced, dual=True, penalty=l1, solver=saga, score=nan, total=   0.0s\n",
      "[CV] C=10, class_weight=balanced, dual=True, penalty=l1, solver=saga .\n",
      "[CV]  C=10, class_weight=balanced, dual=True, penalty=l1, solver=saga, score=nan, total=   0.0s\n",
      "[CV] C=10, class_weight=balanced, dual=True, penalty=l1, solver=liblinear \n",
      "[CV]  C=10, class_weight=balanced, dual=True, penalty=l1, solver=liblinear, score=nan, total=   0.0s\n",
      "[CV] C=10, class_weight=balanced, dual=True, penalty=l1, solver=liblinear \n",
      "[CV]  C=10, class_weight=balanced, dual=True, penalty=l1, solver=liblinear, score=nan, total=   0.0s\n",
      "[CV] C=10, class_weight=balanced, dual=True, penalty=l1, solver=liblinear \n",
      "[CV]  C=10, class_weight=balanced, dual=True, penalty=l1, solver=liblinear, score=nan, total=   0.0s\n",
      "[CV] C=10, class_weight=balanced, dual=True, penalty=l1, solver=liblinear \n",
      "[CV]  C=10, class_weight=balanced, dual=True, penalty=l1, solver=liblinear, score=nan, total=   0.0s\n",
      "[CV] C=10, class_weight=balanced, dual=True, penalty=l1, solver=liblinear \n",
      "[CV]  C=10, class_weight=balanced, dual=True, penalty=l1, solver=liblinear, score=nan, total=   0.0s\n",
      "[CV] C=10, class_weight=balanced, dual=True, penalty=l2, solver=newton-cg \n",
      "[CV]  C=10, class_weight=balanced, dual=True, penalty=l2, solver=newton-cg, score=nan, total=   0.0s\n",
      "[CV] C=10, class_weight=balanced, dual=True, penalty=l2, solver=newton-cg \n",
      "[CV]  C=10, class_weight=balanced, dual=True, penalty=l2, solver=newton-cg, score=nan, total=   0.0s\n",
      "[CV] C=10, class_weight=balanced, dual=True, penalty=l2, solver=newton-cg \n",
      "[CV]  C=10, class_weight=balanced, dual=True, penalty=l2, solver=newton-cg, score=nan, total=   0.0s\n",
      "[CV] C=10, class_weight=balanced, dual=True, penalty=l2, solver=newton-cg \n",
      "[CV]  C=10, class_weight=balanced, dual=True, penalty=l2, solver=newton-cg, score=nan, total=   0.0s\n",
      "[CV] C=10, class_weight=balanced, dual=True, penalty=l2, solver=newton-cg \n",
      "[CV]  C=10, class_weight=balanced, dual=True, penalty=l2, solver=newton-cg, score=nan, total=   0.0s\n",
      "[CV] C=10, class_weight=balanced, dual=True, penalty=l2, solver=lbfgs \n",
      "[CV]  C=10, class_weight=balanced, dual=True, penalty=l2, solver=lbfgs, score=nan, total=   0.0s\n",
      "[CV] C=10, class_weight=balanced, dual=True, penalty=l2, solver=lbfgs \n",
      "[CV]  C=10, class_weight=balanced, dual=True, penalty=l2, solver=lbfgs, score=nan, total=   0.0s\n",
      "[CV] C=10, class_weight=balanced, dual=True, penalty=l2, solver=lbfgs \n",
      "[CV]  C=10, class_weight=balanced, dual=True, penalty=l2, solver=lbfgs, score=nan, total=   0.0s\n",
      "[CV] C=10, class_weight=balanced, dual=True, penalty=l2, solver=lbfgs \n",
      "[CV]  C=10, class_weight=balanced, dual=True, penalty=l2, solver=lbfgs, score=nan, total=   0.0s\n",
      "[CV] C=10, class_weight=balanced, dual=True, penalty=l2, solver=lbfgs \n",
      "[CV]  C=10, class_weight=balanced, dual=True, penalty=l2, solver=lbfgs, score=nan, total=   0.0s\n",
      "[CV] C=10, class_weight=balanced, dual=True, penalty=l2, solver=sag ..\n",
      "[CV]  C=10, class_weight=balanced, dual=True, penalty=l2, solver=sag, score=nan, total=   0.0s\n",
      "[CV] C=10, class_weight=balanced, dual=True, penalty=l2, solver=sag ..\n",
      "[CV]  C=10, class_weight=balanced, dual=True, penalty=l2, solver=sag, score=nan, total=   0.0s\n",
      "[CV] C=10, class_weight=balanced, dual=True, penalty=l2, solver=sag ..\n",
      "[CV]  C=10, class_weight=balanced, dual=True, penalty=l2, solver=sag, score=nan, total=   0.0s\n",
      "[CV] C=10, class_weight=balanced, dual=True, penalty=l2, solver=sag ..\n",
      "[CV]  C=10, class_weight=balanced, dual=True, penalty=l2, solver=sag, score=nan, total=   0.0s\n",
      "[CV] C=10, class_weight=balanced, dual=True, penalty=l2, solver=sag ..\n",
      "[CV]  C=10, class_weight=balanced, dual=True, penalty=l2, solver=sag, score=nan, total=   0.0s\n",
      "[CV] C=10, class_weight=balanced, dual=True, penalty=l2, solver=saga .\n",
      "[CV]  C=10, class_weight=balanced, dual=True, penalty=l2, solver=saga, score=nan, total=   0.0s\n",
      "[CV] C=10, class_weight=balanced, dual=True, penalty=l2, solver=saga .\n",
      "[CV]  C=10, class_weight=balanced, dual=True, penalty=l2, solver=saga, score=nan, total=   0.0s\n",
      "[CV] C=10, class_weight=balanced, dual=True, penalty=l2, solver=saga .\n",
      "[CV]  C=10, class_weight=balanced, dual=True, penalty=l2, solver=saga, score=nan, total=   0.0s\n",
      "[CV] C=10, class_weight=balanced, dual=True, penalty=l2, solver=saga .\n",
      "[CV]  C=10, class_weight=balanced, dual=True, penalty=l2, solver=saga, score=nan, total=   0.0s\n",
      "[CV] C=10, class_weight=balanced, dual=True, penalty=l2, solver=saga .\n",
      "[CV]  C=10, class_weight=balanced, dual=True, penalty=l2, solver=saga, score=nan, total=   0.0s\n",
      "[CV] C=10, class_weight=balanced, dual=True, penalty=l2, solver=liblinear \n"
     ]
    },
    {
     "name": "stderr",
     "output_type": "stream",
     "text": [
      "C:\\ProgramData\\Anaconda3\\lib\\site-packages\\sklearn\\svm\\_base.py:976: ConvergenceWarning: Liblinear failed to converge, increase the number of iterations.\n",
      "  warnings.warn(\"Liblinear failed to converge, increase \"\n"
     ]
    },
    {
     "name": "stdout",
     "output_type": "stream",
     "text": [
      "[CV]  C=10, class_weight=balanced, dual=True, penalty=l2, solver=liblinear, score=0.713, total=   0.1s\n",
      "[CV] C=10, class_weight=balanced, dual=True, penalty=l2, solver=liblinear \n",
      "[CV]  C=10, class_weight=balanced, dual=True, penalty=l2, solver=liblinear, score=0.756, total=   0.1s\n",
      "[CV] C=10, class_weight=balanced, dual=True, penalty=l2, solver=liblinear \n",
      "[CV]  C=10, class_weight=balanced, dual=True, penalty=l2, solver=liblinear, score=0.685, total=   0.2s\n",
      "[CV] C=10, class_weight=balanced, dual=True, penalty=l2, solver=liblinear \n",
      "[CV]  C=10, class_weight=balanced, dual=True, penalty=l2, solver=liblinear, score=0.765, total=   0.2s\n",
      "[CV] C=10, class_weight=balanced, dual=True, penalty=l2, solver=liblinear \n",
      "[CV]  C=10, class_weight=balanced, dual=True, penalty=l2, solver=liblinear, score=0.761, total=   0.2s\n",
      "[CV] C=10, class_weight=balanced, dual=True, penalty=elasticnet, solver=newton-cg \n",
      "[CV]  C=10, class_weight=balanced, dual=True, penalty=elasticnet, solver=newton-cg, score=nan, total=   0.0s\n",
      "[CV] C=10, class_weight=balanced, dual=True, penalty=elasticnet, solver=newton-cg \n",
      "[CV]  C=10, class_weight=balanced, dual=True, penalty=elasticnet, solver=newton-cg, score=nan, total=   0.0s\n",
      "[CV] C=10, class_weight=balanced, dual=True, penalty=elasticnet, solver=newton-cg \n",
      "[CV]  C=10, class_weight=balanced, dual=True, penalty=elasticnet, solver=newton-cg, score=nan, total=   0.0s\n",
      "[CV] C=10, class_weight=balanced, dual=True, penalty=elasticnet, solver=newton-cg \n",
      "[CV]  C=10, class_weight=balanced, dual=True, penalty=elasticnet, solver=newton-cg, score=nan, total=   0.0s\n",
      "[CV] C=10, class_weight=balanced, dual=True, penalty=elasticnet, solver=newton-cg \n",
      "[CV]  C=10, class_weight=balanced, dual=True, penalty=elasticnet, solver=newton-cg, score=nan, total=   0.0s\n",
      "[CV] C=10, class_weight=balanced, dual=True, penalty=elasticnet, solver=lbfgs \n",
      "[CV]  C=10, class_weight=balanced, dual=True, penalty=elasticnet, solver=lbfgs, score=nan, total=   0.0s\n",
      "[CV] C=10, class_weight=balanced, dual=True, penalty=elasticnet, solver=lbfgs \n",
      "[CV]  C=10, class_weight=balanced, dual=True, penalty=elasticnet, solver=lbfgs, score=nan, total=   0.0s\n",
      "[CV] C=10, class_weight=balanced, dual=True, penalty=elasticnet, solver=lbfgs \n",
      "[CV]  C=10, class_weight=balanced, dual=True, penalty=elasticnet, solver=lbfgs, score=nan, total=   0.0s\n",
      "[CV] C=10, class_weight=balanced, dual=True, penalty=elasticnet, solver=lbfgs \n",
      "[CV]  C=10, class_weight=balanced, dual=True, penalty=elasticnet, solver=lbfgs, score=nan, total=   0.0s\n",
      "[CV] C=10, class_weight=balanced, dual=True, penalty=elasticnet, solver=lbfgs \n",
      "[CV]  C=10, class_weight=balanced, dual=True, penalty=elasticnet, solver=lbfgs, score=nan, total=   0.0s\n",
      "[CV] C=10, class_weight=balanced, dual=True, penalty=elasticnet, solver=sag \n",
      "[CV]  C=10, class_weight=balanced, dual=True, penalty=elasticnet, solver=sag, score=nan, total=   0.0s\n",
      "[CV] C=10, class_weight=balanced, dual=True, penalty=elasticnet, solver=sag \n",
      "[CV]  C=10, class_weight=balanced, dual=True, penalty=elasticnet, solver=sag, score=nan, total=   0.0s\n",
      "[CV] C=10, class_weight=balanced, dual=True, penalty=elasticnet, solver=sag \n",
      "[CV]  C=10, class_weight=balanced, dual=True, penalty=elasticnet, solver=sag, score=nan, total=   0.0s\n",
      "[CV] C=10, class_weight=balanced, dual=True, penalty=elasticnet, solver=sag \n",
      "[CV]  C=10, class_weight=balanced, dual=True, penalty=elasticnet, solver=sag, score=nan, total=   0.0s\n",
      "[CV] C=10, class_weight=balanced, dual=True, penalty=elasticnet, solver=sag \n",
      "[CV]  C=10, class_weight=balanced, dual=True, penalty=elasticnet, solver=sag, score=nan, total=   0.0s\n",
      "[CV] C=10, class_weight=balanced, dual=True, penalty=elasticnet, solver=saga \n",
      "[CV]  C=10, class_weight=balanced, dual=True, penalty=elasticnet, solver=saga, score=nan, total=   0.0s\n",
      "[CV] C=10, class_weight=balanced, dual=True, penalty=elasticnet, solver=saga \n",
      "[CV]  C=10, class_weight=balanced, dual=True, penalty=elasticnet, solver=saga, score=nan, total=   0.0s\n",
      "[CV] C=10, class_weight=balanced, dual=True, penalty=elasticnet, solver=saga \n",
      "[CV]  C=10, class_weight=balanced, dual=True, penalty=elasticnet, solver=saga, score=nan, total=   0.0s\n",
      "[CV] C=10, class_weight=balanced, dual=True, penalty=elasticnet, solver=saga \n",
      "[CV]  C=10, class_weight=balanced, dual=True, penalty=elasticnet, solver=saga, score=nan, total=   0.0s\n",
      "[CV] C=10, class_weight=balanced, dual=True, penalty=elasticnet, solver=saga \n",
      "[CV]  C=10, class_weight=balanced, dual=True, penalty=elasticnet, solver=saga, score=nan, total=   0.0s\n",
      "[CV] C=10, class_weight=balanced, dual=True, penalty=elasticnet, solver=liblinear \n",
      "[CV]  C=10, class_weight=balanced, dual=True, penalty=elasticnet, solver=liblinear, score=nan, total=   0.0s\n",
      "[CV] C=10, class_weight=balanced, dual=True, penalty=elasticnet, solver=liblinear \n",
      "[CV]  C=10, class_weight=balanced, dual=True, penalty=elasticnet, solver=liblinear, score=nan, total=   0.0s\n",
      "[CV] C=10, class_weight=balanced, dual=True, penalty=elasticnet, solver=liblinear \n",
      "[CV]  C=10, class_weight=balanced, dual=True, penalty=elasticnet, solver=liblinear, score=nan, total=   0.0s\n",
      "[CV] C=10, class_weight=balanced, dual=True, penalty=elasticnet, solver=liblinear \n",
      "[CV]  C=10, class_weight=balanced, dual=True, penalty=elasticnet, solver=liblinear, score=nan, total=   0.0s\n",
      "[CV] C=10, class_weight=balanced, dual=True, penalty=elasticnet, solver=liblinear \n",
      "[CV]  C=10, class_weight=balanced, dual=True, penalty=elasticnet, solver=liblinear, score=nan, total=   0.0s\n",
      "[CV] C=10, class_weight=balanced, dual=False, penalty=l1, solver=newton-cg \n",
      "[CV]  C=10, class_weight=balanced, dual=False, penalty=l1, solver=newton-cg, score=nan, total=   0.0s\n",
      "[CV] C=10, class_weight=balanced, dual=False, penalty=l1, solver=newton-cg \n",
      "[CV]  C=10, class_weight=balanced, dual=False, penalty=l1, solver=newton-cg, score=nan, total=   0.0s\n",
      "[CV] C=10, class_weight=balanced, dual=False, penalty=l1, solver=newton-cg \n",
      "[CV]  C=10, class_weight=balanced, dual=False, penalty=l1, solver=newton-cg, score=nan, total=   0.0s\n",
      "[CV] C=10, class_weight=balanced, dual=False, penalty=l1, solver=newton-cg \n",
      "[CV]  C=10, class_weight=balanced, dual=False, penalty=l1, solver=newton-cg, score=nan, total=   0.0s\n",
      "[CV] C=10, class_weight=balanced, dual=False, penalty=l1, solver=newton-cg \n",
      "[CV]  C=10, class_weight=balanced, dual=False, penalty=l1, solver=newton-cg, score=nan, total=   0.0s\n",
      "[CV] C=10, class_weight=balanced, dual=False, penalty=l1, solver=lbfgs \n",
      "[CV]  C=10, class_weight=balanced, dual=False, penalty=l1, solver=lbfgs, score=nan, total=   0.0s\n",
      "[CV] C=10, class_weight=balanced, dual=False, penalty=l1, solver=lbfgs \n",
      "[CV]  C=10, class_weight=balanced, dual=False, penalty=l1, solver=lbfgs, score=nan, total=   0.0s\n",
      "[CV] C=10, class_weight=balanced, dual=False, penalty=l1, solver=lbfgs \n",
      "[CV]  C=10, class_weight=balanced, dual=False, penalty=l1, solver=lbfgs, score=nan, total=   0.0s\n",
      "[CV] C=10, class_weight=balanced, dual=False, penalty=l1, solver=lbfgs \n",
      "[CV]  C=10, class_weight=balanced, dual=False, penalty=l1, solver=lbfgs, score=nan, total=   0.0s\n",
      "[CV] C=10, class_weight=balanced, dual=False, penalty=l1, solver=lbfgs \n",
      "[CV]  C=10, class_weight=balanced, dual=False, penalty=l1, solver=lbfgs, score=nan, total=   0.0s\n",
      "[CV] C=10, class_weight=balanced, dual=False, penalty=l1, solver=sag .\n",
      "[CV]  C=10, class_weight=balanced, dual=False, penalty=l1, solver=sag, score=nan, total=   0.0s\n",
      "[CV] C=10, class_weight=balanced, dual=False, penalty=l1, solver=sag .\n",
      "[CV]  C=10, class_weight=balanced, dual=False, penalty=l1, solver=sag, score=nan, total=   0.0s\n",
      "[CV] C=10, class_weight=balanced, dual=False, penalty=l1, solver=sag .\n",
      "[CV]  C=10, class_weight=balanced, dual=False, penalty=l1, solver=sag, score=nan, total=   0.0s\n",
      "[CV] C=10, class_weight=balanced, dual=False, penalty=l1, solver=sag .\n",
      "[CV]  C=10, class_weight=balanced, dual=False, penalty=l1, solver=sag, score=nan, total=   0.0s\n",
      "[CV] C=10, class_weight=balanced, dual=False, penalty=l1, solver=sag .\n",
      "[CV]  C=10, class_weight=balanced, dual=False, penalty=l1, solver=sag, score=nan, total=   0.0s\n",
      "[CV] C=10, class_weight=balanced, dual=False, penalty=l1, solver=saga \n"
     ]
    },
    {
     "name": "stderr",
     "output_type": "stream",
     "text": [
      "C:\\ProgramData\\Anaconda3\\lib\\site-packages\\sklearn\\linear_model\\_sag.py:329: ConvergenceWarning: The max_iter was reached which means the coef_ did not converge\n",
      "  warnings.warn(\"The max_iter was reached which means \"\n"
     ]
    },
    {
     "name": "stdout",
     "output_type": "stream",
     "text": [
      "[CV]  C=10, class_weight=balanced, dual=False, penalty=l1, solver=saga, score=0.691, total=   9.0s\n",
      "[CV] C=10, class_weight=balanced, dual=False, penalty=l1, solver=saga \n"
     ]
    },
    {
     "name": "stderr",
     "output_type": "stream",
     "text": [
      "C:\\ProgramData\\Anaconda3\\lib\\site-packages\\sklearn\\linear_model\\_sag.py:329: ConvergenceWarning: The max_iter was reached which means the coef_ did not converge\n",
      "  warnings.warn(\"The max_iter was reached which means \"\n"
     ]
    },
    {
     "name": "stdout",
     "output_type": "stream",
     "text": [
      "[CV]  C=10, class_weight=balanced, dual=False, penalty=l1, solver=saga, score=0.773, total=   6.4s\n",
      "[CV] C=10, class_weight=balanced, dual=False, penalty=l1, solver=saga \n"
     ]
    },
    {
     "name": "stderr",
     "output_type": "stream",
     "text": [
      "C:\\ProgramData\\Anaconda3\\lib\\site-packages\\sklearn\\linear_model\\_sag.py:329: ConvergenceWarning: The max_iter was reached which means the coef_ did not converge\n",
      "  warnings.warn(\"The max_iter was reached which means \"\n"
     ]
    },
    {
     "name": "stdout",
     "output_type": "stream",
     "text": [
      "[CV]  C=10, class_weight=balanced, dual=False, penalty=l1, solver=saga, score=0.692, total=   9.9s\n",
      "[CV] C=10, class_weight=balanced, dual=False, penalty=l1, solver=saga \n"
     ]
    },
    {
     "name": "stderr",
     "output_type": "stream",
     "text": [
      "C:\\ProgramData\\Anaconda3\\lib\\site-packages\\sklearn\\linear_model\\_sag.py:329: ConvergenceWarning: The max_iter was reached which means the coef_ did not converge\n",
      "  warnings.warn(\"The max_iter was reached which means \"\n"
     ]
    },
    {
     "name": "stdout",
     "output_type": "stream",
     "text": [
      "[CV]  C=10, class_weight=balanced, dual=False, penalty=l1, solver=saga, score=0.755, total=   9.9s\n",
      "[CV] C=10, class_weight=balanced, dual=False, penalty=l1, solver=saga \n"
     ]
    },
    {
     "name": "stderr",
     "output_type": "stream",
     "text": [
      "C:\\ProgramData\\Anaconda3\\lib\\site-packages\\sklearn\\linear_model\\_sag.py:329: ConvergenceWarning: The max_iter was reached which means the coef_ did not converge\n",
      "  warnings.warn(\"The max_iter was reached which means \"\n"
     ]
    },
    {
     "name": "stdout",
     "output_type": "stream",
     "text": [
      "[CV]  C=10, class_weight=balanced, dual=False, penalty=l1, solver=saga, score=0.792, total=   9.8s\n",
      "[CV] C=10, class_weight=balanced, dual=False, penalty=l1, solver=liblinear \n"
     ]
    },
    {
     "name": "stderr",
     "output_type": "stream",
     "text": [
      "C:\\ProgramData\\Anaconda3\\lib\\site-packages\\sklearn\\svm\\_base.py:976: ConvergenceWarning: Liblinear failed to converge, increase the number of iterations.\n",
      "  warnings.warn(\"Liblinear failed to converge, increase \"\n"
     ]
    },
    {
     "name": "stdout",
     "output_type": "stream",
     "text": [
      "[CV]  C=10, class_weight=balanced, dual=False, penalty=l1, solver=liblinear, score=0.695, total=   2.0s\n",
      "[CV] C=10, class_weight=balanced, dual=False, penalty=l1, solver=liblinear \n",
      "[CV]  C=10, class_weight=balanced, dual=False, penalty=l1, solver=liblinear, score=0.756, total=   0.1s\n",
      "[CV] C=10, class_weight=balanced, dual=False, penalty=l1, solver=liblinear \n",
      "[CV]  C=10, class_weight=balanced, dual=False, penalty=l1, solver=liblinear, score=0.691, total=   0.1s\n",
      "[CV] C=10, class_weight=balanced, dual=False, penalty=l1, solver=liblinear \n",
      "[CV]  C=10, class_weight=balanced, dual=False, penalty=l1, solver=liblinear, score=0.777, total=   0.1s\n",
      "[CV] C=10, class_weight=balanced, dual=False, penalty=l1, solver=liblinear \n",
      "[CV]  C=10, class_weight=balanced, dual=False, penalty=l1, solver=liblinear, score=0.663, total=   0.1s\n",
      "[CV] C=10, class_weight=balanced, dual=False, penalty=l2, solver=newton-cg \n",
      "[CV]  C=10, class_weight=balanced, dual=False, penalty=l2, solver=newton-cg, score=0.695, total=   0.3s\n",
      "[CV] C=10, class_weight=balanced, dual=False, penalty=l2, solver=newton-cg \n",
      "[CV]  C=10, class_weight=balanced, dual=False, penalty=l2, solver=newton-cg, score=0.776, total=   0.3s\n",
      "[CV] C=10, class_weight=balanced, dual=False, penalty=l2, solver=newton-cg \n",
      "[CV]  C=10, class_weight=balanced, dual=False, penalty=l2, solver=newton-cg, score=0.690, total=   0.3s\n",
      "[CV] C=10, class_weight=balanced, dual=False, penalty=l2, solver=newton-cg \n",
      "[CV]  C=10, class_weight=balanced, dual=False, penalty=l2, solver=newton-cg, score=0.781, total=   0.3s\n",
      "[CV] C=10, class_weight=balanced, dual=False, penalty=l2, solver=newton-cg \n",
      "[CV]  C=10, class_weight=balanced, dual=False, penalty=l2, solver=newton-cg, score=0.759, total=   0.3s\n",
      "[CV] C=10, class_weight=balanced, dual=False, penalty=l2, solver=lbfgs \n"
     ]
    },
    {
     "name": "stderr",
     "output_type": "stream",
     "text": [
      "C:\\ProgramData\\Anaconda3\\lib\\site-packages\\sklearn\\linear_model\\_logistic.py:762: ConvergenceWarning: lbfgs failed to converge (status=1):\n",
      "STOP: TOTAL NO. of ITERATIONS REACHED LIMIT.\n",
      "\n",
      "Increase the number of iterations (max_iter) or scale the data as shown in:\n",
      "    https://scikit-learn.org/stable/modules/preprocessing.html\n",
      "Please also refer to the documentation for alternative solver options:\n",
      "    https://scikit-learn.org/stable/modules/linear_model.html#logistic-regression\n",
      "  n_iter_i = _check_optimize_result(\n"
     ]
    },
    {
     "name": "stdout",
     "output_type": "stream",
     "text": [
      "[CV]  C=10, class_weight=balanced, dual=False, penalty=l2, solver=lbfgs, score=0.695, total=   0.5s\n",
      "[CV] C=10, class_weight=balanced, dual=False, penalty=l2, solver=lbfgs \n"
     ]
    },
    {
     "name": "stderr",
     "output_type": "stream",
     "text": [
      "C:\\ProgramData\\Anaconda3\\lib\\site-packages\\sklearn\\linear_model\\_logistic.py:762: ConvergenceWarning: lbfgs failed to converge (status=1):\n",
      "STOP: TOTAL NO. of ITERATIONS REACHED LIMIT.\n",
      "\n",
      "Increase the number of iterations (max_iter) or scale the data as shown in:\n",
      "    https://scikit-learn.org/stable/modules/preprocessing.html\n",
      "Please also refer to the documentation for alternative solver options:\n",
      "    https://scikit-learn.org/stable/modules/linear_model.html#logistic-regression\n",
      "  n_iter_i = _check_optimize_result(\n"
     ]
    },
    {
     "name": "stdout",
     "output_type": "stream",
     "text": [
      "[CV]  C=10, class_weight=balanced, dual=False, penalty=l2, solver=lbfgs, score=0.776, total=   0.5s\n",
      "[CV] C=10, class_weight=balanced, dual=False, penalty=l2, solver=lbfgs \n"
     ]
    },
    {
     "name": "stderr",
     "output_type": "stream",
     "text": [
      "C:\\ProgramData\\Anaconda3\\lib\\site-packages\\sklearn\\linear_model\\_logistic.py:762: ConvergenceWarning: lbfgs failed to converge (status=1):\n",
      "STOP: TOTAL NO. of ITERATIONS REACHED LIMIT.\n",
      "\n",
      "Increase the number of iterations (max_iter) or scale the data as shown in:\n",
      "    https://scikit-learn.org/stable/modules/preprocessing.html\n",
      "Please also refer to the documentation for alternative solver options:\n",
      "    https://scikit-learn.org/stable/modules/linear_model.html#logistic-regression\n",
      "  n_iter_i = _check_optimize_result(\n"
     ]
    },
    {
     "name": "stdout",
     "output_type": "stream",
     "text": [
      "[CV]  C=10, class_weight=balanced, dual=False, penalty=l2, solver=lbfgs, score=0.690, total=   0.6s\n",
      "[CV] C=10, class_weight=balanced, dual=False, penalty=l2, solver=lbfgs \n"
     ]
    },
    {
     "name": "stderr",
     "output_type": "stream",
     "text": [
      "C:\\ProgramData\\Anaconda3\\lib\\site-packages\\sklearn\\linear_model\\_logistic.py:762: ConvergenceWarning: lbfgs failed to converge (status=1):\n",
      "STOP: TOTAL NO. of ITERATIONS REACHED LIMIT.\n",
      "\n",
      "Increase the number of iterations (max_iter) or scale the data as shown in:\n",
      "    https://scikit-learn.org/stable/modules/preprocessing.html\n",
      "Please also refer to the documentation for alternative solver options:\n",
      "    https://scikit-learn.org/stable/modules/linear_model.html#logistic-regression\n",
      "  n_iter_i = _check_optimize_result(\n"
     ]
    },
    {
     "name": "stdout",
     "output_type": "stream",
     "text": [
      "[CV]  C=10, class_weight=balanced, dual=False, penalty=l2, solver=lbfgs, score=0.781, total=   0.5s\n",
      "[CV] C=10, class_weight=balanced, dual=False, penalty=l2, solver=lbfgs \n"
     ]
    },
    {
     "name": "stderr",
     "output_type": "stream",
     "text": [
      "C:\\ProgramData\\Anaconda3\\lib\\site-packages\\sklearn\\linear_model\\_logistic.py:762: ConvergenceWarning: lbfgs failed to converge (status=1):\n",
      "STOP: TOTAL NO. of ITERATIONS REACHED LIMIT.\n",
      "\n",
      "Increase the number of iterations (max_iter) or scale the data as shown in:\n",
      "    https://scikit-learn.org/stable/modules/preprocessing.html\n",
      "Please also refer to the documentation for alternative solver options:\n",
      "    https://scikit-learn.org/stable/modules/linear_model.html#logistic-regression\n",
      "  n_iter_i = _check_optimize_result(\n",
      "C:\\ProgramData\\Anaconda3\\lib\\site-packages\\sklearn\\linear_model\\_sag.py:329: ConvergenceWarning: The max_iter was reached which means the coef_ did not converge\n",
      "  warnings.warn(\"The max_iter was reached which means \"\n"
     ]
    },
    {
     "name": "stdout",
     "output_type": "stream",
     "text": [
      "[CV]  C=10, class_weight=balanced, dual=False, penalty=l2, solver=lbfgs, score=0.759, total=   0.5s\n",
      "[CV] C=10, class_weight=balanced, dual=False, penalty=l2, solver=sag .\n",
      "[CV]  C=10, class_weight=balanced, dual=False, penalty=l2, solver=sag, score=0.703, total=   0.2s\n",
      "[CV] C=10, class_weight=balanced, dual=False, penalty=l2, solver=sag .\n"
     ]
    },
    {
     "name": "stderr",
     "output_type": "stream",
     "text": [
      "C:\\ProgramData\\Anaconda3\\lib\\site-packages\\sklearn\\linear_model\\_sag.py:329: ConvergenceWarning: The max_iter was reached which means the coef_ did not converge\n",
      "  warnings.warn(\"The max_iter was reached which means \"\n",
      "C:\\ProgramData\\Anaconda3\\lib\\site-packages\\sklearn\\linear_model\\_sag.py:329: ConvergenceWarning: The max_iter was reached which means the coef_ did not converge\n",
      "  warnings.warn(\"The max_iter was reached which means \"\n"
     ]
    },
    {
     "name": "stdout",
     "output_type": "stream",
     "text": [
      "[CV]  C=10, class_weight=balanced, dual=False, penalty=l2, solver=sag, score=0.755, total=   0.2s\n",
      "[CV] C=10, class_weight=balanced, dual=False, penalty=l2, solver=sag .\n"
     ]
    },
    {
     "name": "stderr",
     "output_type": "stream",
     "text": [
      "C:\\ProgramData\\Anaconda3\\lib\\site-packages\\sklearn\\linear_model\\_sag.py:329: ConvergenceWarning: The max_iter was reached which means the coef_ did not converge\n",
      "  warnings.warn(\"The max_iter was reached which means \"\n"
     ]
    },
    {
     "name": "stdout",
     "output_type": "stream",
     "text": [
      "[CV]  C=10, class_weight=balanced, dual=False, penalty=l2, solver=sag, score=0.686, total=   0.2s\n",
      "[CV] C=10, class_weight=balanced, dual=False, penalty=l2, solver=sag .\n"
     ]
    },
    {
     "name": "stderr",
     "output_type": "stream",
     "text": [
      "C:\\ProgramData\\Anaconda3\\lib\\site-packages\\sklearn\\linear_model\\_sag.py:329: ConvergenceWarning: The max_iter was reached which means the coef_ did not converge\n",
      "  warnings.warn(\"The max_iter was reached which means \"\n"
     ]
    },
    {
     "name": "stdout",
     "output_type": "stream",
     "text": [
      "[CV]  C=10, class_weight=balanced, dual=False, penalty=l2, solver=sag, score=0.761, total=   0.2s\n",
      "[CV] C=10, class_weight=balanced, dual=False, penalty=l2, solver=sag .\n",
      "[CV]  C=10, class_weight=balanced, dual=False, penalty=l2, solver=sag, score=0.811, total=   0.2s\n",
      "[CV] C=10, class_weight=balanced, dual=False, penalty=l2, solver=saga \n"
     ]
    },
    {
     "name": "stderr",
     "output_type": "stream",
     "text": [
      "C:\\ProgramData\\Anaconda3\\lib\\site-packages\\sklearn\\linear_model\\_sag.py:329: ConvergenceWarning: The max_iter was reached which means the coef_ did not converge\n",
      "  warnings.warn(\"The max_iter was reached which means \"\n"
     ]
    },
    {
     "name": "stdout",
     "output_type": "stream",
     "text": [
      "[CV]  C=10, class_weight=balanced, dual=False, penalty=l2, solver=saga, score=0.691, total=   0.2s\n",
      "[CV] C=10, class_weight=balanced, dual=False, penalty=l2, solver=saga \n"
     ]
    },
    {
     "name": "stderr",
     "output_type": "stream",
     "text": [
      "C:\\ProgramData\\Anaconda3\\lib\\site-packages\\sklearn\\linear_model\\_sag.py:329: ConvergenceWarning: The max_iter was reached which means the coef_ did not converge\n",
      "  warnings.warn(\"The max_iter was reached which means \"\n"
     ]
    },
    {
     "name": "stdout",
     "output_type": "stream",
     "text": [
      "[CV]  C=10, class_weight=balanced, dual=False, penalty=l2, solver=saga, score=0.758, total=   0.2s\n",
      "[CV] C=10, class_weight=balanced, dual=False, penalty=l2, solver=saga \n"
     ]
    },
    {
     "name": "stderr",
     "output_type": "stream",
     "text": [
      "C:\\ProgramData\\Anaconda3\\lib\\site-packages\\sklearn\\linear_model\\_sag.py:329: ConvergenceWarning: The max_iter was reached which means the coef_ did not converge\n",
      "  warnings.warn(\"The max_iter was reached which means \"\n"
     ]
    },
    {
     "name": "stdout",
     "output_type": "stream",
     "text": [
      "[CV]  C=10, class_weight=balanced, dual=False, penalty=l2, solver=saga, score=0.689, total=   0.2s\n",
      "[CV] C=10, class_weight=balanced, dual=False, penalty=l2, solver=saga \n"
     ]
    },
    {
     "name": "stderr",
     "output_type": "stream",
     "text": [
      "C:\\ProgramData\\Anaconda3\\lib\\site-packages\\sklearn\\linear_model\\_sag.py:329: ConvergenceWarning: The max_iter was reached which means the coef_ did not converge\n",
      "  warnings.warn(\"The max_iter was reached which means \"\n"
     ]
    },
    {
     "name": "stdout",
     "output_type": "stream",
     "text": [
      "[CV]  C=10, class_weight=balanced, dual=False, penalty=l2, solver=saga, score=0.758, total=   0.2s\n",
      "[CV] C=10, class_weight=balanced, dual=False, penalty=l2, solver=saga \n"
     ]
    },
    {
     "name": "stderr",
     "output_type": "stream",
     "text": [
      "C:\\ProgramData\\Anaconda3\\lib\\site-packages\\sklearn\\linear_model\\_sag.py:329: ConvergenceWarning: The max_iter was reached which means the coef_ did not converge\n",
      "  warnings.warn(\"The max_iter was reached which means \"\n"
     ]
    },
    {
     "name": "stdout",
     "output_type": "stream",
     "text": [
      "[CV]  C=10, class_weight=balanced, dual=False, penalty=l2, solver=saga, score=0.788, total=   0.2s\n",
      "[CV] C=10, class_weight=balanced, dual=False, penalty=l2, solver=liblinear \n",
      "[CV]  C=10, class_weight=balanced, dual=False, penalty=l2, solver=liblinear, score=0.713, total=   0.1s\n",
      "[CV] C=10, class_weight=balanced, dual=False, penalty=l2, solver=liblinear \n",
      "[CV]  C=10, class_weight=balanced, dual=False, penalty=l2, solver=liblinear, score=0.756, total=   0.1s\n",
      "[CV] C=10, class_weight=balanced, dual=False, penalty=l2, solver=liblinear \n",
      "[CV]  C=10, class_weight=balanced, dual=False, penalty=l2, solver=liblinear, score=0.685, total=   0.1s\n",
      "[CV] C=10, class_weight=balanced, dual=False, penalty=l2, solver=liblinear \n",
      "[CV]  C=10, class_weight=balanced, dual=False, penalty=l2, solver=liblinear, score=0.765, total=   0.1s\n",
      "[CV] C=10, class_weight=balanced, dual=False, penalty=l2, solver=liblinear \n",
      "[CV]  C=10, class_weight=balanced, dual=False, penalty=l2, solver=liblinear, score=0.761, total=   0.1s\n",
      "[CV] C=10, class_weight=balanced, dual=False, penalty=elasticnet, solver=newton-cg \n",
      "[CV]  C=10, class_weight=balanced, dual=False, penalty=elasticnet, solver=newton-cg, score=nan, total=   0.0s\n",
      "[CV] C=10, class_weight=balanced, dual=False, penalty=elasticnet, solver=newton-cg \n",
      "[CV]  C=10, class_weight=balanced, dual=False, penalty=elasticnet, solver=newton-cg, score=nan, total=   0.0s\n",
      "[CV] C=10, class_weight=balanced, dual=False, penalty=elasticnet, solver=newton-cg \n",
      "[CV]  C=10, class_weight=balanced, dual=False, penalty=elasticnet, solver=newton-cg, score=nan, total=   0.0s\n",
      "[CV] C=10, class_weight=balanced, dual=False, penalty=elasticnet, solver=newton-cg \n",
      "[CV]  C=10, class_weight=balanced, dual=False, penalty=elasticnet, solver=newton-cg, score=nan, total=   0.0s\n",
      "[CV] C=10, class_weight=balanced, dual=False, penalty=elasticnet, solver=newton-cg \n",
      "[CV]  C=10, class_weight=balanced, dual=False, penalty=elasticnet, solver=newton-cg, score=nan, total=   0.0s\n",
      "[CV] C=10, class_weight=balanced, dual=False, penalty=elasticnet, solver=lbfgs \n",
      "[CV]  C=10, class_weight=balanced, dual=False, penalty=elasticnet, solver=lbfgs, score=nan, total=   0.0s\n",
      "[CV] C=10, class_weight=balanced, dual=False, penalty=elasticnet, solver=lbfgs \n",
      "[CV]  C=10, class_weight=balanced, dual=False, penalty=elasticnet, solver=lbfgs, score=nan, total=   0.0s\n",
      "[CV] C=10, class_weight=balanced, dual=False, penalty=elasticnet, solver=lbfgs \n",
      "[CV]  C=10, class_weight=balanced, dual=False, penalty=elasticnet, solver=lbfgs, score=nan, total=   0.0s\n",
      "[CV] C=10, class_weight=balanced, dual=False, penalty=elasticnet, solver=lbfgs \n",
      "[CV]  C=10, class_weight=balanced, dual=False, penalty=elasticnet, solver=lbfgs, score=nan, total=   0.0s\n",
      "[CV] C=10, class_weight=balanced, dual=False, penalty=elasticnet, solver=lbfgs \n",
      "[CV]  C=10, class_weight=balanced, dual=False, penalty=elasticnet, solver=lbfgs, score=nan, total=   0.0s\n",
      "[CV] C=10, class_weight=balanced, dual=False, penalty=elasticnet, solver=sag "
     ]
    },
    {
     "name": "stderr",
     "output_type": "stream",
     "text": [
      "C:\\ProgramData\\Anaconda3\\lib\\site-packages\\sklearn\\model_selection\\_validation.py:548: FitFailedWarning: Estimator fit failed. The score on this train-test partition for these parameters will be set to nan. Details: \n",
      "Traceback (most recent call last):\n",
      "  File \"C:\\ProgramData\\Anaconda3\\lib\\site-packages\\sklearn\\model_selection\\_validation.py\", line 531, in _fit_and_score\n",
      "    estimator.fit(X_train, y_train, **fit_params)\n",
      "  File \"C:\\ProgramData\\Anaconda3\\lib\\site-packages\\sklearn\\linear_model\\_logistic.py\", line 1304, in fit\n",
      "    solver = _check_solver(self.solver, self.penalty, self.dual)\n",
      "  File \"C:\\ProgramData\\Anaconda3\\lib\\site-packages\\sklearn\\linear_model\\_logistic.py\", line 442, in _check_solver\n",
      "    raise ValueError(\"Solver %s supports only 'l2' or 'none' penalties, \"\n",
      "ValueError: Solver newton-cg supports only 'l2' or 'none' penalties, got elasticnet penalty.\n",
      "\n",
      "  warnings.warn(\"Estimator fit failed. The score on this train-test\"\n",
      "C:\\ProgramData\\Anaconda3\\lib\\site-packages\\sklearn\\model_selection\\_validation.py:548: FitFailedWarning: Estimator fit failed. The score on this train-test partition for these parameters will be set to nan. Details: \n",
      "Traceback (most recent call last):\n",
      "  File \"C:\\ProgramData\\Anaconda3\\lib\\site-packages\\sklearn\\model_selection\\_validation.py\", line 531, in _fit_and_score\n",
      "    estimator.fit(X_train, y_train, **fit_params)\n",
      "  File \"C:\\ProgramData\\Anaconda3\\lib\\site-packages\\sklearn\\linear_model\\_logistic.py\", line 1304, in fit\n",
      "    solver = _check_solver(self.solver, self.penalty, self.dual)\n",
      "  File \"C:\\ProgramData\\Anaconda3\\lib\\site-packages\\sklearn\\linear_model\\_logistic.py\", line 442, in _check_solver\n",
      "    raise ValueError(\"Solver %s supports only 'l2' or 'none' penalties, \"\n",
      "ValueError: Solver lbfgs supports only 'l2' or 'none' penalties, got elasticnet penalty.\n",
      "\n",
      "  warnings.warn(\"Estimator fit failed. The score on this train-test\"\n",
      "C:\\ProgramData\\Anaconda3\\lib\\site-packages\\sklearn\\model_selection\\_validation.py:548: FitFailedWarning: Estimator fit failed. The score on this train-test partition for these parameters will be set to nan. Details: \n",
      "Traceback (most recent call last):\n",
      "  File \"C:\\ProgramData\\Anaconda3\\lib\\site-packages\\sklearn\\model_selection\\_validation.py\", line 531, in _fit_and_score\n",
      "    estimator.fit(X_train, y_train, **fit_params)\n",
      "  File \"C:\\ProgramData\\Anaconda3\\lib\\site-packages\\sklearn\\linear_model\\_logistic.py\", line 1304, in fit\n",
      "    solver = _check_solver(self.solver, self.penalty, self.dual)\n",
      "  File \"C:\\ProgramData\\Anaconda3\\lib\\site-packages\\sklearn\\linear_model\\_logistic.py\", line 442, in _check_solver\n",
      "    raise ValueError(\"Solver %s supports only 'l2' or 'none' penalties, \"\n",
      "ValueError: Solver sag supports only 'l2' or 'none' penalties, got elasticnet penalty.\n",
      "\n",
      "  warnings.warn(\"Estimator fit failed. The score on this train-test\"\n",
      "C:\\ProgramData\\Anaconda3\\lib\\site-packages\\sklearn\\model_selection\\_validation.py:548: FitFailedWarning: Estimator fit failed. The score on this train-test partition for these parameters will be set to nan. Details: \n",
      "Traceback (most recent call last):\n",
      "  File \"C:\\ProgramData\\Anaconda3\\lib\\site-packages\\sklearn\\model_selection\\_validation.py\", line 531, in _fit_and_score\n",
      "    estimator.fit(X_train, y_train, **fit_params)\n",
      "  File \"C:\\ProgramData\\Anaconda3\\lib\\site-packages\\sklearn\\linear_model\\_logistic.py\", line 1312, in fit\n",
      "    raise ValueError(\"l1_ratio must be between 0 and 1;\"\n",
      "ValueError: l1_ratio must be between 0 and 1; got (l1_ratio=None)\n",
      "\n",
      "  warnings.warn(\"Estimator fit failed. The score on this train-test\"\n",
      "C:\\ProgramData\\Anaconda3\\lib\\site-packages\\sklearn\\model_selection\\_validation.py:548: FitFailedWarning: Estimator fit failed. The score on this train-test partition for these parameters will be set to nan. Details: \n",
      "Traceback (most recent call last):\n",
      "  File \"C:\\ProgramData\\Anaconda3\\lib\\site-packages\\sklearn\\model_selection\\_validation.py\", line 531, in _fit_and_score\n",
      "    estimator.fit(X_train, y_train, **fit_params)\n",
      "  File \"C:\\ProgramData\\Anaconda3\\lib\\site-packages\\sklearn\\linear_model\\_logistic.py\", line 1304, in fit\n",
      "    solver = _check_solver(self.solver, self.penalty, self.dual)\n",
      "  File \"C:\\ProgramData\\Anaconda3\\lib\\site-packages\\sklearn\\linear_model\\_logistic.py\", line 449, in _check_solver\n",
      "    raise ValueError(\"Only 'saga' solver supports elasticnet penalty,\"\n",
      "ValueError: Only 'saga' solver supports elasticnet penalty, got solver=liblinear.\n",
      "\n",
      "  warnings.warn(\"Estimator fit failed. The score on this train-test\"\n",
      "C:\\ProgramData\\Anaconda3\\lib\\site-packages\\sklearn\\model_selection\\_validation.py:548: FitFailedWarning: Estimator fit failed. The score on this train-test partition for these parameters will be set to nan. Details: \n",
      "Traceback (most recent call last):\n",
      "  File \"C:\\ProgramData\\Anaconda3\\lib\\site-packages\\sklearn\\model_selection\\_validation.py\", line 531, in _fit_and_score\n",
      "    estimator.fit(X_train, y_train, **fit_params)\n",
      "  File \"C:\\ProgramData\\Anaconda3\\lib\\site-packages\\sklearn\\linear_model\\_logistic.py\", line 1304, in fit\n",
      "    solver = _check_solver(self.solver, self.penalty, self.dual)\n",
      "  File \"C:\\ProgramData\\Anaconda3\\lib\\site-packages\\sklearn\\linear_model\\_logistic.py\", line 442, in _check_solver\n",
      "    raise ValueError(\"Solver %s supports only 'l2' or 'none' penalties, \"\n",
      "ValueError: Solver newton-cg supports only 'l2' or 'none' penalties, got l1 penalty.\n",
      "\n",
      "  warnings.warn(\"Estimator fit failed. The score on this train-test\"\n",
      "C:\\ProgramData\\Anaconda3\\lib\\site-packages\\sklearn\\model_selection\\_validation.py:548: FitFailedWarning: Estimator fit failed. The score on this train-test partition for these parameters will be set to nan. Details: \n",
      "Traceback (most recent call last):\n",
      "  File \"C:\\ProgramData\\Anaconda3\\lib\\site-packages\\sklearn\\model_selection\\_validation.py\", line 531, in _fit_and_score\n",
      "    estimator.fit(X_train, y_train, **fit_params)\n",
      "  File \"C:\\ProgramData\\Anaconda3\\lib\\site-packages\\sklearn\\linear_model\\_logistic.py\", line 1304, in fit\n",
      "    solver = _check_solver(self.solver, self.penalty, self.dual)\n",
      "  File \"C:\\ProgramData\\Anaconda3\\lib\\site-packages\\sklearn\\linear_model\\_logistic.py\", line 442, in _check_solver\n",
      "    raise ValueError(\"Solver %s supports only 'l2' or 'none' penalties, \"\n",
      "ValueError: Solver lbfgs supports only 'l2' or 'none' penalties, got l1 penalty.\n",
      "\n",
      "  warnings.warn(\"Estimator fit failed. The score on this train-test\"\n",
      "C:\\ProgramData\\Anaconda3\\lib\\site-packages\\sklearn\\model_selection\\_validation.py:548: FitFailedWarning: Estimator fit failed. The score on this train-test partition for these parameters will be set to nan. Details: \n",
      "Traceback (most recent call last):\n",
      "  File \"C:\\ProgramData\\Anaconda3\\lib\\site-packages\\sklearn\\model_selection\\_validation.py\", line 531, in _fit_and_score\n",
      "    estimator.fit(X_train, y_train, **fit_params)\n",
      "  File \"C:\\ProgramData\\Anaconda3\\lib\\site-packages\\sklearn\\linear_model\\_logistic.py\", line 1304, in fit\n",
      "    solver = _check_solver(self.solver, self.penalty, self.dual)\n",
      "  File \"C:\\ProgramData\\Anaconda3\\lib\\site-packages\\sklearn\\linear_model\\_logistic.py\", line 442, in _check_solver\n",
      "    raise ValueError(\"Solver %s supports only 'l2' or 'none' penalties, \"\n",
      "ValueError: Solver sag supports only 'l2' or 'none' penalties, got l1 penalty.\n",
      "\n",
      "  warnings.warn(\"Estimator fit failed. The score on this train-test\"\n",
      "C:\\ProgramData\\Anaconda3\\lib\\site-packages\\sklearn\\model_selection\\_validation.py:548: FitFailedWarning: Estimator fit failed. The score on this train-test partition for these parameters will be set to nan. Details: \n",
      "Traceback (most recent call last):\n",
      "  File \"C:\\ProgramData\\Anaconda3\\lib\\site-packages\\sklearn\\model_selection\\_validation.py\", line 531, in _fit_and_score\n",
      "    estimator.fit(X_train, y_train, **fit_params)\n",
      "  File \"C:\\ProgramData\\Anaconda3\\lib\\site-packages\\sklearn\\linear_model\\_logistic.py\", line 1304, in fit\n",
      "    solver = _check_solver(self.solver, self.penalty, self.dual)\n",
      "  File \"C:\\ProgramData\\Anaconda3\\lib\\site-packages\\sklearn\\linear_model\\_logistic.py\", line 445, in _check_solver\n",
      "    raise ValueError(\"Solver %s supports only \"\n",
      "ValueError: Solver saga supports only dual=False, got dual=True\n",
      "\n",
      "  warnings.warn(\"Estimator fit failed. The score on this train-test\"\n",
      "C:\\ProgramData\\Anaconda3\\lib\\site-packages\\sklearn\\model_selection\\_validation.py:548: FitFailedWarning: Estimator fit failed. The score on this train-test partition for these parameters will be set to nan. Details: \n",
      "Traceback (most recent call last):\n",
      "  File \"C:\\ProgramData\\Anaconda3\\lib\\site-packages\\sklearn\\model_selection\\_validation.py\", line 531, in _fit_and_score\n",
      "    estimator.fit(X_train, y_train, **fit_params)\n",
      "  File \"C:\\ProgramData\\Anaconda3\\lib\\site-packages\\sklearn\\linear_model\\_logistic.py\", line 1356, in fit\n",
      "    self.coef_, self.intercept_, n_iter_ = _fit_liblinear(\n",
      "  File \"C:\\ProgramData\\Anaconda3\\lib\\site-packages\\sklearn\\svm\\_base.py\", line 965, in _fit_liblinear\n",
      "    solver_type = _get_liblinear_solver_type(multi_class, penalty, loss, dual)\n",
      "  File \"C:\\ProgramData\\Anaconda3\\lib\\site-packages\\sklearn\\svm\\_base.py\", line 821, in _get_liblinear_solver_type\n",
      "    raise ValueError('Unsupported set of arguments: %s, '\n",
      "ValueError: Unsupported set of arguments: The combination of penalty='l1' and loss='logistic_regression' are not supported when dual=True, Parameters: penalty='l1', loss='logistic_regression', dual=True\n",
      "\n",
      "  warnings.warn(\"Estimator fit failed. The score on this train-test\"\n",
      "C:\\ProgramData\\Anaconda3\\lib\\site-packages\\sklearn\\model_selection\\_validation.py:548: FitFailedWarning: Estimator fit failed. The score on this train-test partition for these parameters will be set to nan. Details: \n",
      "Traceback (most recent call last):\n",
      "  File \"C:\\ProgramData\\Anaconda3\\lib\\site-packages\\sklearn\\model_selection\\_validation.py\", line 531, in _fit_and_score\n",
      "    estimator.fit(X_train, y_train, **fit_params)\n",
      "  File \"C:\\ProgramData\\Anaconda3\\lib\\site-packages\\sklearn\\linear_model\\_logistic.py\", line 1304, in fit\n",
      "    solver = _check_solver(self.solver, self.penalty, self.dual)\n",
      "  File \"C:\\ProgramData\\Anaconda3\\lib\\site-packages\\sklearn\\linear_model\\_logistic.py\", line 445, in _check_solver\n",
      "    raise ValueError(\"Solver %s supports only \"\n",
      "ValueError: Solver newton-cg supports only dual=False, got dual=True\n",
      "\n",
      "  warnings.warn(\"Estimator fit failed. The score on this train-test\"\n",
      "C:\\ProgramData\\Anaconda3\\lib\\site-packages\\sklearn\\model_selection\\_validation.py:548: FitFailedWarning: Estimator fit failed. The score on this train-test partition for these parameters will be set to nan. Details: \n",
      "Traceback (most recent call last):\n",
      "  File \"C:\\ProgramData\\Anaconda3\\lib\\site-packages\\sklearn\\model_selection\\_validation.py\", line 531, in _fit_and_score\n",
      "    estimator.fit(X_train, y_train, **fit_params)\n",
      "  File \"C:\\ProgramData\\Anaconda3\\lib\\site-packages\\sklearn\\linear_model\\_logistic.py\", line 1304, in fit\n",
      "    solver = _check_solver(self.solver, self.penalty, self.dual)\n",
      "  File \"C:\\ProgramData\\Anaconda3\\lib\\site-packages\\sklearn\\linear_model\\_logistic.py\", line 445, in _check_solver\n",
      "    raise ValueError(\"Solver %s supports only \"\n",
      "ValueError: Solver lbfgs supports only dual=False, got dual=True\n",
      "\n",
      "  warnings.warn(\"Estimator fit failed. The score on this train-test\"\n",
      "C:\\ProgramData\\Anaconda3\\lib\\site-packages\\sklearn\\model_selection\\_validation.py:548: FitFailedWarning: Estimator fit failed. The score on this train-test partition for these parameters will be set to nan. Details: \n",
      "Traceback (most recent call last):\n",
      "  File \"C:\\ProgramData\\Anaconda3\\lib\\site-packages\\sklearn\\model_selection\\_validation.py\", line 531, in _fit_and_score\n",
      "    estimator.fit(X_train, y_train, **fit_params)\n",
      "  File \"C:\\ProgramData\\Anaconda3\\lib\\site-packages\\sklearn\\linear_model\\_logistic.py\", line 1304, in fit\n",
      "    solver = _check_solver(self.solver, self.penalty, self.dual)\n",
      "  File \"C:\\ProgramData\\Anaconda3\\lib\\site-packages\\sklearn\\linear_model\\_logistic.py\", line 445, in _check_solver\n",
      "    raise ValueError(\"Solver %s supports only \"\n",
      "ValueError: Solver sag supports only dual=False, got dual=True\n",
      "\n",
      "  warnings.warn(\"Estimator fit failed. The score on this train-test\"\n"
     ]
    },
    {
     "name": "stdout",
     "output_type": "stream",
     "text": [
      "\n",
      "[CV]  C=10, class_weight=balanced, dual=False, penalty=elasticnet, solver=sag, score=nan, total=   0.0s\n",
      "[CV] C=10, class_weight=balanced, dual=False, penalty=elasticnet, solver=sag \n",
      "[CV]  C=10, class_weight=balanced, dual=False, penalty=elasticnet, solver=sag, score=nan, total=   0.0s\n",
      "[CV] C=10, class_weight=balanced, dual=False, penalty=elasticnet, solver=sag \n",
      "[CV]  C=10, class_weight=balanced, dual=False, penalty=elasticnet, solver=sag, score=nan, total=   0.0s\n",
      "[CV] C=10, class_weight=balanced, dual=False, penalty=elasticnet, solver=sag \n",
      "[CV]  C=10, class_weight=balanced, dual=False, penalty=elasticnet, solver=sag, score=nan, total=   0.0s\n",
      "[CV] C=10, class_weight=balanced, dual=False, penalty=elasticnet, solver=sag \n",
      "[CV]  C=10, class_weight=balanced, dual=False, penalty=elasticnet, solver=sag, score=nan, total=   0.0s\n",
      "[CV] C=10, class_weight=balanced, dual=False, penalty=elasticnet, solver=saga \n",
      "[CV]  C=10, class_weight=balanced, dual=False, penalty=elasticnet, solver=saga, score=nan, total=   0.0s\n",
      "[CV] C=10, class_weight=balanced, dual=False, penalty=elasticnet, solver=saga \n",
      "[CV]  C=10, class_weight=balanced, dual=False, penalty=elasticnet, solver=saga, score=nan, total=   0.0s\n",
      "[CV] C=10, class_weight=balanced, dual=False, penalty=elasticnet, solver=saga \n",
      "[CV]  C=10, class_weight=balanced, dual=False, penalty=elasticnet, solver=saga, score=nan, total=   0.0s\n",
      "[CV] C=10, class_weight=balanced, dual=False, penalty=elasticnet, solver=saga \n",
      "[CV]  C=10, class_weight=balanced, dual=False, penalty=elasticnet, solver=saga, score=nan, total=   0.0s\n",
      "[CV] C=10, class_weight=balanced, dual=False, penalty=elasticnet, solver=saga \n",
      "[CV]  C=10, class_weight=balanced, dual=False, penalty=elasticnet, solver=saga, score=nan, total=   0.0s\n",
      "[CV] C=10, class_weight=balanced, dual=False, penalty=elasticnet, solver=liblinear \n",
      "[CV]  C=10, class_weight=balanced, dual=False, penalty=elasticnet, solver=liblinear, score=nan, total=   0.0s\n",
      "[CV] C=10, class_weight=balanced, dual=False, penalty=elasticnet, solver=liblinear \n",
      "[CV]  C=10, class_weight=balanced, dual=False, penalty=elasticnet, solver=liblinear, score=nan, total=   0.0s\n",
      "[CV] C=10, class_weight=balanced, dual=False, penalty=elasticnet, solver=liblinear \n",
      "[CV]  C=10, class_weight=balanced, dual=False, penalty=elasticnet, solver=liblinear, score=nan, total=   0.0s\n",
      "[CV] C=10, class_weight=balanced, dual=False, penalty=elasticnet, solver=liblinear \n",
      "[CV]  C=10, class_weight=balanced, dual=False, penalty=elasticnet, solver=liblinear, score=nan, total=   0.0s\n",
      "[CV] C=10, class_weight=balanced, dual=False, penalty=elasticnet, solver=liblinear \n",
      "[CV]  C=10, class_weight=balanced, dual=False, penalty=elasticnet, solver=liblinear, score=nan, total=   0.0s\n",
      "[CV] C=30, class_weight=None, dual=True, penalty=l1, solver=newton-cg \n",
      "[CV]  C=30, class_weight=None, dual=True, penalty=l1, solver=newton-cg, score=nan, total=   0.0s\n",
      "[CV] C=30, class_weight=None, dual=True, penalty=l1, solver=newton-cg \n",
      "[CV]  C=30, class_weight=None, dual=True, penalty=l1, solver=newton-cg, score=nan, total=   0.0s\n",
      "[CV] C=30, class_weight=None, dual=True, penalty=l1, solver=newton-cg \n",
      "[CV]  C=30, class_weight=None, dual=True, penalty=l1, solver=newton-cg, score=nan, total=   0.0s\n",
      "[CV] C=30, class_weight=None, dual=True, penalty=l1, solver=newton-cg \n",
      "[CV]  C=30, class_weight=None, dual=True, penalty=l1, solver=newton-cg, score=nan, total=   0.0s\n",
      "[CV] C=30, class_weight=None, dual=True, penalty=l1, solver=newton-cg \n",
      "[CV]  C=30, class_weight=None, dual=True, penalty=l1, solver=newton-cg, score=nan, total=   0.0s\n",
      "[CV] C=30, class_weight=None, dual=True, penalty=l1, solver=lbfgs ....\n",
      "[CV]  C=30, class_weight=None, dual=True, penalty=l1, solver=lbfgs, score=nan, total=   0.0s\n",
      "[CV] C=30, class_weight=None, dual=True, penalty=l1, solver=lbfgs ....\n",
      "[CV]  C=30, class_weight=None, dual=True, penalty=l1, solver=lbfgs, score=nan, total=   0.0s\n",
      "[CV] C=30, class_weight=None, dual=True, penalty=l1, solver=lbfgs ....\n",
      "[CV]  C=30, class_weight=None, dual=True, penalty=l1, solver=lbfgs, score=nan, total=   0.0s\n",
      "[CV] C=30, class_weight=None, dual=True, penalty=l1, solver=lbfgs ....\n",
      "[CV]  C=30, class_weight=None, dual=True, penalty=l1, solver=lbfgs, score=nan, total=   0.0s\n",
      "[CV] C=30, class_weight=None, dual=True, penalty=l1, solver=lbfgs ....\n",
      "[CV]  C=30, class_weight=None, dual=True, penalty=l1, solver=lbfgs, score=nan, total=   0.0s\n",
      "[CV] C=30, class_weight=None, dual=True, penalty=l1, solver=sag ......\n",
      "[CV]  C=30, class_weight=None, dual=True, penalty=l1, solver=sag, score=nan, total=   0.0s\n",
      "[CV] C=30, class_weight=None, dual=True, penalty=l1, solver=sag ......\n",
      "[CV]  C=30, class_weight=None, dual=True, penalty=l1, solver=sag, score=nan, total=   0.0s\n",
      "[CV] C=30, class_weight=None, dual=True, penalty=l1, solver=sag ......\n",
      "[CV]  C=30, class_weight=None, dual=True, penalty=l1, solver=sag, score=nan, total=   0.0s\n",
      "[CV] C=30, class_weight=None, dual=True, penalty=l1, solver=sag ......\n",
      "[CV]  C=30, class_weight=None, dual=True, penalty=l1, solver=sag, score=nan, total=   0.0s\n",
      "[CV] C=30, class_weight=None, dual=True, penalty=l1, solver=sag ......\n",
      "[CV]  C=30, class_weight=None, dual=True, penalty=l1, solver=sag, score=nan, total=   0.0s\n",
      "[CV] C=30, class_weight=None, dual=True, penalty=l1, solver=saga .....\n",
      "[CV]  C=30, class_weight=None, dual=True, penalty=l1, solver=saga, score=nan, total=   0.0s\n",
      "[CV] C=30, class_weight=None, dual=True, penalty=l1, solver=saga .....\n",
      "[CV]  C=30, class_weight=None, dual=True, penalty=l1, solver=saga, score=nan, total=   0.0s\n",
      "[CV] C=30, class_weight=None, dual=True, penalty=l1, solver=saga .....\n",
      "[CV]  C=30, class_weight=None, dual=True, penalty=l1, solver=saga, score=nan, total=   0.0s\n",
      "[CV] C=30, class_weight=None, dual=True, penalty=l1, solver=saga .....\n",
      "[CV]  C=30, class_weight=None, dual=True, penalty=l1, solver=saga, score=nan, total=   0.0s\n",
      "[CV] C=30, class_weight=None, dual=True, penalty=l1, solver=saga .....\n",
      "[CV]  C=30, class_weight=None, dual=True, penalty=l1, solver=saga, score=nan, total=   0.0s\n",
      "[CV] C=30, class_weight=None, dual=True, penalty=l1, solver=liblinear \n",
      "[CV]  C=30, class_weight=None, dual=True, penalty=l1, solver=liblinear, score=nan, total=   0.0s\n",
      "[CV] C=30, class_weight=None, dual=True, penalty=l1, solver=liblinear \n",
      "[CV]  C=30, class_weight=None, dual=True, penalty=l1, solver=liblinear, score=nan, total=   0.0s\n",
      "[CV] C=30, class_weight=None, dual=True, penalty=l1, solver=liblinear \n",
      "[CV]  C=30, class_weight=None, dual=True, penalty=l1, solver=liblinear, score=nan, total=   0.0s\n",
      "[CV] C=30, class_weight=None, dual=True, penalty=l1, solver=liblinear \n",
      "[CV]  C=30, class_weight=None, dual=True, penalty=l1, solver=liblinear, score=nan, total=   0.0s\n",
      "[CV] C=30, class_weight=None, dual=True, penalty=l1, solver=liblinear \n",
      "[CV]  C=30, class_weight=None, dual=True, penalty=l1, solver=liblinear, score=nan, total=   0.0s\n",
      "[CV] C=30, class_weight=None, dual=True, penalty=l2, solver=newton-cg \n",
      "[CV]  C=30, class_weight=None, dual=True, penalty=l2, solver=newton-cg, score=nan, total=   0.0s\n",
      "[CV] C=30, class_weight=None, dual=True, penalty=l2, solver=newton-cg \n",
      "[CV]  C=30, class_weight=None, dual=True, penalty=l2, solver=newton-cg, score=nan, total=   0.0s\n",
      "[CV] C=30, class_weight=None, dual=True, penalty=l2, solver=newton-cg \n",
      "[CV]  C=30, class_weight=None, dual=True, penalty=l2, solver=newton-cg, score=nan, total=   0.0s\n",
      "[CV] C=30, class_weight=None, dual=True, penalty=l2, solver=newton-cg \n",
      "[CV]  C=30, class_weight=None, dual=True, penalty=l2, solver=newton-cg, score=nan, total=   0.0s\n",
      "[CV] C=30, class_weight=None, dual=True, penalty=l2, solver=newton-cg \n",
      "[CV]  C=30, class_weight=None, dual=True, penalty=l2, solver=newton-cg, score=nan, total=   0.0s\n",
      "[CV] C=30, class_weight=None, dual=True, penalty=l2, solver=lbfgs ....\n",
      "[CV]  C=30, class_weight=None, dual=True, penalty=l2, solver=lbfgs, score=nan, total=   0.0s\n",
      "[CV] C=30, class_weight=None, dual=True, penalty=l2, solver=lbfgs ....\n",
      "[CV]  C=30, class_weight=None, dual=True, penalty=l2, solver=lbfgs, score=nan, total=   0.0s\n",
      "[CV] C=30, class_weight=None, dual=True, penalty=l2, solver=lbfgs ....\n",
      "[CV]  C=30, class_weight=None, dual=True, penalty=l2, solver=lbfgs, score=nan, total=   0.0s\n",
      "[CV] C=30, class_weight=None, dual=True, penalty=l2, solver=lbfgs ....\n",
      "[CV]  C=30, class_weight=None, dual=True, penalty=l2, solver=lbfgs, score=nan, total=   0.0s\n",
      "[CV] C=30, class_weight=None, dual=True, penalty=l2, solver=lbfgs ....\n",
      "[CV]  C=30, class_weight=None, dual=True, penalty=l2, solver=lbfgs, score=nan, total=   0.0s\n",
      "[CV] C=30, class_weight=None, dual=True, penalty=l2, solver=sag ......\n",
      "[CV]  C=30, class_weight=None, dual=True, penalty=l2, solver=sag, score=nan, total=   0.0s\n",
      "[CV] C=30, class_weight=None, dual=True, penalty=l2, solver=sag ......\n",
      "[CV]  C=30, class_weight=None, dual=True, penalty=l2, solver=sag, score=nan, total=   0.0s\n",
      "[CV] C=30, class_weight=None, dual=True, penalty=l2, solver=sag ......\n",
      "[CV]  C=30, class_weight=None, dual=True, penalty=l2, solver=sag, score=nan, total=   0.0s\n",
      "[CV] C=30, class_weight=None, dual=True, penalty=l2, solver=sag ......\n",
      "[CV]  C=30, class_weight=None, dual=True, penalty=l2, solver=sag, score=nan, total=   0.0s\n",
      "[CV] C=30, class_weight=None, dual=True, penalty=l2, solver=sag ......\n",
      "[CV]  C=30, class_weight=None, dual=True, penalty=l2, solver=sag, score=nan, total=   0.0s\n",
      "[CV] C=30, class_weight=None, dual=True, penalty=l2, solver=saga .....\n",
      "[CV]  C=30, class_weight=None, dual=True, penalty=l2, solver=saga, score=nan, total=   0.0s\n",
      "[CV] C=30, class_weight=None, dual=True, penalty=l2, solver=saga .....\n",
      "[CV]  C=30, class_weight=None, dual=True, penalty=l2, solver=saga, score=nan, total=   0.0s\n",
      "[CV] C=30, class_weight=None, dual=True, penalty=l2, solver=saga .....\n",
      "[CV]  C=30, class_weight=None, dual=True, penalty=l2, solver=saga, score=nan, total=   0.0s\n",
      "[CV] C=30, class_weight=None, dual=True, penalty=l2, solver=saga .....\n",
      "[CV]  C=30, class_weight=None, dual=True, penalty=l2, solver=saga, score=nan, total=   0.0s\n",
      "[CV] C=30, class_weight=None, dual=True, penalty=l2, solver=saga .....\n",
      "[CV]  C=30, class_weight=None, dual=True, penalty=l2, solver=saga, score=nan, total=   0.0s\n",
      "[CV] C=30, class_weight=None, dual=True, penalty=l2, solver=liblinear \n"
     ]
    },
    {
     "name": "stderr",
     "output_type": "stream",
     "text": [
      "C:\\ProgramData\\Anaconda3\\lib\\site-packages\\sklearn\\svm\\_base.py:976: ConvergenceWarning: Liblinear failed to converge, increase the number of iterations.\n",
      "  warnings.warn(\"Liblinear failed to converge, increase \"\n"
     ]
    },
    {
     "name": "stdout",
     "output_type": "stream",
     "text": [
      "[CV]  C=30, class_weight=None, dual=True, penalty=l2, solver=liblinear, score=0.688, total=   0.2s\n",
      "[CV] C=30, class_weight=None, dual=True, penalty=l2, solver=liblinear \n",
      "[CV]  C=30, class_weight=None, dual=True, penalty=l2, solver=liblinear, score=0.673, total=   0.2s\n",
      "[CV] C=30, class_weight=None, dual=True, penalty=l2, solver=liblinear \n",
      "[CV]  C=30, class_weight=None, dual=True, penalty=l2, solver=liblinear, score=0.658, total=   0.2s\n",
      "[CV] C=30, class_weight=None, dual=True, penalty=l2, solver=liblinear \n",
      "[CV]  C=30, class_weight=None, dual=True, penalty=l2, solver=liblinear, score=0.706, total=   0.2s\n",
      "[CV] C=30, class_weight=None, dual=True, penalty=l2, solver=liblinear \n",
      "[CV]  C=30, class_weight=None, dual=True, penalty=l2, solver=liblinear, score=0.711, total=   0.2s\n",
      "[CV] C=30, class_weight=None, dual=True, penalty=elasticnet, solver=newton-cg \n",
      "[CV]  C=30, class_weight=None, dual=True, penalty=elasticnet, solver=newton-cg, score=nan, total=   0.0s\n",
      "[CV] C=30, class_weight=None, dual=True, penalty=elasticnet, solver=newton-cg \n",
      "[CV]  C=30, class_weight=None, dual=True, penalty=elasticnet, solver=newton-cg, score=nan, total=   0.0s\n",
      "[CV] C=30, class_weight=None, dual=True, penalty=elasticnet, solver=newton-cg \n",
      "[CV]  C=30, class_weight=None, dual=True, penalty=elasticnet, solver=newton-cg, score=nan, total=   0.0s\n",
      "[CV] C=30, class_weight=None, dual=True, penalty=elasticnet, solver=newton-cg \n",
      "[CV]  C=30, class_weight=None, dual=True, penalty=elasticnet, solver=newton-cg, score=nan, total=   0.0s\n",
      "[CV] C=30, class_weight=None, dual=True, penalty=elasticnet, solver=newton-cg \n",
      "[CV]  C=30, class_weight=None, dual=True, penalty=elasticnet, solver=newton-cg, score=nan, total=   0.0s\n",
      "[CV] C=30, class_weight=None, dual=True, penalty=elasticnet, solver=lbfgs \n",
      "[CV]  C=30, class_weight=None, dual=True, penalty=elasticnet, solver=lbfgs, score=nan, total=   0.0s\n",
      "[CV] C=30, class_weight=None, dual=True, penalty=elasticnet, solver=lbfgs \n",
      "[CV]  C=30, class_weight=None, dual=True, penalty=elasticnet, solver=lbfgs, score=nan, total=   0.0s\n",
      "[CV] C=30, class_weight=None, dual=True, penalty=elasticnet, solver=lbfgs \n",
      "[CV]  C=30, class_weight=None, dual=True, penalty=elasticnet, solver=lbfgs, score=nan, total=   0.0s\n",
      "[CV] C=30, class_weight=None, dual=True, penalty=elasticnet, solver=lbfgs \n",
      "[CV]  C=30, class_weight=None, dual=True, penalty=elasticnet, solver=lbfgs, score=nan, total=   0.0s\n",
      "[CV] C=30, class_weight=None, dual=True, penalty=elasticnet, solver=lbfgs \n",
      "[CV]  C=30, class_weight=None, dual=True, penalty=elasticnet, solver=lbfgs, score=nan, total=   0.0s\n",
      "[CV] C=30, class_weight=None, dual=True, penalty=elasticnet, solver=sag \n",
      "[CV]  C=30, class_weight=None, dual=True, penalty=elasticnet, solver=sag, score=nan, total=   0.0s\n",
      "[CV] C=30, class_weight=None, dual=True, penalty=elasticnet, solver=sag \n",
      "[CV]  C=30, class_weight=None, dual=True, penalty=elasticnet, solver=sag, score=nan, total=   0.0s\n",
      "[CV] C=30, class_weight=None, dual=True, penalty=elasticnet, solver=sag \n",
      "[CV]  C=30, class_weight=None, dual=True, penalty=elasticnet, solver=sag, score=nan, total=   0.0s\n",
      "[CV] C=30, class_weight=None, dual=True, penalty=elasticnet, solver=sag \n",
      "[CV]  C=30, class_weight=None, dual=True, penalty=elasticnet, solver=sag, score=nan, total=   0.0s\n",
      "[CV] C=30, class_weight=None, dual=True, penalty=elasticnet, solver=sag \n",
      "[CV]  C=30, class_weight=None, dual=True, penalty=elasticnet, solver=sag, score=nan, total=   0.0s\n",
      "[CV] C=30, class_weight=None, dual=True, penalty=elasticnet, solver=saga \n",
      "[CV]  C=30, class_weight=None, dual=True, penalty=elasticnet, solver=saga, score=nan, total=   0.0s\n",
      "[CV] C=30, class_weight=None, dual=True, penalty=elasticnet, solver=saga \n",
      "[CV]  C=30, class_weight=None, dual=True, penalty=elasticnet, solver=saga, score=nan, total=   0.0s\n",
      "[CV] C=30, class_weight=None, dual=True, penalty=elasticnet, solver=saga \n",
      "[CV]  C=30, class_weight=None, dual=True, penalty=elasticnet, solver=saga, score=nan, total=   0.0s\n",
      "[CV] C=30, class_weight=None, dual=True, penalty=elasticnet, solver=saga \n",
      "[CV]  C=30, class_weight=None, dual=True, penalty=elasticnet, solver=saga, score=nan, total=   0.0s\n",
      "[CV] C=30, class_weight=None, dual=True, penalty=elasticnet, solver=saga \n",
      "[CV]  C=30, class_weight=None, dual=True, penalty=elasticnet, solver=saga, score=nan, total=   0.0s\n",
      "[CV] C=30, class_weight=None, dual=True, penalty=elasticnet, solver=liblinear \n",
      "[CV]  C=30, class_weight=None, dual=True, penalty=elasticnet, solver=liblinear, score=nan, total=   0.0s\n",
      "[CV] C=30, class_weight=None, dual=True, penalty=elasticnet, solver=liblinear \n",
      "[CV]  C=30, class_weight=None, dual=True, penalty=elasticnet, solver=liblinear, score=nan, total=   0.0s\n",
      "[CV] C=30, class_weight=None, dual=True, penalty=elasticnet, solver=liblinear \n",
      "[CV]  C=30, class_weight=None, dual=True, penalty=elasticnet, solver=liblinear, score=nan, total=   0.0s\n",
      "[CV] C=30, class_weight=None, dual=True, penalty=elasticnet, solver=liblinear \n",
      "[CV]  C=30, class_weight=None, dual=True, penalty=elasticnet, solver=liblinear, score=nan, total=   0.0s\n",
      "[CV] C=30, class_weight=None, dual=True, penalty=elasticnet, solver=liblinear \n",
      "[CV]  C=30, class_weight=None, dual=True, penalty=elasticnet, solver=liblinear, score=nan, total=   0.0s\n",
      "[CV] C=30, class_weight=None, dual=False, penalty=l1, solver=newton-cg \n",
      "[CV]  C=30, class_weight=None, dual=False, penalty=l1, solver=newton-cg, score=nan, total=   0.0s\n",
      "[CV] C=30, class_weight=None, dual=False, penalty=l1, solver=newton-cg \n",
      "[CV]  C=30, class_weight=None, dual=False, penalty=l1, solver=newton-cg, score=nan, total=   0.0s\n",
      "[CV] C=30, class_weight=None, dual=False, penalty=l1, solver=newton-cg \n",
      "[CV]  C=30, class_weight=None, dual=False, penalty=l1, solver=newton-cg, score=nan, total=   0.0s\n",
      "[CV] C=30, class_weight=None, dual=False, penalty=l1, solver=newton-cg \n",
      "[CV]  C=30, class_weight=None, dual=False, penalty=l1, solver=newton-cg, score=nan, total=   0.0s\n",
      "[CV] C=30, class_weight=None, dual=False, penalty=l1, solver=newton-cg \n",
      "[CV]  C=30, class_weight=None, dual=False, penalty=l1, solver=newton-cg, score=nan, total=   0.0s\n",
      "[CV] C=30, class_weight=None, dual=False, penalty=l1, solver=lbfgs ...\n",
      "[CV]  C=30, class_weight=None, dual=False, penalty=l1, solver=lbfgs, score=nan, total=   0.0s\n",
      "[CV] C=30, class_weight=None, dual=False, penalty=l1, solver=lbfgs ...\n",
      "[CV]  C=30, class_weight=None, dual=False, penalty=l1, solver=lbfgs, score=nan, total=   0.0s\n",
      "[CV] C=30, class_weight=None, dual=False, penalty=l1, solver=lbfgs ...\n",
      "[CV]  C=30, class_weight=None, dual=False, penalty=l1, solver=lbfgs, score=nan, total=   0.0s\n",
      "[CV] C=30, class_weight=None, dual=False, penalty=l1, solver=lbfgs ...\n",
      "[CV]  C=30, class_weight=None, dual=False, penalty=l1, solver=lbfgs, score=nan, total=   0.0s\n",
      "[CV] C=30, class_weight=None, dual=False, penalty=l1, solver=lbfgs ...\n",
      "[CV]  C=30, class_weight=None, dual=False, penalty=l1, solver=lbfgs, score=nan, total=   0.0s\n",
      "[CV] C=30, class_weight=None, dual=False, penalty=l1, solver=sag .....\n",
      "[CV]  C=30, class_weight=None, dual=False, penalty=l1, solver=sag, score=nan, total=   0.0s\n",
      "[CV] C=30, class_weight=None, dual=False, penalty=l1, solver=sag .....\n",
      "[CV]  C=30, class_weight=None, dual=False, penalty=l1, solver=sag, score=nan, total=   0.0s\n",
      "[CV] C=30, class_weight=None, dual=False, penalty=l1, solver=sag .....\n",
      "[CV]  C=30, class_weight=None, dual=False, penalty=l1, solver=sag, score=nan, total=   0.0s\n",
      "[CV] C=30, class_weight=None, dual=False, penalty=l1, solver=sag .....\n",
      "[CV]  C=30, class_weight=None, dual=False, penalty=l1, solver=sag, score=nan, total=   0.0s\n",
      "[CV] C=30, class_weight=None, dual=False, penalty=l1, solver=sag .....\n",
      "[CV]  C=30, class_weight=None, dual=False, penalty=l1, solver=sag, score=nan, total=   0.0s\n",
      "[CV] C=30, class_weight=None, dual=False, penalty=l1, solver=saga ....\n"
     ]
    },
    {
     "name": "stderr",
     "output_type": "stream",
     "text": [
      "C:\\ProgramData\\Anaconda3\\lib\\site-packages\\sklearn\\linear_model\\_sag.py:329: ConvergenceWarning: The max_iter was reached which means the coef_ did not converge\n",
      "  warnings.warn(\"The max_iter was reached which means \"\n"
     ]
    },
    {
     "name": "stdout",
     "output_type": "stream",
     "text": [
      "[CV]  C=30, class_weight=None, dual=False, penalty=l1, solver=saga, score=0.716, total=  19.0s\n",
      "[CV] C=30, class_weight=None, dual=False, penalty=l1, solver=saga ....\n"
     ]
    },
    {
     "name": "stderr",
     "output_type": "stream",
     "text": [
      "C:\\ProgramData\\Anaconda3\\lib\\site-packages\\sklearn\\linear_model\\_sag.py:329: ConvergenceWarning: The max_iter was reached which means the coef_ did not converge\n",
      "  warnings.warn(\"The max_iter was reached which means \"\n"
     ]
    },
    {
     "name": "stdout",
     "output_type": "stream",
     "text": [
      "[CV]  C=30, class_weight=None, dual=False, penalty=l1, solver=saga, score=0.697, total=  11.2s\n",
      "[CV] C=30, class_weight=None, dual=False, penalty=l1, solver=saga ....\n"
     ]
    },
    {
     "name": "stderr",
     "output_type": "stream",
     "text": [
      "C:\\ProgramData\\Anaconda3\\lib\\site-packages\\sklearn\\linear_model\\_sag.py:329: ConvergenceWarning: The max_iter was reached which means the coef_ did not converge\n",
      "  warnings.warn(\"The max_iter was reached which means \"\n"
     ]
    },
    {
     "name": "stdout",
     "output_type": "stream",
     "text": [
      "[CV]  C=30, class_weight=None, dual=False, penalty=l1, solver=saga, score=0.664, total=  17.4s\n",
      "[CV] C=30, class_weight=None, dual=False, penalty=l1, solver=saga ....\n"
     ]
    },
    {
     "name": "stderr",
     "output_type": "stream",
     "text": [
      "C:\\ProgramData\\Anaconda3\\lib\\site-packages\\sklearn\\linear_model\\_sag.py:329: ConvergenceWarning: The max_iter was reached which means the coef_ did not converge\n",
      "  warnings.warn(\"The max_iter was reached which means \"\n"
     ]
    },
    {
     "name": "stdout",
     "output_type": "stream",
     "text": [
      "[CV]  C=30, class_weight=None, dual=False, penalty=l1, solver=saga, score=0.696, total=  17.1s\n",
      "[CV] C=30, class_weight=None, dual=False, penalty=l1, solver=saga ....\n"
     ]
    },
    {
     "name": "stderr",
     "output_type": "stream",
     "text": [
      "C:\\ProgramData\\Anaconda3\\lib\\site-packages\\sklearn\\linear_model\\_sag.py:329: ConvergenceWarning: The max_iter was reached which means the coef_ did not converge\n",
      "  warnings.warn(\"The max_iter was reached which means \"\n"
     ]
    },
    {
     "name": "stdout",
     "output_type": "stream",
     "text": [
      "[CV]  C=30, class_weight=None, dual=False, penalty=l1, solver=saga, score=0.709, total=  17.3s\n",
      "[CV] C=30, class_weight=None, dual=False, penalty=l1, solver=liblinear \n"
     ]
    },
    {
     "name": "stderr",
     "output_type": "stream",
     "text": [
      "C:\\ProgramData\\Anaconda3\\lib\\site-packages\\sklearn\\svm\\_base.py:976: ConvergenceWarning: Liblinear failed to converge, increase the number of iterations.\n",
      "  warnings.warn(\"Liblinear failed to converge, increase \"\n"
     ]
    },
    {
     "name": "stdout",
     "output_type": "stream",
     "text": [
      "[CV]  C=30, class_weight=None, dual=False, penalty=l1, solver=liblinear, score=0.677, total=   1.7s\n",
      "[CV] C=30, class_weight=None, dual=False, penalty=l1, solver=liblinear \n",
      "[CV]  C=30, class_weight=None, dual=False, penalty=l1, solver=liblinear, score=0.723, total=   0.1s\n",
      "[CV] C=30, class_weight=None, dual=False, penalty=l1, solver=liblinear \n",
      "[CV]  C=30, class_weight=None, dual=False, penalty=l1, solver=liblinear, score=0.693, total=   1.7s\n",
      "[CV] C=30, class_weight=None, dual=False, penalty=l1, solver=liblinear \n",
      "[CV]  C=30, class_weight=None, dual=False, penalty=l1, solver=liblinear, score=0.765, total=   0.1s\n",
      "[CV] C=30, class_weight=None, dual=False, penalty=l1, solver=liblinear \n",
      "[CV]  C=30, class_weight=None, dual=False, penalty=l1, solver=liblinear, score=0.675, total=   0.1s\n",
      "[CV] C=30, class_weight=None, dual=False, penalty=l2, solver=newton-cg \n",
      "[CV]  C=30, class_weight=None, dual=False, penalty=l2, solver=newton-cg, score=0.689, total=   0.3s\n",
      "[CV] C=30, class_weight=None, dual=False, penalty=l2, solver=newton-cg \n",
      "[CV]  C=30, class_weight=None, dual=False, penalty=l2, solver=newton-cg, score=0.668, total=   0.3s\n",
      "[CV] C=30, class_weight=None, dual=False, penalty=l2, solver=newton-cg \n",
      "[CV]  C=30, class_weight=None, dual=False, penalty=l2, solver=newton-cg, score=0.669, total=   0.4s\n",
      "[CV] C=30, class_weight=None, dual=False, penalty=l2, solver=newton-cg \n",
      "[CV]  C=30, class_weight=None, dual=False, penalty=l2, solver=newton-cg, score=0.703, total=   0.4s\n",
      "[CV] C=30, class_weight=None, dual=False, penalty=l2, solver=newton-cg \n",
      "[CV]  C=30, class_weight=None, dual=False, penalty=l2, solver=newton-cg, score=0.696, total=   0.4s\n",
      "[CV] C=30, class_weight=None, dual=False, penalty=l2, solver=lbfgs ...\n"
     ]
    },
    {
     "name": "stderr",
     "output_type": "stream",
     "text": [
      "C:\\ProgramData\\Anaconda3\\lib\\site-packages\\sklearn\\linear_model\\_logistic.py:762: ConvergenceWarning: lbfgs failed to converge (status=1):\n",
      "STOP: TOTAL NO. of ITERATIONS REACHED LIMIT.\n",
      "\n",
      "Increase the number of iterations (max_iter) or scale the data as shown in:\n",
      "    https://scikit-learn.org/stable/modules/preprocessing.html\n",
      "Please also refer to the documentation for alternative solver options:\n",
      "    https://scikit-learn.org/stable/modules/linear_model.html#logistic-regression\n",
      "  n_iter_i = _check_optimize_result(\n"
     ]
    },
    {
     "name": "stdout",
     "output_type": "stream",
     "text": [
      "[CV]  C=30, class_weight=None, dual=False, penalty=l2, solver=lbfgs, score=0.689, total=   0.5s\n",
      "[CV] C=30, class_weight=None, dual=False, penalty=l2, solver=lbfgs ...\n"
     ]
    },
    {
     "name": "stderr",
     "output_type": "stream",
     "text": [
      "C:\\ProgramData\\Anaconda3\\lib\\site-packages\\sklearn\\linear_model\\_logistic.py:762: ConvergenceWarning: lbfgs failed to converge (status=1):\n",
      "STOP: TOTAL NO. of ITERATIONS REACHED LIMIT.\n",
      "\n",
      "Increase the number of iterations (max_iter) or scale the data as shown in:\n",
      "    https://scikit-learn.org/stable/modules/preprocessing.html\n",
      "Please also refer to the documentation for alternative solver options:\n",
      "    https://scikit-learn.org/stable/modules/linear_model.html#logistic-regression\n",
      "  n_iter_i = _check_optimize_result(\n"
     ]
    },
    {
     "name": "stdout",
     "output_type": "stream",
     "text": [
      "[CV]  C=30, class_weight=None, dual=False, penalty=l2, solver=lbfgs, score=0.668, total=   0.5s\n",
      "[CV] C=30, class_weight=None, dual=False, penalty=l2, solver=lbfgs ...\n"
     ]
    },
    {
     "name": "stderr",
     "output_type": "stream",
     "text": [
      "C:\\ProgramData\\Anaconda3\\lib\\site-packages\\sklearn\\linear_model\\_logistic.py:762: ConvergenceWarning: lbfgs failed to converge (status=1):\n",
      "STOP: TOTAL NO. of ITERATIONS REACHED LIMIT.\n",
      "\n",
      "Increase the number of iterations (max_iter) or scale the data as shown in:\n",
      "    https://scikit-learn.org/stable/modules/preprocessing.html\n",
      "Please also refer to the documentation for alternative solver options:\n",
      "    https://scikit-learn.org/stable/modules/linear_model.html#logistic-regression\n",
      "  n_iter_i = _check_optimize_result(\n"
     ]
    },
    {
     "name": "stdout",
     "output_type": "stream",
     "text": [
      "[CV]  C=30, class_weight=None, dual=False, penalty=l2, solver=lbfgs, score=0.669, total=   0.4s\n",
      "[CV] C=30, class_weight=None, dual=False, penalty=l2, solver=lbfgs ...\n"
     ]
    },
    {
     "name": "stderr",
     "output_type": "stream",
     "text": [
      "C:\\ProgramData\\Anaconda3\\lib\\site-packages\\sklearn\\linear_model\\_logistic.py:762: ConvergenceWarning: lbfgs failed to converge (status=1):\n",
      "STOP: TOTAL NO. of ITERATIONS REACHED LIMIT.\n",
      "\n",
      "Increase the number of iterations (max_iter) or scale the data as shown in:\n",
      "    https://scikit-learn.org/stable/modules/preprocessing.html\n",
      "Please also refer to the documentation for alternative solver options:\n",
      "    https://scikit-learn.org/stable/modules/linear_model.html#logistic-regression\n",
      "  n_iter_i = _check_optimize_result(\n"
     ]
    },
    {
     "name": "stdout",
     "output_type": "stream",
     "text": [
      "[CV]  C=30, class_weight=None, dual=False, penalty=l2, solver=lbfgs, score=0.703, total=   0.5s\n",
      "[CV] C=30, class_weight=None, dual=False, penalty=l2, solver=lbfgs ...\n"
     ]
    },
    {
     "name": "stderr",
     "output_type": "stream",
     "text": [
      "C:\\ProgramData\\Anaconda3\\lib\\site-packages\\sklearn\\linear_model\\_logistic.py:762: ConvergenceWarning: lbfgs failed to converge (status=1):\n",
      "STOP: TOTAL NO. of ITERATIONS REACHED LIMIT.\n",
      "\n",
      "Increase the number of iterations (max_iter) or scale the data as shown in:\n",
      "    https://scikit-learn.org/stable/modules/preprocessing.html\n",
      "Please also refer to the documentation for alternative solver options:\n",
      "    https://scikit-learn.org/stable/modules/linear_model.html#logistic-regression\n",
      "  n_iter_i = _check_optimize_result(\n",
      "C:\\ProgramData\\Anaconda3\\lib\\site-packages\\sklearn\\linear_model\\_sag.py:329: ConvergenceWarning: The max_iter was reached which means the coef_ did not converge\n",
      "  warnings.warn(\"The max_iter was reached which means \"\n"
     ]
    },
    {
     "name": "stdout",
     "output_type": "stream",
     "text": [
      "[CV]  C=30, class_weight=None, dual=False, penalty=l2, solver=lbfgs, score=0.696, total=   0.4s\n",
      "[CV] C=30, class_weight=None, dual=False, penalty=l2, solver=sag .....\n",
      "[CV]  C=30, class_weight=None, dual=False, penalty=l2, solver=sag, score=0.713, total=   0.2s\n",
      "[CV] C=30, class_weight=None, dual=False, penalty=l2, solver=sag .....\n"
     ]
    },
    {
     "name": "stderr",
     "output_type": "stream",
     "text": [
      "C:\\ProgramData\\Anaconda3\\lib\\site-packages\\sklearn\\linear_model\\_sag.py:329: ConvergenceWarning: The max_iter was reached which means the coef_ did not converge\n",
      "  warnings.warn(\"The max_iter was reached which means \"\n",
      "C:\\ProgramData\\Anaconda3\\lib\\site-packages\\sklearn\\linear_model\\_sag.py:329: ConvergenceWarning: The max_iter was reached which means the coef_ did not converge\n",
      "  warnings.warn(\"The max_iter was reached which means \"\n"
     ]
    },
    {
     "name": "stdout",
     "output_type": "stream",
     "text": [
      "[CV]  C=30, class_weight=None, dual=False, penalty=l2, solver=sag, score=0.694, total=   0.2s\n",
      "[CV] C=30, class_weight=None, dual=False, penalty=l2, solver=sag .....\n",
      "[CV]  C=30, class_weight=None, dual=False, penalty=l2, solver=sag, score=0.653, total=   0.2s\n",
      "[CV] C=30, class_weight=None, dual=False, penalty=l2, solver=sag .....\n"
     ]
    },
    {
     "name": "stderr",
     "output_type": "stream",
     "text": [
      "C:\\ProgramData\\Anaconda3\\lib\\site-packages\\sklearn\\linear_model\\_sag.py:329: ConvergenceWarning: The max_iter was reached which means the coef_ did not converge\n",
      "  warnings.warn(\"The max_iter was reached which means \"\n",
      "C:\\ProgramData\\Anaconda3\\lib\\site-packages\\sklearn\\linear_model\\_sag.py:329: ConvergenceWarning: The max_iter was reached which means the coef_ did not converge\n",
      "  warnings.warn(\"The max_iter was reached which means \"\n"
     ]
    },
    {
     "name": "stdout",
     "output_type": "stream",
     "text": [
      "[CV]  C=30, class_weight=None, dual=False, penalty=l2, solver=sag, score=0.689, total=   0.2s\n",
      "[CV] C=30, class_weight=None, dual=False, penalty=l2, solver=sag .....\n",
      "[CV]  C=30, class_weight=None, dual=False, penalty=l2, solver=sag, score=0.696, total=   0.2s\n",
      "[CV] C=30, class_weight=None, dual=False, penalty=l2, solver=saga ....\n"
     ]
    },
    {
     "name": "stderr",
     "output_type": "stream",
     "text": [
      "C:\\ProgramData\\Anaconda3\\lib\\site-packages\\sklearn\\linear_model\\_sag.py:329: ConvergenceWarning: The max_iter was reached which means the coef_ did not converge\n",
      "  warnings.warn(\"The max_iter was reached which means \"\n",
      "C:\\ProgramData\\Anaconda3\\lib\\site-packages\\sklearn\\linear_model\\_sag.py:329: ConvergenceWarning: The max_iter was reached which means the coef_ did not converge\n",
      "  warnings.warn(\"The max_iter was reached which means \"\n"
     ]
    },
    {
     "name": "stdout",
     "output_type": "stream",
     "text": [
      "[CV]  C=30, class_weight=None, dual=False, penalty=l2, solver=saga, score=0.716, total=   0.2s\n",
      "[CV] C=30, class_weight=None, dual=False, penalty=l2, solver=saga ....\n"
     ]
    },
    {
     "name": "stderr",
     "output_type": "stream",
     "text": [
      "C:\\ProgramData\\Anaconda3\\lib\\site-packages\\sklearn\\linear_model\\_sag.py:329: ConvergenceWarning: The max_iter was reached which means the coef_ did not converge\n",
      "  warnings.warn(\"The max_iter was reached which means \"\n"
     ]
    },
    {
     "name": "stdout",
     "output_type": "stream",
     "text": [
      "[CV]  C=30, class_weight=None, dual=False, penalty=l2, solver=saga, score=0.692, total=   0.2s\n",
      "[CV] C=30, class_weight=None, dual=False, penalty=l2, solver=saga ....\n",
      "[CV]  C=30, class_weight=None, dual=False, penalty=l2, solver=saga, score=0.672, total=   0.2s\n",
      "[CV] C=30, class_weight=None, dual=False, penalty=l2, solver=saga ....\n"
     ]
    },
    {
     "name": "stderr",
     "output_type": "stream",
     "text": [
      "C:\\ProgramData\\Anaconda3\\lib\\site-packages\\sklearn\\linear_model\\_sag.py:329: ConvergenceWarning: The max_iter was reached which means the coef_ did not converge\n",
      "  warnings.warn(\"The max_iter was reached which means \"\n",
      "C:\\ProgramData\\Anaconda3\\lib\\site-packages\\sklearn\\linear_model\\_sag.py:329: ConvergenceWarning: The max_iter was reached which means the coef_ did not converge\n",
      "  warnings.warn(\"The max_iter was reached which means \"\n"
     ]
    },
    {
     "name": "stdout",
     "output_type": "stream",
     "text": [
      "[CV]  C=30, class_weight=None, dual=False, penalty=l2, solver=saga, score=0.695, total=   0.2s\n",
      "[CV] C=30, class_weight=None, dual=False, penalty=l2, solver=saga ....\n",
      "[CV]  C=30, class_weight=None, dual=False, penalty=l2, solver=saga, score=0.691, total=   0.2s\n",
      "[CV] C=30, class_weight=None, dual=False, penalty=l2, solver=liblinear \n",
      "[CV]  C=30, class_weight=None, dual=False, penalty=l2, solver=liblinear, score=0.682, total=   0.1s\n",
      "[CV] C=30, class_weight=None, dual=False, penalty=l2, solver=liblinear \n",
      "[CV]  C=30, class_weight=None, dual=False, penalty=l2, solver=liblinear, score=0.673, total=   0.1s\n",
      "[CV] C=30, class_weight=None, dual=False, penalty=l2, solver=liblinear \n",
      "[CV]  C=30, class_weight=None, dual=False, penalty=l2, solver=liblinear, score=0.659, total=   0.1s\n",
      "[CV] C=30, class_weight=None, dual=False, penalty=l2, solver=liblinear \n",
      "[CV]  C=30, class_weight=None, dual=False, penalty=l2, solver=liblinear, score=0.706, total=   0.1s\n",
      "[CV] C=30, class_weight=None, dual=False, penalty=l2, solver=liblinear \n",
      "[CV]  C=30, class_weight=None, dual=False, penalty=l2, solver=liblinear, score=0.711, total=   0.1s\n",
      "[CV] C=30, class_weight=None, dual=False, penalty=elasticnet, solver=newton-cg \n",
      "[CV]  C=30, class_weight=None, dual=False, penalty=elasticnet, solver=newton-cg, score=nan, total=   0.0s\n",
      "[CV] C=30, class_weight=None, dual=False, penalty=elasticnet, solver=newton-cg \n",
      "[CV]  C=30, class_weight=None, dual=False, penalty=elasticnet, solver=newton-cg, score=nan, total=   0.0s\n",
      "[CV] C=30, class_weight=None, dual=False, penalty=elasticnet, solver=newton-cg \n",
      "[CV]  C=30, class_weight=None, dual=False, penalty=elasticnet, solver=newton-cg, score=nan, total=   0.0s\n",
      "[CV] C=30, class_weight=None, dual=False, penalty=elasticnet, solver=newton-cg \n",
      "[CV]  C=30, class_weight=None, dual=False, penalty=elasticnet, solver=newton-cg, score=nan, total=   0.0s\n",
      "[CV] C=30, class_weight=None, dual=False, penalty=elasticnet, solver=newton-cg \n",
      "[CV]  C=30, class_weight=None, dual=False, penalty=elasticnet, solver=newton-cg, score=nan, total=   0.0s\n",
      "[CV] C=30, class_weight=None, dual=False, penalty=elasticnet, solver=lbfgs \n",
      "[CV]  C=30, class_weight=None, dual=False, penalty=elasticnet, solver=lbfgs, score=nan, total=   0.0s\n",
      "[CV] C=30, class_weight=None, dual=False, penalty=elasticnet, solver=lbfgs \n",
      "[CV]  C=30, class_weight=None, dual=False, penalty=elasticnet, solver=lbfgs, score=nan, total=   0.0s\n",
      "[CV] C=30, class_weight=None, dual=False, penalty=elasticnet, solver=lbfgs \n",
      "[CV]  C=30, class_weight=None, dual=False, penalty=elasticnet, solver=lbfgs, score=nan, total=   0.0s\n",
      "[CV] C=30, class_weight=None, dual=False, penalty=elasticnet, solver=lbfgs \n",
      "[CV]  C=30, class_weight=None, dual=False, penalty=elasticnet, solver=lbfgs, score=nan, total=   0.0s\n",
      "[CV] C=30, class_weight=None, dual=False, penalty=elasticnet, solver=lbfgs \n",
      "[CV]  C=30, class_weight=None, dual=False, penalty=elasticnet, solver=lbfgs, score=nan, total=   0.0s\n",
      "[CV] C=30, class_weight=None, dual=False, penalty=elasticnet, solver=sag \n",
      "[CV]  C=30, class_weight=None, dual=False, penalty=elasticnet, solver=sag, score=nan, total=   0.0s\n",
      "[CV] C=30, class_weight=None, dual=False, penalty=elasticnet, solver=sag \n",
      "[CV]  C=30, class_weight=None, dual=False, penalty=elasticnet, solver=sag, score=nan, total=   0.0s\n",
      "[CV] C=30, class_weight=None, dual=False, penalty=elasticnet, solver=sag \n",
      "[CV]  C=30, class_weight=None, dual=False, penalty=elasticnet, solver=sag, score=nan, total=   0.0s\n",
      "[CV] C=30, class_weight=None, dual=False, penalty=elasticnet, solver=sag \n",
      "[CV]  C=30, class_weight=None, dual=False, penalty=elasticnet, solver=sag, score=nan, total=   0.0s\n",
      "[CV] C=30, class_weight=None, dual=False, penalty=elasticnet, solver=sag \n",
      "[CV]  C=30, class_weight=None, dual=False, penalty=elasticnet, solver=sag, score=nan, total=   0.0s\n",
      "[CV] C=30, class_weight=None, dual=False, penalty=elasticnet, solver=saga \n",
      "[CV]  C=30, class_weight=None, dual=False, penalty=elasticnet, solver=saga, score=nan, total=   0.0s\n",
      "[CV] C=30, class_weight=None, dual=False, penalty=elasticnet, solver=saga \n",
      "[CV]  C=30, class_weight=None, dual=False, penalty=elasticnet, solver=saga, score=nan, total=   0.0s\n",
      "[CV] C=30, class_weight=None, dual=False, penalty=elasticnet, solver=saga \n",
      "[CV]  C=30, class_weight=None, dual=False, penalty=elasticnet, solver=saga, score=nan, total=   0.0s\n",
      "[CV] C=30, class_weight=None, dual=False, penalty=elasticnet, solver=saga \n",
      "[CV]  C=30, class_weight=None, dual=False, penalty=elasticnet, solver=saga, score=nan, total=   0.0s\n",
      "[CV] C=30, class_weight=None, dual=False, penalty=elasticnet, solver=saga \n",
      "[CV]  C=30, class_weight=None, dual=False, penalty=elasticnet, solver=saga, score=nan, total=   0.0s\n",
      "[CV] C=30, class_weight=None, dual=False, penalty=elasticnet, solver=liblinear \n",
      "[CV]  C=30, class_weight=None, dual=False, penalty=elasticnet, solver=liblinear, score=nan, total=   0.0s\n",
      "[CV] C=30, class_weight=None, dual=False, penalty=elasticnet, solver=liblinear \n",
      "[CV]  C=30, class_weight=None, dual=False, penalty=elasticnet, solver=liblinear, score=nan, total=   0.0s\n",
      "[CV] C=30, class_weight=None, dual=False, penalty=elasticnet, solver=liblinear \n",
      "[CV]  C=30, class_weight=None, dual=False, penalty=elasticnet, solver=liblinear, score=nan, total=   0.0s\n",
      "[CV] C=30, class_weight=None, dual=False, penalty=elasticnet, solver=liblinear \n",
      "[CV]  C=30, class_weight=None, dual=False, penalty=elasticnet, solver=liblinear, score=nan, total=   0.0s\n",
      "[CV] C=30, class_weight=None, dual=False, penalty=elasticnet, solver=liblinear \n",
      "[CV]  C=30, class_weight=None, dual=False, penalty=elasticnet, solver=liblinear, score=nan, total=   0.0s\n",
      "[CV] C=30, class_weight=balanced, dual=True, penalty=l1, solver=newton-cg \n",
      "[CV]  C=30, class_weight=balanced, dual=True, penalty=l1, solver=newton-cg, score=nan, total=   0.0s\n",
      "[CV] C=30, class_weight=balanced, dual=True, penalty=l1, solver=newton-cg \n",
      "[CV]  C=30, class_weight=balanced, dual=True, penalty=l1, solver=newton-cg, score=nan, total=   0.0s\n",
      "[CV] C=30, class_weight=balanced, dual=True, penalty=l1, solver=newton-cg \n",
      "[CV]  C=30, class_weight=balanced, dual=True, penalty=l1, solver=newton-cg, score=nan, total=   0.0s\n",
      "[CV] C=30, class_weight=balanced, dual=True, penalty=l1, solver=newton-cg \n",
      "[CV]  C=30, class_weight=balanced, dual=True, penalty=l1, solver=newton-cg, score=nan, total=   0.0s\n",
      "[CV] C=30, class_weight=balanced, dual=True, penalty=l1, solver=newton-cg \n",
      "[CV]  C=30, class_weight=balanced, dual=True, penalty=l1, solver=newton-cg, score=nan, total=   0.0s\n",
      "[CV] C=30, class_weight=balanced, dual=True, penalty=l1, solver=lbfgs \n",
      "[CV]  C=30, class_weight=balanced, dual=True, penalty=l1, solver=lbfgs, score=nan, total=   0.0s\n",
      "[CV] C=30, class_weight=balanced, dual=True, penalty=l1, solver=lbfgs \n",
      "[CV]  C=30, class_weight=balanced, dual=True, penalty=l1, solver=lbfgs, score=nan, total=   0.0s\n",
      "[CV] C=30, class_weight=balanced, dual=True, penalty=l1, solver=lbfgs \n",
      "[CV]  C=30, class_weight=balanced, dual=True, penalty=l1, solver=lbfgs, score=nan, total=   0.0s\n",
      "[CV] C=30, class_weight=balanced, dual=True, penalty=l1, solver=lbfgs \n",
      "[CV]  C=30, class_weight=balanced, dual=True, penalty=l1, solver=lbfgs, score=nan, total=   0.0s\n",
      "[CV] C=30, class_weight=balanced, dual=True, penalty=l1, solver=lbfgs \n",
      "[CV]  C=30, class_weight=balanced, dual=True, penalty=l1, solver=lbfgs, score=nan, total=   0.0s\n",
      "[CV] C=30, class_weight=balanced, dual=True, penalty=l1, solver=sag ..\n",
      "[CV]  C=30, class_weight=balanced, dual=True, penalty=l1, solver=sag, score=nan, total=   0.0s\n",
      "[CV] C=30, class_weight=balanced, dual=True, penalty=l1, solver=sag ..\n",
      "[CV]  C=30, class_weight=balanced, dual=True, penalty=l1, solver=sag, score=nan, total=   0.0s\n",
      "[CV] C=30, class_weight=balanced, dual=True, penalty=l1, solver=sag ..\n",
      "[CV]  C=30, class_weight=balanced, dual=True, penalty=l1, solver=sag, score=nan, total=   0.0s\n",
      "[CV] C=30, class_weight=balanced, dual=True, penalty=l1, solver=sag ..\n",
      "[CV]  C=30, class_weight=balanced, dual=True, penalty=l1, solver=sag, score=nan, total=   0.0s\n",
      "[CV] C=30, class_weight=balanced, dual=True, penalty=l1, solver=sag ..\n",
      "[CV]  C=30, class_weight=balanced, dual=True, penalty=l1, solver=sag, score=nan, total=   0.0s\n",
      "[CV] C=30, class_weight=balanced, dual=True, penalty=l1, solver=saga .\n",
      "[CV]  C=30, class_weight=balanced, dual=True, penalty=l1, solver=saga, score=nan, total=   0.0s\n",
      "[CV] C=30, class_weight=balanced, dual=True, penalty=l1, solver=saga .\n",
      "[CV]  C=30, class_weight=balanced, dual=True, penalty=l1, solver=saga, score=nan, total=   0.0s\n",
      "[CV] C=30, class_weight=balanced, dual=True, penalty=l1, solver=saga .\n",
      "[CV]  C=30, class_weight=balanced, dual=True, penalty=l1, solver=saga, score=nan, total=   0.0s\n",
      "[CV] C=30, class_weight=balanced, dual=True, penalty=l1, solver=saga .\n",
      "[CV]  C=30, class_weight=balanced, dual=True, penalty=l1, solver=saga, score=nan, total=   0.0s\n",
      "[CV] C=30, class_weight=balanced, dual=True, penalty=l1, solver=saga .\n",
      "[CV]  C=30, class_weight=balanced, dual=True, penalty=l1, solver=saga, score=nan, total=   0.0s\n",
      "[CV] C=30, class_weight=balanced, dual=True, penalty=l1, solver=liblinear \n",
      "[CV]  C=30, class_weight=balanced, dual=True, penalty=l1, solver=liblinear, score=nan, total=   0.0s\n",
      "[CV] C=30, class_weight=balanced, dual=True, penalty=l1, solver=liblinear \n",
      "[CV]  C=30, class_weight=balanced, dual=True, penalty=l1, solver=liblinear, score=nan, total=   0.0s\n",
      "[CV] C=30, class_weight=balanced, dual=True, penalty=l1, solver=liblinear \n",
      "[CV]  C=30, class_weight=balanced, dual=True, penalty=l1, solver=liblinear, score=nan, total=   0.0s\n",
      "[CV] C=30, class_weight=balanced, dual=True, penalty=l1, solver=liblinear \n",
      "[CV]  C=30, class_weight=balanced, dual=True, penalty=l1, solver=liblinear, score=nan, total=   0.0s\n",
      "[CV] C=30, class_weight=balanced, dual=True, penalty=l1, solver=liblinear \n",
      "[CV]  C=30, class_weight=balanced, dual=True, penalty=l1, solver=liblinear, score=nan, total=   0.0s\n",
      "[CV] C=30, class_weight=balanced, dual=True, penalty=l2, solver=newton-cg \n",
      "[CV]  C=30, class_weight=balanced, dual=True, penalty=l2, solver=newton-cg, score=nan, total=   0.0s\n",
      "[CV] C=30, class_weight=balanced, dual=True, penalty=l2, solver=newton-cg \n",
      "[CV]  C=30, class_weight=balanced, dual=True, penalty=l2, solver=newton-cg, score=nan, total=   0.0s\n",
      "[CV] C=30, class_weight=balanced, dual=True, penalty=l2, solver=newton-cg \n",
      "[CV]  C=30, class_weight=balanced, dual=True, penalty=l2, solver=newton-cg, score=nan, total=   0.0s\n",
      "[CV] C=30, class_weight=balanced, dual=True, penalty=l2, solver=newton-cg \n",
      "[CV]  C=30, class_weight=balanced, dual=True, penalty=l2, solver=newton-cg, score=nan, total=   0.0s\n",
      "[CV] C=30, class_weight=balanced, dual=True, penalty=l2, solver=newton-cg \n",
      "[CV]  C=30, class_weight=balanced, dual=True, penalty=l2, solver=newton-cg, score=nan, total=   0.0s\n",
      "[CV] C=30, class_weight=balanced, dual=True, penalty=l2, solver=lbfgs \n",
      "[CV]  C=30, class_weight=balanced, dual=True, penalty=l2, solver=lbfgs, score=nan, total=   0.0s\n",
      "[CV] C=30, class_weight=balanced, dual=True, penalty=l2, solver=lbfgs \n",
      "[CV]  C=30, class_weight=balanced, dual=True, penalty=l2, solver=lbfgs, score=nan, total=   0.0s\n",
      "[CV] C=30, class_weight=balanced, dual=True, penalty=l2, solver=lbfgs \n",
      "[CV]  C=30, class_weight=balanced, dual=True, penalty=l2, solver=lbfgs, score=nan, total=   0.0s\n",
      "[CV] C=30, class_weight=balanced, dual=True, penalty=l2, solver=lbfgs \n",
      "[CV]  C=30, class_weight=balanced, dual=True, penalty=l2, solver=lbfgs, score=nan, total=   0.0s\n",
      "[CV] C=30, class_weight=balanced, dual=True, penalty=l2, solver=lbfgs \n",
      "[CV]  C=30, class_weight=balanced, dual=True, penalty=l2, solver=lbfgs, score=nan, total=   0.0s\n",
      "[CV] C=30, class_weight=balanced, dual=True, penalty=l2, solver=sag ..\n",
      "[CV]  C=30, class_weight=balanced, dual=True, penalty=l2, solver=sag, score=nan, total=   0.0s\n",
      "[CV] C=30, class_weight=balanced, dual=True, penalty=l2, solver=sag ..\n",
      "[CV]  C=30, class_weight=balanced, dual=True, penalty=l2, solver=sag, score=nan, total=   0.0s\n",
      "[CV] C=30, class_weight=balanced, dual=True, penalty=l2, solver=sag ..\n",
      "[CV]  C=30, class_weight=balanced, dual=True, penalty=l2, solver=sag, score=nan, total=   0.0s\n",
      "[CV] C=30, class_weight=balanced, dual=True, penalty=l2, solver=sag ..\n",
      "[CV]  C=30, class_weight=balanced, dual=True, penalty=l2, solver=sag, score=nan, total=   0.0s\n",
      "[CV] C=30, class_weight=balanced, dual=True, penalty=l2, solver=sag ..\n",
      "[CV]  C=30, class_weight=balanced, dual=True, penalty=l2, solver=sag, score=nan, total=   0.0s\n",
      "[CV] C=30, class_weight=balanced, dual=True, penalty=l2, solver=saga .\n",
      "[CV]  C=30, class_weight=balanced, dual=True, penalty=l2, solver=saga, score=nan, total=   0.0s\n",
      "[CV] C=30, class_weight=balanced, dual=True, penalty=l2, solver=saga .\n",
      "[CV]  C=30, class_weight=balanced, dual=True, penalty=l2, solver=saga, score=nan, total=   0.0s\n",
      "[CV] C=30, class_weight=balanced, dual=True, penalty=l2, solver=saga .\n",
      "[CV]  C=30, class_weight=balanced, dual=True, penalty=l2, solver=saga, score=nan, total=   0.0s\n",
      "[CV] C=30, class_weight=balanced, dual=True, penalty=l2, solver=saga .\n",
      "[CV]  C=30, class_weight=balanced, dual=True, penalty=l2, solver=saga, score=nan, total=   0.0s\n",
      "[CV] C=30, class_weight=balanced, dual=True, penalty=l2, solver=saga .\n",
      "[CV]  C=30, class_weight=balanced, dual=True, penalty=l2, solver=saga, score=nan, total=   0.0s\n",
      "[CV] C=30, class_weight=balanced, dual=True, penalty=l2, solver=liblinear \n"
     ]
    },
    {
     "name": "stderr",
     "output_type": "stream",
     "text": [
      "C:\\ProgramData\\Anaconda3\\lib\\site-packages\\sklearn\\model_selection\\_validation.py:548: FitFailedWarning: Estimator fit failed. The score on this train-test partition for these parameters will be set to nan. Details: \n",
      "Traceback (most recent call last):\n",
      "  File \"C:\\ProgramData\\Anaconda3\\lib\\site-packages\\sklearn\\model_selection\\_validation.py\", line 531, in _fit_and_score\n",
      "    estimator.fit(X_train, y_train, **fit_params)\n",
      "  File \"C:\\ProgramData\\Anaconda3\\lib\\site-packages\\sklearn\\linear_model\\_logistic.py\", line 1304, in fit\n",
      "    solver = _check_solver(self.solver, self.penalty, self.dual)\n",
      "  File \"C:\\ProgramData\\Anaconda3\\lib\\site-packages\\sklearn\\linear_model\\_logistic.py\", line 442, in _check_solver\n",
      "    raise ValueError(\"Solver %s supports only 'l2' or 'none' penalties, \"\n",
      "ValueError: Solver newton-cg supports only 'l2' or 'none' penalties, got elasticnet penalty.\n",
      "\n",
      "  warnings.warn(\"Estimator fit failed. The score on this train-test\"\n",
      "C:\\ProgramData\\Anaconda3\\lib\\site-packages\\sklearn\\model_selection\\_validation.py:548: FitFailedWarning: Estimator fit failed. The score on this train-test partition for these parameters will be set to nan. Details: \n",
      "Traceback (most recent call last):\n",
      "  File \"C:\\ProgramData\\Anaconda3\\lib\\site-packages\\sklearn\\model_selection\\_validation.py\", line 531, in _fit_and_score\n",
      "    estimator.fit(X_train, y_train, **fit_params)\n",
      "  File \"C:\\ProgramData\\Anaconda3\\lib\\site-packages\\sklearn\\linear_model\\_logistic.py\", line 1304, in fit\n",
      "    solver = _check_solver(self.solver, self.penalty, self.dual)\n",
      "  File \"C:\\ProgramData\\Anaconda3\\lib\\site-packages\\sklearn\\linear_model\\_logistic.py\", line 442, in _check_solver\n",
      "    raise ValueError(\"Solver %s supports only 'l2' or 'none' penalties, \"\n",
      "ValueError: Solver lbfgs supports only 'l2' or 'none' penalties, got elasticnet penalty.\n",
      "\n",
      "  warnings.warn(\"Estimator fit failed. The score on this train-test\"\n",
      "C:\\ProgramData\\Anaconda3\\lib\\site-packages\\sklearn\\model_selection\\_validation.py:548: FitFailedWarning: Estimator fit failed. The score on this train-test partition for these parameters will be set to nan. Details: \n",
      "Traceback (most recent call last):\n",
      "  File \"C:\\ProgramData\\Anaconda3\\lib\\site-packages\\sklearn\\model_selection\\_validation.py\", line 531, in _fit_and_score\n",
      "    estimator.fit(X_train, y_train, **fit_params)\n",
      "  File \"C:\\ProgramData\\Anaconda3\\lib\\site-packages\\sklearn\\linear_model\\_logistic.py\", line 1304, in fit\n",
      "    solver = _check_solver(self.solver, self.penalty, self.dual)\n",
      "  File \"C:\\ProgramData\\Anaconda3\\lib\\site-packages\\sklearn\\linear_model\\_logistic.py\", line 442, in _check_solver\n",
      "    raise ValueError(\"Solver %s supports only 'l2' or 'none' penalties, \"\n",
      "ValueError: Solver sag supports only 'l2' or 'none' penalties, got elasticnet penalty.\n",
      "\n",
      "  warnings.warn(\"Estimator fit failed. The score on this train-test\"\n",
      "C:\\ProgramData\\Anaconda3\\lib\\site-packages\\sklearn\\model_selection\\_validation.py:548: FitFailedWarning: Estimator fit failed. The score on this train-test partition for these parameters will be set to nan. Details: \n",
      "Traceback (most recent call last):\n",
      "  File \"C:\\ProgramData\\Anaconda3\\lib\\site-packages\\sklearn\\model_selection\\_validation.py\", line 531, in _fit_and_score\n",
      "    estimator.fit(X_train, y_train, **fit_params)\n",
      "  File \"C:\\ProgramData\\Anaconda3\\lib\\site-packages\\sklearn\\linear_model\\_logistic.py\", line 1312, in fit\n",
      "    raise ValueError(\"l1_ratio must be between 0 and 1;\"\n",
      "ValueError: l1_ratio must be between 0 and 1; got (l1_ratio=None)\n",
      "\n",
      "  warnings.warn(\"Estimator fit failed. The score on this train-test\"\n",
      "C:\\ProgramData\\Anaconda3\\lib\\site-packages\\sklearn\\model_selection\\_validation.py:548: FitFailedWarning: Estimator fit failed. The score on this train-test partition for these parameters will be set to nan. Details: \n",
      "Traceback (most recent call last):\n",
      "  File \"C:\\ProgramData\\Anaconda3\\lib\\site-packages\\sklearn\\model_selection\\_validation.py\", line 531, in _fit_and_score\n",
      "    estimator.fit(X_train, y_train, **fit_params)\n",
      "  File \"C:\\ProgramData\\Anaconda3\\lib\\site-packages\\sklearn\\linear_model\\_logistic.py\", line 1304, in fit\n",
      "    solver = _check_solver(self.solver, self.penalty, self.dual)\n",
      "  File \"C:\\ProgramData\\Anaconda3\\lib\\site-packages\\sklearn\\linear_model\\_logistic.py\", line 449, in _check_solver\n",
      "    raise ValueError(\"Only 'saga' solver supports elasticnet penalty,\"\n",
      "ValueError: Only 'saga' solver supports elasticnet penalty, got solver=liblinear.\n",
      "\n",
      "  warnings.warn(\"Estimator fit failed. The score on this train-test\"\n",
      "C:\\ProgramData\\Anaconda3\\lib\\site-packages\\sklearn\\model_selection\\_validation.py:548: FitFailedWarning: Estimator fit failed. The score on this train-test partition for these parameters will be set to nan. Details: \n",
      "Traceback (most recent call last):\n",
      "  File \"C:\\ProgramData\\Anaconda3\\lib\\site-packages\\sklearn\\model_selection\\_validation.py\", line 531, in _fit_and_score\n",
      "    estimator.fit(X_train, y_train, **fit_params)\n",
      "  File \"C:\\ProgramData\\Anaconda3\\lib\\site-packages\\sklearn\\linear_model\\_logistic.py\", line 1304, in fit\n",
      "    solver = _check_solver(self.solver, self.penalty, self.dual)\n",
      "  File \"C:\\ProgramData\\Anaconda3\\lib\\site-packages\\sklearn\\linear_model\\_logistic.py\", line 442, in _check_solver\n",
      "    raise ValueError(\"Solver %s supports only 'l2' or 'none' penalties, \"\n",
      "ValueError: Solver newton-cg supports only 'l2' or 'none' penalties, got l1 penalty.\n",
      "\n",
      "  warnings.warn(\"Estimator fit failed. The score on this train-test\"\n",
      "C:\\ProgramData\\Anaconda3\\lib\\site-packages\\sklearn\\model_selection\\_validation.py:548: FitFailedWarning: Estimator fit failed. The score on this train-test partition for these parameters will be set to nan. Details: \n",
      "Traceback (most recent call last):\n",
      "  File \"C:\\ProgramData\\Anaconda3\\lib\\site-packages\\sklearn\\model_selection\\_validation.py\", line 531, in _fit_and_score\n",
      "    estimator.fit(X_train, y_train, **fit_params)\n",
      "  File \"C:\\ProgramData\\Anaconda3\\lib\\site-packages\\sklearn\\linear_model\\_logistic.py\", line 1304, in fit\n",
      "    solver = _check_solver(self.solver, self.penalty, self.dual)\n",
      "  File \"C:\\ProgramData\\Anaconda3\\lib\\site-packages\\sklearn\\linear_model\\_logistic.py\", line 442, in _check_solver\n",
      "    raise ValueError(\"Solver %s supports only 'l2' or 'none' penalties, \"\n",
      "ValueError: Solver lbfgs supports only 'l2' or 'none' penalties, got l1 penalty.\n",
      "\n",
      "  warnings.warn(\"Estimator fit failed. The score on this train-test\"\n",
      "C:\\ProgramData\\Anaconda3\\lib\\site-packages\\sklearn\\model_selection\\_validation.py:548: FitFailedWarning: Estimator fit failed. The score on this train-test partition for these parameters will be set to nan. Details: \n",
      "Traceback (most recent call last):\n",
      "  File \"C:\\ProgramData\\Anaconda3\\lib\\site-packages\\sklearn\\model_selection\\_validation.py\", line 531, in _fit_and_score\n",
      "    estimator.fit(X_train, y_train, **fit_params)\n",
      "  File \"C:\\ProgramData\\Anaconda3\\lib\\site-packages\\sklearn\\linear_model\\_logistic.py\", line 1304, in fit\n",
      "    solver = _check_solver(self.solver, self.penalty, self.dual)\n",
      "  File \"C:\\ProgramData\\Anaconda3\\lib\\site-packages\\sklearn\\linear_model\\_logistic.py\", line 442, in _check_solver\n",
      "    raise ValueError(\"Solver %s supports only 'l2' or 'none' penalties, \"\n",
      "ValueError: Solver sag supports only 'l2' or 'none' penalties, got l1 penalty.\n",
      "\n",
      "  warnings.warn(\"Estimator fit failed. The score on this train-test\"\n",
      "C:\\ProgramData\\Anaconda3\\lib\\site-packages\\sklearn\\model_selection\\_validation.py:548: FitFailedWarning: Estimator fit failed. The score on this train-test partition for these parameters will be set to nan. Details: \n",
      "Traceback (most recent call last):\n",
      "  File \"C:\\ProgramData\\Anaconda3\\lib\\site-packages\\sklearn\\model_selection\\_validation.py\", line 531, in _fit_and_score\n",
      "    estimator.fit(X_train, y_train, **fit_params)\n",
      "  File \"C:\\ProgramData\\Anaconda3\\lib\\site-packages\\sklearn\\linear_model\\_logistic.py\", line 1304, in fit\n",
      "    solver = _check_solver(self.solver, self.penalty, self.dual)\n",
      "  File \"C:\\ProgramData\\Anaconda3\\lib\\site-packages\\sklearn\\linear_model\\_logistic.py\", line 445, in _check_solver\n",
      "    raise ValueError(\"Solver %s supports only \"\n",
      "ValueError: Solver saga supports only dual=False, got dual=True\n",
      "\n",
      "  warnings.warn(\"Estimator fit failed. The score on this train-test\"\n",
      "C:\\ProgramData\\Anaconda3\\lib\\site-packages\\sklearn\\model_selection\\_validation.py:548: FitFailedWarning: Estimator fit failed. The score on this train-test partition for these parameters will be set to nan. Details: \n",
      "Traceback (most recent call last):\n",
      "  File \"C:\\ProgramData\\Anaconda3\\lib\\site-packages\\sklearn\\model_selection\\_validation.py\", line 531, in _fit_and_score\n",
      "    estimator.fit(X_train, y_train, **fit_params)\n",
      "  File \"C:\\ProgramData\\Anaconda3\\lib\\site-packages\\sklearn\\linear_model\\_logistic.py\", line 1356, in fit\n",
      "    self.coef_, self.intercept_, n_iter_ = _fit_liblinear(\n",
      "  File \"C:\\ProgramData\\Anaconda3\\lib\\site-packages\\sklearn\\svm\\_base.py\", line 965, in _fit_liblinear\n",
      "    solver_type = _get_liblinear_solver_type(multi_class, penalty, loss, dual)\n",
      "  File \"C:\\ProgramData\\Anaconda3\\lib\\site-packages\\sklearn\\svm\\_base.py\", line 821, in _get_liblinear_solver_type\n",
      "    raise ValueError('Unsupported set of arguments: %s, '\n",
      "ValueError: Unsupported set of arguments: The combination of penalty='l1' and loss='logistic_regression' are not supported when dual=True, Parameters: penalty='l1', loss='logistic_regression', dual=True\n",
      "\n",
      "  warnings.warn(\"Estimator fit failed. The score on this train-test\"\n",
      "C:\\ProgramData\\Anaconda3\\lib\\site-packages\\sklearn\\model_selection\\_validation.py:548: FitFailedWarning: Estimator fit failed. The score on this train-test partition for these parameters will be set to nan. Details: \n",
      "Traceback (most recent call last):\n",
      "  File \"C:\\ProgramData\\Anaconda3\\lib\\site-packages\\sklearn\\model_selection\\_validation.py\", line 531, in _fit_and_score\n",
      "    estimator.fit(X_train, y_train, **fit_params)\n",
      "  File \"C:\\ProgramData\\Anaconda3\\lib\\site-packages\\sklearn\\linear_model\\_logistic.py\", line 1304, in fit\n",
      "    solver = _check_solver(self.solver, self.penalty, self.dual)\n",
      "  File \"C:\\ProgramData\\Anaconda3\\lib\\site-packages\\sklearn\\linear_model\\_logistic.py\", line 445, in _check_solver\n",
      "    raise ValueError(\"Solver %s supports only \"\n",
      "ValueError: Solver newton-cg supports only dual=False, got dual=True\n",
      "\n",
      "  warnings.warn(\"Estimator fit failed. The score on this train-test\"\n",
      "C:\\ProgramData\\Anaconda3\\lib\\site-packages\\sklearn\\model_selection\\_validation.py:548: FitFailedWarning: Estimator fit failed. The score on this train-test partition for these parameters will be set to nan. Details: \n",
      "Traceback (most recent call last):\n",
      "  File \"C:\\ProgramData\\Anaconda3\\lib\\site-packages\\sklearn\\model_selection\\_validation.py\", line 531, in _fit_and_score\n",
      "    estimator.fit(X_train, y_train, **fit_params)\n",
      "  File \"C:\\ProgramData\\Anaconda3\\lib\\site-packages\\sklearn\\linear_model\\_logistic.py\", line 1304, in fit\n",
      "    solver = _check_solver(self.solver, self.penalty, self.dual)\n",
      "  File \"C:\\ProgramData\\Anaconda3\\lib\\site-packages\\sklearn\\linear_model\\_logistic.py\", line 445, in _check_solver\n",
      "    raise ValueError(\"Solver %s supports only \"\n",
      "ValueError: Solver lbfgs supports only dual=False, got dual=True\n",
      "\n",
      "  warnings.warn(\"Estimator fit failed. The score on this train-test\"\n",
      "C:\\ProgramData\\Anaconda3\\lib\\site-packages\\sklearn\\model_selection\\_validation.py:548: FitFailedWarning: Estimator fit failed. The score on this train-test partition for these parameters will be set to nan. Details: \n",
      "Traceback (most recent call last):\n",
      "  File \"C:\\ProgramData\\Anaconda3\\lib\\site-packages\\sklearn\\model_selection\\_validation.py\", line 531, in _fit_and_score\n",
      "    estimator.fit(X_train, y_train, **fit_params)\n",
      "  File \"C:\\ProgramData\\Anaconda3\\lib\\site-packages\\sklearn\\linear_model\\_logistic.py\", line 1304, in fit\n",
      "    solver = _check_solver(self.solver, self.penalty, self.dual)\n",
      "  File \"C:\\ProgramData\\Anaconda3\\lib\\site-packages\\sklearn\\linear_model\\_logistic.py\", line 445, in _check_solver\n",
      "    raise ValueError(\"Solver %s supports only \"\n",
      "ValueError: Solver sag supports only dual=False, got dual=True\n",
      "\n",
      "  warnings.warn(\"Estimator fit failed. The score on this train-test\"\n"
     ]
    },
    {
     "name": "stderr",
     "output_type": "stream",
     "text": [
      "C:\\ProgramData\\Anaconda3\\lib\\site-packages\\sklearn\\svm\\_base.py:976: ConvergenceWarning: Liblinear failed to converge, increase the number of iterations.\n",
      "  warnings.warn(\"Liblinear failed to converge, increase \"\n"
     ]
    },
    {
     "name": "stdout",
     "output_type": "stream",
     "text": [
      "[CV]  C=30, class_weight=balanced, dual=True, penalty=l2, solver=liblinear, score=0.701, total=   0.1s\n",
      "[CV] C=30, class_weight=balanced, dual=True, penalty=l2, solver=liblinear \n",
      "[CV]  C=30, class_weight=balanced, dual=True, penalty=l2, solver=liblinear, score=0.754, total=   0.1s\n",
      "[CV] C=30, class_weight=balanced, dual=True, penalty=l2, solver=liblinear \n",
      "[CV]  C=30, class_weight=balanced, dual=True, penalty=l2, solver=liblinear, score=0.694, total=   0.2s\n",
      "[CV] C=30, class_weight=balanced, dual=True, penalty=l2, solver=liblinear \n",
      "[CV]  C=30, class_weight=balanced, dual=True, penalty=l2, solver=liblinear, score=0.766, total=   0.1s\n",
      "[CV] C=30, class_weight=balanced, dual=True, penalty=l2, solver=liblinear \n",
      "[CV]  C=30, class_weight=balanced, dual=True, penalty=l2, solver=liblinear, score=0.752, total=   0.2s\n",
      "[CV] C=30, class_weight=balanced, dual=True, penalty=elasticnet, solver=newton-cg \n",
      "[CV]  C=30, class_weight=balanced, dual=True, penalty=elasticnet, solver=newton-cg, score=nan, total=   0.0s\n",
      "[CV] C=30, class_weight=balanced, dual=True, penalty=elasticnet, solver=newton-cg \n",
      "[CV]  C=30, class_weight=balanced, dual=True, penalty=elasticnet, solver=newton-cg, score=nan, total=   0.0s\n",
      "[CV] C=30, class_weight=balanced, dual=True, penalty=elasticnet, solver=newton-cg \n",
      "[CV]  C=30, class_weight=balanced, dual=True, penalty=elasticnet, solver=newton-cg, score=nan, total=   0.0s\n",
      "[CV] C=30, class_weight=balanced, dual=True, penalty=elasticnet, solver=newton-cg \n",
      "[CV]  C=30, class_weight=balanced, dual=True, penalty=elasticnet, solver=newton-cg, score=nan, total=   0.0s\n",
      "[CV] C=30, class_weight=balanced, dual=True, penalty=elasticnet, solver=newton-cg \n",
      "[CV]  C=30, class_weight=balanced, dual=True, penalty=elasticnet, solver=newton-cg, score=nan, total=   0.0s\n",
      "[CV] C=30, class_weight=balanced, dual=True, penalty=elasticnet, solver=lbfgs \n",
      "[CV]  C=30, class_weight=balanced, dual=True, penalty=elasticnet, solver=lbfgs, score=nan, total=   0.0s\n",
      "[CV] C=30, class_weight=balanced, dual=True, penalty=elasticnet, solver=lbfgs \n",
      "[CV]  C=30, class_weight=balanced, dual=True, penalty=elasticnet, solver=lbfgs, score=nan, total=   0.0s\n",
      "[CV] C=30, class_weight=balanced, dual=True, penalty=elasticnet, solver=lbfgs \n",
      "[CV]  C=30, class_weight=balanced, dual=True, penalty=elasticnet, solver=lbfgs, score=nan, total=   0.0s\n",
      "[CV] C=30, class_weight=balanced, dual=True, penalty=elasticnet, solver=lbfgs \n",
      "[CV]  C=30, class_weight=balanced, dual=True, penalty=elasticnet, solver=lbfgs, score=nan, total=   0.0s\n",
      "[CV] C=30, class_weight=balanced, dual=True, penalty=elasticnet, solver=lbfgs \n",
      "[CV]  C=30, class_weight=balanced, dual=True, penalty=elasticnet, solver=lbfgs, score=nan, total=   0.0s\n",
      "[CV] C=30, class_weight=balanced, dual=True, penalty=elasticnet, solver=sag \n",
      "[CV]  C=30, class_weight=balanced, dual=True, penalty=elasticnet, solver=sag, score=nan, total=   0.0s\n",
      "[CV] C=30, class_weight=balanced, dual=True, penalty=elasticnet, solver=sag \n",
      "[CV]  C=30, class_weight=balanced, dual=True, penalty=elasticnet, solver=sag, score=nan, total=   0.0s\n",
      "[CV] C=30, class_weight=balanced, dual=True, penalty=elasticnet, solver=sag \n",
      "[CV]  C=30, class_weight=balanced, dual=True, penalty=elasticnet, solver=sag, score=nan, total=   0.0s\n",
      "[CV] C=30, class_weight=balanced, dual=True, penalty=elasticnet, solver=sag \n",
      "[CV]  C=30, class_weight=balanced, dual=True, penalty=elasticnet, solver=sag, score=nan, total=   0.0s\n",
      "[CV] C=30, class_weight=balanced, dual=True, penalty=elasticnet, solver=sag \n",
      "[CV]  C=30, class_weight=balanced, dual=True, penalty=elasticnet, solver=sag, score=nan, total=   0.0s\n",
      "[CV] C=30, class_weight=balanced, dual=True, penalty=elasticnet, solver=saga \n",
      "[CV]  C=30, class_weight=balanced, dual=True, penalty=elasticnet, solver=saga, score=nan, total=   0.0s\n",
      "[CV] C=30, class_weight=balanced, dual=True, penalty=elasticnet, solver=saga \n",
      "[CV]  C=30, class_weight=balanced, dual=True, penalty=elasticnet, solver=saga, score=nan, total=   0.0s\n",
      "[CV] C=30, class_weight=balanced, dual=True, penalty=elasticnet, solver=saga \n",
      "[CV]  C=30, class_weight=balanced, dual=True, penalty=elasticnet, solver=saga, score=nan, total=   0.0s\n",
      "[CV] C=30, class_weight=balanced, dual=True, penalty=elasticnet, solver=saga \n",
      "[CV]  C=30, class_weight=balanced, dual=True, penalty=elasticnet, solver=saga, score=nan, total=   0.0s\n",
      "[CV] C=30, class_weight=balanced, dual=True, penalty=elasticnet, solver=saga \n",
      "[CV]  C=30, class_weight=balanced, dual=True, penalty=elasticnet, solver=saga, score=nan, total=   0.0s\n",
      "[CV] C=30, class_weight=balanced, dual=True, penalty=elasticnet, solver=liblinear \n",
      "[CV]  C=30, class_weight=balanced, dual=True, penalty=elasticnet, solver=liblinear, score=nan, total=   0.0s\n",
      "[CV] C=30, class_weight=balanced, dual=True, penalty=elasticnet, solver=liblinear \n",
      "[CV]  C=30, class_weight=balanced, dual=True, penalty=elasticnet, solver=liblinear, score=nan, total=   0.0s\n",
      "[CV] C=30, class_weight=balanced, dual=True, penalty=elasticnet, solver=liblinear \n",
      "[CV]  C=30, class_weight=balanced, dual=True, penalty=elasticnet, solver=liblinear, score=nan, total=   0.0s\n",
      "[CV] C=30, class_weight=balanced, dual=True, penalty=elasticnet, solver=liblinear \n",
      "[CV]  C=30, class_weight=balanced, dual=True, penalty=elasticnet, solver=liblinear, score=nan, total=   0.0s\n",
      "[CV] C=30, class_weight=balanced, dual=True, penalty=elasticnet, solver=liblinear \n",
      "[CV]  C=30, class_weight=balanced, dual=True, penalty=elasticnet, solver=liblinear, score=nan, total=   0.0s\n",
      "[CV] C=30, class_weight=balanced, dual=False, penalty=l1, solver=newton-cg \n",
      "[CV]  C=30, class_weight=balanced, dual=False, penalty=l1, solver=newton-cg, score=nan, total=   0.0s\n",
      "[CV] C=30, class_weight=balanced, dual=False, penalty=l1, solver=newton-cg \n",
      "[CV]  C=30, class_weight=balanced, dual=False, penalty=l1, solver=newton-cg, score=nan, total=   0.0s\n",
      "[CV] C=30, class_weight=balanced, dual=False, penalty=l1, solver=newton-cg \n",
      "[CV]  C=30, class_weight=balanced, dual=False, penalty=l1, solver=newton-cg, score=nan, total=   0.0s\n",
      "[CV] C=30, class_weight=balanced, dual=False, penalty=l1, solver=newton-cg \n",
      "[CV]  C=30, class_weight=balanced, dual=False, penalty=l1, solver=newton-cg, score=nan, total=   0.0s\n",
      "[CV] C=30, class_weight=balanced, dual=False, penalty=l1, solver=newton-cg \n",
      "[CV]  C=30, class_weight=balanced, dual=False, penalty=l1, solver=newton-cg, score=nan, total=   0.0s\n",
      "[CV] C=30, class_weight=balanced, dual=False, penalty=l1, solver=lbfgs \n",
      "[CV]  C=30, class_weight=balanced, dual=False, penalty=l1, solver=lbfgs, score=nan, total=   0.0s\n",
      "[CV] C=30, class_weight=balanced, dual=False, penalty=l1, solver=lbfgs \n",
      "[CV]  C=30, class_weight=balanced, dual=False, penalty=l1, solver=lbfgs, score=nan, total=   0.0s\n",
      "[CV] C=30, class_weight=balanced, dual=False, penalty=l1, solver=lbfgs \n",
      "[CV]  C=30, class_weight=balanced, dual=False, penalty=l1, solver=lbfgs, score=nan, total=   0.0s\n",
      "[CV] C=30, class_weight=balanced, dual=False, penalty=l1, solver=lbfgs \n",
      "[CV]  C=30, class_weight=balanced, dual=False, penalty=l1, solver=lbfgs, score=nan, total=   0.0s\n",
      "[CV] C=30, class_weight=balanced, dual=False, penalty=l1, solver=lbfgs \n",
      "[CV]  C=30, class_weight=balanced, dual=False, penalty=l1, solver=lbfgs, score=nan, total=   0.0s\n",
      "[CV] C=30, class_weight=balanced, dual=False, penalty=l1, solver=sag .\n",
      "[CV]  C=30, class_weight=balanced, dual=False, penalty=l1, solver=sag, score=nan, total=   0.0s\n",
      "[CV] C=30, class_weight=balanced, dual=False, penalty=l1, solver=sag .\n",
      "[CV]  C=30, class_weight=balanced, dual=False, penalty=l1, solver=sag, score=nan, total=   0.0s\n",
      "[CV] C=30, class_weight=balanced, dual=False, penalty=l1, solver=sag .\n",
      "[CV]  C=30, class_weight=balanced, dual=False, penalty=l1, solver=sag, score=nan, total=   0.0s\n",
      "[CV] C=30, class_weight=balanced, dual=False, penalty=l1, solver=sag .\n",
      "[CV]  C=30, class_weight=balanced, dual=False, penalty=l1, solver=sag, score=nan, total=   0.0s\n",
      "[CV] C=30, class_weight=balanced, dual=False, penalty=l1, solver=sag .\n",
      "[CV]  C=30, class_weight=balanced, dual=False, penalty=l1, solver=sag, score=nan, total=   0.0s\n",
      "[CV] C=30, class_weight=balanced, dual=False, penalty=l1, solver=saga \n"
     ]
    },
    {
     "name": "stderr",
     "output_type": "stream",
     "text": [
      "C:\\ProgramData\\Anaconda3\\lib\\site-packages\\sklearn\\linear_model\\_sag.py:329: ConvergenceWarning: The max_iter was reached which means the coef_ did not converge\n",
      "  warnings.warn(\"The max_iter was reached which means \"\n"
     ]
    },
    {
     "name": "stdout",
     "output_type": "stream",
     "text": [
      "[CV]  C=30, class_weight=balanced, dual=False, penalty=l1, solver=saga, score=0.689, total=  15.7s\n",
      "[CV] C=30, class_weight=balanced, dual=False, penalty=l1, solver=saga \n"
     ]
    },
    {
     "name": "stderr",
     "output_type": "stream",
     "text": [
      "C:\\ProgramData\\Anaconda3\\lib\\site-packages\\sklearn\\linear_model\\_sag.py:329: ConvergenceWarning: The max_iter was reached which means the coef_ did not converge\n",
      "  warnings.warn(\"The max_iter was reached which means \"\n"
     ]
    },
    {
     "name": "stdout",
     "output_type": "stream",
     "text": [
      "[CV]  C=30, class_weight=balanced, dual=False, penalty=l1, solver=saga, score=0.774, total=   9.8s\n",
      "[CV] C=30, class_weight=balanced, dual=False, penalty=l1, solver=saga \n"
     ]
    },
    {
     "name": "stderr",
     "output_type": "stream",
     "text": [
      "C:\\ProgramData\\Anaconda3\\lib\\site-packages\\sklearn\\linear_model\\_sag.py:329: ConvergenceWarning: The max_iter was reached which means the coef_ did not converge\n",
      "  warnings.warn(\"The max_iter was reached which means \"\n"
     ]
    },
    {
     "name": "stdout",
     "output_type": "stream",
     "text": [
      "[CV]  C=30, class_weight=balanced, dual=False, penalty=l1, solver=saga, score=0.688, total=  15.4s\n",
      "[CV] C=30, class_weight=balanced, dual=False, penalty=l1, solver=saga \n"
     ]
    },
    {
     "name": "stderr",
     "output_type": "stream",
     "text": [
      "C:\\ProgramData\\Anaconda3\\lib\\site-packages\\sklearn\\linear_model\\_sag.py:329: ConvergenceWarning: The max_iter was reached which means the coef_ did not converge\n",
      "  warnings.warn(\"The max_iter was reached which means \"\n"
     ]
    },
    {
     "name": "stdout",
     "output_type": "stream",
     "text": [
      "[CV]  C=30, class_weight=balanced, dual=False, penalty=l1, solver=saga, score=0.760, total=  15.6s\n",
      "[CV] C=30, class_weight=balanced, dual=False, penalty=l1, solver=saga \n"
     ]
    },
    {
     "name": "stderr",
     "output_type": "stream",
     "text": [
      "C:\\ProgramData\\Anaconda3\\lib\\site-packages\\sklearn\\linear_model\\_sag.py:329: ConvergenceWarning: The max_iter was reached which means the coef_ did not converge\n",
      "  warnings.warn(\"The max_iter was reached which means \"\n"
     ]
    },
    {
     "name": "stdout",
     "output_type": "stream",
     "text": [
      "[CV]  C=30, class_weight=balanced, dual=False, penalty=l1, solver=saga, score=0.794, total=  16.4s\n",
      "[CV] C=30, class_weight=balanced, dual=False, penalty=l1, solver=liblinear \n",
      "[CV]  C=30, class_weight=balanced, dual=False, penalty=l1, solver=liblinear, score=0.703, total=   0.1s\n",
      "[CV] C=30, class_weight=balanced, dual=False, penalty=l1, solver=liblinear \n",
      "[CV]  C=30, class_weight=balanced, dual=False, penalty=l1, solver=liblinear, score=0.747, total=   0.1s"
     ]
    },
    {
     "name": "stderr",
     "output_type": "stream",
     "text": [
      "C:\\ProgramData\\Anaconda3\\lib\\site-packages\\sklearn\\svm\\_base.py:976: ConvergenceWarning: Liblinear failed to converge, increase the number of iterations.\n",
      "  warnings.warn(\"Liblinear failed to converge, increase \"\n"
     ]
    },
    {
     "name": "stdout",
     "output_type": "stream",
     "text": [
      "\n",
      "[CV] C=30, class_weight=balanced, dual=False, penalty=l1, solver=liblinear \n",
      "[CV]  C=30, class_weight=balanced, dual=False, penalty=l1, solver=liblinear, score=0.691, total=   1.5s\n",
      "[CV] C=30, class_weight=balanced, dual=False, penalty=l1, solver=liblinear \n",
      "[CV]  C=30, class_weight=balanced, dual=False, penalty=l1, solver=liblinear, score=0.787, total=   0.1s\n",
      "[CV] C=30, class_weight=balanced, dual=False, penalty=l1, solver=liblinear \n",
      "[CV]  C=30, class_weight=balanced, dual=False, penalty=l1, solver=liblinear, score=0.694, total=   0.1s\n",
      "[CV] C=30, class_weight=balanced, dual=False, penalty=l2, solver=newton-cg \n",
      "[CV]  C=30, class_weight=balanced, dual=False, penalty=l2, solver=newton-cg, score=0.696, total=   0.3s\n",
      "[CV] C=30, class_weight=balanced, dual=False, penalty=l2, solver=newton-cg \n",
      "[CV]  C=30, class_weight=balanced, dual=False, penalty=l2, solver=newton-cg, score=0.761, total=   0.3s\n",
      "[CV] C=30, class_weight=balanced, dual=False, penalty=l2, solver=newton-cg \n",
      "[CV]  C=30, class_weight=balanced, dual=False, penalty=l2, solver=newton-cg, score=0.689, total=   0.3s\n",
      "[CV] C=30, class_weight=balanced, dual=False, penalty=l2, solver=newton-cg \n",
      "[CV]  C=30, class_weight=balanced, dual=False, penalty=l2, solver=newton-cg, score=0.782, total=   0.3s\n",
      "[CV] C=30, class_weight=balanced, dual=False, penalty=l2, solver=newton-cg \n",
      "[CV]  C=30, class_weight=balanced, dual=False, penalty=l2, solver=newton-cg, score=0.767, total=   0.3s\n",
      "[CV] C=30, class_weight=balanced, dual=False, penalty=l2, solver=lbfgs \n"
     ]
    },
    {
     "name": "stderr",
     "output_type": "stream",
     "text": [
      "C:\\ProgramData\\Anaconda3\\lib\\site-packages\\sklearn\\linear_model\\_logistic.py:762: ConvergenceWarning: lbfgs failed to converge (status=1):\n",
      "STOP: TOTAL NO. of ITERATIONS REACHED LIMIT.\n",
      "\n",
      "Increase the number of iterations (max_iter) or scale the data as shown in:\n",
      "    https://scikit-learn.org/stable/modules/preprocessing.html\n",
      "Please also refer to the documentation for alternative solver options:\n",
      "    https://scikit-learn.org/stable/modules/linear_model.html#logistic-regression\n",
      "  n_iter_i = _check_optimize_result(\n"
     ]
    },
    {
     "name": "stdout",
     "output_type": "stream",
     "text": [
      "[CV]  C=30, class_weight=balanced, dual=False, penalty=l2, solver=lbfgs, score=0.696, total=   0.5s\n",
      "[CV] C=30, class_weight=balanced, dual=False, penalty=l2, solver=lbfgs \n"
     ]
    },
    {
     "name": "stderr",
     "output_type": "stream",
     "text": [
      "C:\\ProgramData\\Anaconda3\\lib\\site-packages\\sklearn\\linear_model\\_logistic.py:762: ConvergenceWarning: lbfgs failed to converge (status=1):\n",
      "STOP: TOTAL NO. of ITERATIONS REACHED LIMIT.\n",
      "\n",
      "Increase the number of iterations (max_iter) or scale the data as shown in:\n",
      "    https://scikit-learn.org/stable/modules/preprocessing.html\n",
      "Please also refer to the documentation for alternative solver options:\n",
      "    https://scikit-learn.org/stable/modules/linear_model.html#logistic-regression\n",
      "  n_iter_i = _check_optimize_result(\n"
     ]
    },
    {
     "name": "stdout",
     "output_type": "stream",
     "text": [
      "[CV]  C=30, class_weight=balanced, dual=False, penalty=l2, solver=lbfgs, score=0.761, total=   0.6s\n",
      "[CV] C=30, class_weight=balanced, dual=False, penalty=l2, solver=lbfgs \n"
     ]
    },
    {
     "name": "stderr",
     "output_type": "stream",
     "text": [
      "C:\\ProgramData\\Anaconda3\\lib\\site-packages\\sklearn\\linear_model\\_logistic.py:762: ConvergenceWarning: lbfgs failed to converge (status=1):\n",
      "STOP: TOTAL NO. of ITERATIONS REACHED LIMIT.\n",
      "\n",
      "Increase the number of iterations (max_iter) or scale the data as shown in:\n",
      "    https://scikit-learn.org/stable/modules/preprocessing.html\n",
      "Please also refer to the documentation for alternative solver options:\n",
      "    https://scikit-learn.org/stable/modules/linear_model.html#logistic-regression\n",
      "  n_iter_i = _check_optimize_result(\n"
     ]
    },
    {
     "name": "stdout",
     "output_type": "stream",
     "text": [
      "[CV]  C=30, class_weight=balanced, dual=False, penalty=l2, solver=lbfgs, score=0.689, total=   0.5s\n",
      "[CV] C=30, class_weight=balanced, dual=False, penalty=l2, solver=lbfgs \n"
     ]
    },
    {
     "name": "stderr",
     "output_type": "stream",
     "text": [
      "C:\\ProgramData\\Anaconda3\\lib\\site-packages\\sklearn\\linear_model\\_logistic.py:762: ConvergenceWarning: lbfgs failed to converge (status=1):\n",
      "STOP: TOTAL NO. of ITERATIONS REACHED LIMIT.\n",
      "\n",
      "Increase the number of iterations (max_iter) or scale the data as shown in:\n",
      "    https://scikit-learn.org/stable/modules/preprocessing.html\n",
      "Please also refer to the documentation for alternative solver options:\n",
      "    https://scikit-learn.org/stable/modules/linear_model.html#logistic-regression\n",
      "  n_iter_i = _check_optimize_result(\n"
     ]
    },
    {
     "name": "stdout",
     "output_type": "stream",
     "text": [
      "[CV]  C=30, class_weight=balanced, dual=False, penalty=l2, solver=lbfgs, score=0.782, total=   0.5s\n",
      "[CV] C=30, class_weight=balanced, dual=False, penalty=l2, solver=lbfgs \n"
     ]
    },
    {
     "name": "stderr",
     "output_type": "stream",
     "text": [
      "C:\\ProgramData\\Anaconda3\\lib\\site-packages\\sklearn\\linear_model\\_logistic.py:762: ConvergenceWarning: lbfgs failed to converge (status=1):\n",
      "STOP: TOTAL NO. of ITERATIONS REACHED LIMIT.\n",
      "\n",
      "Increase the number of iterations (max_iter) or scale the data as shown in:\n",
      "    https://scikit-learn.org/stable/modules/preprocessing.html\n",
      "Please also refer to the documentation for alternative solver options:\n",
      "    https://scikit-learn.org/stable/modules/linear_model.html#logistic-regression\n",
      "  n_iter_i = _check_optimize_result(\n",
      "C:\\ProgramData\\Anaconda3\\lib\\site-packages\\sklearn\\linear_model\\_sag.py:329: ConvergenceWarning: The max_iter was reached which means the coef_ did not converge\n",
      "  warnings.warn(\"The max_iter was reached which means \"\n"
     ]
    },
    {
     "name": "stdout",
     "output_type": "stream",
     "text": [
      "[CV]  C=30, class_weight=balanced, dual=False, penalty=l2, solver=lbfgs, score=0.767, total=   0.5s\n",
      "[CV] C=30, class_weight=balanced, dual=False, penalty=l2, solver=sag .\n",
      "[CV]  C=30, class_weight=balanced, dual=False, penalty=l2, solver=sag, score=0.686, total=   0.2s\n",
      "[CV] C=30, class_weight=balanced, dual=False, penalty=l2, solver=sag .\n"
     ]
    },
    {
     "name": "stderr",
     "output_type": "stream",
     "text": [
      "C:\\ProgramData\\Anaconda3\\lib\\site-packages\\sklearn\\linear_model\\_sag.py:329: ConvergenceWarning: The max_iter was reached which means the coef_ did not converge\n",
      "  warnings.warn(\"The max_iter was reached which means \"\n",
      "C:\\ProgramData\\Anaconda3\\lib\\site-packages\\sklearn\\linear_model\\_sag.py:329: ConvergenceWarning: The max_iter was reached which means the coef_ did not converge\n",
      "  warnings.warn(\"The max_iter was reached which means \"\n"
     ]
    },
    {
     "name": "stdout",
     "output_type": "stream",
     "text": [
      "[CV]  C=30, class_weight=balanced, dual=False, penalty=l2, solver=sag, score=0.724, total=   0.2s\n",
      "[CV] C=30, class_weight=balanced, dual=False, penalty=l2, solver=sag .\n",
      "[CV]  C=30, class_weight=balanced, dual=False, penalty=l2, solver=sag, score=0.697, total=   0.2s\n",
      "[CV] C=30, class_weight=balanced, dual=False, penalty=l2, solver=sag .\n"
     ]
    },
    {
     "name": "stderr",
     "output_type": "stream",
     "text": [
      "C:\\ProgramData\\Anaconda3\\lib\\site-packages\\sklearn\\linear_model\\_sag.py:329: ConvergenceWarning: The max_iter was reached which means the coef_ did not converge\n",
      "  warnings.warn(\"The max_iter was reached which means \"\n",
      "C:\\ProgramData\\Anaconda3\\lib\\site-packages\\sklearn\\linear_model\\_sag.py:329: ConvergenceWarning: The max_iter was reached which means the coef_ did not converge\n",
      "  warnings.warn(\"The max_iter was reached which means \"\n"
     ]
    },
    {
     "name": "stdout",
     "output_type": "stream",
     "text": [
      "[CV]  C=30, class_weight=balanced, dual=False, penalty=l2, solver=sag, score=0.763, total=   0.2s\n",
      "[CV] C=30, class_weight=balanced, dual=False, penalty=l2, solver=sag .\n",
      "[CV]  C=30, class_weight=balanced, dual=False, penalty=l2, solver=sag, score=0.812, total=   0.2s\n",
      "[CV] C=30, class_weight=balanced, dual=False, penalty=l2, solver=saga \n"
     ]
    },
    {
     "name": "stderr",
     "output_type": "stream",
     "text": [
      "C:\\ProgramData\\Anaconda3\\lib\\site-packages\\sklearn\\linear_model\\_sag.py:329: ConvergenceWarning: The max_iter was reached which means the coef_ did not converge\n",
      "  warnings.warn(\"The max_iter was reached which means \"\n",
      "C:\\ProgramData\\Anaconda3\\lib\\site-packages\\sklearn\\linear_model\\_sag.py:329: ConvergenceWarning: The max_iter was reached which means the coef_ did not converge\n",
      "  warnings.warn(\"The max_iter was reached which means \"\n"
     ]
    },
    {
     "name": "stdout",
     "output_type": "stream",
     "text": [
      "[CV]  C=30, class_weight=balanced, dual=False, penalty=l2, solver=saga, score=0.691, total=   0.2s\n",
      "[CV] C=30, class_weight=balanced, dual=False, penalty=l2, solver=saga \n",
      "[CV]  C=30, class_weight=balanced, dual=False, penalty=l2, solver=saga, score=0.756, total=   0.2s\n",
      "[CV] C=30, class_weight=balanced, dual=False, penalty=l2, solver=saga \n"
     ]
    },
    {
     "name": "stderr",
     "output_type": "stream",
     "text": [
      "C:\\ProgramData\\Anaconda3\\lib\\site-packages\\sklearn\\linear_model\\_sag.py:329: ConvergenceWarning: The max_iter was reached which means the coef_ did not converge\n",
      "  warnings.warn(\"The max_iter was reached which means \"\n",
      "C:\\ProgramData\\Anaconda3\\lib\\site-packages\\sklearn\\linear_model\\_sag.py:329: ConvergenceWarning: The max_iter was reached which means the coef_ did not converge\n",
      "  warnings.warn(\"The max_iter was reached which means \"\n"
     ]
    },
    {
     "name": "stdout",
     "output_type": "stream",
     "text": [
      "[CV]  C=30, class_weight=balanced, dual=False, penalty=l2, solver=saga, score=0.681, total=   0.2s\n",
      "[CV] C=30, class_weight=balanced, dual=False, penalty=l2, solver=saga \n",
      "[CV]  C=30, class_weight=balanced, dual=False, penalty=l2, solver=saga, score=0.760, total=   0.2s\n",
      "[CV] C=30, class_weight=balanced, dual=False, penalty=l2, solver=saga \n"
     ]
    },
    {
     "name": "stderr",
     "output_type": "stream",
     "text": [
      "C:\\ProgramData\\Anaconda3\\lib\\site-packages\\sklearn\\linear_model\\_sag.py:329: ConvergenceWarning: The max_iter was reached which means the coef_ did not converge\n",
      "  warnings.warn(\"The max_iter was reached which means \"\n"
     ]
    },
    {
     "name": "stdout",
     "output_type": "stream",
     "text": [
      "[CV]  C=30, class_weight=balanced, dual=False, penalty=l2, solver=saga, score=0.795, total=   0.2s\n",
      "[CV] C=30, class_weight=balanced, dual=False, penalty=l2, solver=liblinear \n",
      "[CV]  C=30, class_weight=balanced, dual=False, penalty=l2, solver=liblinear, score=0.701, total=   0.1s\n",
      "[CV] C=30, class_weight=balanced, dual=False, penalty=l2, solver=liblinear \n",
      "[CV]  C=30, class_weight=balanced, dual=False, penalty=l2, solver=liblinear, score=0.754, total=   0.1s\n",
      "[CV] C=30, class_weight=balanced, dual=False, penalty=l2, solver=liblinear \n",
      "[CV]  C=30, class_weight=balanced, dual=False, penalty=l2, solver=liblinear, score=0.693, total=   0.1s\n",
      "[CV] C=30, class_weight=balanced, dual=False, penalty=l2, solver=liblinear \n",
      "[CV]  C=30, class_weight=balanced, dual=False, penalty=l2, solver=liblinear, score=0.766, total=   0.1s\n",
      "[CV] C=30, class_weight=balanced, dual=False, penalty=l2, solver=liblinear \n",
      "[CV]  C=30, class_weight=balanced, dual=False, penalty=l2, solver=liblinear, score=0.752, total=   0.1s\n",
      "[CV] C=30, class_weight=balanced, dual=False, penalty=elasticnet, solver=newton-cg \n",
      "[CV]  C=30, class_weight=balanced, dual=False, penalty=elasticnet, solver=newton-cg, score=nan, total=   0.0s\n",
      "[CV] C=30, class_weight=balanced, dual=False, penalty=elasticnet, solver=newton-cg \n",
      "[CV]  C=30, class_weight=balanced, dual=False, penalty=elasticnet, solver=newton-cg, score=nan, total=   0.0s\n",
      "[CV] C=30, class_weight=balanced, dual=False, penalty=elasticnet, solver=newton-cg \n",
      "[CV]  C=30, class_weight=balanced, dual=False, penalty=elasticnet, solver=newton-cg, score=nan, total=   0.0s\n",
      "[CV] C=30, class_weight=balanced, dual=False, penalty=elasticnet, solver=newton-cg \n",
      "[CV]  C=30, class_weight=balanced, dual=False, penalty=elasticnet, solver=newton-cg, score=nan, total=   0.0s\n",
      "[CV] C=30, class_weight=balanced, dual=False, penalty=elasticnet, solver=newton-cg \n",
      "[CV]  C=30, class_weight=balanced, dual=False, penalty=elasticnet, solver=newton-cg, score=nan, total=   0.0s\n",
      "[CV] C=30, class_weight=balanced, dual=False, penalty=elasticnet, solver=lbfgs \n",
      "[CV]  C=30, class_weight=balanced, dual=False, penalty=elasticnet, solver=lbfgs, score=nan, total=   0.0s\n",
      "[CV] C=30, class_weight=balanced, dual=False, penalty=elasticnet, solver=lbfgs \n",
      "[CV]  C=30, class_weight=balanced, dual=False, penalty=elasticnet, solver=lbfgs, score=nan, total=   0.0s\n",
      "[CV] C=30, class_weight=balanced, dual=False, penalty=elasticnet, solver=lbfgs \n",
      "[CV]  C=30, class_weight=balanced, dual=False, penalty=elasticnet, solver=lbfgs, score=nan, total=   0.0s\n",
      "[CV] C=30, class_weight=balanced, dual=False, penalty=elasticnet, solver=lbfgs \n",
      "[CV]  C=30, class_weight=balanced, dual=False, penalty=elasticnet, solver=lbfgs, score=nan, total=   0.0s\n",
      "[CV] C=30, class_weight=balanced, dual=False, penalty=elasticnet, solver=lbfgs \n",
      "[CV]  C=30, class_weight=balanced, dual=False, penalty=elasticnet, solver=lbfgs, score=nan, total=   0.0s\n",
      "[CV] C=30, class_weight=balanced, dual=False, penalty=elasticnet, solver=sag \n",
      "[CV]  C=30, class_weight=balanced, dual=False, penalty=elasticnet, solver=sag, score=nan, total=   0.0s\n",
      "[CV] C=30, class_weight=balanced, dual=False, penalty=elasticnet, solver=sag \n",
      "[CV]  C=30, class_weight=balanced, dual=False, penalty=elasticnet, solver=sag, score=nan, total=   0.0s\n",
      "[CV] C=30, class_weight=balanced, dual=False, penalty=elasticnet, solver=sag \n",
      "[CV]  C=30, class_weight=balanced, dual=False, penalty=elasticnet, solver=sag, score=nan, total=   0.0s\n",
      "[CV] C=30, class_weight=balanced, dual=False, penalty=elasticnet, solver=sag \n",
      "[CV]  C=30, class_weight=balanced, dual=False, penalty=elasticnet, solver=sag, score=nan, total=   0.0s\n",
      "[CV] C=30, class_weight=balanced, dual=False, penalty=elasticnet, solver=sag \n",
      "[CV]  C=30, class_weight=balanced, dual=False, penalty=elasticnet, solver=sag, score=nan, total=   0.0s\n",
      "[CV] C=30, class_weight=balanced, dual=False, penalty=elasticnet, solver=saga \n",
      "[CV]  C=30, class_weight=balanced, dual=False, penalty=elasticnet, solver=saga, score=nan, total=   0.0s\n",
      "[CV] C=30, class_weight=balanced, dual=False, penalty=elasticnet, solver=saga \n",
      "[CV]  C=30, class_weight=balanced, dual=False, penalty=elasticnet, solver=saga, score=nan, total=   0.0s\n",
      "[CV] C=30, class_weight=balanced, dual=False, penalty=elasticnet, solver=saga \n",
      "[CV]  C=30, class_weight=balanced, dual=False, penalty=elasticnet, solver=saga, score=nan, total=   0.0s\n",
      "[CV] C=30, class_weight=balanced, dual=False, penalty=elasticnet, solver=saga \n",
      "[CV]  C=30, class_weight=balanced, dual=False, penalty=elasticnet, solver=saga, score=nan, total=   0.0s\n",
      "[CV] C=30, class_weight=balanced, dual=False, penalty=elasticnet, solver=saga \n",
      "[CV]  C=30, class_weight=balanced, dual=False, penalty=elasticnet, solver=saga, score=nan, total=   0.0s\n",
      "[CV] C=30, class_weight=balanced, dual=False, penalty=elasticnet, solver=liblinear \n",
      "[CV]  C=30, class_weight=balanced, dual=False, penalty=elasticnet, solver=liblinear, score=nan, total=   0.0s\n",
      "[CV] C=30, class_weight=balanced, dual=False, penalty=elasticnet, solver=liblinear \n",
      "[CV]  C=30, class_weight=balanced, dual=False, penalty=elasticnet, solver=liblinear, score=nan, total=   0.0s\n",
      "[CV] C=30, class_weight=balanced, dual=False, penalty=elasticnet, solver=liblinear \n",
      "[CV]  C=30, class_weight=balanced, dual=False, penalty=elasticnet, solver=liblinear, score=nan, total=   0.0s\n",
      "[CV] C=30, class_weight=balanced, dual=False, penalty=elasticnet, solver=liblinear \n",
      "[CV]  C=30, class_weight=balanced, dual=False, penalty=elasticnet, solver=liblinear, score=nan, total=   0.0s\n",
      "[CV] C=30, class_weight=balanced, dual=False, penalty=elasticnet, solver=liblinear \n",
      "[CV]  C=30, class_weight=balanced, dual=False, penalty=elasticnet, solver=liblinear, score=nan, total=   0.0s\n"
     ]
    },
    {
     "name": "stderr",
     "output_type": "stream",
     "text": [
      "C:\\ProgramData\\Anaconda3\\lib\\site-packages\\sklearn\\model_selection\\_validation.py:548: FitFailedWarning: Estimator fit failed. The score on this train-test partition for these parameters will be set to nan. Details: \n",
      "Traceback (most recent call last):\n",
      "  File \"C:\\ProgramData\\Anaconda3\\lib\\site-packages\\sklearn\\model_selection\\_validation.py\", line 531, in _fit_and_score\n",
      "    estimator.fit(X_train, y_train, **fit_params)\n",
      "  File \"C:\\ProgramData\\Anaconda3\\lib\\site-packages\\sklearn\\linear_model\\_logistic.py\", line 1304, in fit\n",
      "    solver = _check_solver(self.solver, self.penalty, self.dual)\n",
      "  File \"C:\\ProgramData\\Anaconda3\\lib\\site-packages\\sklearn\\linear_model\\_logistic.py\", line 442, in _check_solver\n",
      "    raise ValueError(\"Solver %s supports only 'l2' or 'none' penalties, \"\n",
      "ValueError: Solver newton-cg supports only 'l2' or 'none' penalties, got elasticnet penalty.\n",
      "\n",
      "  warnings.warn(\"Estimator fit failed. The score on this train-test\"\n",
      "C:\\ProgramData\\Anaconda3\\lib\\site-packages\\sklearn\\model_selection\\_validation.py:548: FitFailedWarning: Estimator fit failed. The score on this train-test partition for these parameters will be set to nan. Details: \n",
      "Traceback (most recent call last):\n",
      "  File \"C:\\ProgramData\\Anaconda3\\lib\\site-packages\\sklearn\\model_selection\\_validation.py\", line 531, in _fit_and_score\n",
      "    estimator.fit(X_train, y_train, **fit_params)\n",
      "  File \"C:\\ProgramData\\Anaconda3\\lib\\site-packages\\sklearn\\linear_model\\_logistic.py\", line 1304, in fit\n",
      "    solver = _check_solver(self.solver, self.penalty, self.dual)\n",
      "  File \"C:\\ProgramData\\Anaconda3\\lib\\site-packages\\sklearn\\linear_model\\_logistic.py\", line 442, in _check_solver\n",
      "    raise ValueError(\"Solver %s supports only 'l2' or 'none' penalties, \"\n",
      "ValueError: Solver lbfgs supports only 'l2' or 'none' penalties, got elasticnet penalty.\n",
      "\n",
      "  warnings.warn(\"Estimator fit failed. The score on this train-test\"\n",
      "C:\\ProgramData\\Anaconda3\\lib\\site-packages\\sklearn\\model_selection\\_validation.py:548: FitFailedWarning: Estimator fit failed. The score on this train-test partition for these parameters will be set to nan. Details: \n",
      "Traceback (most recent call last):\n",
      "  File \"C:\\ProgramData\\Anaconda3\\lib\\site-packages\\sklearn\\model_selection\\_validation.py\", line 531, in _fit_and_score\n",
      "    estimator.fit(X_train, y_train, **fit_params)\n",
      "  File \"C:\\ProgramData\\Anaconda3\\lib\\site-packages\\sklearn\\linear_model\\_logistic.py\", line 1304, in fit\n",
      "    solver = _check_solver(self.solver, self.penalty, self.dual)\n",
      "  File \"C:\\ProgramData\\Anaconda3\\lib\\site-packages\\sklearn\\linear_model\\_logistic.py\", line 442, in _check_solver\n",
      "    raise ValueError(\"Solver %s supports only 'l2' or 'none' penalties, \"\n",
      "ValueError: Solver sag supports only 'l2' or 'none' penalties, got elasticnet penalty.\n",
      "\n",
      "  warnings.warn(\"Estimator fit failed. The score on this train-test\"\n",
      "C:\\ProgramData\\Anaconda3\\lib\\site-packages\\sklearn\\model_selection\\_validation.py:548: FitFailedWarning: Estimator fit failed. The score on this train-test partition for these parameters will be set to nan. Details: \n",
      "Traceback (most recent call last):\n",
      "  File \"C:\\ProgramData\\Anaconda3\\lib\\site-packages\\sklearn\\model_selection\\_validation.py\", line 531, in _fit_and_score\n",
      "    estimator.fit(X_train, y_train, **fit_params)\n",
      "  File \"C:\\ProgramData\\Anaconda3\\lib\\site-packages\\sklearn\\linear_model\\_logistic.py\", line 1312, in fit\n",
      "    raise ValueError(\"l1_ratio must be between 0 and 1;\"\n",
      "ValueError: l1_ratio must be between 0 and 1; got (l1_ratio=None)\n",
      "\n",
      "  warnings.warn(\"Estimator fit failed. The score on this train-test\"\n",
      "C:\\ProgramData\\Anaconda3\\lib\\site-packages\\sklearn\\model_selection\\_validation.py:548: FitFailedWarning: Estimator fit failed. The score on this train-test partition for these parameters will be set to nan. Details: \n",
      "Traceback (most recent call last):\n",
      "  File \"C:\\ProgramData\\Anaconda3\\lib\\site-packages\\sklearn\\model_selection\\_validation.py\", line 531, in _fit_and_score\n",
      "    estimator.fit(X_train, y_train, **fit_params)\n",
      "  File \"C:\\ProgramData\\Anaconda3\\lib\\site-packages\\sklearn\\linear_model\\_logistic.py\", line 1304, in fit\n",
      "    solver = _check_solver(self.solver, self.penalty, self.dual)\n",
      "  File \"C:\\ProgramData\\Anaconda3\\lib\\site-packages\\sklearn\\linear_model\\_logistic.py\", line 449, in _check_solver\n",
      "    raise ValueError(\"Only 'saga' solver supports elasticnet penalty,\"\n",
      "ValueError: Only 'saga' solver supports elasticnet penalty, got solver=liblinear.\n",
      "\n",
      "  warnings.warn(\"Estimator fit failed. The score on this train-test\"\n",
      "[Parallel(n_jobs=1)]: Done 900 out of 900 | elapsed:  5.4min finished\n"
     ]
    },
    {
     "data": {
      "text/plain": [
       "GridSearchCV(cv=5, estimator=LogisticRegression(C=1, random_state=12),\n",
       "             param_grid={'C': [1, 10, 30], 'class_weight': [None, 'balanced'],\n",
       "                         'dual': [True, False],\n",
       "                         'penalty': ['l1', 'l2', 'elasticnet'],\n",
       "                         'solver': ['newton-cg', 'lbfgs', 'sag', 'saga',\n",
       "                                    'liblinear']},\n",
       "             scoring='f1_macro', verbose=3)"
      ]
     },
     "execution_count": 53,
     "metadata": {},
     "output_type": "execute_result"
    }
   ],
   "source": [
    "default_grid_LR = LogisticRegression(penalty='l2', dual=False, C=1, class_weight=None, \n",
    "                                solver='lbfgs', random_state=12)\n",
    "\n",
    "# dictionary containing the parameters which will be used for grid search\n",
    "grid_search_params={'penalty': ['l1', 'l2', 'elasticnet'],  \n",
    "              'dual': [True, False], \n",
    "              'C': [1, 10, 30],\n",
    "              'class_weight': [None, 'balanced'],\n",
    "              'solver': ['newton-cg', 'lbfgs', 'sag', 'saga', 'liblinear']}\n",
    "\n",
    "# grid search with f1 being the performance metric\n",
    "grid_LR = GridSearchCV(default_grid_LR, grid_search_params, cv=5, scoring='f1_macro', verbose=3)\n",
    "grid_LR.fit(count_train, y_train)"
   ]
  },
  {
   "cell_type": "code",
   "execution_count": 54,
   "metadata": {},
   "outputs": [
    {
     "name": "stdout",
     "output_type": "stream",
     "text": [
      "Macro F1 Score: 0.7494947367426203\n",
      "Best Hyperparameters: {'C': 1, 'class_weight': 'balanced', 'dual': False, 'penalty': 'l1', 'solver': 'liblinear'}\n",
      "Model object with best parameters: \n",
      "LogisticRegression(C=1, class_weight='balanced', penalty='l1', random_state=12,\n",
      "                   solver='liblinear')\n"
     ]
    }
   ],
   "source": [
    "#print best score obtained and the parameters which obtained it\n",
    "print('Macro F1 Score:', grid_LR.best_score_)\n",
    "print('Best Hyperparameters:', grid_LR.best_params_)\n",
    "print('Model object with best parameters: ')\n",
    "print(grid_LR.best_estimator_)"
   ]
  },
  {
   "cell_type": "code",
   "execution_count": 55,
   "metadata": {},
   "outputs": [
    {
     "name": "stdout",
     "output_type": "stream",
     "text": [
      "training...\n",
      "complete.\n",
      "predicting...\n",
      "complete.\n"
     ]
    }
   ],
   "source": [
    "# train classifier\n",
    "print(\"training...\")\n",
    "grid_LR.best_estimator_.fit(count_train, y_train)\n",
    "print(\"complete.\")\n",
    "# use classifier to predict on test set\n",
    "print(\"predicting...\")\n",
    "LR_test_preds = grid_LR.best_estimator_.predict(count_test)\n",
    "print(\"complete.\")"
   ]
  },
  {
   "cell_type": "code",
   "execution_count": 56,
   "metadata": {},
   "outputs": [
    {
     "name": "stdout",
     "output_type": "stream",
     "text": [
      "Model evaluation metrics\n",
      "Precision: 0.739\n",
      "Recall: 0.768\n",
      "Macro F1 Score: 0.73\n"
     ]
    }
   ],
   "source": [
    "grid_LR_precision = precision_score(y_test, LR_test_preds, average='macro')\n",
    "grid_LR_recall = recall_score(y_test, LR_test_preds, average='macro')\n",
    "grid_LR_macro_f1_score = f1_score(y_test, LR_test_preds, average='macro')\n",
    "\n",
    "#model evaluation\n",
    "print('Model evaluation metrics')\n",
    "print('Precision: {:.3}'.format(grid_LR_precision))\n",
    "print('Recall: {:.3}'.format(grid_LR_recall))\n",
    "print('Macro F1 Score: {:.3}'.format(grid_LR_macro_f1_score))\n",
    "\n",
    "LR_metrics['Grid LR'] = {'precision': grid_LR_precision, 'recall': grid_LR_recall, \n",
    "                            'macro_f1': grid_LR_macro_f1_score}"
   ]
  },
  {
   "cell_type": "code",
   "execution_count": 57,
   "metadata": {},
   "outputs": [
    {
     "data": {
      "text/plain": [
       "<sklearn.metrics._plot.confusion_matrix.ConfusionMatrixDisplay at 0x21a19c68a60>"
      ]
     },
     "execution_count": 57,
     "metadata": {},
     "output_type": "execute_result"
    },
    {
     "data": {
      "image/png": "[encoded data removed]",
      "text/plain": [
       "<Figure size 432x288 with 2 Axes>"
      ]
     },
     "metadata": {
      "needs_background": "light"
     },
     "output_type": "display_data"
    }
   ],
   "source": [
    "plot_confusion_matrix(grid_LR, count_test, y_test)"
   ]
  },
  {
   "cell_type": "code",
   "execution_count": 58,
   "metadata": {},
   "outputs": [
    {
     "data": {
      "text/html": [
       "<div>\n",
       "<style scoped>\n",
       "    .dataframe tbody tr th:only-of-type {\n",
       "        vertical-align: middle;\n",
       "    }\n",
       "\n",
       "    .dataframe tbody tr th {\n",
       "        vertical-align: top;\n",
       "    }\n",
       "\n",
       "    .dataframe thead th {\n",
       "        text-align: right;\n",
       "    }\n",
       "</style>\n",
       "<table border=\"1\" class=\"dataframe\">\n",
       "  <thead>\n",
       "    <tr style=\"text-align: right;\">\n",
       "      <th></th>\n",
       "      <th>precision</th>\n",
       "      <th>recall</th>\n",
       "      <th>macro_f1</th>\n",
       "    </tr>\n",
       "  </thead>\n",
       "  <tbody>\n",
       "    <tr>\n",
       "      <th>Default LR</th>\n",
       "      <td>0.797000</td>\n",
       "      <td>0.619195</td>\n",
       "      <td>0.683464</td>\n",
       "    </tr>\n",
       "    <tr>\n",
       "      <th>Grid LR</th>\n",
       "      <td>0.738632</td>\n",
       "      <td>0.767926</td>\n",
       "      <td>0.730399</td>\n",
       "    </tr>\n",
       "  </tbody>\n",
       "</table>\n",
       "</div>"
      ],
      "text/plain": [
       "            precision    recall  macro_f1\n",
       "Default LR   0.797000  0.619195  0.683464\n",
       "Grid LR      0.738632  0.767926  0.730399"
      ]
     },
     "execution_count": 58,
     "metadata": {},
     "output_type": "execute_result"
    }
   ],
   "source": [
    "#compare parameters\n",
    "results = pd.DataFrame.from_dict(LR_metrics, orient='index')\n",
    "results.to_csv(r\"C:\\Users\\jackc\\Semester2\\Project\\Identifying-Hate-Speech-Categories-On-Social-Media\\Results\\LR_count_results_multi\",\n",
    "               index=False)\n",
    "results"
   ]
  },
  {
   "cell_type": "markdown",
   "metadata": {},
   "source": [
    "## without S/L preprocessing"
   ]
  },
  {
   "cell_type": "code",
   "execution_count": 59,
   "metadata": {},
   "outputs": [
    {
     "data": {
      "text/html": [
       "<div>\n",
       "<style scoped>\n",
       "    .dataframe tbody tr th:only-of-type {\n",
       "        vertical-align: middle;\n",
       "    }\n",
       "\n",
       "    .dataframe tbody tr th {\n",
       "        vertical-align: top;\n",
       "    }\n",
       "\n",
       "    .dataframe thead th {\n",
       "        text-align: right;\n",
       "    }\n",
       "</style>\n",
       "<table border=\"1\" class=\"dataframe\">\n",
       "  <thead>\n",
       "    <tr style=\"text-align: right;\">\n",
       "      <th></th>\n",
       "      <th>id</th>\n",
       "      <th>text</th>\n",
       "      <th>Annotation</th>\n",
       "      <th>clean_text</th>\n",
       "      <th>clean_text_sl</th>\n",
       "      <th>Hate</th>\n",
       "    </tr>\n",
       "  </thead>\n",
       "  <tbody>\n",
       "    <tr>\n",
       "      <th>0</th>\n",
       "      <td>5.969655e+17</td>\n",
       "      <td>I just found the *perfect* rental. Why can't m...</td>\n",
       "      <td>Neither</td>\n",
       "      <td>i just found the perfect rental why cant my le...</td>\n",
       "      <td>found perfect rental cant lease right</td>\n",
       "      <td>0</td>\n",
       "    </tr>\n",
       "    <tr>\n",
       "      <th>1</th>\n",
       "      <td>5.758918e+17</td>\n",
       "      <td>@wetsprocket every time they \"discover\" anythi...</td>\n",
       "      <td>Neither</td>\n",
       "      <td>every time they discover anything its either ...</td>\n",
       "      <td>every time discover anything either incorrect ...</td>\n",
       "      <td>0</td>\n",
       "    </tr>\n",
       "    <tr>\n",
       "      <th>2</th>\n",
       "      <td>5.952595e+17</td>\n",
       "      <td>ok time to write code bbl.\\n\\nmaking a new thing.</td>\n",
       "      <td>Neither</td>\n",
       "      <td>ok time to write code bbl\\n\\nmaking a new thing</td>\n",
       "      <td>ok time write code bbl making new thing</td>\n",
       "      <td>0</td>\n",
       "    </tr>\n",
       "    <tr>\n",
       "      <th>3</th>\n",
       "      <td>5.723449e+17</td>\n",
       "      <td>Refined dessert! NOT #MKR</td>\n",
       "      <td>Neither</td>\n",
       "      <td>refined dessert not mkr</td>\n",
       "      <td>refined dessert mkr</td>\n",
       "      <td>0</td>\n",
       "    </tr>\n",
       "    <tr>\n",
       "      <th>4</th>\n",
       "      <td>5.681320e+17</td>\n",
       "      <td>@furt1v3ly @ClarkHat One of the best things an...</td>\n",
       "      <td>Neither</td>\n",
       "      <td>one of the best things anyone can do to impr...</td>\n",
       "      <td>one best thing anyone improve understanding gr...</td>\n",
       "      <td>0</td>\n",
       "    </tr>\n",
       "  </tbody>\n",
       "</table>\n",
       "</div>"
      ],
      "text/plain": [
       "             id                                               text Annotation  \\\n",
       "0  5.969655e+17  I just found the *perfect* rental. Why can't m...    Neither   \n",
       "1  5.758918e+17  @wetsprocket every time they \"discover\" anythi...    Neither   \n",
       "2  5.952595e+17  ok time to write code bbl.\\n\\nmaking a new thing.    Neither   \n",
       "3  5.723449e+17                          Refined dessert! NOT #MKR    Neither   \n",
       "4  5.681320e+17  @furt1v3ly @ClarkHat One of the best things an...    Neither   \n",
       "\n",
       "                                          clean_text  \\\n",
       "0  i just found the perfect rental why cant my le...   \n",
       "1   every time they discover anything its either ...   \n",
       "2    ok time to write code bbl\\n\\nmaking a new thing   \n",
       "3                            refined dessert not mkr   \n",
       "4    one of the best things anyone can do to impr...   \n",
       "\n",
       "                                       clean_text_sl  Hate  \n",
       "0              found perfect rental cant lease right     0  \n",
       "1  every time discover anything either incorrect ...     0  \n",
       "2            ok time write code bbl making new thing     0  \n",
       "3                                refined dessert mkr     0  \n",
       "4  one best thing anyone improve understanding gr...     0  "
      ]
     },
     "execution_count": 59,
     "metadata": {},
     "output_type": "execute_result"
    }
   ],
   "source": [
    "#Load in data and split for train and test sets\n",
    "df = pd.read_csv(r'C:\\Users\\jackc\\Semester2\\Project\\Identifying-Hate-Speech-Categories-On-Social-Media\\Data\\clean_dataset.csv')\n",
    "X_train, X_test, y_train, y_test = train_test_split(df['clean_text'], df['Annotation'], test_size=0.25, random_state=12)\n",
    "                                                       \n",
    "df.head(5)"
   ]
  },
  {
   "cell_type": "code",
   "execution_count": 60,
   "metadata": {},
   "outputs": [],
   "source": [
    "#create count matrix\n",
    "counts = CountVectorizer()\n",
    "count_train = counts.fit_transform(X_train)\n",
    "count_test = counts.transform(X_test)"
   ]
  },
  {
   "cell_type": "code",
   "execution_count": 61,
   "metadata": {},
   "outputs": [],
   "source": [
    "default_LR = LogisticRegression(penalty='l2', dual=False, C=1, class_weight=None, \n",
    "                                solver='lbfgs', random_state=12)"
   ]
  },
  {
   "cell_type": "code",
   "execution_count": 62,
   "metadata": {},
   "outputs": [
    {
     "name": "stdout",
     "output_type": "stream",
     "text": [
      "training...\n",
      "complete.\n",
      "predicting...\n",
      "complete.\n"
     ]
    }
   ],
   "source": [
    "# train classifier\n",
    "print(\"training...\")\n",
    "default_LR.fit(count_train, y_train)\n",
    "print(\"complete.\")\n",
    "# use classifier to predict on test set\n",
    "print(\"predicting...\")\n",
    "default_LR_test_preds = default_LR.predict(count_test)\n",
    "print(\"complete.\")"
   ]
  },
  {
   "cell_type": "code",
   "execution_count": 63,
   "metadata": {},
   "outputs": [
    {
     "name": "stdout",
     "output_type": "stream",
     "text": [
      "Model evaluation metrics\n",
      "Precision: 0.774\n",
      "Recall: 0.552\n",
      "Macro F1 Score: 0.614\n"
     ]
    }
   ],
   "source": [
    "default_LR_precision = precision_score(y_test, default_LR_test_preds, average='macro')\n",
    "default_LR_recall = recall_score(y_test, default_LR_test_preds, average='macro')\n",
    "default_LR_macro_f1_score = f1_score(y_test, default_LR_test_preds, average='macro')\n",
    "\n",
    "#model evaluation\n",
    "print('Model evaluation metrics')\n",
    "print('Precision: {:.3}'.format(default_LR_precision))\n",
    "print('Recall: {:.3}'.format(default_LR_recall))\n",
    "print('Macro F1 Score: {:.3}'.format(default_LR_macro_f1_score))\n",
    "\n",
    "LR_metrics['Default LR - no S/L preprocessing'] = {'precision': default_LR_precision, 'recall': default_LR_recall, \n",
    "                            'macro_f1': default_LR_macro_f1_score}"
   ]
  },
  {
   "cell_type": "code",
   "execution_count": 64,
   "metadata": {},
   "outputs": [
    {
     "data": {
      "text/plain": [
       "<sklearn.metrics._plot.confusion_matrix.ConfusionMatrixDisplay at 0x21a19bb9970>"
      ]
     },
     "execution_count": 64,
     "metadata": {},
     "output_type": "execute_result"
    },
    {
     "data": {
      "image/png": "[encoded data removed]",
      "text/plain": [
       "<Figure size 432x288 with 2 Axes>"
      ]
     },
     "metadata": {
      "needs_background": "light"
     },
     "output_type": "display_data"
    }
   ],
   "source": [
    "plot_confusion_matrix(default_LR, count_test, y_test)"
   ]
  },
  {
   "cell_type": "code",
   "execution_count": 65,
   "metadata": {},
   "outputs": [
    {
     "name": "stdout",
     "output_type": "stream",
     "text": [
      "Fitting 5 folds for each of 180 candidates, totalling 900 fits\n",
      "[CV] C=1, class_weight=None, dual=True, penalty=l1, solver=newton-cg .\n",
      "[CV]  C=1, class_weight=None, dual=True, penalty=l1, solver=newton-cg, score=nan, total=   0.0s\n",
      "[CV] C=1, class_weight=None, dual=True, penalty=l1, solver=newton-cg .\n",
      "[CV]  C=1, class_weight=None, dual=True, penalty=l1, solver=newton-cg, score=nan, total=   0.0s\n",
      "[CV] C=1, class_weight=None, dual=True, penalty=l1, solver=newton-cg .\n",
      "[CV]  C=1, class_weight=None, dual=True, penalty=l1, solver=newton-cg, score=nan, total=   0.0s\n",
      "[CV] C=1, class_weight=None, dual=True, penalty=l1, solver=newton-cg .\n",
      "[CV]  C=1, class_weight=None, dual=True, penalty=l1, solver=newton-cg, score=nan, total=   0.0s\n",
      "[CV] C=1, class_weight=None, dual=True, penalty=l1, solver=newton-cg .\n",
      "[CV]  C=1, class_weight=None, dual=True, penalty=l1, solver=newton-cg, score=nan, total=   0.0s\n",
      "[CV] C=1, class_weight=None, dual=True, penalty=l1, solver=lbfgs .....\n",
      "[CV]  C=1, class_weight=None, dual=True, penalty=l1, solver=lbfgs, score=nan, total=   0.0s\n",
      "[CV] C=1, class_weight=None, dual=True, penalty=l1, solver=lbfgs .....\n",
      "[CV]  C=1, class_weight=None, dual=True, penalty=l1, solver=lbfgs, score=nan, total=   0.0s\n",
      "[CV] C=1, class_weight=None, dual=True, penalty=l1, solver=lbfgs .....\n",
      "[CV]  C=1, class_weight=None, dual=True, penalty=l1, solver=lbfgs, score=nan, total=   0.0s\n",
      "[CV] C=1, class_weight=None, dual=True, penalty=l1, solver=lbfgs .....\n",
      "[CV]  C=1, class_weight=None, dual=True, penalty=l1, solver=lbfgs, score=nan, total=   0.0s\n",
      "[CV] C=1, class_weight=None, dual=True, penalty=l1, solver=lbfgs .....\n",
      "[CV]  C=1, class_weight=None, dual=True, penalty=l1, solver=lbfgs, score=nan, total=   0.0s\n",
      "[CV] C=1, class_weight=None, dual=True, penalty=l1, solver=sag .......\n",
      "[CV]  C=1, class_weight=None, dual=True, penalty=l1, solver=sag, score=nan, total=   0.0s\n",
      "[CV] C=1, class_weight=None, dual=True, penalty=l1, solver=sag .......\n",
      "[CV]  C=1, class_weight=None, dual=True, penalty=l1, solver=sag, score=nan, total=   0.0s\n",
      "[CV] C=1, class_weight=None, dual=True, penalty=l1, solver=sag .......\n",
      "[CV]  C=1, class_weight=None, dual=True, penalty=l1, solver=sag, score=nan, total=   0.0s\n",
      "[CV] C=1, class_weight=None, dual=True, penalty=l1, solver=sag .......\n",
      "[CV]  C=1, class_weight=None, dual=True, penalty=l1, solver=sag, score=nan, total=   0.0s\n",
      "[CV] C=1, class_weight=None, dual=True, penalty=l1, solver=sag .......\n",
      "[CV]  C=1, class_weight=None, dual=True, penalty=l1, solver=sag, score=nan, total=   0.0s\n",
      "[CV] C=1, class_weight=None, dual=True, penalty=l1, solver=saga ......\n",
      "[CV]  C=1, class_weight=None, dual=True, penalty=l1, solver=saga, score=nan, total=   0.0s\n",
      "[CV] C=1, class_weight=None, dual=True, penalty=l1, solver=saga ......\n",
      "[CV]  C=1, class_weight=None, dual=True, penalty=l1, solver=saga, score=nan, total=   0.0s\n",
      "[CV] C=1, class_weight=None, dual=True, penalty=l1, solver=saga ......\n",
      "[CV]  C=1, class_weight=None, dual=True, penalty=l1, solver=saga, score=nan, total=   0.0s\n",
      "[CV] C=1, class_weight=None, dual=True, penalty=l1, solver=saga ......\n",
      "[CV]  C=1, class_weight=None, dual=True, penalty=l1, solver=saga, score=nan, total=   0.0s\n",
      "[CV] C=1, class_weight=None, dual=True, penalty=l1, solver=saga ......\n",
      "[CV]  C=1, class_weight=None, dual=True, penalty=l1, solver=saga, score=nan, total=   0.0s\n",
      "[CV] C=1, class_weight=None, dual=True, penalty=l1, solver=liblinear .\n",
      "[CV]  C=1, class_weight=None, dual=True, penalty=l1, solver=liblinear, score=nan, total=   0.0s\n",
      "[CV] C=1, class_weight=None, dual=True, penalty=l1, solver=liblinear .\n",
      "[CV]  C=1, class_weight=None, dual=True, penalty=l1, solver=liblinear, score=nan, total=   0.0s\n",
      "[CV] C=1, class_weight=None, dual=True, penalty=l1, solver=liblinear .\n",
      "[CV]  C=1, class_weight=None, dual=True, penalty=l1, solver=liblinear, score=nan, total=   0.0s\n",
      "[CV] C=1, class_weight=None, dual=True, penalty=l1, solver=liblinear .\n",
      "[CV]  C=1, class_weight=None, dual=True, penalty=l1, solver=liblinear, score=nan, total=   0.0s\n",
      "[CV] C=1, class_weight=None, dual=True, penalty=l1, solver=liblinear .\n",
      "[CV]  C=1, class_weight=None, dual=True, penalty=l1, solver=liblinear, score=nan, total=   0.0s\n",
      "[CV] C=1, class_weight=None, dual=True, penalty=l2, solver=newton-cg .\n",
      "[CV]  C=1, class_weight=None, dual=True, penalty=l2, solver=newton-cg, score=nan, total=   0.0s\n",
      "[CV] C=1, class_weight=None, dual=True, penalty=l2, solver=newton-cg .\n",
      "[CV]  C=1, class_weight=None, dual=True, penalty=l2, solver=newton-cg, score=nan, total=   0.0s\n",
      "[CV] C=1, class_weight=None, dual=True, penalty=l2, solver=newton-cg .\n",
      "[CV]  C=1, class_weight=None, dual=True, penalty=l2, solver=newton-cg, score=nan, total=   0.0s\n",
      "[CV] C=1, class_weight=None, dual=True, penalty=l2, solver=newton-cg .\n",
      "[CV]  C=1, class_weight=None, dual=True, penalty=l2, solver=newton-cg, score=nan, total=   0.0s\n",
      "[CV] C=1, class_weight=None, dual=True, penalty=l2, solver=newton-cg .\n",
      "[CV]  C=1, class_weight=None, dual=True, penalty=l2, solver=newton-cg, score=nan, total=   0.0s\n",
      "[CV] C=1, class_weight=None, dual=True, penalty=l2, solver=lbfgs .....\n",
      "[CV]  C=1, class_weight=None, dual=True, penalty=l2, solver=lbfgs, score=nan, total=   0.0s\n",
      "[CV] C=1, class_weight=None, dual=True, penalty=l2, solver=lbfgs .....\n",
      "[CV]  C=1, class_weight=None, dual=True, penalty=l2, solver=lbfgs, score=nan, total=   0.0s\n",
      "[CV] C=1, class_weight=None, dual=True, penalty=l2, solver=lbfgs .....\n",
      "[CV]  C=1, class_weight=None, dual=True, penalty=l2, solver=lbfgs, score=nan, total=   0.0s\n",
      "[CV] C=1, class_weight=None, dual=True, penalty=l2, solver=lbfgs .....\n",
      "[CV]  C=1, class_weight=None, dual=True, penalty=l2, solver=lbfgs, score=nan, total=   0.0s\n",
      "[CV] C=1, class_weight=None, dual=True, penalty=l2, solver=lbfgs .....\n",
      "[CV]  C=1, class_weight=None, dual=True, penalty=l2, solver=lbfgs, score=nan, total=   0.0s\n",
      "[CV] C=1, class_weight=None, dual=True, penalty=l2, solver=sag .......\n",
      "[CV]  C=1, class_weight=None, dual=True, penalty=l2, solver=sag, score=nan, total=   0.0s\n",
      "[CV] C=1, class_weight=None, dual=True, penalty=l2, solver=sag .......\n",
      "[CV]  C=1, class_weight=None, dual=True, penalty=l2, solver=sag, score=nan, total=   0.0s\n",
      "[CV] C=1, class_weight=None, dual=True, penalty=l2, solver=sag .......\n",
      "[CV]  C=1, class_weight=None, dual=True, penalty=l2, solver=sag, score=nan, total=   0.0s\n",
      "[CV] C=1, class_weight=None, dual=True, penalty=l2, solver=sag .......\n",
      "[CV]  C=1, class_weight=None, dual=True, penalty=l2, solver=sag, score=nan, total=   0.0s\n",
      "[CV] C=1, class_weight=None, dual=True, penalty=l2, solver=sag .......\n",
      "[CV]  C=1, class_weight=None, dual=True, penalty=l2, solver=sag, score=nan, total=   0.0s\n",
      "[CV] C=1, class_weight=None, dual=True, penalty=l2, solver=saga ......\n",
      "[CV]  C=1, class_weight=None, dual=True, penalty=l2, solver=saga, score=nan, total=   0.0s\n",
      "[CV] C=1, class_weight=None, dual=True, penalty=l2, solver=saga ......\n",
      "[CV]  C=1, class_weight=None, dual=True, penalty=l2, solver=saga, score=nan, total=   0.0s\n",
      "[CV] C=1, class_weight=None, dual=True, penalty=l2, solver=saga ......\n",
      "[CV]  C=1, class_weight=None, dual=True, penalty=l2, solver=saga, score=nan, total=   0.0s\n",
      "[CV] C=1, class_weight=None, dual=True, penalty=l2, solver=saga ......\n",
      "[CV]  C=1, class_weight=None, dual=True, penalty=l2, solver=saga, score=nan, total=   0.0s\n",
      "[CV] C=1, class_weight=None, dual=True, penalty=l2, solver=saga ......\n",
      "[CV]  C=1, class_weight=None, dual=True, penalty=l2, solver=saga, score=nan, total=   0.0s\n",
      "[CV] C=1, class_weight=None, dual=True, penalty=l2, solver=liblinear .\n",
      "[CV]  C=1, class_weight=None, dual=True, penalty=l2, solver=liblinear, score=0.589, total=   0.1s\n",
      "[CV] C=1, class_weight=None, dual=True, penalty=l2, solver=liblinear .\n"
     ]
    },
    {
     "name": "stderr",
     "output_type": "stream",
     "text": [
      "[Parallel(n_jobs=1)]: Using backend SequentialBackend with 1 concurrent workers.\n",
      "C:\\ProgramData\\Anaconda3\\lib\\site-packages\\sklearn\\model_selection\\_validation.py:548: FitFailedWarning: Estimator fit failed. The score on this train-test partition for these parameters will be set to nan. Details: \n",
      "Traceback (most recent call last):\n",
      "  File \"C:\\ProgramData\\Anaconda3\\lib\\site-packages\\sklearn\\model_selection\\_validation.py\", line 531, in _fit_and_score\n",
      "    estimator.fit(X_train, y_train, **fit_params)\n",
      "  File \"C:\\ProgramData\\Anaconda3\\lib\\site-packages\\sklearn\\linear_model\\_logistic.py\", line 1304, in fit\n",
      "    solver = _check_solver(self.solver, self.penalty, self.dual)\n",
      "  File \"C:\\ProgramData\\Anaconda3\\lib\\site-packages\\sklearn\\linear_model\\_logistic.py\", line 442, in _check_solver\n",
      "    raise ValueError(\"Solver %s supports only 'l2' or 'none' penalties, \"\n",
      "ValueError: Solver newton-cg supports only 'l2' or 'none' penalties, got l1 penalty.\n",
      "\n",
      "  warnings.warn(\"Estimator fit failed. The score on this train-test\"\n",
      "[Parallel(n_jobs=1)]: Done   1 out of   1 | elapsed:    0.0s remaining:    0.0s\n",
      "[Parallel(n_jobs=1)]: Done   2 out of   2 | elapsed:    0.0s remaining:    0.0s\n",
      "C:\\ProgramData\\Anaconda3\\lib\\site-packages\\sklearn\\model_selection\\_validation.py:548: FitFailedWarning: Estimator fit failed. The score on this train-test partition for these parameters will be set to nan. Details: \n",
      "Traceback (most recent call last):\n",
      "  File \"C:\\ProgramData\\Anaconda3\\lib\\site-packages\\sklearn\\model_selection\\_validation.py\", line 531, in _fit_and_score\n",
      "    estimator.fit(X_train, y_train, **fit_params)\n",
      "  File \"C:\\ProgramData\\Anaconda3\\lib\\site-packages\\sklearn\\linear_model\\_logistic.py\", line 1304, in fit\n",
      "    solver = _check_solver(self.solver, self.penalty, self.dual)\n",
      "  File \"C:\\ProgramData\\Anaconda3\\lib\\site-packages\\sklearn\\linear_model\\_logistic.py\", line 442, in _check_solver\n",
      "    raise ValueError(\"Solver %s supports only 'l2' or 'none' penalties, \"\n",
      "ValueError: Solver lbfgs supports only 'l2' or 'none' penalties, got l1 penalty.\n",
      "\n",
      "  warnings.warn(\"Estimator fit failed. The score on this train-test\"\n",
      "C:\\ProgramData\\Anaconda3\\lib\\site-packages\\sklearn\\model_selection\\_validation.py:548: FitFailedWarning: Estimator fit failed. The score on this train-test partition for these parameters will be set to nan. Details: \n",
      "Traceback (most recent call last):\n",
      "  File \"C:\\ProgramData\\Anaconda3\\lib\\site-packages\\sklearn\\model_selection\\_validation.py\", line 531, in _fit_and_score\n",
      "    estimator.fit(X_train, y_train, **fit_params)\n",
      "  File \"C:\\ProgramData\\Anaconda3\\lib\\site-packages\\sklearn\\linear_model\\_logistic.py\", line 1304, in fit\n",
      "    solver = _check_solver(self.solver, self.penalty, self.dual)\n",
      "  File \"C:\\ProgramData\\Anaconda3\\lib\\site-packages\\sklearn\\linear_model\\_logistic.py\", line 442, in _check_solver\n",
      "    raise ValueError(\"Solver %s supports only 'l2' or 'none' penalties, \"\n",
      "ValueError: Solver sag supports only 'l2' or 'none' penalties, got l1 penalty.\n",
      "\n",
      "  warnings.warn(\"Estimator fit failed. The score on this train-test\"\n",
      "C:\\ProgramData\\Anaconda3\\lib\\site-packages\\sklearn\\model_selection\\_validation.py:548: FitFailedWarning: Estimator fit failed. The score on this train-test partition for these parameters will be set to nan. Details: \n",
      "Traceback (most recent call last):\n",
      "  File \"C:\\ProgramData\\Anaconda3\\lib\\site-packages\\sklearn\\model_selection\\_validation.py\", line 531, in _fit_and_score\n",
      "    estimator.fit(X_train, y_train, **fit_params)\n",
      "  File \"C:\\ProgramData\\Anaconda3\\lib\\site-packages\\sklearn\\linear_model\\_logistic.py\", line 1304, in fit\n",
      "    solver = _check_solver(self.solver, self.penalty, self.dual)\n",
      "  File \"C:\\ProgramData\\Anaconda3\\lib\\site-packages\\sklearn\\linear_model\\_logistic.py\", line 445, in _check_solver\n",
      "    raise ValueError(\"Solver %s supports only \"\n",
      "ValueError: Solver saga supports only dual=False, got dual=True\n",
      "\n",
      "  warnings.warn(\"Estimator fit failed. The score on this train-test\"\n",
      "C:\\ProgramData\\Anaconda3\\lib\\site-packages\\sklearn\\model_selection\\_validation.py:548: FitFailedWarning: Estimator fit failed. The score on this train-test partition for these parameters will be set to nan. Details: \n",
      "Traceback (most recent call last):\n",
      "  File \"C:\\ProgramData\\Anaconda3\\lib\\site-packages\\sklearn\\model_selection\\_validation.py\", line 531, in _fit_and_score\n",
      "    estimator.fit(X_train, y_train, **fit_params)\n",
      "  File \"C:\\ProgramData\\Anaconda3\\lib\\site-packages\\sklearn\\linear_model\\_logistic.py\", line 1356, in fit\n",
      "    self.coef_, self.intercept_, n_iter_ = _fit_liblinear(\n",
      "  File \"C:\\ProgramData\\Anaconda3\\lib\\site-packages\\sklearn\\svm\\_base.py\", line 965, in _fit_liblinear\n",
      "    solver_type = _get_liblinear_solver_type(multi_class, penalty, loss, dual)\n",
      "  File \"C:\\ProgramData\\Anaconda3\\lib\\site-packages\\sklearn\\svm\\_base.py\", line 821, in _get_liblinear_solver_type\n",
      "    raise ValueError('Unsupported set of arguments: %s, '\n",
      "ValueError: Unsupported set of arguments: The combination of penalty='l1' and loss='logistic_regression' are not supported when dual=True, Parameters: penalty='l1', loss='logistic_regression', dual=True\n",
      "\n",
      "  warnings.warn(\"Estimator fit failed. The score on this train-test\"\n",
      "C:\\ProgramData\\Anaconda3\\lib\\site-packages\\sklearn\\model_selection\\_validation.py:548: FitFailedWarning: Estimator fit failed. The score on this train-test partition for these parameters will be set to nan. Details: \n",
      "Traceback (most recent call last):\n",
      "  File \"C:\\ProgramData\\Anaconda3\\lib\\site-packages\\sklearn\\model_selection\\_validation.py\", line 531, in _fit_and_score\n",
      "    estimator.fit(X_train, y_train, **fit_params)\n",
      "  File \"C:\\ProgramData\\Anaconda3\\lib\\site-packages\\sklearn\\linear_model\\_logistic.py\", line 1304, in fit\n",
      "    solver = _check_solver(self.solver, self.penalty, self.dual)\n",
      "  File \"C:\\ProgramData\\Anaconda3\\lib\\site-packages\\sklearn\\linear_model\\_logistic.py\", line 445, in _check_solver\n",
      "    raise ValueError(\"Solver %s supports only \"\n",
      "ValueError: Solver newton-cg supports only dual=False, got dual=True\n",
      "\n",
      "  warnings.warn(\"Estimator fit failed. The score on this train-test\"\n",
      "C:\\ProgramData\\Anaconda3\\lib\\site-packages\\sklearn\\model_selection\\_validation.py:548: FitFailedWarning: Estimator fit failed. The score on this train-test partition for these parameters will be set to nan. Details: \n",
      "Traceback (most recent call last):\n",
      "  File \"C:\\ProgramData\\Anaconda3\\lib\\site-packages\\sklearn\\model_selection\\_validation.py\", line 531, in _fit_and_score\n",
      "    estimator.fit(X_train, y_train, **fit_params)\n",
      "  File \"C:\\ProgramData\\Anaconda3\\lib\\site-packages\\sklearn\\linear_model\\_logistic.py\", line 1304, in fit\n",
      "    solver = _check_solver(self.solver, self.penalty, self.dual)\n",
      "  File \"C:\\ProgramData\\Anaconda3\\lib\\site-packages\\sklearn\\linear_model\\_logistic.py\", line 445, in _check_solver\n",
      "    raise ValueError(\"Solver %s supports only \"\n",
      "ValueError: Solver lbfgs supports only dual=False, got dual=True\n",
      "\n",
      "  warnings.warn(\"Estimator fit failed. The score on this train-test\"\n",
      "C:\\ProgramData\\Anaconda3\\lib\\site-packages\\sklearn\\model_selection\\_validation.py:548: FitFailedWarning: Estimator fit failed. The score on this train-test partition for these parameters will be set to nan. Details: \n",
      "Traceback (most recent call last):\n",
      "  File \"C:\\ProgramData\\Anaconda3\\lib\\site-packages\\sklearn\\model_selection\\_validation.py\", line 531, in _fit_and_score\n",
      "    estimator.fit(X_train, y_train, **fit_params)\n",
      "  File \"C:\\ProgramData\\Anaconda3\\lib\\site-packages\\sklearn\\linear_model\\_logistic.py\", line 1304, in fit\n",
      "    solver = _check_solver(self.solver, self.penalty, self.dual)\n",
      "  File \"C:\\ProgramData\\Anaconda3\\lib\\site-packages\\sklearn\\linear_model\\_logistic.py\", line 445, in _check_solver\n",
      "    raise ValueError(\"Solver %s supports only \"\n",
      "ValueError: Solver sag supports only dual=False, got dual=True\n",
      "\n",
      "  warnings.warn(\"Estimator fit failed. The score on this train-test\"\n"
     ]
    },
    {
     "name": "stdout",
     "output_type": "stream",
     "text": [
      "[CV]  C=1, class_weight=None, dual=True, penalty=l2, solver=liblinear, score=0.563, total=   0.1s\n",
      "[CV] C=1, class_weight=None, dual=True, penalty=l2, solver=liblinear .\n",
      "[CV]  C=1, class_weight=None, dual=True, penalty=l2, solver=liblinear, score=0.623, total=   0.1s\n",
      "[CV] C=1, class_weight=None, dual=True, penalty=l2, solver=liblinear .\n",
      "[CV]  C=1, class_weight=None, dual=True, penalty=l2, solver=liblinear, score=0.529, total=   0.1s\n",
      "[CV] C=1, class_weight=None, dual=True, penalty=l2, solver=liblinear .\n",
      "[CV]  C=1, class_weight=None, dual=True, penalty=l2, solver=liblinear, score=0.583, total=   0.1s\n",
      "[CV] C=1, class_weight=None, dual=True, penalty=elasticnet, solver=newton-cg \n",
      "[CV]  C=1, class_weight=None, dual=True, penalty=elasticnet, solver=newton-cg, score=nan, total=   0.0s\n",
      "[CV] C=1, class_weight=None, dual=True, penalty=elasticnet, solver=newton-cg \n",
      "[CV]  C=1, class_weight=None, dual=True, penalty=elasticnet, solver=newton-cg, score=nan, total=   0.0s\n",
      "[CV] C=1, class_weight=None, dual=True, penalty=elasticnet, solver=newton-cg \n",
      "[CV]  C=1, class_weight=None, dual=True, penalty=elasticnet, solver=newton-cg, score=nan, total=   0.0s\n",
      "[CV] C=1, class_weight=None, dual=True, penalty=elasticnet, solver=newton-cg \n",
      "[CV]  C=1, class_weight=None, dual=True, penalty=elasticnet, solver=newton-cg, score=nan, total=   0.0s\n",
      "[CV] C=1, class_weight=None, dual=True, penalty=elasticnet, solver=newton-cg \n",
      "[CV]  C=1, class_weight=None, dual=True, penalty=elasticnet, solver=newton-cg, score=nan, total=   0.0s\n",
      "[CV] C=1, class_weight=None, dual=True, penalty=elasticnet, solver=lbfgs \n",
      "[CV]  C=1, class_weight=None, dual=True, penalty=elasticnet, solver=lbfgs, score=nan, total=   0.0s\n",
      "[CV] C=1, class_weight=None, dual=True, penalty=elasticnet, solver=lbfgs \n",
      "[CV]  C=1, class_weight=None, dual=True, penalty=elasticnet, solver=lbfgs, score=nan, total=   0.0s\n",
      "[CV] C=1, class_weight=None, dual=True, penalty=elasticnet, solver=lbfgs \n",
      "[CV]  C=1, class_weight=None, dual=True, penalty=elasticnet, solver=lbfgs, score=nan, total=   0.0s\n",
      "[CV] C=1, class_weight=None, dual=True, penalty=elasticnet, solver=lbfgs \n",
      "[CV]  C=1, class_weight=None, dual=True, penalty=elasticnet, solver=lbfgs, score=nan, total=   0.0s\n",
      "[CV] C=1, class_weight=None, dual=True, penalty=elasticnet, solver=lbfgs \n",
      "[CV]  C=1, class_weight=None, dual=True, penalty=elasticnet, solver=lbfgs, score=nan, total=   0.0s\n",
      "[CV] C=1, class_weight=None, dual=True, penalty=elasticnet, solver=sag \n",
      "[CV]  C=1, class_weight=None, dual=True, penalty=elasticnet, solver=sag, score=nan, total=   0.0s\n",
      "[CV] C=1, class_weight=None, dual=True, penalty=elasticnet, solver=sag \n",
      "[CV]  C=1, class_weight=None, dual=True, penalty=elasticnet, solver=sag, score=nan, total=   0.0s\n",
      "[CV] C=1, class_weight=None, dual=True, penalty=elasticnet, solver=sag \n",
      "[CV]  C=1, class_weight=None, dual=True, penalty=elasticnet, solver=sag, score=nan, total=   0.0s\n",
      "[CV] C=1, class_weight=None, dual=True, penalty=elasticnet, solver=sag \n",
      "[CV]  C=1, class_weight=None, dual=True, penalty=elasticnet, solver=sag, score=nan, total=   0.0s\n",
      "[CV] C=1, class_weight=None, dual=True, penalty=elasticnet, solver=sag \n",
      "[CV]  C=1, class_weight=None, dual=True, penalty=elasticnet, solver=sag, score=nan, total=   0.0s\n",
      "[CV] C=1, class_weight=None, dual=True, penalty=elasticnet, solver=saga \n",
      "[CV]  C=1, class_weight=None, dual=True, penalty=elasticnet, solver=saga, score=nan, total=   0.0s\n",
      "[CV] C=1, class_weight=None, dual=True, penalty=elasticnet, solver=saga \n",
      "[CV]  C=1, class_weight=None, dual=True, penalty=elasticnet, solver=saga, score=nan, total=   0.0s\n",
      "[CV] C=1, class_weight=None, dual=True, penalty=elasticnet, solver=saga \n",
      "[CV]  C=1, class_weight=None, dual=True, penalty=elasticnet, solver=saga, score=nan, total=   0.0s\n",
      "[CV] C=1, class_weight=None, dual=True, penalty=elasticnet, solver=saga \n",
      "[CV]  C=1, class_weight=None, dual=True, penalty=elasticnet, solver=saga, score=nan, total=   0.0s\n",
      "[CV] C=1, class_weight=None, dual=True, penalty=elasticnet, solver=saga \n",
      "[CV]  C=1, class_weight=None, dual=True, penalty=elasticnet, solver=saga, score=nan, total=   0.0s\n",
      "[CV] C=1, class_weight=None, dual=True, penalty=elasticnet, solver=liblinear \n",
      "[CV]  C=1, class_weight=None, dual=True, penalty=elasticnet, solver=liblinear, score=nan, total=   0.0s\n",
      "[CV] C=1, class_weight=None, dual=True, penalty=elasticnet, solver=liblinear \n",
      "[CV]  C=1, class_weight=None, dual=True, penalty=elasticnet, solver=liblinear, score=nan, total=   0.0s\n",
      "[CV] C=1, class_weight=None, dual=True, penalty=elasticnet, solver=liblinear \n",
      "[CV]  C=1, class_weight=None, dual=True, penalty=elasticnet, solver=liblinear, score=nan, total=   0.0s\n",
      "[CV] C=1, class_weight=None, dual=True, penalty=elasticnet, solver=liblinear \n",
      "[CV]  C=1, class_weight=None, dual=True, penalty=elasticnet, solver=liblinear, score=nan, total=   0.0s\n",
      "[CV] C=1, class_weight=None, dual=True, penalty=elasticnet, solver=liblinear \n",
      "[CV]  C=1, class_weight=None, dual=True, penalty=elasticnet, solver=liblinear, score=nan, total=   0.0s\n",
      "[CV] C=1, class_weight=None, dual=False, penalty=l1, solver=newton-cg \n",
      "[CV]  C=1, class_weight=None, dual=False, penalty=l1, solver=newton-cg, score=nan, total=   0.0s\n",
      "[CV] C=1, class_weight=None, dual=False, penalty=l1, solver=newton-cg \n",
      "[CV]  C=1, class_weight=None, dual=False, penalty=l1, solver=newton-cg, score=nan, total=   0.0s\n",
      "[CV] C=1, class_weight=None, dual=False, penalty=l1, solver=newton-cg \n",
      "[CV]  C=1, class_weight=None, dual=False, penalty=l1, solver=newton-cg, score=nan, total=   0.0s\n",
      "[CV] C=1, class_weight=None, dual=False, penalty=l1, solver=newton-cg \n",
      "[CV]  C=1, class_weight=None, dual=False, penalty=l1, solver=newton-cg, score=nan, total=   0.0s\n",
      "[CV] C=1, class_weight=None, dual=False, penalty=l1, solver=newton-cg \n",
      "[CV]  C=1, class_weight=None, dual=False, penalty=l1, solver=newton-cg, score=nan, total=   0.0s\n",
      "[CV] C=1, class_weight=None, dual=False, penalty=l1, solver=lbfgs ....\n",
      "[CV]  C=1, class_weight=None, dual=False, penalty=l1, solver=lbfgs, score=nan, total=   0.0s\n",
      "[CV] C=1, class_weight=None, dual=False, penalty=l1, solver=lbfgs ....\n",
      "[CV]  C=1, class_weight=None, dual=False, penalty=l1, solver=lbfgs, score=nan, total=   0.0s\n",
      "[CV] C=1, class_weight=None, dual=False, penalty=l1, solver=lbfgs ....\n",
      "[CV]  C=1, class_weight=None, dual=False, penalty=l1, solver=lbfgs, score=nan, total=   0.0s\n",
      "[CV] C=1, class_weight=None, dual=False, penalty=l1, solver=lbfgs ....\n",
      "[CV]  C=1, class_weight=None, dual=False, penalty=l1, solver=lbfgs, score=nan, total=   0.0s\n",
      "[CV] C=1, class_weight=None, dual=False, penalty=l1, solver=lbfgs ....\n",
      "[CV]  C=1, class_weight=None, dual=False, penalty=l1, solver=lbfgs, score=nan, total=   0.0s\n",
      "[CV] C=1, class_weight=None, dual=False, penalty=l1, solver=sag ......\n",
      "[CV]  C=1, class_weight=None, dual=False, penalty=l1, solver=sag, score=nan, total=   0.0s\n",
      "[CV] C=1, class_weight=None, dual=False, penalty=l1, solver=sag ......\n",
      "[CV]  C=1, class_weight=None, dual=False, penalty=l1, solver=sag, score=nan, total=   0.0s\n",
      "[CV] C=1, class_weight=None, dual=False, penalty=l1, solver=sag ......\n",
      "[CV]  C=1, class_weight=None, dual=False, penalty=l1, solver=sag, score=nan, total=   0.0s\n",
      "[CV] C=1, class_weight=None, dual=False, penalty=l1, solver=sag ......\n",
      "[CV]  C=1, class_weight=None, dual=False, penalty=l1, solver=sag, score=nan, total=   0.0s\n",
      "[CV] C=1, class_weight=None, dual=False, penalty=l1, solver=sag ......\n",
      "[CV]  C=1, class_weight=None, dual=False, penalty=l1, solver=sag, score=nan, total=   0.0s\n",
      "[CV] C=1, class_weight=None, dual=False, penalty=l1, solver=saga .....\n"
     ]
    },
    {
     "name": "stderr",
     "output_type": "stream",
     "text": [
      "C:\\ProgramData\\Anaconda3\\lib\\site-packages\\sklearn\\model_selection\\_validation.py:548: FitFailedWarning: Estimator fit failed. The score on this train-test partition for these parameters will be set to nan. Details: \n",
      "Traceback (most recent call last):\n",
      "  File \"C:\\ProgramData\\Anaconda3\\lib\\site-packages\\sklearn\\model_selection\\_validation.py\", line 531, in _fit_and_score\n",
      "    estimator.fit(X_train, y_train, **fit_params)\n",
      "  File \"C:\\ProgramData\\Anaconda3\\lib\\site-packages\\sklearn\\linear_model\\_logistic.py\", line 1304, in fit\n",
      "    solver = _check_solver(self.solver, self.penalty, self.dual)\n",
      "  File \"C:\\ProgramData\\Anaconda3\\lib\\site-packages\\sklearn\\linear_model\\_logistic.py\", line 442, in _check_solver\n",
      "    raise ValueError(\"Solver %s supports only 'l2' or 'none' penalties, \"\n",
      "ValueError: Solver newton-cg supports only 'l2' or 'none' penalties, got elasticnet penalty.\n",
      "\n",
      "  warnings.warn(\"Estimator fit failed. The score on this train-test\"\n",
      "C:\\ProgramData\\Anaconda3\\lib\\site-packages\\sklearn\\model_selection\\_validation.py:548: FitFailedWarning: Estimator fit failed. The score on this train-test partition for these parameters will be set to nan. Details: \n",
      "Traceback (most recent call last):\n",
      "  File \"C:\\ProgramData\\Anaconda3\\lib\\site-packages\\sklearn\\model_selection\\_validation.py\", line 531, in _fit_and_score\n",
      "    estimator.fit(X_train, y_train, **fit_params)\n",
      "  File \"C:\\ProgramData\\Anaconda3\\lib\\site-packages\\sklearn\\linear_model\\_logistic.py\", line 1304, in fit\n",
      "    solver = _check_solver(self.solver, self.penalty, self.dual)\n",
      "  File \"C:\\ProgramData\\Anaconda3\\lib\\site-packages\\sklearn\\linear_model\\_logistic.py\", line 442, in _check_solver\n",
      "    raise ValueError(\"Solver %s supports only 'l2' or 'none' penalties, \"\n",
      "ValueError: Solver lbfgs supports only 'l2' or 'none' penalties, got elasticnet penalty.\n",
      "\n",
      "  warnings.warn(\"Estimator fit failed. The score on this train-test\"\n",
      "C:\\ProgramData\\Anaconda3\\lib\\site-packages\\sklearn\\model_selection\\_validation.py:548: FitFailedWarning: Estimator fit failed. The score on this train-test partition for these parameters will be set to nan. Details: \n",
      "Traceback (most recent call last):\n",
      "  File \"C:\\ProgramData\\Anaconda3\\lib\\site-packages\\sklearn\\model_selection\\_validation.py\", line 531, in _fit_and_score\n",
      "    estimator.fit(X_train, y_train, **fit_params)\n",
      "  File \"C:\\ProgramData\\Anaconda3\\lib\\site-packages\\sklearn\\linear_model\\_logistic.py\", line 1304, in fit\n",
      "    solver = _check_solver(self.solver, self.penalty, self.dual)\n",
      "  File \"C:\\ProgramData\\Anaconda3\\lib\\site-packages\\sklearn\\linear_model\\_logistic.py\", line 442, in _check_solver\n",
      "    raise ValueError(\"Solver %s supports only 'l2' or 'none' penalties, \"\n",
      "ValueError: Solver sag supports only 'l2' or 'none' penalties, got elasticnet penalty.\n",
      "\n",
      "  warnings.warn(\"Estimator fit failed. The score on this train-test\"\n",
      "C:\\ProgramData\\Anaconda3\\lib\\site-packages\\sklearn\\model_selection\\_validation.py:548: FitFailedWarning: Estimator fit failed. The score on this train-test partition for these parameters will be set to nan. Details: \n",
      "Traceback (most recent call last):\n",
      "  File \"C:\\ProgramData\\Anaconda3\\lib\\site-packages\\sklearn\\model_selection\\_validation.py\", line 531, in _fit_and_score\n",
      "    estimator.fit(X_train, y_train, **fit_params)\n",
      "  File \"C:\\ProgramData\\Anaconda3\\lib\\site-packages\\sklearn\\linear_model\\_logistic.py\", line 1304, in fit\n",
      "    solver = _check_solver(self.solver, self.penalty, self.dual)\n",
      "  File \"C:\\ProgramData\\Anaconda3\\lib\\site-packages\\sklearn\\linear_model\\_logistic.py\", line 449, in _check_solver\n",
      "    raise ValueError(\"Only 'saga' solver supports elasticnet penalty,\"\n",
      "ValueError: Only 'saga' solver supports elasticnet penalty, got solver=liblinear.\n",
      "\n",
      "  warnings.warn(\"Estimator fit failed. The score on this train-test\"\n",
      "C:\\ProgramData\\Anaconda3\\lib\\site-packages\\sklearn\\linear_model\\_sag.py:329: ConvergenceWarning: The max_iter was reached which means the coef_ did not converge\n",
      "  warnings.warn(\"The max_iter was reached which means \"\n"
     ]
    },
    {
     "name": "stdout",
     "output_type": "stream",
     "text": [
      "[CV]  C=1, class_weight=None, dual=False, penalty=l1, solver=saga, score=0.660, total=   1.4s\n",
      "[CV] C=1, class_weight=None, dual=False, penalty=l1, solver=saga .....\n"
     ]
    },
    {
     "name": "stderr",
     "output_type": "stream",
     "text": [
      "C:\\ProgramData\\Anaconda3\\lib\\site-packages\\sklearn\\linear_model\\_sag.py:329: ConvergenceWarning: The max_iter was reached which means the coef_ did not converge\n",
      "  warnings.warn(\"The max_iter was reached which means \"\n"
     ]
    },
    {
     "name": "stdout",
     "output_type": "stream",
     "text": [
      "[CV]  C=1, class_weight=None, dual=False, penalty=l1, solver=saga, score=0.680, total=   1.2s\n",
      "[CV] C=1, class_weight=None, dual=False, penalty=l1, solver=saga .....\n"
     ]
    },
    {
     "name": "stderr",
     "output_type": "stream",
     "text": [
      "C:\\ProgramData\\Anaconda3\\lib\\site-packages\\sklearn\\linear_model\\_sag.py:329: ConvergenceWarning: The max_iter was reached which means the coef_ did not converge\n",
      "  warnings.warn(\"The max_iter was reached which means \"\n"
     ]
    },
    {
     "name": "stdout",
     "output_type": "stream",
     "text": [
      "[CV]  C=1, class_weight=None, dual=False, penalty=l1, solver=saga, score=0.666, total=   1.4s\n",
      "[CV] C=1, class_weight=None, dual=False, penalty=l1, solver=saga .....\n"
     ]
    },
    {
     "name": "stderr",
     "output_type": "stream",
     "text": [
      "C:\\ProgramData\\Anaconda3\\lib\\site-packages\\sklearn\\linear_model\\_sag.py:329: ConvergenceWarning: The max_iter was reached which means the coef_ did not converge\n",
      "  warnings.warn(\"The max_iter was reached which means \"\n"
     ]
    },
    {
     "name": "stdout",
     "output_type": "stream",
     "text": [
      "[CV]  C=1, class_weight=None, dual=False, penalty=l1, solver=saga, score=0.602, total=   1.5s\n",
      "[CV] C=1, class_weight=None, dual=False, penalty=l1, solver=saga .....\n"
     ]
    },
    {
     "name": "stderr",
     "output_type": "stream",
     "text": [
      "C:\\ProgramData\\Anaconda3\\lib\\site-packages\\sklearn\\linear_model\\_sag.py:329: ConvergenceWarning: The max_iter was reached which means the coef_ did not converge\n",
      "  warnings.warn(\"The max_iter was reached which means \"\n"
     ]
    },
    {
     "name": "stdout",
     "output_type": "stream",
     "text": [
      "[CV]  C=1, class_weight=None, dual=False, penalty=l1, solver=saga, score=0.676, total=   1.5s\n",
      "[CV] C=1, class_weight=None, dual=False, penalty=l1, solver=liblinear \n",
      "[CV]  C=1, class_weight=None, dual=False, penalty=l1, solver=liblinear, score=0.653, total=   0.1s\n",
      "[CV] C=1, class_weight=None, dual=False, penalty=l1, solver=liblinear \n",
      "[CV]  C=1, class_weight=None, dual=False, penalty=l1, solver=liblinear, score=0.660, total=   0.1s\n",
      "[CV] C=1, class_weight=None, dual=False, penalty=l1, solver=liblinear \n",
      "[CV]  C=1, class_weight=None, dual=False, penalty=l1, solver=liblinear, score=0.674, total=   0.1s\n",
      "[CV] C=1, class_weight=None, dual=False, penalty=l1, solver=liblinear \n",
      "[CV]  C=1, class_weight=None, dual=False, penalty=l1, solver=liblinear, score=0.674, total=   0.1s\n",
      "[CV] C=1, class_weight=None, dual=False, penalty=l1, solver=liblinear \n",
      "[CV]  C=1, class_weight=None, dual=False, penalty=l1, solver=liblinear, score=0.663, total=   0.1s\n",
      "[CV] C=1, class_weight=None, dual=False, penalty=l2, solver=newton-cg \n",
      "[CV]  C=1, class_weight=None, dual=False, penalty=l2, solver=newton-cg, score=0.649, total=   0.3s\n",
      "[CV] C=1, class_weight=None, dual=False, penalty=l2, solver=newton-cg \n",
      "[CV]  C=1, class_weight=None, dual=False, penalty=l2, solver=newton-cg, score=0.579, total=   0.3s\n",
      "[CV] C=1, class_weight=None, dual=False, penalty=l2, solver=newton-cg \n",
      "[CV]  C=1, class_weight=None, dual=False, penalty=l2, solver=newton-cg, score=0.623, total=   0.3s\n",
      "[CV] C=1, class_weight=None, dual=False, penalty=l2, solver=newton-cg \n",
      "[CV]  C=1, class_weight=None, dual=False, penalty=l2, solver=newton-cg, score=0.553, total=   0.3s\n",
      "[CV] C=1, class_weight=None, dual=False, penalty=l2, solver=newton-cg \n",
      "[CV]  C=1, class_weight=None, dual=False, penalty=l2, solver=newton-cg, score=0.575, total=   0.3s\n",
      "[CV] C=1, class_weight=None, dual=False, penalty=l2, solver=lbfgs ....\n",
      "[CV]  C=1, class_weight=None, dual=False, penalty=l2, solver=lbfgs, score=0.649, total=   0.4s\n",
      "[CV] C=1, class_weight=None, dual=False, penalty=l2, solver=lbfgs ....\n",
      "[CV]  C=1, class_weight=None, dual=False, penalty=l2, solver=lbfgs, score=0.579, total=   0.5s\n",
      "[CV] C=1, class_weight=None, dual=False, penalty=l2, solver=lbfgs ....\n",
      "[CV]  C=1, class_weight=None, dual=False, penalty=l2, solver=lbfgs, score=0.623, total=   0.5s\n",
      "[CV] C=1, class_weight=None, dual=False, penalty=l2, solver=lbfgs ....\n",
      "[CV]  C=1, class_weight=None, dual=False, penalty=l2, solver=lbfgs, score=0.553, total=   0.5s\n",
      "[CV] C=1, class_weight=None, dual=False, penalty=l2, solver=lbfgs ....\n",
      "[CV]  C=1, class_weight=None, dual=False, penalty=l2, solver=lbfgs, score=0.575, total=   0.4s\n",
      "[CV] C=1, class_weight=None, dual=False, penalty=l2, solver=sag ......\n"
     ]
    },
    {
     "name": "stderr",
     "output_type": "stream",
     "text": [
      "C:\\ProgramData\\Anaconda3\\lib\\site-packages\\sklearn\\linear_model\\_sag.py:329: ConvergenceWarning: The max_iter was reached which means the coef_ did not converge\n",
      "  warnings.warn(\"The max_iter was reached which means \"\n"
     ]
    },
    {
     "name": "stdout",
     "output_type": "stream",
     "text": [
      "[CV]  C=1, class_weight=None, dual=False, penalty=l2, solver=sag, score=0.643, total=   0.2s\n",
      "[CV] C=1, class_weight=None, dual=False, penalty=l2, solver=sag ......\n"
     ]
    },
    {
     "name": "stderr",
     "output_type": "stream",
     "text": [
      "C:\\ProgramData\\Anaconda3\\lib\\site-packages\\sklearn\\linear_model\\_sag.py:329: ConvergenceWarning: The max_iter was reached which means the coef_ did not converge\n",
      "  warnings.warn(\"The max_iter was reached which means \"\n"
     ]
    },
    {
     "name": "stdout",
     "output_type": "stream",
     "text": [
      "[CV]  C=1, class_weight=None, dual=False, penalty=l2, solver=sag, score=0.558, total=   0.2s\n",
      "[CV] C=1, class_weight=None, dual=False, penalty=l2, solver=sag ......\n"
     ]
    },
    {
     "name": "stderr",
     "output_type": "stream",
     "text": [
      "C:\\ProgramData\\Anaconda3\\lib\\site-packages\\sklearn\\linear_model\\_sag.py:329: ConvergenceWarning: The max_iter was reached which means the coef_ did not converge\n",
      "  warnings.warn(\"The max_iter was reached which means \"\n"
     ]
    },
    {
     "name": "stdout",
     "output_type": "stream",
     "text": [
      "[CV]  C=1, class_weight=None, dual=False, penalty=l2, solver=sag, score=0.633, total=   0.2s\n",
      "[CV] C=1, class_weight=None, dual=False, penalty=l2, solver=sag ......\n"
     ]
    },
    {
     "name": "stderr",
     "output_type": "stream",
     "text": [
      "C:\\ProgramData\\Anaconda3\\lib\\site-packages\\sklearn\\linear_model\\_sag.py:329: ConvergenceWarning: The max_iter was reached which means the coef_ did not converge\n",
      "  warnings.warn(\"The max_iter was reached which means \"\n",
      "C:\\ProgramData\\Anaconda3\\lib\\site-packages\\sklearn\\linear_model\\_sag.py:329: ConvergenceWarning: The max_iter was reached which means the coef_ did not converge\n",
      "  warnings.warn(\"The max_iter was reached which means \"\n"
     ]
    },
    {
     "name": "stdout",
     "output_type": "stream",
     "text": [
      "[CV]  C=1, class_weight=None, dual=False, penalty=l2, solver=sag, score=0.567, total=   0.2s\n",
      "[CV] C=1, class_weight=None, dual=False, penalty=l2, solver=sag ......\n",
      "[CV]  C=1, class_weight=None, dual=False, penalty=l2, solver=sag, score=0.574, total=   0.2s\n",
      "[CV] C=1, class_weight=None, dual=False, penalty=l2, solver=saga .....\n"
     ]
    },
    {
     "name": "stderr",
     "output_type": "stream",
     "text": [
      "C:\\ProgramData\\Anaconda3\\lib\\site-packages\\sklearn\\linear_model\\_sag.py:329: ConvergenceWarning: The max_iter was reached which means the coef_ did not converge\n",
      "  warnings.warn(\"The max_iter was reached which means \"\n"
     ]
    },
    {
     "name": "stdout",
     "output_type": "stream",
     "text": [
      "[CV]  C=1, class_weight=None, dual=False, penalty=l2, solver=saga, score=0.651, total=   0.2s\n",
      "[CV] C=1, class_weight=None, dual=False, penalty=l2, solver=saga .....\n"
     ]
    },
    {
     "name": "stderr",
     "output_type": "stream",
     "text": [
      "C:\\ProgramData\\Anaconda3\\lib\\site-packages\\sklearn\\linear_model\\_sag.py:329: ConvergenceWarning: The max_iter was reached which means the coef_ did not converge\n",
      "  warnings.warn(\"The max_iter was reached which means \"\n"
     ]
    },
    {
     "name": "stdout",
     "output_type": "stream",
     "text": [
      "[CV]  C=1, class_weight=None, dual=False, penalty=l2, solver=saga, score=0.558, total=   0.2s\n",
      "[CV] C=1, class_weight=None, dual=False, penalty=l2, solver=saga .....\n"
     ]
    },
    {
     "name": "stderr",
     "output_type": "stream",
     "text": [
      "C:\\ProgramData\\Anaconda3\\lib\\site-packages\\sklearn\\linear_model\\_sag.py:329: ConvergenceWarning: The max_iter was reached which means the coef_ did not converge\n",
      "  warnings.warn(\"The max_iter was reached which means \"\n"
     ]
    },
    {
     "name": "stdout",
     "output_type": "stream",
     "text": [
      "[CV]  C=1, class_weight=None, dual=False, penalty=l2, solver=saga, score=0.625, total=   0.2s\n",
      "[CV] C=1, class_weight=None, dual=False, penalty=l2, solver=saga .....\n"
     ]
    },
    {
     "name": "stderr",
     "output_type": "stream",
     "text": [
      "C:\\ProgramData\\Anaconda3\\lib\\site-packages\\sklearn\\linear_model\\_sag.py:329: ConvergenceWarning: The max_iter was reached which means the coef_ did not converge\n",
      "  warnings.warn(\"The max_iter was reached which means \"\n"
     ]
    },
    {
     "name": "stdout",
     "output_type": "stream",
     "text": [
      "[CV]  C=1, class_weight=None, dual=False, penalty=l2, solver=saga, score=0.585, total=   0.2s\n",
      "[CV] C=1, class_weight=None, dual=False, penalty=l2, solver=saga .....\n"
     ]
    },
    {
     "name": "stderr",
     "output_type": "stream",
     "text": [
      "C:\\ProgramData\\Anaconda3\\lib\\site-packages\\sklearn\\linear_model\\_sag.py:329: ConvergenceWarning: The max_iter was reached which means the coef_ did not converge\n",
      "  warnings.warn(\"The max_iter was reached which means \"\n"
     ]
    },
    {
     "name": "stdout",
     "output_type": "stream",
     "text": [
      "[CV]  C=1, class_weight=None, dual=False, penalty=l2, solver=saga, score=0.599, total=   0.2s\n",
      "[CV] C=1, class_weight=None, dual=False, penalty=l2, solver=liblinear \n",
      "[CV]  C=1, class_weight=None, dual=False, penalty=l2, solver=liblinear, score=0.589, total=   0.1s\n",
      "[CV] C=1, class_weight=None, dual=False, penalty=l2, solver=liblinear \n",
      "[CV]  C=1, class_weight=None, dual=False, penalty=l2, solver=liblinear, score=0.563, total=   0.1s\n",
      "[CV] C=1, class_weight=None, dual=False, penalty=l2, solver=liblinear \n",
      "[CV]  C=1, class_weight=None, dual=False, penalty=l2, solver=liblinear, score=0.623, total=   0.1s\n",
      "[CV] C=1, class_weight=None, dual=False, penalty=l2, solver=liblinear \n",
      "[CV]  C=1, class_weight=None, dual=False, penalty=l2, solver=liblinear, score=0.529, total=   0.1s\n",
      "[CV] C=1, class_weight=None, dual=False, penalty=l2, solver=liblinear \n",
      "[CV]  C=1, class_weight=None, dual=False, penalty=l2, solver=liblinear, score=0.583, total=   0.1s\n",
      "[CV] C=1, class_weight=None, dual=False, penalty=elasticnet, solver=newton-cg \n",
      "[CV]  C=1, class_weight=None, dual=False, penalty=elasticnet, solver=newton-cg, score=nan, total=   0.0s\n",
      "[CV] C=1, class_weight=None, dual=False, penalty=elasticnet, solver=newton-cg \n",
      "[CV]  C=1, class_weight=None, dual=False, penalty=elasticnet, solver=newton-cg, score=nan, total=   0.0s\n",
      "[CV] C=1, class_weight=None, dual=False, penalty=elasticnet, solver=newton-cg \n",
      "[CV]  C=1, class_weight=None, dual=False, penalty=elasticnet, solver=newton-cg, score=nan, total=   0.0s\n",
      "[CV] C=1, class_weight=None, dual=False, penalty=elasticnet, solver=newton-cg \n",
      "[CV]  C=1, class_weight=None, dual=False, penalty=elasticnet, solver=newton-cg, score=nan, total=   0.0s\n",
      "[CV] C=1, class_weight=None, dual=False, penalty=elasticnet, solver=newton-cg \n",
      "[CV]  C=1, class_weight=None, dual=False, penalty=elasticnet, solver=newton-cg, score=nan, total=   0.0s\n",
      "[CV] C=1, class_weight=None, dual=False, penalty=elasticnet, solver=lbfgs \n",
      "[CV]  C=1, class_weight=None, dual=False, penalty=elasticnet, solver=lbfgs, score=nan, total=   0.0s\n",
      "[CV] C=1, class_weight=None, dual=False, penalty=elasticnet, solver=lbfgs \n",
      "[CV]  C=1, class_weight=None, dual=False, penalty=elasticnet, solver=lbfgs, score=nan, total=   0.0s\n",
      "[CV] C=1, class_weight=None, dual=False, penalty=elasticnet, solver=lbfgs \n",
      "[CV]  C=1, class_weight=None, dual=False, penalty=elasticnet, solver=lbfgs, score=nan, total=   0.0s\n",
      "[CV] C=1, class_weight=None, dual=False, penalty=elasticnet, solver=lbfgs \n",
      "[CV]  C=1, class_weight=None, dual=False, penalty=elasticnet, solver=lbfgs, score=nan, total=   0.0s\n",
      "[CV] C=1, class_weight=None, dual=False, penalty=elasticnet, solver=lbfgs \n",
      "[CV]  C=1, class_weight=None, dual=False, penalty=elasticnet, solver=lbfgs, score=nan, total=   0.0s\n",
      "[CV] C=1, class_weight=None, dual=False, penalty=elasticnet, solver=sag \n",
      "[CV]  C=1, class_weight=None, dual=False, penalty=elasticnet, solver=sag, score=nan, total=   0.0s\n",
      "[CV] C=1, class_weight=None, dual=False, penalty=elasticnet, solver=sag \n",
      "[CV]  C=1, class_weight=None, dual=False, penalty=elasticnet, solver=sag, score=nan, total=   0.0s\n",
      "[CV] C=1, class_weight=None, dual=False, penalty=elasticnet, solver=sag \n",
      "[CV]  C=1, class_weight=None, dual=False, penalty=elasticnet, solver=sag, score=nan, total=   0.0s\n",
      "[CV] C=1, class_weight=None, dual=False, penalty=elasticnet, solver=sag \n",
      "[CV]  C=1, class_weight=None, dual=False, penalty=elasticnet, solver=sag, score=nan, total=   0.0s\n",
      "[CV] C=1, class_weight=None, dual=False, penalty=elasticnet, solver=sag \n",
      "[CV]  C=1, class_weight=None, dual=False, penalty=elasticnet, solver=sag, score=nan, total=   0.0s\n",
      "[CV] C=1, class_weight=None, dual=False, penalty=elasticnet, solver=saga \n",
      "[CV]  C=1, class_weight=None, dual=False, penalty=elasticnet, solver=saga, score=nan, total=   0.0s\n",
      "[CV] C=1, class_weight=None, dual=False, penalty=elasticnet, solver=saga \n",
      "[CV]  C=1, class_weight=None, dual=False, penalty=elasticnet, solver=saga, score=nan, total=   0.0s\n",
      "[CV] C=1, class_weight=None, dual=False, penalty=elasticnet, solver=saga \n",
      "[CV]  C=1, class_weight=None, dual=False, penalty=elasticnet, solver=saga, score=nan, total=   0.0s\n",
      "[CV] C=1, class_weight=None, dual=False, penalty=elasticnet, solver=saga \n",
      "[CV]  C=1, class_weight=None, dual=False, penalty=elasticnet, solver=saga, score=nan, total=   0.0s\n",
      "[CV] C=1, class_weight=None, dual=False, penalty=elasticnet, solver=saga \n",
      "[CV]  C=1, class_weight=None, dual=False, penalty=elasticnet, solver=saga, score=nan, total=   0.0s\n",
      "[CV] C=1, class_weight=None, dual=False, penalty=elasticnet, solver=liblinear \n",
      "[CV]  C=1, class_weight=None, dual=False, penalty=elasticnet, solver=liblinear, score=nan, total=   0.0s\n",
      "[CV] C=1, class_weight=None, dual=False, penalty=elasticnet, solver=liblinear \n",
      "[CV]  C=1, class_weight=None, dual=False, penalty=elasticnet, solver=liblinear, score=nan, total=   0.0s\n",
      "[CV] C=1, class_weight=None, dual=False, penalty=elasticnet, solver=liblinear \n",
      "[CV]  C=1, class_weight=None, dual=False, penalty=elasticnet, solver=liblinear, score=nan, total=   0.0s\n",
      "[CV] C=1, class_weight=None, dual=False, penalty=elasticnet, solver=liblinear \n",
      "[CV]  C=1, class_weight=None, dual=False, penalty=elasticnet, solver=liblinear, score=nan, total=   0.0s\n",
      "[CV] C=1, class_weight=None, dual=False, penalty=elasticnet, solver=liblinear \n",
      "[CV]  C=1, class_weight=None, dual=False, penalty=elasticnet, solver=liblinear, score=nan, total=   0.0s\n",
      "[CV] C=1, class_weight=balanced, dual=True, penalty=l1, solver=newton-cg \n",
      "[CV]  C=1, class_weight=balanced, dual=True, penalty=l1, solver=newton-cg, score=nan, total=   0.0s\n",
      "[CV] C=1, class_weight=balanced, dual=True, penalty=l1, solver=newton-cg \n",
      "[CV]  C=1, class_weight=balanced, dual=True, penalty=l1, solver=newton-cg, score=nan, total=   0.0s\n",
      "[CV] C=1, class_weight=balanced, dual=True, penalty=l1, solver=newton-cg \n",
      "[CV]  C=1, class_weight=balanced, dual=True, penalty=l1, solver=newton-cg, score=nan, total=   0.0s\n",
      "[CV] C=1, class_weight=balanced, dual=True, penalty=l1, solver=newton-cg \n",
      "[CV]  C=1, class_weight=balanced, dual=True, penalty=l1, solver=newton-cg, score=nan, total=   0.0s\n",
      "[CV] C=1, class_weight=balanced, dual=True, penalty=l1, solver=newton-cg \n",
      "[CV]  C=1, class_weight=balanced, dual=True, penalty=l1, solver=newton-cg, score=nan, total=   0.0s\n",
      "[CV] C=1, class_weight=balanced, dual=True, penalty=l1, solver=lbfgs .\n",
      "[CV]  C=1, class_weight=balanced, dual=True, penalty=l1, solver=lbfgs, score=nan, total=   0.0s\n",
      "[CV] C=1, class_weight=balanced, dual=True, penalty=l1, solver=lbfgs .\n",
      "[CV]  C=1, class_weight=balanced, dual=True, penalty=l1, solver=lbfgs, score=nan, total=   0.0s"
     ]
    },
    {
     "name": "stderr",
     "output_type": "stream",
     "text": [
      "C:\\ProgramData\\Anaconda3\\lib\\site-packages\\sklearn\\model_selection\\_validation.py:548: FitFailedWarning: Estimator fit failed. The score on this train-test partition for these parameters will be set to nan. Details: \n",
      "Traceback (most recent call last):\n",
      "  File \"C:\\ProgramData\\Anaconda3\\lib\\site-packages\\sklearn\\model_selection\\_validation.py\", line 531, in _fit_and_score\n",
      "    estimator.fit(X_train, y_train, **fit_params)\n",
      "  File \"C:\\ProgramData\\Anaconda3\\lib\\site-packages\\sklearn\\linear_model\\_logistic.py\", line 1304, in fit\n",
      "    solver = _check_solver(self.solver, self.penalty, self.dual)\n",
      "  File \"C:\\ProgramData\\Anaconda3\\lib\\site-packages\\sklearn\\linear_model\\_logistic.py\", line 442, in _check_solver\n",
      "    raise ValueError(\"Solver %s supports only 'l2' or 'none' penalties, \"\n",
      "ValueError: Solver newton-cg supports only 'l2' or 'none' penalties, got elasticnet penalty.\n",
      "\n",
      "  warnings.warn(\"Estimator fit failed. The score on this train-test\"\n",
      "C:\\ProgramData\\Anaconda3\\lib\\site-packages\\sklearn\\model_selection\\_validation.py:548: FitFailedWarning: Estimator fit failed. The score on this train-test partition for these parameters will be set to nan. Details: \n",
      "Traceback (most recent call last):\n",
      "  File \"C:\\ProgramData\\Anaconda3\\lib\\site-packages\\sklearn\\model_selection\\_validation.py\", line 531, in _fit_and_score\n",
      "    estimator.fit(X_train, y_train, **fit_params)\n",
      "  File \"C:\\ProgramData\\Anaconda3\\lib\\site-packages\\sklearn\\linear_model\\_logistic.py\", line 1304, in fit\n",
      "    solver = _check_solver(self.solver, self.penalty, self.dual)\n",
      "  File \"C:\\ProgramData\\Anaconda3\\lib\\site-packages\\sklearn\\linear_model\\_logistic.py\", line 442, in _check_solver\n",
      "    raise ValueError(\"Solver %s supports only 'l2' or 'none' penalties, \"\n",
      "ValueError: Solver lbfgs supports only 'l2' or 'none' penalties, got elasticnet penalty.\n",
      "\n",
      "  warnings.warn(\"Estimator fit failed. The score on this train-test\"\n",
      "C:\\ProgramData\\Anaconda3\\lib\\site-packages\\sklearn\\model_selection\\_validation.py:548: FitFailedWarning: Estimator fit failed. The score on this train-test partition for these parameters will be set to nan. Details: \n",
      "Traceback (most recent call last):\n",
      "  File \"C:\\ProgramData\\Anaconda3\\lib\\site-packages\\sklearn\\model_selection\\_validation.py\", line 531, in _fit_and_score\n",
      "    estimator.fit(X_train, y_train, **fit_params)\n",
      "  File \"C:\\ProgramData\\Anaconda3\\lib\\site-packages\\sklearn\\linear_model\\_logistic.py\", line 1304, in fit\n",
      "    solver = _check_solver(self.solver, self.penalty, self.dual)\n",
      "  File \"C:\\ProgramData\\Anaconda3\\lib\\site-packages\\sklearn\\linear_model\\_logistic.py\", line 442, in _check_solver\n",
      "    raise ValueError(\"Solver %s supports only 'l2' or 'none' penalties, \"\n",
      "ValueError: Solver sag supports only 'l2' or 'none' penalties, got elasticnet penalty.\n",
      "\n",
      "  warnings.warn(\"Estimator fit failed. The score on this train-test\"\n",
      "C:\\ProgramData\\Anaconda3\\lib\\site-packages\\sklearn\\model_selection\\_validation.py:548: FitFailedWarning: Estimator fit failed. The score on this train-test partition for these parameters will be set to nan. Details: \n",
      "Traceback (most recent call last):\n",
      "  File \"C:\\ProgramData\\Anaconda3\\lib\\site-packages\\sklearn\\model_selection\\_validation.py\", line 531, in _fit_and_score\n",
      "    estimator.fit(X_train, y_train, **fit_params)\n",
      "  File \"C:\\ProgramData\\Anaconda3\\lib\\site-packages\\sklearn\\linear_model\\_logistic.py\", line 1312, in fit\n",
      "    raise ValueError(\"l1_ratio must be between 0 and 1;\"\n",
      "ValueError: l1_ratio must be between 0 and 1; got (l1_ratio=None)\n",
      "\n",
      "  warnings.warn(\"Estimator fit failed. The score on this train-test\"\n",
      "C:\\ProgramData\\Anaconda3\\lib\\site-packages\\sklearn\\model_selection\\_validation.py:548: FitFailedWarning: Estimator fit failed. The score on this train-test partition for these parameters will be set to nan. Details: \n",
      "Traceback (most recent call last):\n",
      "  File \"C:\\ProgramData\\Anaconda3\\lib\\site-packages\\sklearn\\model_selection\\_validation.py\", line 531, in _fit_and_score\n",
      "    estimator.fit(X_train, y_train, **fit_params)\n",
      "  File \"C:\\ProgramData\\Anaconda3\\lib\\site-packages\\sklearn\\linear_model\\_logistic.py\", line 1304, in fit\n",
      "    solver = _check_solver(self.solver, self.penalty, self.dual)\n",
      "  File \"C:\\ProgramData\\Anaconda3\\lib\\site-packages\\sklearn\\linear_model\\_logistic.py\", line 449, in _check_solver\n",
      "    raise ValueError(\"Only 'saga' solver supports elasticnet penalty,\"\n",
      "ValueError: Only 'saga' solver supports elasticnet penalty, got solver=liblinear.\n",
      "\n",
      "  warnings.warn(\"Estimator fit failed. The score on this train-test\"\n",
      "C:\\ProgramData\\Anaconda3\\lib\\site-packages\\sklearn\\model_selection\\_validation.py:548: FitFailedWarning: Estimator fit failed. The score on this train-test partition for these parameters will be set to nan. Details: \n",
      "Traceback (most recent call last):\n",
      "  File \"C:\\ProgramData\\Anaconda3\\lib\\site-packages\\sklearn\\model_selection\\_validation.py\", line 531, in _fit_and_score\n",
      "    estimator.fit(X_train, y_train, **fit_params)\n",
      "  File \"C:\\ProgramData\\Anaconda3\\lib\\site-packages\\sklearn\\linear_model\\_logistic.py\", line 1304, in fit\n",
      "    solver = _check_solver(self.solver, self.penalty, self.dual)\n",
      "  File \"C:\\ProgramData\\Anaconda3\\lib\\site-packages\\sklearn\\linear_model\\_logistic.py\", line 442, in _check_solver\n",
      "    raise ValueError(\"Solver %s supports only 'l2' or 'none' penalties, \"\n",
      "ValueError: Solver newton-cg supports only 'l2' or 'none' penalties, got l1 penalty.\n",
      "\n",
      "  warnings.warn(\"Estimator fit failed. The score on this train-test\"\n",
      "C:\\ProgramData\\Anaconda3\\lib\\site-packages\\sklearn\\model_selection\\_validation.py:548: FitFailedWarning: Estimator fit failed. The score on this train-test partition for these parameters will be set to nan. Details: \n",
      "Traceback (most recent call last):\n",
      "  File \"C:\\ProgramData\\Anaconda3\\lib\\site-packages\\sklearn\\model_selection\\_validation.py\", line 531, in _fit_and_score\n",
      "    estimator.fit(X_train, y_train, **fit_params)\n",
      "  File \"C:\\ProgramData\\Anaconda3\\lib\\site-packages\\sklearn\\linear_model\\_logistic.py\", line 1304, in fit\n",
      "    solver = _check_solver(self.solver, self.penalty, self.dual)\n",
      "  File \"C:\\ProgramData\\Anaconda3\\lib\\site-packages\\sklearn\\linear_model\\_logistic.py\", line 442, in _check_solver\n",
      "    raise ValueError(\"Solver %s supports only 'l2' or 'none' penalties, \"\n",
      "ValueError: Solver lbfgs supports only 'l2' or 'none' penalties, got l1 penalty.\n",
      "\n",
      "  warnings.warn(\"Estimator fit failed. The score on this train-test\"\n",
      "C:\\ProgramData\\Anaconda3\\lib\\site-packages\\sklearn\\model_selection\\_validation.py:548: FitFailedWarning: Estimator fit failed. The score on this train-test partition for these parameters will be set to nan. Details: \n",
      "Traceback (most recent call last):\n",
      "  File \"C:\\ProgramData\\Anaconda3\\lib\\site-packages\\sklearn\\model_selection\\_validation.py\", line 531, in _fit_and_score\n",
      "    estimator.fit(X_train, y_train, **fit_params)\n",
      "  File \"C:\\ProgramData\\Anaconda3\\lib\\site-packages\\sklearn\\linear_model\\_logistic.py\", line 1304, in fit\n",
      "    solver = _check_solver(self.solver, self.penalty, self.dual)\n",
      "  File \"C:\\ProgramData\\Anaconda3\\lib\\site-packages\\sklearn\\linear_model\\_logistic.py\", line 442, in _check_solver\n",
      "    raise ValueError(\"Solver %s supports only 'l2' or 'none' penalties, \"\n",
      "ValueError: Solver sag supports only 'l2' or 'none' penalties, got l1 penalty.\n",
      "\n",
      "  warnings.warn(\"Estimator fit failed. The score on this train-test\"\n",
      "C:\\ProgramData\\Anaconda3\\lib\\site-packages\\sklearn\\model_selection\\_validation.py:548: FitFailedWarning: Estimator fit failed. The score on this train-test partition for these parameters will be set to nan. Details: \n",
      "Traceback (most recent call last):\n",
      "  File \"C:\\ProgramData\\Anaconda3\\lib\\site-packages\\sklearn\\model_selection\\_validation.py\", line 531, in _fit_and_score\n",
      "    estimator.fit(X_train, y_train, **fit_params)\n",
      "  File \"C:\\ProgramData\\Anaconda3\\lib\\site-packages\\sklearn\\linear_model\\_logistic.py\", line 1304, in fit\n",
      "    solver = _check_solver(self.solver, self.penalty, self.dual)\n",
      "  File \"C:\\ProgramData\\Anaconda3\\lib\\site-packages\\sklearn\\linear_model\\_logistic.py\", line 445, in _check_solver\n",
      "    raise ValueError(\"Solver %s supports only \"\n",
      "ValueError: Solver saga supports only dual=False, got dual=True\n",
      "\n",
      "  warnings.warn(\"Estimator fit failed. The score on this train-test\"\n",
      "C:\\ProgramData\\Anaconda3\\lib\\site-packages\\sklearn\\model_selection\\_validation.py:548: FitFailedWarning: Estimator fit failed. The score on this train-test partition for these parameters will be set to nan. Details: \n",
      "Traceback (most recent call last):\n",
      "  File \"C:\\ProgramData\\Anaconda3\\lib\\site-packages\\sklearn\\model_selection\\_validation.py\", line 531, in _fit_and_score\n",
      "    estimator.fit(X_train, y_train, **fit_params)\n",
      "  File \"C:\\ProgramData\\Anaconda3\\lib\\site-packages\\sklearn\\linear_model\\_logistic.py\", line 1356, in fit\n",
      "    self.coef_, self.intercept_, n_iter_ = _fit_liblinear(\n",
      "  File \"C:\\ProgramData\\Anaconda3\\lib\\site-packages\\sklearn\\svm\\_base.py\", line 965, in _fit_liblinear\n",
      "    solver_type = _get_liblinear_solver_type(multi_class, penalty, loss, dual)\n",
      "  File \"C:\\ProgramData\\Anaconda3\\lib\\site-packages\\sklearn\\svm\\_base.py\", line 821, in _get_liblinear_solver_type\n",
      "    raise ValueError('Unsupported set of arguments: %s, '\n",
      "ValueError: Unsupported set of arguments: The combination of penalty='l1' and loss='logistic_regression' are not supported when dual=True, Parameters: penalty='l1', loss='logistic_regression', dual=True\n",
      "\n",
      "  warnings.warn(\"Estimator fit failed. The score on this train-test\"\n",
      "C:\\ProgramData\\Anaconda3\\lib\\site-packages\\sklearn\\model_selection\\_validation.py:548: FitFailedWarning: Estimator fit failed. The score on this train-test partition for these parameters will be set to nan. Details: \n",
      "Traceback (most recent call last):\n",
      "  File \"C:\\ProgramData\\Anaconda3\\lib\\site-packages\\sklearn\\model_selection\\_validation.py\", line 531, in _fit_and_score\n",
      "    estimator.fit(X_train, y_train, **fit_params)\n",
      "  File \"C:\\ProgramData\\Anaconda3\\lib\\site-packages\\sklearn\\linear_model\\_logistic.py\", line 1304, in fit\n",
      "    solver = _check_solver(self.solver, self.penalty, self.dual)\n",
      "  File \"C:\\ProgramData\\Anaconda3\\lib\\site-packages\\sklearn\\linear_model\\_logistic.py\", line 445, in _check_solver\n",
      "    raise ValueError(\"Solver %s supports only \"\n",
      "ValueError: Solver newton-cg supports only dual=False, got dual=True\n",
      "\n",
      "  warnings.warn(\"Estimator fit failed. The score on this train-test\"\n",
      "C:\\ProgramData\\Anaconda3\\lib\\site-packages\\sklearn\\model_selection\\_validation.py:548: FitFailedWarning: Estimator fit failed. The score on this train-test partition for these parameters will be set to nan. Details: \n",
      "Traceback (most recent call last):\n",
      "  File \"C:\\ProgramData\\Anaconda3\\lib\\site-packages\\sklearn\\model_selection\\_validation.py\", line 531, in _fit_and_score\n",
      "    estimator.fit(X_train, y_train, **fit_params)\n",
      "  File \"C:\\ProgramData\\Anaconda3\\lib\\site-packages\\sklearn\\linear_model\\_logistic.py\", line 1304, in fit\n",
      "    solver = _check_solver(self.solver, self.penalty, self.dual)\n",
      "  File \"C:\\ProgramData\\Anaconda3\\lib\\site-packages\\sklearn\\linear_model\\_logistic.py\", line 445, in _check_solver\n",
      "    raise ValueError(\"Solver %s supports only \"\n",
      "ValueError: Solver lbfgs supports only dual=False, got dual=True\n",
      "\n",
      "  warnings.warn(\"Estimator fit failed. The score on this train-test\"\n",
      "C:\\ProgramData\\Anaconda3\\lib\\site-packages\\sklearn\\model_selection\\_validation.py:548: FitFailedWarning: Estimator fit failed. The score on this train-test partition for these parameters will be set to nan. Details: \n",
      "Traceback (most recent call last):\n",
      "  File \"C:\\ProgramData\\Anaconda3\\lib\\site-packages\\sklearn\\model_selection\\_validation.py\", line 531, in _fit_and_score\n",
      "    estimator.fit(X_train, y_train, **fit_params)\n",
      "  File \"C:\\ProgramData\\Anaconda3\\lib\\site-packages\\sklearn\\linear_model\\_logistic.py\", line 1304, in fit\n",
      "    solver = _check_solver(self.solver, self.penalty, self.dual)\n",
      "  File \"C:\\ProgramData\\Anaconda3\\lib\\site-packages\\sklearn\\linear_model\\_logistic.py\", line 445, in _check_solver\n",
      "    raise ValueError(\"Solver %s supports only \"\n",
      "ValueError: Solver sag supports only dual=False, got dual=True\n",
      "\n",
      "  warnings.warn(\"Estimator fit failed. The score on this train-test\"\n"
     ]
    },
    {
     "name": "stdout",
     "output_type": "stream",
     "text": [
      "\n",
      "[CV] C=1, class_weight=balanced, dual=True, penalty=l1, solver=lbfgs .\n",
      "[CV]  C=1, class_weight=balanced, dual=True, penalty=l1, solver=lbfgs, score=nan, total=   0.0s\n",
      "[CV] C=1, class_weight=balanced, dual=True, penalty=l1, solver=lbfgs .\n",
      "[CV]  C=1, class_weight=balanced, dual=True, penalty=l1, solver=lbfgs, score=nan, total=   0.0s\n",
      "[CV] C=1, class_weight=balanced, dual=True, penalty=l1, solver=lbfgs .\n",
      "[CV]  C=1, class_weight=balanced, dual=True, penalty=l1, solver=lbfgs, score=nan, total=   0.0s\n",
      "[CV] C=1, class_weight=balanced, dual=True, penalty=l1, solver=sag ...\n",
      "[CV]  C=1, class_weight=balanced, dual=True, penalty=l1, solver=sag, score=nan, total=   0.0s\n",
      "[CV] C=1, class_weight=balanced, dual=True, penalty=l1, solver=sag ...\n",
      "[CV]  C=1, class_weight=balanced, dual=True, penalty=l1, solver=sag, score=nan, total=   0.0s\n",
      "[CV] C=1, class_weight=balanced, dual=True, penalty=l1, solver=sag ...\n",
      "[CV]  C=1, class_weight=balanced, dual=True, penalty=l1, solver=sag, score=nan, total=   0.0s\n",
      "[CV] C=1, class_weight=balanced, dual=True, penalty=l1, solver=sag ...\n",
      "[CV]  C=1, class_weight=balanced, dual=True, penalty=l1, solver=sag, score=nan, total=   0.0s\n",
      "[CV] C=1, class_weight=balanced, dual=True, penalty=l1, solver=sag ...\n",
      "[CV]  C=1, class_weight=balanced, dual=True, penalty=l1, solver=sag, score=nan, total=   0.0s\n",
      "[CV] C=1, class_weight=balanced, dual=True, penalty=l1, solver=saga ..\n",
      "[CV]  C=1, class_weight=balanced, dual=True, penalty=l1, solver=saga, score=nan, total=   0.0s\n",
      "[CV] C=1, class_weight=balanced, dual=True, penalty=l1, solver=saga ..\n",
      "[CV]  C=1, class_weight=balanced, dual=True, penalty=l1, solver=saga, score=nan, total=   0.0s\n",
      "[CV] C=1, class_weight=balanced, dual=True, penalty=l1, solver=saga ..\n",
      "[CV]  C=1, class_weight=balanced, dual=True, penalty=l1, solver=saga, score=nan, total=   0.0s\n",
      "[CV] C=1, class_weight=balanced, dual=True, penalty=l1, solver=saga ..\n",
      "[CV]  C=1, class_weight=balanced, dual=True, penalty=l1, solver=saga, score=nan, total=   0.0s\n",
      "[CV] C=1, class_weight=balanced, dual=True, penalty=l1, solver=saga ..\n",
      "[CV]  C=1, class_weight=balanced, dual=True, penalty=l1, solver=saga, score=nan, total=   0.0s\n",
      "[CV] C=1, class_weight=balanced, dual=True, penalty=l1, solver=liblinear \n",
      "[CV]  C=1, class_weight=balanced, dual=True, penalty=l1, solver=liblinear, score=nan, total=   0.0s\n",
      "[CV] C=1, class_weight=balanced, dual=True, penalty=l1, solver=liblinear \n",
      "[CV]  C=1, class_weight=balanced, dual=True, penalty=l1, solver=liblinear, score=nan, total=   0.0s\n",
      "[CV] C=1, class_weight=balanced, dual=True, penalty=l1, solver=liblinear \n",
      "[CV]  C=1, class_weight=balanced, dual=True, penalty=l1, solver=liblinear, score=nan, total=   0.0s\n",
      "[CV] C=1, class_weight=balanced, dual=True, penalty=l1, solver=liblinear \n",
      "[CV]  C=1, class_weight=balanced, dual=True, penalty=l1, solver=liblinear, score=nan, total=   0.0s\n",
      "[CV] C=1, class_weight=balanced, dual=True, penalty=l1, solver=liblinear \n",
      "[CV]  C=1, class_weight=balanced, dual=True, penalty=l1, solver=liblinear, score=nan, total=   0.0s\n",
      "[CV] C=1, class_weight=balanced, dual=True, penalty=l2, solver=newton-cg \n",
      "[CV]  C=1, class_weight=balanced, dual=True, penalty=l2, solver=newton-cg, score=nan, total=   0.0s\n",
      "[CV] C=1, class_weight=balanced, dual=True, penalty=l2, solver=newton-cg \n",
      "[CV]  C=1, class_weight=balanced, dual=True, penalty=l2, solver=newton-cg, score=nan, total=   0.0s\n",
      "[CV] C=1, class_weight=balanced, dual=True, penalty=l2, solver=newton-cg \n",
      "[CV]  C=1, class_weight=balanced, dual=True, penalty=l2, solver=newton-cg, score=nan, total=   0.0s\n",
      "[CV] C=1, class_weight=balanced, dual=True, penalty=l2, solver=newton-cg \n",
      "[CV]  C=1, class_weight=balanced, dual=True, penalty=l2, solver=newton-cg, score=nan, total=   0.0s\n",
      "[CV] C=1, class_weight=balanced, dual=True, penalty=l2, solver=newton-cg \n",
      "[CV]  C=1, class_weight=balanced, dual=True, penalty=l2, solver=newton-cg, score=nan, total=   0.0s\n",
      "[CV] C=1, class_weight=balanced, dual=True, penalty=l2, solver=lbfgs .\n",
      "[CV]  C=1, class_weight=balanced, dual=True, penalty=l2, solver=lbfgs, score=nan, total=   0.0s\n",
      "[CV] C=1, class_weight=balanced, dual=True, penalty=l2, solver=lbfgs .\n",
      "[CV]  C=1, class_weight=balanced, dual=True, penalty=l2, solver=lbfgs, score=nan, total=   0.0s\n",
      "[CV] C=1, class_weight=balanced, dual=True, penalty=l2, solver=lbfgs .\n",
      "[CV]  C=1, class_weight=balanced, dual=True, penalty=l2, solver=lbfgs, score=nan, total=   0.0s\n",
      "[CV] C=1, class_weight=balanced, dual=True, penalty=l2, solver=lbfgs .\n",
      "[CV]  C=1, class_weight=balanced, dual=True, penalty=l2, solver=lbfgs, score=nan, total=   0.0s\n",
      "[CV] C=1, class_weight=balanced, dual=True, penalty=l2, solver=lbfgs .\n",
      "[CV]  C=1, class_weight=balanced, dual=True, penalty=l2, solver=lbfgs, score=nan, total=   0.0s\n",
      "[CV] C=1, class_weight=balanced, dual=True, penalty=l2, solver=sag ...\n",
      "[CV]  C=1, class_weight=balanced, dual=True, penalty=l2, solver=sag, score=nan, total=   0.0s\n",
      "[CV] C=1, class_weight=balanced, dual=True, penalty=l2, solver=sag ...\n",
      "[CV]  C=1, class_weight=balanced, dual=True, penalty=l2, solver=sag, score=nan, total=   0.0s\n",
      "[CV] C=1, class_weight=balanced, dual=True, penalty=l2, solver=sag ...\n",
      "[CV]  C=1, class_weight=balanced, dual=True, penalty=l2, solver=sag, score=nan, total=   0.0s\n",
      "[CV] C=1, class_weight=balanced, dual=True, penalty=l2, solver=sag ...\n",
      "[CV]  C=1, class_weight=balanced, dual=True, penalty=l2, solver=sag, score=nan, total=   0.0s\n",
      "[CV] C=1, class_weight=balanced, dual=True, penalty=l2, solver=sag ...\n",
      "[CV]  C=1, class_weight=balanced, dual=True, penalty=l2, solver=sag, score=nan, total=   0.0s\n",
      "[CV] C=1, class_weight=balanced, dual=True, penalty=l2, solver=saga ..\n",
      "[CV]  C=1, class_weight=balanced, dual=True, penalty=l2, solver=saga, score=nan, total=   0.0s\n",
      "[CV] C=1, class_weight=balanced, dual=True, penalty=l2, solver=saga ..\n",
      "[CV]  C=1, class_weight=balanced, dual=True, penalty=l2, solver=saga, score=nan, total=   0.0s\n",
      "[CV] C=1, class_weight=balanced, dual=True, penalty=l2, solver=saga ..\n",
      "[CV]  C=1, class_weight=balanced, dual=True, penalty=l2, solver=saga, score=nan, total=   0.0s\n",
      "[CV] C=1, class_weight=balanced, dual=True, penalty=l2, solver=saga ..\n",
      "[CV]  C=1, class_weight=balanced, dual=True, penalty=l2, solver=saga, score=nan, total=   0.0s\n",
      "[CV] C=1, class_weight=balanced, dual=True, penalty=l2, solver=saga ..\n",
      "[CV]  C=1, class_weight=balanced, dual=True, penalty=l2, solver=saga, score=nan, total=   0.0s\n",
      "[CV] C=1, class_weight=balanced, dual=True, penalty=l2, solver=liblinear \n",
      "[CV]  C=1, class_weight=balanced, dual=True, penalty=l2, solver=liblinear, score=0.729, total=   0.1s\n",
      "[CV] C=1, class_weight=balanced, dual=True, penalty=l2, solver=liblinear \n",
      "[CV]  C=1, class_weight=balanced, dual=True, penalty=l2, solver=liblinear, score=0.710, total=   0.1s\n",
      "[CV] C=1, class_weight=balanced, dual=True, penalty=l2, solver=liblinear \n",
      "[CV]  C=1, class_weight=balanced, dual=True, penalty=l2, solver=liblinear, score=0.673, total=   0.1s\n",
      "[CV] C=1, class_weight=balanced, dual=True, penalty=l2, solver=liblinear \n",
      "[CV]  C=1, class_weight=balanced, dual=True, penalty=l2, solver=liblinear, score=0.628, total=   0.1s\n",
      "[CV] C=1, class_weight=balanced, dual=True, penalty=l2, solver=liblinear \n",
      "[CV]  C=1, class_weight=balanced, dual=True, penalty=l2, solver=liblinear, score=0.746, total=   0.1s\n",
      "[CV] C=1, class_weight=balanced, dual=True, penalty=elasticnet, solver=newton-cg \n",
      "[CV]  C=1, class_weight=balanced, dual=True, penalty=elasticnet, solver=newton-cg, score=nan, total=   0.0s\n",
      "[CV] C=1, class_weight=balanced, dual=True, penalty=elasticnet, solver=newton-cg \n",
      "[CV]  C=1, class_weight=balanced, dual=True, penalty=elasticnet, solver=newton-cg, score=nan, total=   0.0s\n",
      "[CV] C=1, class_weight=balanced, dual=True, penalty=elasticnet, solver=newton-cg \n",
      "[CV]  C=1, class_weight=balanced, dual=True, penalty=elasticnet, solver=newton-cg, score=nan, total=   0.0s\n",
      "[CV] C=1, class_weight=balanced, dual=True, penalty=elasticnet, solver=newton-cg \n",
      "[CV]  C=1, class_weight=balanced, dual=True, penalty=elasticnet, solver=newton-cg, score=nan, total=   0.0s\n",
      "[CV] C=1, class_weight=balanced, dual=True, penalty=elasticnet, solver=newton-cg \n",
      "[CV]  C=1, class_weight=balanced, dual=True, penalty=elasticnet, solver=newton-cg, score=nan, total=   0.0s\n",
      "[CV] C=1, class_weight=balanced, dual=True, penalty=elasticnet, solver=lbfgs \n",
      "[CV]  C=1, class_weight=balanced, dual=True, penalty=elasticnet, solver=lbfgs, score=nan, total=   0.0s\n",
      "[CV] C=1, class_weight=balanced, dual=True, penalty=elasticnet, solver=lbfgs \n",
      "[CV]  C=1, class_weight=balanced, dual=True, penalty=elasticnet, solver=lbfgs, score=nan, total=   0.0s\n",
      "[CV] C=1, class_weight=balanced, dual=True, penalty=elasticnet, solver=lbfgs \n",
      "[CV]  C=1, class_weight=balanced, dual=True, penalty=elasticnet, solver=lbfgs, score=nan, total=   0.0s\n",
      "[CV] C=1, class_weight=balanced, dual=True, penalty=elasticnet, solver=lbfgs \n",
      "[CV]  C=1, class_weight=balanced, dual=True, penalty=elasticnet, solver=lbfgs, score=nan, total=   0.0s\n",
      "[CV] C=1, class_weight=balanced, dual=True, penalty=elasticnet, solver=lbfgs \n",
      "[CV]  C=1, class_weight=balanced, dual=True, penalty=elasticnet, solver=lbfgs, score=nan, total=   0.0s\n",
      "[CV] C=1, class_weight=balanced, dual=True, penalty=elasticnet, solver=sag \n",
      "[CV]  C=1, class_weight=balanced, dual=True, penalty=elasticnet, solver=sag, score=nan, total=   0.0s\n",
      "[CV] C=1, class_weight=balanced, dual=True, penalty=elasticnet, solver=sag \n",
      "[CV]  C=1, class_weight=balanced, dual=True, penalty=elasticnet, solver=sag, score=nan, total=   0.0s\n",
      "[CV] C=1, class_weight=balanced, dual=True, penalty=elasticnet, solver=sag \n",
      "[CV]  C=1, class_weight=balanced, dual=True, penalty=elasticnet, solver=sag, score=nan, total=   0.0s\n",
      "[CV] C=1, class_weight=balanced, dual=True, penalty=elasticnet, solver=sag \n",
      "[CV]  C=1, class_weight=balanced, dual=True, penalty=elasticnet, solver=sag, score=nan, total=   0.0s\n",
      "[CV] C=1, class_weight=balanced, dual=True, penalty=elasticnet, solver=sag \n",
      "[CV]  C=1, class_weight=balanced, dual=True, penalty=elasticnet, solver=sag, score=nan, total=   0.0s\n",
      "[CV] C=1, class_weight=balanced, dual=True, penalty=elasticnet, solver=saga \n",
      "[CV]  C=1, class_weight=balanced, dual=True, penalty=elasticnet, solver=saga, score=nan, total=   0.0s\n",
      "[CV] C=1, class_weight=balanced, dual=True, penalty=elasticnet, solver=saga \n",
      "[CV]  C=1, class_weight=balanced, dual=True, penalty=elasticnet, solver=saga, score=nan, total=   0.0s\n",
      "[CV] C=1, class_weight=balanced, dual=True, penalty=elasticnet, solver=saga \n",
      "[CV]  C=1, class_weight=balanced, dual=True, penalty=elasticnet, solver=saga, score=nan, total=   0.0s\n",
      "[CV] C=1, class_weight=balanced, dual=True, penalty=elasticnet, solver=saga \n",
      "[CV]  C=1, class_weight=balanced, dual=True, penalty=elasticnet, solver=saga, score=nan, total=   0.0s\n",
      "[CV] C=1, class_weight=balanced, dual=True, penalty=elasticnet, solver=saga \n",
      "[CV]  C=1, class_weight=balanced, dual=True, penalty=elasticnet, solver=saga, score=nan, total=   0.0s\n",
      "[CV] C=1, class_weight=balanced, dual=True, penalty=elasticnet, solver=liblinear \n",
      "[CV]  C=1, class_weight=balanced, dual=True, penalty=elasticnet, solver=liblinear, score=nan, total=   0.0s\n",
      "[CV] C=1, class_weight=balanced, dual=True, penalty=elasticnet, solver=liblinear \n",
      "[CV]  C=1, class_weight=balanced, dual=True, penalty=elasticnet, solver=liblinear, score=nan, total=   0.0s\n",
      "[CV] C=1, class_weight=balanced, dual=True, penalty=elasticnet, solver=liblinear \n",
      "[CV]  C=1, class_weight=balanced, dual=True, penalty=elasticnet, solver=liblinear, score=nan, total=   0.0s\n",
      "[CV] C=1, class_weight=balanced, dual=True, penalty=elasticnet, solver=liblinear \n",
      "[CV]  C=1, class_weight=balanced, dual=True, penalty=elasticnet, solver=liblinear, score=nan, total=   0.0s\n",
      "[CV] C=1, class_weight=balanced, dual=True, penalty=elasticnet, solver=liblinear \n",
      "[CV]  C=1, class_weight=balanced, dual=True, penalty=elasticnet, solver=liblinear, score=nan, total=   0.0s\n",
      "[CV] C=1, class_weight=balanced, dual=False, penalty=l1, solver=newton-cg \n",
      "[CV]  C=1, class_weight=balanced, dual=False, penalty=l1, solver=newton-cg, score=nan, total=   0.0s\n",
      "[CV] C=1, class_weight=balanced, dual=False, penalty=l1, solver=newton-cg \n",
      "[CV]  C=1, class_weight=balanced, dual=False, penalty=l1, solver=newton-cg, score=nan, total=   0.0s\n",
      "[CV] C=1, class_weight=balanced, dual=False, penalty=l1, solver=newton-cg \n",
      "[CV]  C=1, class_weight=balanced, dual=False, penalty=l1, solver=newton-cg, score=nan, total=   0.0s\n",
      "[CV] C=1, class_weight=balanced, dual=False, penalty=l1, solver=newton-cg \n",
      "[CV]  C=1, class_weight=balanced, dual=False, penalty=l1, solver=newton-cg, score=nan, total=   0.0s\n",
      "[CV] C=1, class_weight=balanced, dual=False, penalty=l1, solver=newton-cg \n",
      "[CV]  C=1, class_weight=balanced, dual=False, penalty=l1, solver=newton-cg, score=nan, total=   0.0s\n",
      "[CV] C=1, class_weight=balanced, dual=False, penalty=l1, solver=lbfgs \n",
      "[CV]  C=1, class_weight=balanced, dual=False, penalty=l1, solver=lbfgs, score=nan, total=   0.0s\n",
      "[CV] C=1, class_weight=balanced, dual=False, penalty=l1, solver=lbfgs \n",
      "[CV]  C=1, class_weight=balanced, dual=False, penalty=l1, solver=lbfgs, score=nan, total=   0.0s\n",
      "[CV] C=1, class_weight=balanced, dual=False, penalty=l1, solver=lbfgs \n",
      "[CV]  C=1, class_weight=balanced, dual=False, penalty=l1, solver=lbfgs, score=nan, total=   0.0s\n",
      "[CV] C=1, class_weight=balanced, dual=False, penalty=l1, solver=lbfgs \n",
      "[CV]  C=1, class_weight=balanced, dual=False, penalty=l1, solver=lbfgs, score=nan, total=   0.0s\n",
      "[CV] C=1, class_weight=balanced, dual=False, penalty=l1, solver=lbfgs \n",
      "[CV]  C=1, class_weight=balanced, dual=False, penalty=l1, solver=lbfgs, score=nan, total=   0.0s\n",
      "[CV] C=1, class_weight=balanced, dual=False, penalty=l1, solver=sag ..\n",
      "[CV]  C=1, class_weight=balanced, dual=False, penalty=l1, solver=sag, score=nan, total=   0.0s\n",
      "[CV] C=1, class_weight=balanced, dual=False, penalty=l1, solver=sag ..\n",
      "[CV]  C=1, class_weight=balanced, dual=False, penalty=l1, solver=sag, score=nan, total=   0.0s\n",
      "[CV] C=1, class_weight=balanced, dual=False, penalty=l1, solver=sag ..\n",
      "[CV]  C=1, class_weight=balanced, dual=False, penalty=l1, solver=sag, score=nan, total=   0.0s\n",
      "[CV] C=1, class_weight=balanced, dual=False, penalty=l1, solver=sag ..\n",
      "[CV]  C=1, class_weight=balanced, dual=False, penalty=l1, solver=sag, score=nan, total=   0.0s\n",
      "[CV] C=1, class_weight=balanced, dual=False, penalty=l1, solver=sag ..\n",
      "[CV]  C=1, class_weight=balanced, dual=False, penalty=l1, solver=sag, score=nan, total=   0.0s\n",
      "[CV] C=1, class_weight=balanced, dual=False, penalty=l1, solver=saga .\n"
     ]
    },
    {
     "name": "stderr",
     "output_type": "stream",
     "text": [
      "C:\\ProgramData\\Anaconda3\\lib\\site-packages\\sklearn\\linear_model\\_sag.py:329: ConvergenceWarning: The max_iter was reached which means the coef_ did not converge\n",
      "  warnings.warn(\"The max_iter was reached which means \"\n"
     ]
    },
    {
     "name": "stdout",
     "output_type": "stream",
     "text": [
      "[CV]  C=1, class_weight=balanced, dual=False, penalty=l1, solver=saga, score=0.696, total=   1.5s\n",
      "[CV] C=1, class_weight=balanced, dual=False, penalty=l1, solver=saga .\n"
     ]
    },
    {
     "name": "stderr",
     "output_type": "stream",
     "text": [
      "C:\\ProgramData\\Anaconda3\\lib\\site-packages\\sklearn\\linear_model\\_sag.py:329: ConvergenceWarning: The max_iter was reached which means the coef_ did not converge\n",
      "  warnings.warn(\"The max_iter was reached which means \"\n"
     ]
    },
    {
     "name": "stdout",
     "output_type": "stream",
     "text": [
      "[CV]  C=1, class_weight=balanced, dual=False, penalty=l1, solver=saga, score=0.802, total=   1.3s\n",
      "[CV] C=1, class_weight=balanced, dual=False, penalty=l1, solver=saga .\n"
     ]
    },
    {
     "name": "stderr",
     "output_type": "stream",
     "text": [
      "C:\\ProgramData\\Anaconda3\\lib\\site-packages\\sklearn\\linear_model\\_sag.py:329: ConvergenceWarning: The max_iter was reached which means the coef_ did not converge\n",
      "  warnings.warn(\"The max_iter was reached which means \"\n"
     ]
    },
    {
     "name": "stdout",
     "output_type": "stream",
     "text": [
      "[CV]  C=1, class_weight=balanced, dual=False, penalty=l1, solver=saga, score=0.677, total=   1.5s\n",
      "[CV] C=1, class_weight=balanced, dual=False, penalty=l1, solver=saga .\n"
     ]
    },
    {
     "name": "stderr",
     "output_type": "stream",
     "text": [
      "C:\\ProgramData\\Anaconda3\\lib\\site-packages\\sklearn\\linear_model\\_sag.py:329: ConvergenceWarning: The max_iter was reached which means the coef_ did not converge\n",
      "  warnings.warn(\"The max_iter was reached which means \"\n"
     ]
    },
    {
     "name": "stdout",
     "output_type": "stream",
     "text": [
      "[CV]  C=1, class_weight=balanced, dual=False, penalty=l1, solver=saga, score=0.718, total=   1.5s\n",
      "[CV] C=1, class_weight=balanced, dual=False, penalty=l1, solver=saga .\n"
     ]
    },
    {
     "name": "stderr",
     "output_type": "stream",
     "text": [
      "C:\\ProgramData\\Anaconda3\\lib\\site-packages\\sklearn\\linear_model\\_sag.py:329: ConvergenceWarning: The max_iter was reached which means the coef_ did not converge\n",
      "  warnings.warn(\"The max_iter was reached which means \"\n"
     ]
    },
    {
     "name": "stdout",
     "output_type": "stream",
     "text": [
      "[CV]  C=1, class_weight=balanced, dual=False, penalty=l1, solver=saga, score=0.784, total=   1.5s\n",
      "[CV] C=1, class_weight=balanced, dual=False, penalty=l1, solver=liblinear \n",
      "[CV]  C=1, class_weight=balanced, dual=False, penalty=l1, solver=liblinear, score=0.721, total=   0.1s\n",
      "[CV] C=1, class_weight=balanced, dual=False, penalty=l1, solver=liblinear \n",
      "[CV]  C=1, class_weight=balanced, dual=False, penalty=l1, solver=liblinear, score=0.743, total=   0.1s\n",
      "[CV] C=1, class_weight=balanced, dual=False, penalty=l1, solver=liblinear \n",
      "[CV]  C=1, class_weight=balanced, dual=False, penalty=l1, solver=liblinear, score=0.693, total=   0.1s\n",
      "[CV] C=1, class_weight=balanced, dual=False, penalty=l1, solver=liblinear \n",
      "[CV]  C=1, class_weight=balanced, dual=False, penalty=l1, solver=liblinear, score=0.762, total=   0.1s\n",
      "[CV] C=1, class_weight=balanced, dual=False, penalty=l1, solver=liblinear \n",
      "[CV]  C=1, class_weight=balanced, dual=False, penalty=l1, solver=liblinear, score=0.798, total=   0.1s\n",
      "[CV] C=1, class_weight=balanced, dual=False, penalty=l2, solver=newton-cg \n",
      "[CV]  C=1, class_weight=balanced, dual=False, penalty=l2, solver=newton-cg, score=0.737, total=   0.2s\n",
      "[CV] C=1, class_weight=balanced, dual=False, penalty=l2, solver=newton-cg \n",
      "[CV]  C=1, class_weight=balanced, dual=False, penalty=l2, solver=newton-cg, score=0.746, total=   0.3s\n",
      "[CV] C=1, class_weight=balanced, dual=False, penalty=l2, solver=newton-cg \n",
      "[CV]  C=1, class_weight=balanced, dual=False, penalty=l2, solver=newton-cg, score=0.667, total=   0.2s\n",
      "[CV] C=1, class_weight=balanced, dual=False, penalty=l2, solver=newton-cg \n",
      "[CV]  C=1, class_weight=balanced, dual=False, penalty=l2, solver=newton-cg, score=0.708, total=   0.3s\n",
      "[CV] C=1, class_weight=balanced, dual=False, penalty=l2, solver=newton-cg \n",
      "[CV]  C=1, class_weight=balanced, dual=False, penalty=l2, solver=newton-cg, score=0.770, total=   0.3s\n",
      "[CV] C=1, class_weight=balanced, dual=False, penalty=l2, solver=lbfgs \n",
      "[CV]  C=1, class_weight=balanced, dual=False, penalty=l2, solver=lbfgs, score=0.737, total=   0.4s\n",
      "[CV] C=1, class_weight=balanced, dual=False, penalty=l2, solver=lbfgs \n",
      "[CV]  C=1, class_weight=balanced, dual=False, penalty=l2, solver=lbfgs, score=0.746, total=   0.5s\n",
      "[CV] C=1, class_weight=balanced, dual=False, penalty=l2, solver=lbfgs \n",
      "[CV]  C=1, class_weight=balanced, dual=False, penalty=l2, solver=lbfgs, score=0.667, total=   0.5s\n",
      "[CV] C=1, class_weight=balanced, dual=False, penalty=l2, solver=lbfgs \n",
      "[CV]  C=1, class_weight=balanced, dual=False, penalty=l2, solver=lbfgs, score=0.708, total=   0.4s\n",
      "[CV] C=1, class_weight=balanced, dual=False, penalty=l2, solver=lbfgs \n",
      "[CV]  C=1, class_weight=balanced, dual=False, penalty=l2, solver=lbfgs, score=0.770, total=   0.5s\n",
      "[CV] C=1, class_weight=balanced, dual=False, penalty=l2, solver=sag ..\n"
     ]
    },
    {
     "name": "stderr",
     "output_type": "stream",
     "text": [
      "C:\\ProgramData\\Anaconda3\\lib\\site-packages\\sklearn\\linear_model\\_sag.py:329: ConvergenceWarning: The max_iter was reached which means the coef_ did not converge\n",
      "  warnings.warn(\"The max_iter was reached which means \"\n"
     ]
    },
    {
     "name": "stdout",
     "output_type": "stream",
     "text": [
      "[CV]  C=1, class_weight=balanced, dual=False, penalty=l2, solver=sag, score=0.743, total=   0.2s\n",
      "[CV] C=1, class_weight=balanced, dual=False, penalty=l2, solver=sag ..\n"
     ]
    },
    {
     "name": "stderr",
     "output_type": "stream",
     "text": [
      "C:\\ProgramData\\Anaconda3\\lib\\site-packages\\sklearn\\linear_model\\_sag.py:329: ConvergenceWarning: The max_iter was reached which means the coef_ did not converge\n",
      "  warnings.warn(\"The max_iter was reached which means \"\n"
     ]
    },
    {
     "name": "stdout",
     "output_type": "stream",
     "text": [
      "[CV]  C=1, class_weight=balanced, dual=False, penalty=l2, solver=sag, score=0.766, total=   0.2s\n",
      "[CV] C=1, class_weight=balanced, dual=False, penalty=l2, solver=sag ..\n"
     ]
    },
    {
     "name": "stderr",
     "output_type": "stream",
     "text": [
      "C:\\ProgramData\\Anaconda3\\lib\\site-packages\\sklearn\\linear_model\\_sag.py:329: ConvergenceWarning: The max_iter was reached which means the coef_ did not converge\n",
      "  warnings.warn(\"The max_iter was reached which means \"\n"
     ]
    },
    {
     "name": "stdout",
     "output_type": "stream",
     "text": [
      "[CV]  C=1, class_weight=balanced, dual=False, penalty=l2, solver=sag, score=0.670, total=   0.2s\n",
      "[CV] C=1, class_weight=balanced, dual=False, penalty=l2, solver=sag ..\n"
     ]
    },
    {
     "name": "stderr",
     "output_type": "stream",
     "text": [
      "C:\\ProgramData\\Anaconda3\\lib\\site-packages\\sklearn\\linear_model\\_sag.py:329: ConvergenceWarning: The max_iter was reached which means the coef_ did not converge\n",
      "  warnings.warn(\"The max_iter was reached which means \"\n"
     ]
    },
    {
     "name": "stdout",
     "output_type": "stream",
     "text": [
      "[CV]  C=1, class_weight=balanced, dual=False, penalty=l2, solver=sag, score=0.700, total=   0.2s\n",
      "[CV] C=1, class_weight=balanced, dual=False, penalty=l2, solver=sag ..\n"
     ]
    },
    {
     "name": "stderr",
     "output_type": "stream",
     "text": [
      "C:\\ProgramData\\Anaconda3\\lib\\site-packages\\sklearn\\linear_model\\_sag.py:329: ConvergenceWarning: The max_iter was reached which means the coef_ did not converge\n",
      "  warnings.warn(\"The max_iter was reached which means \"\n"
     ]
    },
    {
     "name": "stdout",
     "output_type": "stream",
     "text": [
      "[CV]  C=1, class_weight=balanced, dual=False, penalty=l2, solver=sag, score=0.783, total=   0.2s\n",
      "[CV] C=1, class_weight=balanced, dual=False, penalty=l2, solver=saga .\n"
     ]
    },
    {
     "name": "stderr",
     "output_type": "stream",
     "text": [
      "C:\\ProgramData\\Anaconda3\\lib\\site-packages\\sklearn\\linear_model\\_sag.py:329: ConvergenceWarning: The max_iter was reached which means the coef_ did not converge\n",
      "  warnings.warn(\"The max_iter was reached which means \"\n"
     ]
    },
    {
     "name": "stdout",
     "output_type": "stream",
     "text": [
      "[CV]  C=1, class_weight=balanced, dual=False, penalty=l2, solver=saga, score=0.727, total=   0.2s\n",
      "[CV] C=1, class_weight=balanced, dual=False, penalty=l2, solver=saga .\n"
     ]
    },
    {
     "name": "stderr",
     "output_type": "stream",
     "text": [
      "C:\\ProgramData\\Anaconda3\\lib\\site-packages\\sklearn\\linear_model\\_sag.py:329: ConvergenceWarning: The max_iter was reached which means the coef_ did not converge\n",
      "  warnings.warn(\"The max_iter was reached which means \"\n"
     ]
    },
    {
     "name": "stdout",
     "output_type": "stream",
     "text": [
      "[CV]  C=1, class_weight=balanced, dual=False, penalty=l2, solver=saga, score=0.771, total=   0.2s\n",
      "[CV] C=1, class_weight=balanced, dual=False, penalty=l2, solver=saga .\n"
     ]
    },
    {
     "name": "stderr",
     "output_type": "stream",
     "text": [
      "C:\\ProgramData\\Anaconda3\\lib\\site-packages\\sklearn\\linear_model\\_sag.py:329: ConvergenceWarning: The max_iter was reached which means the coef_ did not converge\n",
      "  warnings.warn(\"The max_iter was reached which means \"\n"
     ]
    },
    {
     "name": "stdout",
     "output_type": "stream",
     "text": [
      "[CV]  C=1, class_weight=balanced, dual=False, penalty=l2, solver=saga, score=0.665, total=   0.3s\n",
      "[CV] C=1, class_weight=balanced, dual=False, penalty=l2, solver=saga .\n"
     ]
    },
    {
     "name": "stderr",
     "output_type": "stream",
     "text": [
      "C:\\ProgramData\\Anaconda3\\lib\\site-packages\\sklearn\\linear_model\\_sag.py:329: ConvergenceWarning: The max_iter was reached which means the coef_ did not converge\n",
      "  warnings.warn(\"The max_iter was reached which means \"\n"
     ]
    },
    {
     "name": "stdout",
     "output_type": "stream",
     "text": [
      "[CV]  C=1, class_weight=balanced, dual=False, penalty=l2, solver=saga, score=0.706, total=   0.2s\n",
      "[CV] C=1, class_weight=balanced, dual=False, penalty=l2, solver=saga .\n"
     ]
    },
    {
     "name": "stderr",
     "output_type": "stream",
     "text": [
      "C:\\ProgramData\\Anaconda3\\lib\\site-packages\\sklearn\\linear_model\\_sag.py:329: ConvergenceWarning: The max_iter was reached which means the coef_ did not converge\n",
      "  warnings.warn(\"The max_iter was reached which means \"\n"
     ]
    },
    {
     "name": "stdout",
     "output_type": "stream",
     "text": [
      "[CV]  C=1, class_weight=balanced, dual=False, penalty=l2, solver=saga, score=0.783, total=   0.3s\n",
      "[CV] C=1, class_weight=balanced, dual=False, penalty=l2, solver=liblinear \n",
      "[CV]  C=1, class_weight=balanced, dual=False, penalty=l2, solver=liblinear, score=0.729, total=   0.1s\n",
      "[CV] C=1, class_weight=balanced, dual=False, penalty=l2, solver=liblinear \n",
      "[CV]  C=1, class_weight=balanced, dual=False, penalty=l2, solver=liblinear, score=0.710, total=   0.1s\n",
      "[CV] C=1, class_weight=balanced, dual=False, penalty=l2, solver=liblinear \n",
      "[CV]  C=1, class_weight=balanced, dual=False, penalty=l2, solver=liblinear, score=0.673, total=   0.1s\n",
      "[CV] C=1, class_weight=balanced, dual=False, penalty=l2, solver=liblinear \n",
      "[CV]  C=1, class_weight=balanced, dual=False, penalty=l2, solver=liblinear, score=0.628, total=   0.1s\n",
      "[CV] C=1, class_weight=balanced, dual=False, penalty=l2, solver=liblinear \n",
      "[CV]  C=1, class_weight=balanced, dual=False, penalty=l2, solver=liblinear, score=0.746, total=   0.1s\n",
      "[CV] C=1, class_weight=balanced, dual=False, penalty=elasticnet, solver=newton-cg \n",
      "[CV]  C=1, class_weight=balanced, dual=False, penalty=elasticnet, solver=newton-cg, score=nan, total=   0.0s\n",
      "[CV] C=1, class_weight=balanced, dual=False, penalty=elasticnet, solver=newton-cg \n",
      "[CV]  C=1, class_weight=balanced, dual=False, penalty=elasticnet, solver=newton-cg, score=nan, total=   0.0s\n",
      "[CV] C=1, class_weight=balanced, dual=False, penalty=elasticnet, solver=newton-cg \n",
      "[CV]  C=1, class_weight=balanced, dual=False, penalty=elasticnet, solver=newton-cg, score=nan, total=   0.0s\n",
      "[CV] C=1, class_weight=balanced, dual=False, penalty=elasticnet, solver=newton-cg \n",
      "[CV]  C=1, class_weight=balanced, dual=False, penalty=elasticnet, solver=newton-cg, score=nan, total=   0.0s\n",
      "[CV] C=1, class_weight=balanced, dual=False, penalty=elasticnet, solver=newton-cg \n",
      "[CV]  C=1, class_weight=balanced, dual=False, penalty=elasticnet, solver=newton-cg, score=nan, total=   0.0s\n",
      "[CV] C=1, class_weight=balanced, dual=False, penalty=elasticnet, solver=lbfgs \n",
      "[CV]  C=1, class_weight=balanced, dual=False, penalty=elasticnet, solver=lbfgs, score=nan, total=   0.0s\n",
      "[CV] C=1, class_weight=balanced, dual=False, penalty=elasticnet, solver=lbfgs \n",
      "[CV]  C=1, class_weight=balanced, dual=False, penalty=elasticnet, solver=lbfgs, score=nan, total=   0.0s\n",
      "[CV] C=1, class_weight=balanced, dual=False, penalty=elasticnet, solver=lbfgs \n",
      "[CV]  C=1, class_weight=balanced, dual=False, penalty=elasticnet, solver=lbfgs, score=nan, total=   0.0s\n",
      "[CV] C=1, class_weight=balanced, dual=False, penalty=elasticnet, solver=lbfgs \n",
      "[CV]  C=1, class_weight=balanced, dual=False, penalty=elasticnet, solver=lbfgs, score=nan, total=   0.0s\n",
      "[CV] C=1, class_weight=balanced, dual=False, penalty=elasticnet, solver=lbfgs \n",
      "[CV]  C=1, class_weight=balanced, dual=False, penalty=elasticnet, solver=lbfgs, score=nan, total=   0.0s\n",
      "[CV] C=1, class_weight=balanced, dual=False, penalty=elasticnet, solver=sag \n",
      "[CV]  C=1, class_weight=balanced, dual=False, penalty=elasticnet, solver=sag, score=nan, total=   0.0s\n",
      "[CV] C=1, class_weight=balanced, dual=False, penalty=elasticnet, solver=sag \n",
      "[CV]  C=1, class_weight=balanced, dual=False, penalty=elasticnet, solver=sag, score=nan, total=   0.0s\n",
      "[CV] C=1, class_weight=balanced, dual=False, penalty=elasticnet, solver=sag \n",
      "[CV]  C=1, class_weight=balanced, dual=False, penalty=elasticnet, solver=sag, score=nan, total=   0.0s\n",
      "[CV] C=1, class_weight=balanced, dual=False, penalty=elasticnet, solver=sag \n",
      "[CV]  C=1, class_weight=balanced, dual=False, penalty=elasticnet, solver=sag, score=nan, total=   0.0s\n",
      "[CV] C=1, class_weight=balanced, dual=False, penalty=elasticnet, solver=sag \n",
      "[CV]  C=1, class_weight=balanced, dual=False, penalty=elasticnet, solver=sag, score=nan, total=   0.0s\n",
      "[CV] C=1, class_weight=balanced, dual=False, penalty=elasticnet, solver=saga \n",
      "[CV]  C=1, class_weight=balanced, dual=False, penalty=elasticnet, solver=saga, score=nan, total=   0.0s\n",
      "[CV] C=1, class_weight=balanced, dual=False, penalty=elasticnet, solver=saga \n",
      "[CV]  C=1, class_weight=balanced, dual=False, penalty=elasticnet, solver=saga, score=nan, total=   0.0s\n",
      "[CV] C=1, class_weight=balanced, dual=False, penalty=elasticnet, solver=saga \n",
      "[CV]  C=1, class_weight=balanced, dual=False, penalty=elasticnet, solver=saga, score=nan, total=   0.0s\n",
      "[CV] C=1, class_weight=balanced, dual=False, penalty=elasticnet, solver=saga \n",
      "[CV]  C=1, class_weight=balanced, dual=False, penalty=elasticnet, solver=saga, score=nan, total=   0.0s\n",
      "[CV] C=1, class_weight=balanced, dual=False, penalty=elasticnet, solver=saga \n",
      "[CV]  C=1, class_weight=balanced, dual=False, penalty=elasticnet, solver=saga, score=nan, total=   0.0s\n",
      "[CV] C=1, class_weight=balanced, dual=False, penalty=elasticnet, solver=liblinear \n",
      "[CV]  C=1, class_weight=balanced, dual=False, penalty=elasticnet, solver=liblinear, score=nan, total=   0.0s\n",
      "[CV] C=1, class_weight=balanced, dual=False, penalty=elasticnet, solver=liblinear \n",
      "[CV]  C=1, class_weight=balanced, dual=False, penalty=elasticnet, solver=liblinear, score=nan, total=   0.0s\n",
      "[CV] C=1, class_weight=balanced, dual=False, penalty=elasticnet, solver=liblinear \n",
      "[CV]  C=1, class_weight=balanced, dual=False, penalty=elasticnet, solver=liblinear, score=nan, total=   0.0s\n",
      "[CV] C=1, class_weight=balanced, dual=False, penalty=elasticnet, solver=liblinear \n",
      "[CV]  C=1, class_weight=balanced, dual=False, penalty=elasticnet, solver=liblinear, score=nan, total=   0.0s\n",
      "[CV] C=1, class_weight=balanced, dual=False, penalty=elasticnet, solver=liblinear \n",
      "[CV]  C=1, class_weight=balanced, dual=False, penalty=elasticnet, solver=liblinear, score=nan, total=   0.0s\n",
      "[CV] C=10, class_weight=None, dual=True, penalty=l1, solver=newton-cg \n",
      "[CV]  C=10, class_weight=None, dual=True, penalty=l1, solver=newton-cg, score=nan, total=   0.0s\n",
      "[CV] C=10, class_weight=None, dual=True, penalty=l1, solver=newton-cg \n",
      "[CV]  C=10, class_weight=None, dual=True, penalty=l1, solver=newton-cg, score=nan, total=   0.0s\n",
      "[CV] C=10, class_weight=None, dual=True, penalty=l1, solver=newton-cg \n",
      "[CV]  C=10, class_weight=None, dual=True, penalty=l1, solver=newton-cg, score=nan, total=   0.0s\n",
      "[CV] C=10, class_weight=None, dual=True, penalty=l1, solver=newton-cg \n",
      "[CV]  C=10, class_weight=None, dual=True, penalty=l1, solver=newton-cg, score=nan, total=   0.0s\n",
      "[CV] C=10, class_weight=None, dual=True, penalty=l1, solver=newton-cg \n",
      "[CV]  C=10, class_weight=None, dual=True, penalty=l1, solver=newton-cg, score=nan, total=   0.0s\n",
      "[CV] C=10, class_weight=None, dual=True, penalty=l1, solver=lbfgs ....\n",
      "[CV]  C=10, class_weight=None, dual=True, penalty=l1, solver=lbfgs, score=nan, total=   0.0s\n",
      "[CV] C=10, class_weight=None, dual=True, penalty=l1, solver=lbfgs ....\n",
      "[CV]  C=10, class_weight=None, dual=True, penalty=l1, solver=lbfgs, score=nan, total=   0.0s\n",
      "[CV] C=10, class_weight=None, dual=True, penalty=l1, solver=lbfgs ....\n",
      "[CV]  C=10, class_weight=None, dual=True, penalty=l1, solver=lbfgs, score=nan, total=   0.0s\n",
      "[CV] C=10, class_weight=None, dual=True, penalty=l1, solver=lbfgs ....\n",
      "[CV]  C=10, class_weight=None, dual=True, penalty=l1, solver=lbfgs, score=nan, total=   0.0s\n",
      "[CV] C=10, class_weight=None, dual=True, penalty=l1, solver=lbfgs ....\n",
      "[CV]  C=10, class_weight=None, dual=True, penalty=l1, solver=lbfgs, score=nan, total=   0.0s\n",
      "[CV] C=10, class_weight=None, dual=True, penalty=l1, solver=sag ......\n",
      "[CV]  C=10, class_weight=None, dual=True, penalty=l1, solver=sag, score=nan, total=   0.0s\n",
      "[CV] C=10, class_weight=None, dual=True, penalty=l1, solver=sag ......\n",
      "[CV]  C=10, class_weight=None, dual=True, penalty=l1, solver=sag, score=nan, total=   0.0s\n",
      "[CV] C=10, class_weight=None, dual=True, penalty=l1, solver=sag ......\n",
      "[CV]  C=10, class_weight=None, dual=True, penalty=l1, solver=sag, score=nan, total=   0.0s\n",
      "[CV] C=10, class_weight=None, dual=True, penalty=l1, solver=sag ......\n",
      "[CV]  C=10, class_weight=None, dual=True, penalty=l1, solver=sag, score=nan, total=   0.0s\n",
      "[CV] C=10, class_weight=None, dual=True, penalty=l1, solver=sag ......\n",
      "[CV]  C=10, class_weight=None, dual=True, penalty=l1, solver=sag, score=nan, total=   0.0s\n",
      "[CV] C=10, class_weight=None, dual=True, penalty=l1, solver=saga .....\n",
      "[CV]  C=10, class_weight=None, dual=True, penalty=l1, solver=saga, score=nan, total=   0.0s\n",
      "[CV] C=10, class_weight=None, dual=True, penalty=l1, solver=saga .....\n",
      "[CV]  C=10, class_weight=None, dual=True, penalty=l1, solver=saga, score=nan, total=   0.0s\n",
      "[CV] C=10, class_weight=None, dual=True, penalty=l1, solver=saga .....\n",
      "[CV]  C=10, class_weight=None, dual=True, penalty=l1, solver=saga, score=nan, total=   0.0s"
     ]
    },
    {
     "name": "stderr",
     "output_type": "stream",
     "text": [
      "C:\\ProgramData\\Anaconda3\\lib\\site-packages\\sklearn\\model_selection\\_validation.py:548: FitFailedWarning: Estimator fit failed. The score on this train-test partition for these parameters will be set to nan. Details: \n",
      "Traceback (most recent call last):\n",
      "  File \"C:\\ProgramData\\Anaconda3\\lib\\site-packages\\sklearn\\model_selection\\_validation.py\", line 531, in _fit_and_score\n",
      "    estimator.fit(X_train, y_train, **fit_params)\n",
      "  File \"C:\\ProgramData\\Anaconda3\\lib\\site-packages\\sklearn\\linear_model\\_logistic.py\", line 1304, in fit\n",
      "    solver = _check_solver(self.solver, self.penalty, self.dual)\n",
      "  File \"C:\\ProgramData\\Anaconda3\\lib\\site-packages\\sklearn\\linear_model\\_logistic.py\", line 442, in _check_solver\n",
      "    raise ValueError(\"Solver %s supports only 'l2' or 'none' penalties, \"\n",
      "ValueError: Solver newton-cg supports only 'l2' or 'none' penalties, got elasticnet penalty.\n",
      "\n",
      "  warnings.warn(\"Estimator fit failed. The score on this train-test\"\n",
      "C:\\ProgramData\\Anaconda3\\lib\\site-packages\\sklearn\\model_selection\\_validation.py:548: FitFailedWarning: Estimator fit failed. The score on this train-test partition for these parameters will be set to nan. Details: \n",
      "Traceback (most recent call last):\n",
      "  File \"C:\\ProgramData\\Anaconda3\\lib\\site-packages\\sklearn\\model_selection\\_validation.py\", line 531, in _fit_and_score\n",
      "    estimator.fit(X_train, y_train, **fit_params)\n",
      "  File \"C:\\ProgramData\\Anaconda3\\lib\\site-packages\\sklearn\\linear_model\\_logistic.py\", line 1304, in fit\n",
      "    solver = _check_solver(self.solver, self.penalty, self.dual)\n",
      "  File \"C:\\ProgramData\\Anaconda3\\lib\\site-packages\\sklearn\\linear_model\\_logistic.py\", line 442, in _check_solver\n",
      "    raise ValueError(\"Solver %s supports only 'l2' or 'none' penalties, \"\n",
      "ValueError: Solver lbfgs supports only 'l2' or 'none' penalties, got elasticnet penalty.\n",
      "\n",
      "  warnings.warn(\"Estimator fit failed. The score on this train-test\"\n",
      "C:\\ProgramData\\Anaconda3\\lib\\site-packages\\sklearn\\model_selection\\_validation.py:548: FitFailedWarning: Estimator fit failed. The score on this train-test partition for these parameters will be set to nan. Details: \n",
      "Traceback (most recent call last):\n",
      "  File \"C:\\ProgramData\\Anaconda3\\lib\\site-packages\\sklearn\\model_selection\\_validation.py\", line 531, in _fit_and_score\n",
      "    estimator.fit(X_train, y_train, **fit_params)\n",
      "  File \"C:\\ProgramData\\Anaconda3\\lib\\site-packages\\sklearn\\linear_model\\_logistic.py\", line 1304, in fit\n",
      "    solver = _check_solver(self.solver, self.penalty, self.dual)\n",
      "  File \"C:\\ProgramData\\Anaconda3\\lib\\site-packages\\sklearn\\linear_model\\_logistic.py\", line 442, in _check_solver\n",
      "    raise ValueError(\"Solver %s supports only 'l2' or 'none' penalties, \"\n",
      "ValueError: Solver sag supports only 'l2' or 'none' penalties, got elasticnet penalty.\n",
      "\n",
      "  warnings.warn(\"Estimator fit failed. The score on this train-test\"\n",
      "C:\\ProgramData\\Anaconda3\\lib\\site-packages\\sklearn\\model_selection\\_validation.py:548: FitFailedWarning: Estimator fit failed. The score on this train-test partition for these parameters will be set to nan. Details: \n",
      "Traceback (most recent call last):\n",
      "  File \"C:\\ProgramData\\Anaconda3\\lib\\site-packages\\sklearn\\model_selection\\_validation.py\", line 531, in _fit_and_score\n",
      "    estimator.fit(X_train, y_train, **fit_params)\n",
      "  File \"C:\\ProgramData\\Anaconda3\\lib\\site-packages\\sklearn\\linear_model\\_logistic.py\", line 1312, in fit\n",
      "    raise ValueError(\"l1_ratio must be between 0 and 1;\"\n",
      "ValueError: l1_ratio must be between 0 and 1; got (l1_ratio=None)\n",
      "\n",
      "  warnings.warn(\"Estimator fit failed. The score on this train-test\"\n",
      "C:\\ProgramData\\Anaconda3\\lib\\site-packages\\sklearn\\model_selection\\_validation.py:548: FitFailedWarning: Estimator fit failed. The score on this train-test partition for these parameters will be set to nan. Details: \n",
      "Traceback (most recent call last):\n",
      "  File \"C:\\ProgramData\\Anaconda3\\lib\\site-packages\\sklearn\\model_selection\\_validation.py\", line 531, in _fit_and_score\n",
      "    estimator.fit(X_train, y_train, **fit_params)\n",
      "  File \"C:\\ProgramData\\Anaconda3\\lib\\site-packages\\sklearn\\linear_model\\_logistic.py\", line 1304, in fit\n",
      "    solver = _check_solver(self.solver, self.penalty, self.dual)\n",
      "  File \"C:\\ProgramData\\Anaconda3\\lib\\site-packages\\sklearn\\linear_model\\_logistic.py\", line 449, in _check_solver\n",
      "    raise ValueError(\"Only 'saga' solver supports elasticnet penalty,\"\n",
      "ValueError: Only 'saga' solver supports elasticnet penalty, got solver=liblinear.\n",
      "\n",
      "  warnings.warn(\"Estimator fit failed. The score on this train-test\"\n",
      "C:\\ProgramData\\Anaconda3\\lib\\site-packages\\sklearn\\model_selection\\_validation.py:548: FitFailedWarning: Estimator fit failed. The score on this train-test partition for these parameters will be set to nan. Details: \n",
      "Traceback (most recent call last):\n",
      "  File \"C:\\ProgramData\\Anaconda3\\lib\\site-packages\\sklearn\\model_selection\\_validation.py\", line 531, in _fit_and_score\n",
      "    estimator.fit(X_train, y_train, **fit_params)\n",
      "  File \"C:\\ProgramData\\Anaconda3\\lib\\site-packages\\sklearn\\linear_model\\_logistic.py\", line 1304, in fit\n",
      "    solver = _check_solver(self.solver, self.penalty, self.dual)\n",
      "  File \"C:\\ProgramData\\Anaconda3\\lib\\site-packages\\sklearn\\linear_model\\_logistic.py\", line 442, in _check_solver\n",
      "    raise ValueError(\"Solver %s supports only 'l2' or 'none' penalties, \"\n",
      "ValueError: Solver newton-cg supports only 'l2' or 'none' penalties, got l1 penalty.\n",
      "\n",
      "  warnings.warn(\"Estimator fit failed. The score on this train-test\"\n",
      "C:\\ProgramData\\Anaconda3\\lib\\site-packages\\sklearn\\model_selection\\_validation.py:548: FitFailedWarning: Estimator fit failed. The score on this train-test partition for these parameters will be set to nan. Details: \n",
      "Traceback (most recent call last):\n",
      "  File \"C:\\ProgramData\\Anaconda3\\lib\\site-packages\\sklearn\\model_selection\\_validation.py\", line 531, in _fit_and_score\n",
      "    estimator.fit(X_train, y_train, **fit_params)\n",
      "  File \"C:\\ProgramData\\Anaconda3\\lib\\site-packages\\sklearn\\linear_model\\_logistic.py\", line 1304, in fit\n",
      "    solver = _check_solver(self.solver, self.penalty, self.dual)\n",
      "  File \"C:\\ProgramData\\Anaconda3\\lib\\site-packages\\sklearn\\linear_model\\_logistic.py\", line 442, in _check_solver\n",
      "    raise ValueError(\"Solver %s supports only 'l2' or 'none' penalties, \"\n",
      "ValueError: Solver lbfgs supports only 'l2' or 'none' penalties, got l1 penalty.\n",
      "\n",
      "  warnings.warn(\"Estimator fit failed. The score on this train-test\"\n",
      "C:\\ProgramData\\Anaconda3\\lib\\site-packages\\sklearn\\model_selection\\_validation.py:548: FitFailedWarning: Estimator fit failed. The score on this train-test partition for these parameters will be set to nan. Details: \n",
      "Traceback (most recent call last):\n",
      "  File \"C:\\ProgramData\\Anaconda3\\lib\\site-packages\\sklearn\\model_selection\\_validation.py\", line 531, in _fit_and_score\n",
      "    estimator.fit(X_train, y_train, **fit_params)\n",
      "  File \"C:\\ProgramData\\Anaconda3\\lib\\site-packages\\sklearn\\linear_model\\_logistic.py\", line 1304, in fit\n",
      "    solver = _check_solver(self.solver, self.penalty, self.dual)\n",
      "  File \"C:\\ProgramData\\Anaconda3\\lib\\site-packages\\sklearn\\linear_model\\_logistic.py\", line 442, in _check_solver\n",
      "    raise ValueError(\"Solver %s supports only 'l2' or 'none' penalties, \"\n",
      "ValueError: Solver sag supports only 'l2' or 'none' penalties, got l1 penalty.\n",
      "\n",
      "  warnings.warn(\"Estimator fit failed. The score on this train-test\"\n",
      "C:\\ProgramData\\Anaconda3\\lib\\site-packages\\sklearn\\model_selection\\_validation.py:548: FitFailedWarning: Estimator fit failed. The score on this train-test partition for these parameters will be set to nan. Details: \n",
      "Traceback (most recent call last):\n",
      "  File \"C:\\ProgramData\\Anaconda3\\lib\\site-packages\\sklearn\\model_selection\\_validation.py\", line 531, in _fit_and_score\n",
      "    estimator.fit(X_train, y_train, **fit_params)\n",
      "  File \"C:\\ProgramData\\Anaconda3\\lib\\site-packages\\sklearn\\linear_model\\_logistic.py\", line 1304, in fit\n",
      "    solver = _check_solver(self.solver, self.penalty, self.dual)\n",
      "  File \"C:\\ProgramData\\Anaconda3\\lib\\site-packages\\sklearn\\linear_model\\_logistic.py\", line 445, in _check_solver\n",
      "    raise ValueError(\"Solver %s supports only \"\n",
      "ValueError: Solver saga supports only dual=False, got dual=True\n",
      "\n",
      "  warnings.warn(\"Estimator fit failed. The score on this train-test\"\n",
      "C:\\ProgramData\\Anaconda3\\lib\\site-packages\\sklearn\\model_selection\\_validation.py:548: FitFailedWarning: Estimator fit failed. The score on this train-test partition for these parameters will be set to nan. Details: \n",
      "Traceback (most recent call last):\n",
      "  File \"C:\\ProgramData\\Anaconda3\\lib\\site-packages\\sklearn\\model_selection\\_validation.py\", line 531, in _fit_and_score\n",
      "    estimator.fit(X_train, y_train, **fit_params)\n",
      "  File \"C:\\ProgramData\\Anaconda3\\lib\\site-packages\\sklearn\\linear_model\\_logistic.py\", line 1356, in fit\n",
      "    self.coef_, self.intercept_, n_iter_ = _fit_liblinear(\n",
      "  File \"C:\\ProgramData\\Anaconda3\\lib\\site-packages\\sklearn\\svm\\_base.py\", line 965, in _fit_liblinear\n",
      "    solver_type = _get_liblinear_solver_type(multi_class, penalty, loss, dual)\n",
      "  File \"C:\\ProgramData\\Anaconda3\\lib\\site-packages\\sklearn\\svm\\_base.py\", line 821, in _get_liblinear_solver_type\n",
      "    raise ValueError('Unsupported set of arguments: %s, '\n",
      "ValueError: Unsupported set of arguments: The combination of penalty='l1' and loss='logistic_regression' are not supported when dual=True, Parameters: penalty='l1', loss='logistic_regression', dual=True\n",
      "\n",
      "  warnings.warn(\"Estimator fit failed. The score on this train-test\"\n",
      "C:\\ProgramData\\Anaconda3\\lib\\site-packages\\sklearn\\model_selection\\_validation.py:548: FitFailedWarning: Estimator fit failed. The score on this train-test partition for these parameters will be set to nan. Details: \n",
      "Traceback (most recent call last):\n",
      "  File \"C:\\ProgramData\\Anaconda3\\lib\\site-packages\\sklearn\\model_selection\\_validation.py\", line 531, in _fit_and_score\n",
      "    estimator.fit(X_train, y_train, **fit_params)\n",
      "  File \"C:\\ProgramData\\Anaconda3\\lib\\site-packages\\sklearn\\linear_model\\_logistic.py\", line 1304, in fit\n",
      "    solver = _check_solver(self.solver, self.penalty, self.dual)\n",
      "  File \"C:\\ProgramData\\Anaconda3\\lib\\site-packages\\sklearn\\linear_model\\_logistic.py\", line 445, in _check_solver\n",
      "    raise ValueError(\"Solver %s supports only \"\n",
      "ValueError: Solver newton-cg supports only dual=False, got dual=True\n",
      "\n",
      "  warnings.warn(\"Estimator fit failed. The score on this train-test\"\n",
      "C:\\ProgramData\\Anaconda3\\lib\\site-packages\\sklearn\\model_selection\\_validation.py:548: FitFailedWarning: Estimator fit failed. The score on this train-test partition for these parameters will be set to nan. Details: \n",
      "Traceback (most recent call last):\n",
      "  File \"C:\\ProgramData\\Anaconda3\\lib\\site-packages\\sklearn\\model_selection\\_validation.py\", line 531, in _fit_and_score\n",
      "    estimator.fit(X_train, y_train, **fit_params)\n",
      "  File \"C:\\ProgramData\\Anaconda3\\lib\\site-packages\\sklearn\\linear_model\\_logistic.py\", line 1304, in fit\n",
      "    solver = _check_solver(self.solver, self.penalty, self.dual)\n",
      "  File \"C:\\ProgramData\\Anaconda3\\lib\\site-packages\\sklearn\\linear_model\\_logistic.py\", line 445, in _check_solver\n",
      "    raise ValueError(\"Solver %s supports only \"\n",
      "ValueError: Solver lbfgs supports only dual=False, got dual=True\n",
      "\n",
      "  warnings.warn(\"Estimator fit failed. The score on this train-test\"\n",
      "C:\\ProgramData\\Anaconda3\\lib\\site-packages\\sklearn\\model_selection\\_validation.py:548: FitFailedWarning: Estimator fit failed. The score on this train-test partition for these parameters will be set to nan. Details: \n",
      "Traceback (most recent call last):\n",
      "  File \"C:\\ProgramData\\Anaconda3\\lib\\site-packages\\sklearn\\model_selection\\_validation.py\", line 531, in _fit_and_score\n",
      "    estimator.fit(X_train, y_train, **fit_params)\n",
      "  File \"C:\\ProgramData\\Anaconda3\\lib\\site-packages\\sklearn\\linear_model\\_logistic.py\", line 1304, in fit\n",
      "    solver = _check_solver(self.solver, self.penalty, self.dual)\n",
      "  File \"C:\\ProgramData\\Anaconda3\\lib\\site-packages\\sklearn\\linear_model\\_logistic.py\", line 445, in _check_solver\n",
      "    raise ValueError(\"Solver %s supports only \"\n",
      "ValueError: Solver sag supports only dual=False, got dual=True\n",
      "\n",
      "  warnings.warn(\"Estimator fit failed. The score on this train-test\"\n"
     ]
    },
    {
     "name": "stdout",
     "output_type": "stream",
     "text": [
      "\n",
      "[CV] C=10, class_weight=None, dual=True, penalty=l1, solver=saga .....\n",
      "[CV]  C=10, class_weight=None, dual=True, penalty=l1, solver=saga, score=nan, total=   0.0s\n",
      "[CV] C=10, class_weight=None, dual=True, penalty=l1, solver=saga .....\n",
      "[CV]  C=10, class_weight=None, dual=True, penalty=l1, solver=saga, score=nan, total=   0.0s\n",
      "[CV] C=10, class_weight=None, dual=True, penalty=l1, solver=liblinear \n",
      "[CV]  C=10, class_weight=None, dual=True, penalty=l1, solver=liblinear, score=nan, total=   0.0s\n",
      "[CV] C=10, class_weight=None, dual=True, penalty=l1, solver=liblinear \n",
      "[CV]  C=10, class_weight=None, dual=True, penalty=l1, solver=liblinear, score=nan, total=   0.0s\n",
      "[CV] C=10, class_weight=None, dual=True, penalty=l1, solver=liblinear \n",
      "[CV]  C=10, class_weight=None, dual=True, penalty=l1, solver=liblinear, score=nan, total=   0.0s\n",
      "[CV] C=10, class_weight=None, dual=True, penalty=l1, solver=liblinear \n",
      "[CV]  C=10, class_weight=None, dual=True, penalty=l1, solver=liblinear, score=nan, total=   0.0s\n",
      "[CV] C=10, class_weight=None, dual=True, penalty=l1, solver=liblinear \n",
      "[CV]  C=10, class_weight=None, dual=True, penalty=l1, solver=liblinear, score=nan, total=   0.0s\n",
      "[CV] C=10, class_weight=None, dual=True, penalty=l2, solver=newton-cg \n",
      "[CV]  C=10, class_weight=None, dual=True, penalty=l2, solver=newton-cg, score=nan, total=   0.0s\n",
      "[CV] C=10, class_weight=None, dual=True, penalty=l2, solver=newton-cg \n",
      "[CV]  C=10, class_weight=None, dual=True, penalty=l2, solver=newton-cg, score=nan, total=   0.0s\n",
      "[CV] C=10, class_weight=None, dual=True, penalty=l2, solver=newton-cg \n",
      "[CV]  C=10, class_weight=None, dual=True, penalty=l2, solver=newton-cg, score=nan, total=   0.0s\n",
      "[CV] C=10, class_weight=None, dual=True, penalty=l2, solver=newton-cg \n",
      "[CV]  C=10, class_weight=None, dual=True, penalty=l2, solver=newton-cg, score=nan, total=   0.0s\n",
      "[CV] C=10, class_weight=None, dual=True, penalty=l2, solver=newton-cg \n",
      "[CV]  C=10, class_weight=None, dual=True, penalty=l2, solver=newton-cg, score=nan, total=   0.0s\n",
      "[CV] C=10, class_weight=None, dual=True, penalty=l2, solver=lbfgs ....\n",
      "[CV]  C=10, class_weight=None, dual=True, penalty=l2, solver=lbfgs, score=nan, total=   0.0s\n",
      "[CV] C=10, class_weight=None, dual=True, penalty=l2, solver=lbfgs ....\n",
      "[CV]  C=10, class_weight=None, dual=True, penalty=l2, solver=lbfgs, score=nan, total=   0.0s\n",
      "[CV] C=10, class_weight=None, dual=True, penalty=l2, solver=lbfgs ....\n",
      "[CV]  C=10, class_weight=None, dual=True, penalty=l2, solver=lbfgs, score=nan, total=   0.0s\n",
      "[CV] C=10, class_weight=None, dual=True, penalty=l2, solver=lbfgs ....\n",
      "[CV]  C=10, class_weight=None, dual=True, penalty=l2, solver=lbfgs, score=nan, total=   0.0s\n",
      "[CV] C=10, class_weight=None, dual=True, penalty=l2, solver=lbfgs ....\n",
      "[CV]  C=10, class_weight=None, dual=True, penalty=l2, solver=lbfgs, score=nan, total=   0.0s\n",
      "[CV] C=10, class_weight=None, dual=True, penalty=l2, solver=sag ......\n",
      "[CV]  C=10, class_weight=None, dual=True, penalty=l2, solver=sag, score=nan, total=   0.0s\n",
      "[CV] C=10, class_weight=None, dual=True, penalty=l2, solver=sag ......\n",
      "[CV]  C=10, class_weight=None, dual=True, penalty=l2, solver=sag, score=nan, total=   0.0s\n",
      "[CV] C=10, class_weight=None, dual=True, penalty=l2, solver=sag ......\n",
      "[CV]  C=10, class_weight=None, dual=True, penalty=l2, solver=sag, score=nan, total=   0.0s\n",
      "[CV] C=10, class_weight=None, dual=True, penalty=l2, solver=sag ......\n",
      "[CV]  C=10, class_weight=None, dual=True, penalty=l2, solver=sag, score=nan, total=   0.0s\n",
      "[CV] C=10, class_weight=None, dual=True, penalty=l2, solver=sag ......\n",
      "[CV]  C=10, class_weight=None, dual=True, penalty=l2, solver=sag, score=nan, total=   0.0s\n",
      "[CV] C=10, class_weight=None, dual=True, penalty=l2, solver=saga .....\n",
      "[CV]  C=10, class_weight=None, dual=True, penalty=l2, solver=saga, score=nan, total=   0.0s\n",
      "[CV] C=10, class_weight=None, dual=True, penalty=l2, solver=saga .....\n",
      "[CV]  C=10, class_weight=None, dual=True, penalty=l2, solver=saga, score=nan, total=   0.0s\n",
      "[CV] C=10, class_weight=None, dual=True, penalty=l2, solver=saga .....\n",
      "[CV]  C=10, class_weight=None, dual=True, penalty=l2, solver=saga, score=nan, total=   0.0s\n",
      "[CV] C=10, class_weight=None, dual=True, penalty=l2, solver=saga .....\n",
      "[CV]  C=10, class_weight=None, dual=True, penalty=l2, solver=saga, score=nan, total=   0.0s\n",
      "[CV] C=10, class_weight=None, dual=True, penalty=l2, solver=saga .....\n",
      "[CV]  C=10, class_weight=None, dual=True, penalty=l2, solver=saga, score=nan, total=   0.0s\n",
      "[CV] C=10, class_weight=None, dual=True, penalty=l2, solver=liblinear \n"
     ]
    },
    {
     "name": "stderr",
     "output_type": "stream",
     "text": [
      "C:\\ProgramData\\Anaconda3\\lib\\site-packages\\sklearn\\svm\\_base.py:976: ConvergenceWarning: Liblinear failed to converge, increase the number of iterations.\n",
      "  warnings.warn(\"Liblinear failed to converge, increase \"\n"
     ]
    },
    {
     "name": "stdout",
     "output_type": "stream",
     "text": [
      "[CV]  C=10, class_weight=None, dual=True, penalty=l2, solver=liblinear, score=0.687, total=   0.1s\n",
      "[CV] C=10, class_weight=None, dual=True, penalty=l2, solver=liblinear \n",
      "[CV]  C=10, class_weight=None, dual=True, penalty=l2, solver=liblinear, score=0.648, total=   0.1s\n",
      "[CV] C=10, class_weight=None, dual=True, penalty=l2, solver=liblinear \n",
      "[CV]  C=10, class_weight=None, dual=True, penalty=l2, solver=liblinear, score=0.610, total=   0.2s\n",
      "[CV] C=10, class_weight=None, dual=True, penalty=l2, solver=liblinear \n",
      "[CV]  C=10, class_weight=None, dual=True, penalty=l2, solver=liblinear, score=0.570, total=   0.2s\n",
      "[CV] C=10, class_weight=None, dual=True, penalty=l2, solver=liblinear \n",
      "[CV]  C=10, class_weight=None, dual=True, penalty=l2, solver=liblinear, score=0.607, total=   0.2s\n",
      "[CV] C=10, class_weight=None, dual=True, penalty=elasticnet, solver=newton-cg \n",
      "[CV]  C=10, class_weight=None, dual=True, penalty=elasticnet, solver=newton-cg, score=nan, total=   0.0s\n",
      "[CV] C=10, class_weight=None, dual=True, penalty=elasticnet, solver=newton-cg \n",
      "[CV]  C=10, class_weight=None, dual=True, penalty=elasticnet, solver=newton-cg, score=nan, total=   0.0s\n",
      "[CV] C=10, class_weight=None, dual=True, penalty=elasticnet, solver=newton-cg \n",
      "[CV]  C=10, class_weight=None, dual=True, penalty=elasticnet, solver=newton-cg, score=nan, total=   0.0s\n",
      "[CV] C=10, class_weight=None, dual=True, penalty=elasticnet, solver=newton-cg \n",
      "[CV]  C=10, class_weight=None, dual=True, penalty=elasticnet, solver=newton-cg, score=nan, total=   0.0s\n",
      "[CV] C=10, class_weight=None, dual=True, penalty=elasticnet, solver=newton-cg \n",
      "[CV]  C=10, class_weight=None, dual=True, penalty=elasticnet, solver=newton-cg, score=nan, total=   0.0s\n",
      "[CV] C=10, class_weight=None, dual=True, penalty=elasticnet, solver=lbfgs \n",
      "[CV]  C=10, class_weight=None, dual=True, penalty=elasticnet, solver=lbfgs, score=nan, total=   0.0s\n",
      "[CV] C=10, class_weight=None, dual=True, penalty=elasticnet, solver=lbfgs \n",
      "[CV]  C=10, class_weight=None, dual=True, penalty=elasticnet, solver=lbfgs, score=nan, total=   0.0s\n",
      "[CV] C=10, class_weight=None, dual=True, penalty=elasticnet, solver=lbfgs \n",
      "[CV]  C=10, class_weight=None, dual=True, penalty=elasticnet, solver=lbfgs, score=nan, total=   0.0s\n",
      "[CV] C=10, class_weight=None, dual=True, penalty=elasticnet, solver=lbfgs \n",
      "[CV]  C=10, class_weight=None, dual=True, penalty=elasticnet, solver=lbfgs, score=nan, total=   0.0s\n",
      "[CV] C=10, class_weight=None, dual=True, penalty=elasticnet, solver=lbfgs \n",
      "[CV]  C=10, class_weight=None, dual=True, penalty=elasticnet, solver=lbfgs, score=nan, total=   0.0s\n",
      "[CV] C=10, class_weight=None, dual=True, penalty=elasticnet, solver=sag \n",
      "[CV]  C=10, class_weight=None, dual=True, penalty=elasticnet, solver=sag, score=nan, total=   0.0s\n",
      "[CV] C=10, class_weight=None, dual=True, penalty=elasticnet, solver=sag \n",
      "[CV]  C=10, class_weight=None, dual=True, penalty=elasticnet, solver=sag, score=nan, total=   0.0s\n",
      "[CV] C=10, class_weight=None, dual=True, penalty=elasticnet, solver=sag \n",
      "[CV]  C=10, class_weight=None, dual=True, penalty=elasticnet, solver=sag, score=nan, total=   0.0s\n",
      "[CV] C=10, class_weight=None, dual=True, penalty=elasticnet, solver=sag \n",
      "[CV]  C=10, class_weight=None, dual=True, penalty=elasticnet, solver=sag, score=nan, total=   0.0s\n",
      "[CV] C=10, class_weight=None, dual=True, penalty=elasticnet, solver=sag \n",
      "[CV]  C=10, class_weight=None, dual=True, penalty=elasticnet, solver=sag, score=nan, total=   0.0s\n",
      "[CV] C=10, class_weight=None, dual=True, penalty=elasticnet, solver=saga \n",
      "[CV]  C=10, class_weight=None, dual=True, penalty=elasticnet, solver=saga, score=nan, total=   0.0s\n",
      "[CV] C=10, class_weight=None, dual=True, penalty=elasticnet, solver=saga \n",
      "[CV]  C=10, class_weight=None, dual=True, penalty=elasticnet, solver=saga, score=nan, total=   0.0s\n",
      "[CV] C=10, class_weight=None, dual=True, penalty=elasticnet, solver=saga \n",
      "[CV]  C=10, class_weight=None, dual=True, penalty=elasticnet, solver=saga, score=nan, total=   0.0s\n",
      "[CV] C=10, class_weight=None, dual=True, penalty=elasticnet, solver=saga \n",
      "[CV]  C=10, class_weight=None, dual=True, penalty=elasticnet, solver=saga, score=nan, total=   0.0s\n",
      "[CV] C=10, class_weight=None, dual=True, penalty=elasticnet, solver=saga \n",
      "[CV]  C=10, class_weight=None, dual=True, penalty=elasticnet, solver=saga, score=nan, total=   0.0s\n",
      "[CV] C=10, class_weight=None, dual=True, penalty=elasticnet, solver=liblinear \n",
      "[CV]  C=10, class_weight=None, dual=True, penalty=elasticnet, solver=liblinear, score=nan, total=   0.0s\n",
      "[CV] C=10, class_weight=None, dual=True, penalty=elasticnet, solver=liblinear \n",
      "[CV]  C=10, class_weight=None, dual=True, penalty=elasticnet, solver=liblinear, score=nan, total=   0.0s\n",
      "[CV] C=10, class_weight=None, dual=True, penalty=elasticnet, solver=liblinear \n",
      "[CV]  C=10, class_weight=None, dual=True, penalty=elasticnet, solver=liblinear, score=nan, total=   0.0s\n",
      "[CV] C=10, class_weight=None, dual=True, penalty=elasticnet, solver=liblinear \n",
      "[CV]  C=10, class_weight=None, dual=True, penalty=elasticnet, solver=liblinear, score=nan, total=   0.0s\n",
      "[CV] C=10, class_weight=None, dual=True, penalty=elasticnet, solver=liblinear \n",
      "[CV]  C=10, class_weight=None, dual=True, penalty=elasticnet, solver=liblinear, score=nan, total=   0.0s\n",
      "[CV] C=10, class_weight=None, dual=False, penalty=l1, solver=newton-cg \n",
      "[CV]  C=10, class_weight=None, dual=False, penalty=l1, solver=newton-cg, score=nan, total=   0.0s\n",
      "[CV] C=10, class_weight=None, dual=False, penalty=l1, solver=newton-cg \n",
      "[CV]  C=10, class_weight=None, dual=False, penalty=l1, solver=newton-cg, score=nan, total=   0.0s\n",
      "[CV] C=10, class_weight=None, dual=False, penalty=l1, solver=newton-cg \n",
      "[CV]  C=10, class_weight=None, dual=False, penalty=l1, solver=newton-cg, score=nan, total=   0.0s\n",
      "[CV] C=10, class_weight=None, dual=False, penalty=l1, solver=newton-cg \n",
      "[CV]  C=10, class_weight=None, dual=False, penalty=l1, solver=newton-cg, score=nan, total=   0.0s\n",
      "[CV] C=10, class_weight=None, dual=False, penalty=l1, solver=newton-cg \n",
      "[CV]  C=10, class_weight=None, dual=False, penalty=l1, solver=newton-cg, score=nan, total=   0.0s\n",
      "[CV] C=10, class_weight=None, dual=False, penalty=l1, solver=lbfgs ...\n",
      "[CV]  C=10, class_weight=None, dual=False, penalty=l1, solver=lbfgs, score=nan, total=   0.0s\n",
      "[CV] C=10, class_weight=None, dual=False, penalty=l1, solver=lbfgs ...\n",
      "[CV]  C=10, class_weight=None, dual=False, penalty=l1, solver=lbfgs, score=nan, total=   0.0s\n",
      "[CV] C=10, class_weight=None, dual=False, penalty=l1, solver=lbfgs ...\n",
      "[CV]  C=10, class_weight=None, dual=False, penalty=l1, solver=lbfgs, score=nan, total=   0.0s\n",
      "[CV] C=10, class_weight=None, dual=False, penalty=l1, solver=lbfgs ...\n",
      "[CV]  C=10, class_weight=None, dual=False, penalty=l1, solver=lbfgs, score=nan, total=   0.0s\n",
      "[CV] C=10, class_weight=None, dual=False, penalty=l1, solver=lbfgs ...\n",
      "[CV]  C=10, class_weight=None, dual=False, penalty=l1, solver=lbfgs, score=nan, total=   0.0s\n",
      "[CV] C=10, class_weight=None, dual=False, penalty=l1, solver=sag .....\n",
      "[CV]  C=10, class_weight=None, dual=False, penalty=l1, solver=sag, score=nan, total=   0.0s\n",
      "[CV] C=10, class_weight=None, dual=False, penalty=l1, solver=sag .....\n",
      "[CV]  C=10, class_weight=None, dual=False, penalty=l1, solver=sag, score=nan, total=   0.0s\n",
      "[CV] C=10, class_weight=None, dual=False, penalty=l1, solver=sag .....\n",
      "[CV]  C=10, class_weight=None, dual=False, penalty=l1, solver=sag, score=nan, total=   0.0s\n",
      "[CV] C=10, class_weight=None, dual=False, penalty=l1, solver=sag .....\n",
      "[CV]  C=10, class_weight=None, dual=False, penalty=l1, solver=sag, score=nan, total=   0.0s\n",
      "[CV] C=10, class_weight=None, dual=False, penalty=l1, solver=sag .....\n",
      "[CV]  C=10, class_weight=None, dual=False, penalty=l1, solver=sag, score=nan, total=   0.0s\n",
      "[CV] C=10, class_weight=None, dual=False, penalty=l1, solver=saga ....\n"
     ]
    },
    {
     "name": "stderr",
     "output_type": "stream",
     "text": [
      "C:\\ProgramData\\Anaconda3\\lib\\site-packages\\sklearn\\linear_model\\_sag.py:329: ConvergenceWarning: The max_iter was reached which means the coef_ did not converge\n",
      "  warnings.warn(\"The max_iter was reached which means \"\n"
     ]
    },
    {
     "name": "stdout",
     "output_type": "stream",
     "text": [
      "[CV]  C=10, class_weight=None, dual=False, penalty=l1, solver=saga, score=0.720, total=  11.2s\n",
      "[CV] C=10, class_weight=None, dual=False, penalty=l1, solver=saga ....\n"
     ]
    },
    {
     "name": "stderr",
     "output_type": "stream",
     "text": [
      "C:\\ProgramData\\Anaconda3\\lib\\site-packages\\sklearn\\linear_model\\_sag.py:329: ConvergenceWarning: The max_iter was reached which means the coef_ did not converge\n",
      "  warnings.warn(\"The max_iter was reached which means \"\n"
     ]
    },
    {
     "name": "stdout",
     "output_type": "stream",
     "text": [
      "[CV]  C=10, class_weight=None, dual=False, penalty=l1, solver=saga, score=0.661, total=   7.8s\n",
      "[CV] C=10, class_weight=None, dual=False, penalty=l1, solver=saga ....\n"
     ]
    },
    {
     "name": "stderr",
     "output_type": "stream",
     "text": [
      "C:\\ProgramData\\Anaconda3\\lib\\site-packages\\sklearn\\linear_model\\_sag.py:329: ConvergenceWarning: The max_iter was reached which means the coef_ did not converge\n",
      "  warnings.warn(\"The max_iter was reached which means \"\n"
     ]
    },
    {
     "name": "stdout",
     "output_type": "stream",
     "text": [
      "[CV]  C=10, class_weight=None, dual=False, penalty=l1, solver=saga, score=0.642, total=  11.0s\n",
      "[CV] C=10, class_weight=None, dual=False, penalty=l1, solver=saga ....\n"
     ]
    },
    {
     "name": "stderr",
     "output_type": "stream",
     "text": [
      "C:\\ProgramData\\Anaconda3\\lib\\site-packages\\sklearn\\linear_model\\_sag.py:329: ConvergenceWarning: The max_iter was reached which means the coef_ did not converge\n",
      "  warnings.warn(\"The max_iter was reached which means \"\n"
     ]
    },
    {
     "name": "stdout",
     "output_type": "stream",
     "text": [
      "[CV]  C=10, class_weight=None, dual=False, penalty=l1, solver=saga, score=0.597, total=  10.8s\n",
      "[CV] C=10, class_weight=None, dual=False, penalty=l1, solver=saga ....\n"
     ]
    },
    {
     "name": "stderr",
     "output_type": "stream",
     "text": [
      "C:\\ProgramData\\Anaconda3\\lib\\site-packages\\sklearn\\linear_model\\_sag.py:329: ConvergenceWarning: The max_iter was reached which means the coef_ did not converge\n",
      "  warnings.warn(\"The max_iter was reached which means \"\n"
     ]
    },
    {
     "name": "stdout",
     "output_type": "stream",
     "text": [
      "[CV]  C=10, class_weight=None, dual=False, penalty=l1, solver=saga, score=0.605, total=  10.6s\n",
      "[CV] C=10, class_weight=None, dual=False, penalty=l1, solver=liblinear \n",
      "[CV]  C=10, class_weight=None, dual=False, penalty=l1, solver=liblinear, score=0.693, total=   0.1s\n",
      "[CV] C=10, class_weight=None, dual=False, penalty=l1, solver=liblinear \n",
      "[CV]  C=10, class_weight=None, dual=False, penalty=l1, solver=liblinear, score=0.689, total=   0.1s\n",
      "[CV] C=10, class_weight=None, dual=False, penalty=l1, solver=liblinear \n",
      "[CV]  C=10, class_weight=None, dual=False, penalty=l1, solver=liblinear, score=0.681, total=   0.1s\n",
      "[CV] C=10, class_weight=None, dual=False, penalty=l1, solver=liblinear \n",
      "[CV]  C=10, class_weight=None, dual=False, penalty=l1, solver=liblinear, score=0.730, total=   0.1s\n",
      "[CV] C=10, class_weight=None, dual=False, penalty=l1, solver=liblinear \n",
      "[CV]  C=10, class_weight=None, dual=False, penalty=l1, solver=liblinear, score=0.662, total=   0.1s\n",
      "[CV] C=10, class_weight=None, dual=False, penalty=l2, solver=newton-cg \n",
      "[CV]  C=10, class_weight=None, dual=False, penalty=l2, solver=newton-cg, score=0.699, total=   0.3s\n",
      "[CV] C=10, class_weight=None, dual=False, penalty=l2, solver=newton-cg \n",
      "[CV]  C=10, class_weight=None, dual=False, penalty=l2, solver=newton-cg, score=0.628, total=   0.3s\n",
      "[CV] C=10, class_weight=None, dual=False, penalty=l2, solver=newton-cg \n",
      "[CV]  C=10, class_weight=None, dual=False, penalty=l2, solver=newton-cg, score=0.606, total=   0.3s\n",
      "[CV] C=10, class_weight=None, dual=False, penalty=l2, solver=newton-cg \n",
      "[CV]  C=10, class_weight=None, dual=False, penalty=l2, solver=newton-cg, score=0.573, total=   0.4s\n",
      "[CV] C=10, class_weight=None, dual=False, penalty=l2, solver=newton-cg \n",
      "[CV]  C=10, class_weight=None, dual=False, penalty=l2, solver=newton-cg, score=0.591, total=   0.4s\n",
      "[CV] C=10, class_weight=None, dual=False, penalty=l2, solver=lbfgs ...\n"
     ]
    },
    {
     "name": "stderr",
     "output_type": "stream",
     "text": [
      "C:\\ProgramData\\Anaconda3\\lib\\site-packages\\sklearn\\linear_model\\_logistic.py:762: ConvergenceWarning: lbfgs failed to converge (status=1):\n",
      "STOP: TOTAL NO. of ITERATIONS REACHED LIMIT.\n",
      "\n",
      "Increase the number of iterations (max_iter) or scale the data as shown in:\n",
      "    https://scikit-learn.org/stable/modules/preprocessing.html\n",
      "Please also refer to the documentation for alternative solver options:\n",
      "    https://scikit-learn.org/stable/modules/linear_model.html#logistic-regression\n",
      "  n_iter_i = _check_optimize_result(\n"
     ]
    },
    {
     "name": "stdout",
     "output_type": "stream",
     "text": [
      "[CV]  C=10, class_weight=None, dual=False, penalty=l2, solver=lbfgs, score=0.699, total=   0.5s\n",
      "[CV] C=10, class_weight=None, dual=False, penalty=l2, solver=lbfgs ...\n"
     ]
    },
    {
     "name": "stderr",
     "output_type": "stream",
     "text": [
      "C:\\ProgramData\\Anaconda3\\lib\\site-packages\\sklearn\\linear_model\\_logistic.py:762: ConvergenceWarning: lbfgs failed to converge (status=1):\n",
      "STOP: TOTAL NO. of ITERATIONS REACHED LIMIT.\n",
      "\n",
      "Increase the number of iterations (max_iter) or scale the data as shown in:\n",
      "    https://scikit-learn.org/stable/modules/preprocessing.html\n",
      "Please also refer to the documentation for alternative solver options:\n",
      "    https://scikit-learn.org/stable/modules/linear_model.html#logistic-regression\n",
      "  n_iter_i = _check_optimize_result(\n"
     ]
    },
    {
     "name": "stdout",
     "output_type": "stream",
     "text": [
      "[CV]  C=10, class_weight=None, dual=False, penalty=l2, solver=lbfgs, score=0.628, total=   0.6s\n",
      "[CV] C=10, class_weight=None, dual=False, penalty=l2, solver=lbfgs ...\n"
     ]
    },
    {
     "name": "stderr",
     "output_type": "stream",
     "text": [
      "C:\\ProgramData\\Anaconda3\\lib\\site-packages\\sklearn\\linear_model\\_logistic.py:762: ConvergenceWarning: lbfgs failed to converge (status=1):\n",
      "STOP: TOTAL NO. of ITERATIONS REACHED LIMIT.\n",
      "\n",
      "Increase the number of iterations (max_iter) or scale the data as shown in:\n",
      "    https://scikit-learn.org/stable/modules/preprocessing.html\n",
      "Please also refer to the documentation for alternative solver options:\n",
      "    https://scikit-learn.org/stable/modules/linear_model.html#logistic-regression\n",
      "  n_iter_i = _check_optimize_result(\n"
     ]
    },
    {
     "name": "stdout",
     "output_type": "stream",
     "text": [
      "[CV]  C=10, class_weight=None, dual=False, penalty=l2, solver=lbfgs, score=0.606, total=   0.6s\n",
      "[CV] C=10, class_weight=None, dual=False, penalty=l2, solver=lbfgs ...\n"
     ]
    },
    {
     "name": "stderr",
     "output_type": "stream",
     "text": [
      "C:\\ProgramData\\Anaconda3\\lib\\site-packages\\sklearn\\linear_model\\_logistic.py:762: ConvergenceWarning: lbfgs failed to converge (status=1):\n",
      "STOP: TOTAL NO. of ITERATIONS REACHED LIMIT.\n",
      "\n",
      "Increase the number of iterations (max_iter) or scale the data as shown in:\n",
      "    https://scikit-learn.org/stable/modules/preprocessing.html\n",
      "Please also refer to the documentation for alternative solver options:\n",
      "    https://scikit-learn.org/stable/modules/linear_model.html#logistic-regression\n",
      "  n_iter_i = _check_optimize_result(\n"
     ]
    },
    {
     "name": "stdout",
     "output_type": "stream",
     "text": [
      "[CV]  C=10, class_weight=None, dual=False, penalty=l2, solver=lbfgs, score=0.573, total=   0.6s\n",
      "[CV] C=10, class_weight=None, dual=False, penalty=l2, solver=lbfgs ...\n"
     ]
    },
    {
     "name": "stderr",
     "output_type": "stream",
     "text": [
      "C:\\ProgramData\\Anaconda3\\lib\\site-packages\\sklearn\\linear_model\\_logistic.py:762: ConvergenceWarning: lbfgs failed to converge (status=1):\n",
      "STOP: TOTAL NO. of ITERATIONS REACHED LIMIT.\n",
      "\n",
      "Increase the number of iterations (max_iter) or scale the data as shown in:\n",
      "    https://scikit-learn.org/stable/modules/preprocessing.html\n",
      "Please also refer to the documentation for alternative solver options:\n",
      "    https://scikit-learn.org/stable/modules/linear_model.html#logistic-regression\n",
      "  n_iter_i = _check_optimize_result(\n"
     ]
    },
    {
     "name": "stdout",
     "output_type": "stream",
     "text": [
      "[CV]  C=10, class_weight=None, dual=False, penalty=l2, solver=lbfgs, score=0.590, total=   0.5s\n",
      "[CV] C=10, class_weight=None, dual=False, penalty=l2, solver=sag .....\n"
     ]
    },
    {
     "name": "stderr",
     "output_type": "stream",
     "text": [
      "C:\\ProgramData\\Anaconda3\\lib\\site-packages\\sklearn\\linear_model\\_sag.py:329: ConvergenceWarning: The max_iter was reached which means the coef_ did not converge\n",
      "  warnings.warn(\"The max_iter was reached which means \"\n"
     ]
    },
    {
     "name": "stdout",
     "output_type": "stream",
     "text": [
      "[CV]  C=10, class_weight=None, dual=False, penalty=l2, solver=sag, score=0.698, total=   0.2s\n",
      "[CV] C=10, class_weight=None, dual=False, penalty=l2, solver=sag .....\n"
     ]
    },
    {
     "name": "stderr",
     "output_type": "stream",
     "text": [
      "C:\\ProgramData\\Anaconda3\\lib\\site-packages\\sklearn\\linear_model\\_sag.py:329: ConvergenceWarning: The max_iter was reached which means the coef_ did not converge\n",
      "  warnings.warn(\"The max_iter was reached which means \"\n",
      "C:\\ProgramData\\Anaconda3\\lib\\site-packages\\sklearn\\linear_model\\_sag.py:329: ConvergenceWarning: The max_iter was reached which means the coef_ did not converge\n",
      "  warnings.warn(\"The max_iter was reached which means \"\n"
     ]
    },
    {
     "name": "stdout",
     "output_type": "stream",
     "text": [
      "[CV]  C=10, class_weight=None, dual=False, penalty=l2, solver=sag, score=0.638, total=   0.2s\n",
      "[CV] C=10, class_weight=None, dual=False, penalty=l2, solver=sag .....\n"
     ]
    },
    {
     "name": "stderr",
     "output_type": "stream",
     "text": [
      "C:\\ProgramData\\Anaconda3\\lib\\site-packages\\sklearn\\linear_model\\_sag.py:329: ConvergenceWarning: The max_iter was reached which means the coef_ did not converge\n",
      "  warnings.warn(\"The max_iter was reached which means \"\n"
     ]
    },
    {
     "name": "stdout",
     "output_type": "stream",
     "text": [
      "[CV]  C=10, class_weight=None, dual=False, penalty=l2, solver=sag, score=0.625, total=   0.2s\n",
      "[CV] C=10, class_weight=None, dual=False, penalty=l2, solver=sag .....\n"
     ]
    },
    {
     "name": "stderr",
     "output_type": "stream",
     "text": [
      "C:\\ProgramData\\Anaconda3\\lib\\site-packages\\sklearn\\linear_model\\_sag.py:329: ConvergenceWarning: The max_iter was reached which means the coef_ did not converge\n",
      "  warnings.warn(\"The max_iter was reached which means \"\n"
     ]
    },
    {
     "name": "stdout",
     "output_type": "stream",
     "text": [
      "[CV]  C=10, class_weight=None, dual=False, penalty=l2, solver=sag, score=0.609, total=   0.2s\n",
      "[CV] C=10, class_weight=None, dual=False, penalty=l2, solver=sag .....\n",
      "[CV]  C=10, class_weight=None, dual=False, penalty=l2, solver=sag, score=0.615, total=   0.2s\n",
      "[CV] C=10, class_weight=None, dual=False, penalty=l2, solver=saga ....\n"
     ]
    },
    {
     "name": "stderr",
     "output_type": "stream",
     "text": [
      "C:\\ProgramData\\Anaconda3\\lib\\site-packages\\sklearn\\linear_model\\_sag.py:329: ConvergenceWarning: The max_iter was reached which means the coef_ did not converge\n",
      "  warnings.warn(\"The max_iter was reached which means \"\n"
     ]
    },
    {
     "name": "stdout",
     "output_type": "stream",
     "text": [
      "[CV]  C=10, class_weight=None, dual=False, penalty=l2, solver=saga, score=0.721, total=   0.2s\n",
      "[CV] C=10, class_weight=None, dual=False, penalty=l2, solver=saga ....\n"
     ]
    },
    {
     "name": "stderr",
     "output_type": "stream",
     "text": [
      "C:\\ProgramData\\Anaconda3\\lib\\site-packages\\sklearn\\linear_model\\_sag.py:329: ConvergenceWarning: The max_iter was reached which means the coef_ did not converge\n",
      "  warnings.warn(\"The max_iter was reached which means \"\n"
     ]
    },
    {
     "name": "stdout",
     "output_type": "stream",
     "text": [
      "[CV]  C=10, class_weight=None, dual=False, penalty=l2, solver=saga, score=0.657, total=   0.2s\n",
      "[CV] C=10, class_weight=None, dual=False, penalty=l2, solver=saga ....\n"
     ]
    },
    {
     "name": "stderr",
     "output_type": "stream",
     "text": [
      "C:\\ProgramData\\Anaconda3\\lib\\site-packages\\sklearn\\linear_model\\_sag.py:329: ConvergenceWarning: The max_iter was reached which means the coef_ did not converge\n",
      "  warnings.warn(\"The max_iter was reached which means \"\n"
     ]
    },
    {
     "name": "stdout",
     "output_type": "stream",
     "text": [
      "[CV]  C=10, class_weight=None, dual=False, penalty=l2, solver=saga, score=0.633, total=   0.2s\n",
      "[CV] C=10, class_weight=None, dual=False, penalty=l2, solver=saga ....\n"
     ]
    },
    {
     "name": "stderr",
     "output_type": "stream",
     "text": [
      "C:\\ProgramData\\Anaconda3\\lib\\site-packages\\sklearn\\linear_model\\_sag.py:329: ConvergenceWarning: The max_iter was reached which means the coef_ did not converge\n",
      "  warnings.warn(\"The max_iter was reached which means \"\n"
     ]
    },
    {
     "name": "stdout",
     "output_type": "stream",
     "text": [
      "[CV]  C=10, class_weight=None, dual=False, penalty=l2, solver=saga, score=0.572, total=   0.2s\n",
      "[CV] C=10, class_weight=None, dual=False, penalty=l2, solver=saga ....\n"
     ]
    },
    {
     "name": "stderr",
     "output_type": "stream",
     "text": [
      "C:\\ProgramData\\Anaconda3\\lib\\site-packages\\sklearn\\linear_model\\_sag.py:329: ConvergenceWarning: The max_iter was reached which means the coef_ did not converge\n",
      "  warnings.warn(\"The max_iter was reached which means \"\n"
     ]
    },
    {
     "name": "stdout",
     "output_type": "stream",
     "text": [
      "[CV]  C=10, class_weight=None, dual=False, penalty=l2, solver=saga, score=0.621, total=   0.2s\n",
      "[CV] C=10, class_weight=None, dual=False, penalty=l2, solver=liblinear \n",
      "[CV]  C=10, class_weight=None, dual=False, penalty=l2, solver=liblinear, score=0.686, total=   0.1s\n",
      "[CV] C=10, class_weight=None, dual=False, penalty=l2, solver=liblinear \n",
      "[CV]  C=10, class_weight=None, dual=False, penalty=l2, solver=liblinear, score=0.648, total=   0.1s\n",
      "[CV] C=10, class_weight=None, dual=False, penalty=l2, solver=liblinear \n",
      "[CV]  C=10, class_weight=None, dual=False, penalty=l2, solver=liblinear, score=0.610, total=   0.1s\n",
      "[CV] C=10, class_weight=None, dual=False, penalty=l2, solver=liblinear \n",
      "[CV]  C=10, class_weight=None, dual=False, penalty=l2, solver=liblinear, score=0.570, total=   0.1s\n",
      "[CV] C=10, class_weight=None, dual=False, penalty=l2, solver=liblinear \n",
      "[CV]  C=10, class_weight=None, dual=False, penalty=l2, solver=liblinear, score=0.607, total=   0.1s\n",
      "[CV] C=10, class_weight=None, dual=False, penalty=elasticnet, solver=newton-cg \n",
      "[CV]  C=10, class_weight=None, dual=False, penalty=elasticnet, solver=newton-cg, score=nan, total=   0.0s\n",
      "[CV] C=10, class_weight=None, dual=False, penalty=elasticnet, solver=newton-cg \n",
      "[CV]  C=10, class_weight=None, dual=False, penalty=elasticnet, solver=newton-cg, score=nan, total=   0.0s\n",
      "[CV] C=10, class_weight=None, dual=False, penalty=elasticnet, solver=newton-cg \n",
      "[CV]  C=10, class_weight=None, dual=False, penalty=elasticnet, solver=newton-cg, score=nan, total=   0.0s\n",
      "[CV] C=10, class_weight=None, dual=False, penalty=elasticnet, solver=newton-cg \n",
      "[CV]  C=10, class_weight=None, dual=False, penalty=elasticnet, solver=newton-cg, score=nan, total=   0.0s\n",
      "[CV] C=10, class_weight=None, dual=False, penalty=elasticnet, solver=newton-cg \n",
      "[CV]  C=10, class_weight=None, dual=False, penalty=elasticnet, solver=newton-cg, score=nan, total=   0.0s\n",
      "[CV] C=10, class_weight=None, dual=False, penalty=elasticnet, solver=lbfgs \n",
      "[CV]  C=10, class_weight=None, dual=False, penalty=elasticnet, solver=lbfgs, score=nan, total=   0.0s\n",
      "[CV] C=10, class_weight=None, dual=False, penalty=elasticnet, solver=lbfgs \n",
      "[CV]  C=10, class_weight=None, dual=False, penalty=elasticnet, solver=lbfgs, score=nan, total=   0.0s\n",
      "[CV] C=10, class_weight=None, dual=False, penalty=elasticnet, solver=lbfgs \n",
      "[CV]  C=10, class_weight=None, dual=False, penalty=elasticnet, solver=lbfgs, score=nan, total=   0.0s\n",
      "[CV] C=10, class_weight=None, dual=False, penalty=elasticnet, solver=lbfgs \n",
      "[CV]  C=10, class_weight=None, dual=False, penalty=elasticnet, solver=lbfgs, score=nan, total=   0.0s\n",
      "[CV] C=10, class_weight=None, dual=False, penalty=elasticnet, solver=lbfgs \n",
      "[CV]  C=10, class_weight=None, dual=False, penalty=elasticnet, solver=lbfgs, score=nan, total=   0.0s\n",
      "[CV] C=10, class_weight=None, dual=False, penalty=elasticnet, solver=sag \n"
     ]
    },
    {
     "name": "stderr",
     "output_type": "stream",
     "text": [
      "C:\\ProgramData\\Anaconda3\\lib\\site-packages\\sklearn\\model_selection\\_validation.py:548: FitFailedWarning: Estimator fit failed. The score on this train-test partition for these parameters will be set to nan. Details: \n",
      "Traceback (most recent call last):\n",
      "  File \"C:\\ProgramData\\Anaconda3\\lib\\site-packages\\sklearn\\model_selection\\_validation.py\", line 531, in _fit_and_score\n",
      "    estimator.fit(X_train, y_train, **fit_params)\n",
      "  File \"C:\\ProgramData\\Anaconda3\\lib\\site-packages\\sklearn\\linear_model\\_logistic.py\", line 1304, in fit\n",
      "    solver = _check_solver(self.solver, self.penalty, self.dual)\n",
      "  File \"C:\\ProgramData\\Anaconda3\\lib\\site-packages\\sklearn\\linear_model\\_logistic.py\", line 442, in _check_solver\n",
      "    raise ValueError(\"Solver %s supports only 'l2' or 'none' penalties, \"\n",
      "ValueError: Solver newton-cg supports only 'l2' or 'none' penalties, got elasticnet penalty.\n",
      "\n",
      "  warnings.warn(\"Estimator fit failed. The score on this train-test\"\n",
      "C:\\ProgramData\\Anaconda3\\lib\\site-packages\\sklearn\\model_selection\\_validation.py:548: FitFailedWarning: Estimator fit failed. The score on this train-test partition for these parameters will be set to nan. Details: \n",
      "Traceback (most recent call last):\n",
      "  File \"C:\\ProgramData\\Anaconda3\\lib\\site-packages\\sklearn\\model_selection\\_validation.py\", line 531, in _fit_and_score\n",
      "    estimator.fit(X_train, y_train, **fit_params)\n",
      "  File \"C:\\ProgramData\\Anaconda3\\lib\\site-packages\\sklearn\\linear_model\\_logistic.py\", line 1304, in fit\n",
      "    solver = _check_solver(self.solver, self.penalty, self.dual)\n",
      "  File \"C:\\ProgramData\\Anaconda3\\lib\\site-packages\\sklearn\\linear_model\\_logistic.py\", line 442, in _check_solver\n",
      "    raise ValueError(\"Solver %s supports only 'l2' or 'none' penalties, \"\n",
      "ValueError: Solver lbfgs supports only 'l2' or 'none' penalties, got elasticnet penalty.\n",
      "\n",
      "  warnings.warn(\"Estimator fit failed. The score on this train-test\"\n",
      "C:\\ProgramData\\Anaconda3\\lib\\site-packages\\sklearn\\model_selection\\_validation.py:548: FitFailedWarning: Estimator fit failed. The score on this train-test partition for these parameters will be set to nan. Details: \n",
      "Traceback (most recent call last):\n",
      "  File \"C:\\ProgramData\\Anaconda3\\lib\\site-packages\\sklearn\\model_selection\\_validation.py\", line 531, in _fit_and_score\n",
      "    estimator.fit(X_train, y_train, **fit_params)\n",
      "  File \"C:\\ProgramData\\Anaconda3\\lib\\site-packages\\sklearn\\linear_model\\_logistic.py\", line 1304, in fit\n",
      "    solver = _check_solver(self.solver, self.penalty, self.dual)\n",
      "  File \"C:\\ProgramData\\Anaconda3\\lib\\site-packages\\sklearn\\linear_model\\_logistic.py\", line 442, in _check_solver\n",
      "    raise ValueError(\"Solver %s supports only 'l2' or 'none' penalties, \"\n",
      "ValueError: Solver sag supports only 'l2' or 'none' penalties, got elasticnet penalty.\n",
      "\n",
      "  warnings.warn(\"Estimator fit failed. The score on this train-test\"\n",
      "C:\\ProgramData\\Anaconda3\\lib\\site-packages\\sklearn\\model_selection\\_validation.py:548: FitFailedWarning: Estimator fit failed. The score on this train-test partition for these parameters will be set to nan. Details: \n",
      "Traceback (most recent call last):\n",
      "  File \"C:\\ProgramData\\Anaconda3\\lib\\site-packages\\sklearn\\model_selection\\_validation.py\", line 531, in _fit_and_score\n",
      "    estimator.fit(X_train, y_train, **fit_params)\n",
      "  File \"C:\\ProgramData\\Anaconda3\\lib\\site-packages\\sklearn\\linear_model\\_logistic.py\", line 1312, in fit\n",
      "    raise ValueError(\"l1_ratio must be between 0 and 1;\"\n",
      "ValueError: l1_ratio must be between 0 and 1; got (l1_ratio=None)\n",
      "\n",
      "  warnings.warn(\"Estimator fit failed. The score on this train-test\"\n",
      "C:\\ProgramData\\Anaconda3\\lib\\site-packages\\sklearn\\model_selection\\_validation.py:548: FitFailedWarning: Estimator fit failed. The score on this train-test partition for these parameters will be set to nan. Details: \n",
      "Traceback (most recent call last):\n",
      "  File \"C:\\ProgramData\\Anaconda3\\lib\\site-packages\\sklearn\\model_selection\\_validation.py\", line 531, in _fit_and_score\n",
      "    estimator.fit(X_train, y_train, **fit_params)\n",
      "  File \"C:\\ProgramData\\Anaconda3\\lib\\site-packages\\sklearn\\linear_model\\_logistic.py\", line 1304, in fit\n",
      "    solver = _check_solver(self.solver, self.penalty, self.dual)\n",
      "  File \"C:\\ProgramData\\Anaconda3\\lib\\site-packages\\sklearn\\linear_model\\_logistic.py\", line 449, in _check_solver\n",
      "    raise ValueError(\"Only 'saga' solver supports elasticnet penalty,\"\n",
      "ValueError: Only 'saga' solver supports elasticnet penalty, got solver=liblinear.\n",
      "\n",
      "  warnings.warn(\"Estimator fit failed. The score on this train-test\"\n",
      "C:\\ProgramData\\Anaconda3\\lib\\site-packages\\sklearn\\model_selection\\_validation.py:548: FitFailedWarning: Estimator fit failed. The score on this train-test partition for these parameters will be set to nan. Details: \n",
      "Traceback (most recent call last):\n",
      "  File \"C:\\ProgramData\\Anaconda3\\lib\\site-packages\\sklearn\\model_selection\\_validation.py\", line 531, in _fit_and_score\n",
      "    estimator.fit(X_train, y_train, **fit_params)\n",
      "  File \"C:\\ProgramData\\Anaconda3\\lib\\site-packages\\sklearn\\linear_model\\_logistic.py\", line 1304, in fit\n",
      "    solver = _check_solver(self.solver, self.penalty, self.dual)\n",
      "  File \"C:\\ProgramData\\Anaconda3\\lib\\site-packages\\sklearn\\linear_model\\_logistic.py\", line 442, in _check_solver\n",
      "    raise ValueError(\"Solver %s supports only 'l2' or 'none' penalties, \"\n",
      "ValueError: Solver newton-cg supports only 'l2' or 'none' penalties, got l1 penalty.\n",
      "\n",
      "  warnings.warn(\"Estimator fit failed. The score on this train-test\"\n",
      "C:\\ProgramData\\Anaconda3\\lib\\site-packages\\sklearn\\model_selection\\_validation.py:548: FitFailedWarning: Estimator fit failed. The score on this train-test partition for these parameters will be set to nan. Details: \n",
      "Traceback (most recent call last):\n",
      "  File \"C:\\ProgramData\\Anaconda3\\lib\\site-packages\\sklearn\\model_selection\\_validation.py\", line 531, in _fit_and_score\n",
      "    estimator.fit(X_train, y_train, **fit_params)\n",
      "  File \"C:\\ProgramData\\Anaconda3\\lib\\site-packages\\sklearn\\linear_model\\_logistic.py\", line 1304, in fit\n",
      "    solver = _check_solver(self.solver, self.penalty, self.dual)\n",
      "  File \"C:\\ProgramData\\Anaconda3\\lib\\site-packages\\sklearn\\linear_model\\_logistic.py\", line 442, in _check_solver\n",
      "    raise ValueError(\"Solver %s supports only 'l2' or 'none' penalties, \"\n",
      "ValueError: Solver lbfgs supports only 'l2' or 'none' penalties, got l1 penalty.\n",
      "\n",
      "  warnings.warn(\"Estimator fit failed. The score on this train-test\"\n",
      "C:\\ProgramData\\Anaconda3\\lib\\site-packages\\sklearn\\model_selection\\_validation.py:548: FitFailedWarning: Estimator fit failed. The score on this train-test partition for these parameters will be set to nan. Details: \n",
      "Traceback (most recent call last):\n",
      "  File \"C:\\ProgramData\\Anaconda3\\lib\\site-packages\\sklearn\\model_selection\\_validation.py\", line 531, in _fit_and_score\n",
      "    estimator.fit(X_train, y_train, **fit_params)\n",
      "  File \"C:\\ProgramData\\Anaconda3\\lib\\site-packages\\sklearn\\linear_model\\_logistic.py\", line 1304, in fit\n",
      "    solver = _check_solver(self.solver, self.penalty, self.dual)\n",
      "  File \"C:\\ProgramData\\Anaconda3\\lib\\site-packages\\sklearn\\linear_model\\_logistic.py\", line 442, in _check_solver\n",
      "    raise ValueError(\"Solver %s supports only 'l2' or 'none' penalties, \"\n",
      "ValueError: Solver sag supports only 'l2' or 'none' penalties, got l1 penalty.\n",
      "\n",
      "  warnings.warn(\"Estimator fit failed. The score on this train-test\"\n",
      "C:\\ProgramData\\Anaconda3\\lib\\site-packages\\sklearn\\model_selection\\_validation.py:548: FitFailedWarning: Estimator fit failed. The score on this train-test partition for these parameters will be set to nan. Details: \n",
      "Traceback (most recent call last):\n",
      "  File \"C:\\ProgramData\\Anaconda3\\lib\\site-packages\\sklearn\\model_selection\\_validation.py\", line 531, in _fit_and_score\n",
      "    estimator.fit(X_train, y_train, **fit_params)\n",
      "  File \"C:\\ProgramData\\Anaconda3\\lib\\site-packages\\sklearn\\linear_model\\_logistic.py\", line 1304, in fit\n",
      "    solver = _check_solver(self.solver, self.penalty, self.dual)\n",
      "  File \"C:\\ProgramData\\Anaconda3\\lib\\site-packages\\sklearn\\linear_model\\_logistic.py\", line 445, in _check_solver\n",
      "    raise ValueError(\"Solver %s supports only \"\n",
      "ValueError: Solver saga supports only dual=False, got dual=True\n",
      "\n",
      "  warnings.warn(\"Estimator fit failed. The score on this train-test\"\n",
      "C:\\ProgramData\\Anaconda3\\lib\\site-packages\\sklearn\\model_selection\\_validation.py:548: FitFailedWarning: Estimator fit failed. The score on this train-test partition for these parameters will be set to nan. Details: \n",
      "Traceback (most recent call last):\n",
      "  File \"C:\\ProgramData\\Anaconda3\\lib\\site-packages\\sklearn\\model_selection\\_validation.py\", line 531, in _fit_and_score\n",
      "    estimator.fit(X_train, y_train, **fit_params)\n",
      "  File \"C:\\ProgramData\\Anaconda3\\lib\\site-packages\\sklearn\\linear_model\\_logistic.py\", line 1356, in fit\n",
      "    self.coef_, self.intercept_, n_iter_ = _fit_liblinear(\n",
      "  File \"C:\\ProgramData\\Anaconda3\\lib\\site-packages\\sklearn\\svm\\_base.py\", line 965, in _fit_liblinear\n",
      "    solver_type = _get_liblinear_solver_type(multi_class, penalty, loss, dual)\n",
      "  File \"C:\\ProgramData\\Anaconda3\\lib\\site-packages\\sklearn\\svm\\_base.py\", line 821, in _get_liblinear_solver_type\n",
      "    raise ValueError('Unsupported set of arguments: %s, '\n",
      "ValueError: Unsupported set of arguments: The combination of penalty='l1' and loss='logistic_regression' are not supported when dual=True, Parameters: penalty='l1', loss='logistic_regression', dual=True\n",
      "\n",
      "  warnings.warn(\"Estimator fit failed. The score on this train-test\"\n",
      "C:\\ProgramData\\Anaconda3\\lib\\site-packages\\sklearn\\model_selection\\_validation.py:548: FitFailedWarning: Estimator fit failed. The score on this train-test partition for these parameters will be set to nan. Details: \n",
      "Traceback (most recent call last):\n",
      "  File \"C:\\ProgramData\\Anaconda3\\lib\\site-packages\\sklearn\\model_selection\\_validation.py\", line 531, in _fit_and_score\n",
      "    estimator.fit(X_train, y_train, **fit_params)\n",
      "  File \"C:\\ProgramData\\Anaconda3\\lib\\site-packages\\sklearn\\linear_model\\_logistic.py\", line 1304, in fit\n",
      "    solver = _check_solver(self.solver, self.penalty, self.dual)\n",
      "  File \"C:\\ProgramData\\Anaconda3\\lib\\site-packages\\sklearn\\linear_model\\_logistic.py\", line 445, in _check_solver\n",
      "    raise ValueError(\"Solver %s supports only \"\n",
      "ValueError: Solver newton-cg supports only dual=False, got dual=True\n",
      "\n",
      "  warnings.warn(\"Estimator fit failed. The score on this train-test\"\n",
      "C:\\ProgramData\\Anaconda3\\lib\\site-packages\\sklearn\\model_selection\\_validation.py:548: FitFailedWarning: Estimator fit failed. The score on this train-test partition for these parameters will be set to nan. Details: \n",
      "Traceback (most recent call last):\n",
      "  File \"C:\\ProgramData\\Anaconda3\\lib\\site-packages\\sklearn\\model_selection\\_validation.py\", line 531, in _fit_and_score\n",
      "    estimator.fit(X_train, y_train, **fit_params)\n",
      "  File \"C:\\ProgramData\\Anaconda3\\lib\\site-packages\\sklearn\\linear_model\\_logistic.py\", line 1304, in fit\n",
      "    solver = _check_solver(self.solver, self.penalty, self.dual)\n",
      "  File \"C:\\ProgramData\\Anaconda3\\lib\\site-packages\\sklearn\\linear_model\\_logistic.py\", line 445, in _check_solver\n",
      "    raise ValueError(\"Solver %s supports only \"\n",
      "ValueError: Solver lbfgs supports only dual=False, got dual=True\n",
      "\n",
      "  warnings.warn(\"Estimator fit failed. The score on this train-test\"\n",
      "C:\\ProgramData\\Anaconda3\\lib\\site-packages\\sklearn\\model_selection\\_validation.py:548: FitFailedWarning: Estimator fit failed. The score on this train-test partition for these parameters will be set to nan. Details: \n",
      "Traceback (most recent call last):\n",
      "  File \"C:\\ProgramData\\Anaconda3\\lib\\site-packages\\sklearn\\model_selection\\_validation.py\", line 531, in _fit_and_score\n",
      "    estimator.fit(X_train, y_train, **fit_params)\n",
      "  File \"C:\\ProgramData\\Anaconda3\\lib\\site-packages\\sklearn\\linear_model\\_logistic.py\", line 1304, in fit\n",
      "    solver = _check_solver(self.solver, self.penalty, self.dual)\n",
      "  File \"C:\\ProgramData\\Anaconda3\\lib\\site-packages\\sklearn\\linear_model\\_logistic.py\", line 445, in _check_solver\n",
      "    raise ValueError(\"Solver %s supports only \"\n",
      "ValueError: Solver sag supports only dual=False, got dual=True\n",
      "\n",
      "  warnings.warn(\"Estimator fit failed. The score on this train-test\"\n"
     ]
    },
    {
     "name": "stdout",
     "output_type": "stream",
     "text": [
      "[CV]  C=10, class_weight=None, dual=False, penalty=elasticnet, solver=sag, score=nan, total=   0.0s\n",
      "[CV] C=10, class_weight=None, dual=False, penalty=elasticnet, solver=sag \n",
      "[CV]  C=10, class_weight=None, dual=False, penalty=elasticnet, solver=sag, score=nan, total=   0.0s\n",
      "[CV] C=10, class_weight=None, dual=False, penalty=elasticnet, solver=sag \n",
      "[CV]  C=10, class_weight=None, dual=False, penalty=elasticnet, solver=sag, score=nan, total=   0.0s\n",
      "[CV] C=10, class_weight=None, dual=False, penalty=elasticnet, solver=sag \n",
      "[CV]  C=10, class_weight=None, dual=False, penalty=elasticnet, solver=sag, score=nan, total=   0.0s\n",
      "[CV] C=10, class_weight=None, dual=False, penalty=elasticnet, solver=sag \n",
      "[CV]  C=10, class_weight=None, dual=False, penalty=elasticnet, solver=sag, score=nan, total=   0.0s\n",
      "[CV] C=10, class_weight=None, dual=False, penalty=elasticnet, solver=saga \n",
      "[CV]  C=10, class_weight=None, dual=False, penalty=elasticnet, solver=saga, score=nan, total=   0.0s\n",
      "[CV] C=10, class_weight=None, dual=False, penalty=elasticnet, solver=saga \n",
      "[CV]  C=10, class_weight=None, dual=False, penalty=elasticnet, solver=saga, score=nan, total=   0.0s\n",
      "[CV] C=10, class_weight=None, dual=False, penalty=elasticnet, solver=saga \n",
      "[CV]  C=10, class_weight=None, dual=False, penalty=elasticnet, solver=saga, score=nan, total=   0.0s\n",
      "[CV] C=10, class_weight=None, dual=False, penalty=elasticnet, solver=saga \n",
      "[CV]  C=10, class_weight=None, dual=False, penalty=elasticnet, solver=saga, score=nan, total=   0.0s\n",
      "[CV] C=10, class_weight=None, dual=False, penalty=elasticnet, solver=saga \n",
      "[CV]  C=10, class_weight=None, dual=False, penalty=elasticnet, solver=saga, score=nan, total=   0.0s\n",
      "[CV] C=10, class_weight=None, dual=False, penalty=elasticnet, solver=liblinear \n",
      "[CV]  C=10, class_weight=None, dual=False, penalty=elasticnet, solver=liblinear, score=nan, total=   0.0s\n",
      "[CV] C=10, class_weight=None, dual=False, penalty=elasticnet, solver=liblinear \n",
      "[CV]  C=10, class_weight=None, dual=False, penalty=elasticnet, solver=liblinear, score=nan, total=   0.0s\n",
      "[CV] C=10, class_weight=None, dual=False, penalty=elasticnet, solver=liblinear \n",
      "[CV]  C=10, class_weight=None, dual=False, penalty=elasticnet, solver=liblinear, score=nan, total=   0.0s\n",
      "[CV] C=10, class_weight=None, dual=False, penalty=elasticnet, solver=liblinear \n",
      "[CV]  C=10, class_weight=None, dual=False, penalty=elasticnet, solver=liblinear, score=nan, total=   0.0s\n",
      "[CV] C=10, class_weight=None, dual=False, penalty=elasticnet, solver=liblinear \n",
      "[CV]  C=10, class_weight=None, dual=False, penalty=elasticnet, solver=liblinear, score=nan, total=   0.0s\n",
      "[CV] C=10, class_weight=balanced, dual=True, penalty=l1, solver=newton-cg \n",
      "[CV]  C=10, class_weight=balanced, dual=True, penalty=l1, solver=newton-cg, score=nan, total=   0.0s\n",
      "[CV] C=10, class_weight=balanced, dual=True, penalty=l1, solver=newton-cg \n",
      "[CV]  C=10, class_weight=balanced, dual=True, penalty=l1, solver=newton-cg, score=nan, total=   0.0s\n",
      "[CV] C=10, class_weight=balanced, dual=True, penalty=l1, solver=newton-cg \n",
      "[CV]  C=10, class_weight=balanced, dual=True, penalty=l1, solver=newton-cg, score=nan, total=   0.0s\n",
      "[CV] C=10, class_weight=balanced, dual=True, penalty=l1, solver=newton-cg \n",
      "[CV]  C=10, class_weight=balanced, dual=True, penalty=l1, solver=newton-cg, score=nan, total=   0.0s\n",
      "[CV] C=10, class_weight=balanced, dual=True, penalty=l1, solver=newton-cg \n",
      "[CV]  C=10, class_weight=balanced, dual=True, penalty=l1, solver=newton-cg, score=nan, total=   0.0s\n",
      "[CV] C=10, class_weight=balanced, dual=True, penalty=l1, solver=lbfgs \n",
      "[CV]  C=10, class_weight=balanced, dual=True, penalty=l1, solver=lbfgs, score=nan, total=   0.0s\n",
      "[CV] C=10, class_weight=balanced, dual=True, penalty=l1, solver=lbfgs \n",
      "[CV]  C=10, class_weight=balanced, dual=True, penalty=l1, solver=lbfgs, score=nan, total=   0.0s\n",
      "[CV] C=10, class_weight=balanced, dual=True, penalty=l1, solver=lbfgs \n",
      "[CV]  C=10, class_weight=balanced, dual=True, penalty=l1, solver=lbfgs, score=nan, total=   0.0s\n",
      "[CV] C=10, class_weight=balanced, dual=True, penalty=l1, solver=lbfgs \n",
      "[CV]  C=10, class_weight=balanced, dual=True, penalty=l1, solver=lbfgs, score=nan, total=   0.0s\n",
      "[CV] C=10, class_weight=balanced, dual=True, penalty=l1, solver=lbfgs \n",
      "[CV]  C=10, class_weight=balanced, dual=True, penalty=l1, solver=lbfgs, score=nan, total=   0.0s\n",
      "[CV] C=10, class_weight=balanced, dual=True, penalty=l1, solver=sag ..\n",
      "[CV]  C=10, class_weight=balanced, dual=True, penalty=l1, solver=sag, score=nan, total=   0.0s\n",
      "[CV] C=10, class_weight=balanced, dual=True, penalty=l1, solver=sag ..\n",
      "[CV]  C=10, class_weight=balanced, dual=True, penalty=l1, solver=sag, score=nan, total=   0.0s\n",
      "[CV] C=10, class_weight=balanced, dual=True, penalty=l1, solver=sag ..\n",
      "[CV]  C=10, class_weight=balanced, dual=True, penalty=l1, solver=sag, score=nan, total=   0.0s\n",
      "[CV] C=10, class_weight=balanced, dual=True, penalty=l1, solver=sag ..\n",
      "[CV]  C=10, class_weight=balanced, dual=True, penalty=l1, solver=sag, score=nan, total=   0.0s\n",
      "[CV] C=10, class_weight=balanced, dual=True, penalty=l1, solver=sag ..\n",
      "[CV]  C=10, class_weight=balanced, dual=True, penalty=l1, solver=sag, score=nan, total=   0.0s\n",
      "[CV] C=10, class_weight=balanced, dual=True, penalty=l1, solver=saga .\n",
      "[CV]  C=10, class_weight=balanced, dual=True, penalty=l1, solver=saga, score=nan, total=   0.0s\n",
      "[CV] C=10, class_weight=balanced, dual=True, penalty=l1, solver=saga .\n",
      "[CV]  C=10, class_weight=balanced, dual=True, penalty=l1, solver=saga, score=nan, total=   0.0s\n",
      "[CV] C=10, class_weight=balanced, dual=True, penalty=l1, solver=saga .\n",
      "[CV]  C=10, class_weight=balanced, dual=True, penalty=l1, solver=saga, score=nan, total=   0.0s\n",
      "[CV] C=10, class_weight=balanced, dual=True, penalty=l1, solver=saga .\n",
      "[CV]  C=10, class_weight=balanced, dual=True, penalty=l1, solver=saga, score=nan, total=   0.0s\n",
      "[CV] C=10, class_weight=balanced, dual=True, penalty=l1, solver=saga .\n",
      "[CV]  C=10, class_weight=balanced, dual=True, penalty=l1, solver=saga, score=nan, total=   0.0s\n",
      "[CV] C=10, class_weight=balanced, dual=True, penalty=l1, solver=liblinear \n",
      "[CV]  C=10, class_weight=balanced, dual=True, penalty=l1, solver=liblinear, score=nan, total=   0.0s\n",
      "[CV] C=10, class_weight=balanced, dual=True, penalty=l1, solver=liblinear \n",
      "[CV]  C=10, class_weight=balanced, dual=True, penalty=l1, solver=liblinear, score=nan, total=   0.0s\n",
      "[CV] C=10, class_weight=balanced, dual=True, penalty=l1, solver=liblinear \n",
      "[CV]  C=10, class_weight=balanced, dual=True, penalty=l1, solver=liblinear, score=nan, total=   0.0s\n",
      "[CV] C=10, class_weight=balanced, dual=True, penalty=l1, solver=liblinear \n",
      "[CV]  C=10, class_weight=balanced, dual=True, penalty=l1, solver=liblinear, score=nan, total=   0.0s\n",
      "[CV] C=10, class_weight=balanced, dual=True, penalty=l1, solver=liblinear \n",
      "[CV]  C=10, class_weight=balanced, dual=True, penalty=l1, solver=liblinear, score=nan, total=   0.0s\n",
      "[CV] C=10, class_weight=balanced, dual=True, penalty=l2, solver=newton-cg \n",
      "[CV]  C=10, class_weight=balanced, dual=True, penalty=l2, solver=newton-cg, score=nan, total=   0.0s\n",
      "[CV] C=10, class_weight=balanced, dual=True, penalty=l2, solver=newton-cg \n",
      "[CV]  C=10, class_weight=balanced, dual=True, penalty=l2, solver=newton-cg, score=nan, total=   0.0s\n",
      "[CV] C=10, class_weight=balanced, dual=True, penalty=l2, solver=newton-cg \n",
      "[CV]  C=10, class_weight=balanced, dual=True, penalty=l2, solver=newton-cg, score=nan, total=   0.0s\n",
      "[CV] C=10, class_weight=balanced, dual=True, penalty=l2, solver=newton-cg \n",
      "[CV]  C=10, class_weight=balanced, dual=True, penalty=l2, solver=newton-cg, score=nan, total=   0.0s\n",
      "[CV] C=10, class_weight=balanced, dual=True, penalty=l2, solver=newton-cg \n",
      "[CV]  C=10, class_weight=balanced, dual=True, penalty=l2, solver=newton-cg, score=nan, total=   0.0s\n",
      "[CV] C=10, class_weight=balanced, dual=True, penalty=l2, solver=lbfgs \n",
      "[CV]  C=10, class_weight=balanced, dual=True, penalty=l2, solver=lbfgs, score=nan, total=   0.0s\n",
      "[CV] C=10, class_weight=balanced, dual=True, penalty=l2, solver=lbfgs \n",
      "[CV]  C=10, class_weight=balanced, dual=True, penalty=l2, solver=lbfgs, score=nan, total=   0.0s\n",
      "[CV] C=10, class_weight=balanced, dual=True, penalty=l2, solver=lbfgs \n",
      "[CV]  C=10, class_weight=balanced, dual=True, penalty=l2, solver=lbfgs, score=nan, total=   0.0s\n",
      "[CV] C=10, class_weight=balanced, dual=True, penalty=l2, solver=lbfgs \n",
      "[CV]  C=10, class_weight=balanced, dual=True, penalty=l2, solver=lbfgs, score=nan, total=   0.0s\n",
      "[CV] C=10, class_weight=balanced, dual=True, penalty=l2, solver=lbfgs \n",
      "[CV]  C=10, class_weight=balanced, dual=True, penalty=l2, solver=lbfgs, score=nan, total=   0.0s\n",
      "[CV] C=10, class_weight=balanced, dual=True, penalty=l2, solver=sag ..\n",
      "[CV]  C=10, class_weight=balanced, dual=True, penalty=l2, solver=sag, score=nan, total=   0.0s\n",
      "[CV] C=10, class_weight=balanced, dual=True, penalty=l2, solver=sag ..\n",
      "[CV]  C=10, class_weight=balanced, dual=True, penalty=l2, solver=sag, score=nan, total=   0.0s\n",
      "[CV] C=10, class_weight=balanced, dual=True, penalty=l2, solver=sag ..\n",
      "[CV]  C=10, class_weight=balanced, dual=True, penalty=l2, solver=sag, score=nan, total=   0.0s\n",
      "[CV] C=10, class_weight=balanced, dual=True, penalty=l2, solver=sag ..\n",
      "[CV]  C=10, class_weight=balanced, dual=True, penalty=l2, solver=sag, score=nan, total=   0.0s\n",
      "[CV] C=10, class_weight=balanced, dual=True, penalty=l2, solver=sag ..\n",
      "[CV]  C=10, class_weight=balanced, dual=True, penalty=l2, solver=sag, score=nan, total=   0.0s\n",
      "[CV] C=10, class_weight=balanced, dual=True, penalty=l2, solver=saga .\n",
      "[CV]  C=10, class_weight=balanced, dual=True, penalty=l2, solver=saga, score=nan, total=   0.0s\n",
      "[CV] C=10, class_weight=balanced, dual=True, penalty=l2, solver=saga .\n",
      "[CV]  C=10, class_weight=balanced, dual=True, penalty=l2, solver=saga, score=nan, total=   0.0s\n",
      "[CV] C=10, class_weight=balanced, dual=True, penalty=l2, solver=saga .\n",
      "[CV]  C=10, class_weight=balanced, dual=True, penalty=l2, solver=saga, score=nan, total=   0.0s\n",
      "[CV] C=10, class_weight=balanced, dual=True, penalty=l2, solver=saga .\n",
      "[CV]  C=10, class_weight=balanced, dual=True, penalty=l2, solver=saga, score=nan, total=   0.0s\n",
      "[CV] C=10, class_weight=balanced, dual=True, penalty=l2, solver=saga .\n",
      "[CV]  C=10, class_weight=balanced, dual=True, penalty=l2, solver=saga, score=nan, total=   0.0s\n",
      "[CV] C=10, class_weight=balanced, dual=True, penalty=l2, solver=liblinear \n"
     ]
    },
    {
     "name": "stderr",
     "output_type": "stream",
     "text": [
      "C:\\ProgramData\\Anaconda3\\lib\\site-packages\\sklearn\\svm\\_base.py:976: ConvergenceWarning: Liblinear failed to converge, increase the number of iterations.\n",
      "  warnings.warn(\"Liblinear failed to converge, increase \"\n"
     ]
    },
    {
     "name": "stdout",
     "output_type": "stream",
     "text": [
      "[CV]  C=10, class_weight=balanced, dual=True, penalty=l2, solver=liblinear, score=0.719, total=   0.1s\n",
      "[CV] C=10, class_weight=balanced, dual=True, penalty=l2, solver=liblinear \n",
      "[CV]  C=10, class_weight=balanced, dual=True, penalty=l2, solver=liblinear, score=0.696, total=   0.1s\n",
      "[CV] C=10, class_weight=balanced, dual=True, penalty=l2, solver=liblinear \n",
      "[CV]  C=10, class_weight=balanced, dual=True, penalty=l2, solver=liblinear, score=0.648, total=   0.1s\n",
      "[CV] C=10, class_weight=balanced, dual=True, penalty=l2, solver=liblinear \n",
      "[CV]  C=10, class_weight=balanced, dual=True, penalty=l2, solver=liblinear, score=0.668, total=   0.1s\n",
      "[CV] C=10, class_weight=balanced, dual=True, penalty=l2, solver=liblinear \n",
      "[CV]  C=10, class_weight=balanced, dual=True, penalty=l2, solver=liblinear, score=0.727, total=   0.2s\n",
      "[CV] C=10, class_weight=balanced, dual=True, penalty=elasticnet, solver=newton-cg \n",
      "[CV]  C=10, class_weight=balanced, dual=True, penalty=elasticnet, solver=newton-cg, score=nan, total=   0.0s\n",
      "[CV] C=10, class_weight=balanced, dual=True, penalty=elasticnet, solver=newton-cg \n",
      "[CV]  C=10, class_weight=balanced, dual=True, penalty=elasticnet, solver=newton-cg, score=nan, total=   0.0s\n",
      "[CV] C=10, class_weight=balanced, dual=True, penalty=elasticnet, solver=newton-cg \n",
      "[CV]  C=10, class_weight=balanced, dual=True, penalty=elasticnet, solver=newton-cg, score=nan, total=   0.0s\n",
      "[CV] C=10, class_weight=balanced, dual=True, penalty=elasticnet, solver=newton-cg \n",
      "[CV]  C=10, class_weight=balanced, dual=True, penalty=elasticnet, solver=newton-cg, score=nan, total=   0.0s\n",
      "[CV] C=10, class_weight=balanced, dual=True, penalty=elasticnet, solver=newton-cg \n",
      "[CV]  C=10, class_weight=balanced, dual=True, penalty=elasticnet, solver=newton-cg, score=nan, total=   0.0s\n",
      "[CV] C=10, class_weight=balanced, dual=True, penalty=elasticnet, solver=lbfgs \n",
      "[CV]  C=10, class_weight=balanced, dual=True, penalty=elasticnet, solver=lbfgs, score=nan, total=   0.0s\n",
      "[CV] C=10, class_weight=balanced, dual=True, penalty=elasticnet, solver=lbfgs \n",
      "[CV]  C=10, class_weight=balanced, dual=True, penalty=elasticnet, solver=lbfgs, score=nan, total=   0.0s\n",
      "[CV] C=10, class_weight=balanced, dual=True, penalty=elasticnet, solver=lbfgs \n",
      "[CV]  C=10, class_weight=balanced, dual=True, penalty=elasticnet, solver=lbfgs, score=nan, total=   0.0s\n",
      "[CV] C=10, class_weight=balanced, dual=True, penalty=elasticnet, solver=lbfgs \n",
      "[CV]  C=10, class_weight=balanced, dual=True, penalty=elasticnet, solver=lbfgs, score=nan, total=   0.0s\n",
      "[CV] C=10, class_weight=balanced, dual=True, penalty=elasticnet, solver=lbfgs \n",
      "[CV]  C=10, class_weight=balanced, dual=True, penalty=elasticnet, solver=lbfgs, score=nan, total=   0.0s\n",
      "[CV] C=10, class_weight=balanced, dual=True, penalty=elasticnet, solver=sag \n",
      "[CV]  C=10, class_weight=balanced, dual=True, penalty=elasticnet, solver=sag, score=nan, total=   0.0s\n",
      "[CV] C=10, class_weight=balanced, dual=True, penalty=elasticnet, solver=sag \n",
      "[CV]  C=10, class_weight=balanced, dual=True, penalty=elasticnet, solver=sag, score=nan, total=   0.0s\n",
      "[CV] C=10, class_weight=balanced, dual=True, penalty=elasticnet, solver=sag \n",
      "[CV]  C=10, class_weight=balanced, dual=True, penalty=elasticnet, solver=sag, score=nan, total=   0.0s\n",
      "[CV] C=10, class_weight=balanced, dual=True, penalty=elasticnet, solver=sag \n",
      "[CV]  C=10, class_weight=balanced, dual=True, penalty=elasticnet, solver=sag, score=nan, total=   0.0s\n",
      "[CV] C=10, class_weight=balanced, dual=True, penalty=elasticnet, solver=sag \n",
      "[CV]  C=10, class_weight=balanced, dual=True, penalty=elasticnet, solver=sag, score=nan, total=   0.0s\n",
      "[CV] C=10, class_weight=balanced, dual=True, penalty=elasticnet, solver=saga \n",
      "[CV]  C=10, class_weight=balanced, dual=True, penalty=elasticnet, solver=saga, score=nan, total=   0.0s\n",
      "[CV] C=10, class_weight=balanced, dual=True, penalty=elasticnet, solver=saga \n",
      "[CV]  C=10, class_weight=balanced, dual=True, penalty=elasticnet, solver=saga, score=nan, total=   0.0s\n",
      "[CV] C=10, class_weight=balanced, dual=True, penalty=elasticnet, solver=saga \n",
      "[CV]  C=10, class_weight=balanced, dual=True, penalty=elasticnet, solver=saga, score=nan, total=   0.0s\n",
      "[CV] C=10, class_weight=balanced, dual=True, penalty=elasticnet, solver=saga \n",
      "[CV]  C=10, class_weight=balanced, dual=True, penalty=elasticnet, solver=saga, score=nan, total=   0.0s\n",
      "[CV] C=10, class_weight=balanced, dual=True, penalty=elasticnet, solver=saga \n",
      "[CV]  C=10, class_weight=balanced, dual=True, penalty=elasticnet, solver=saga, score=nan, total=   0.0s\n",
      "[CV] C=10, class_weight=balanced, dual=True, penalty=elasticnet, solver=liblinear \n",
      "[CV]  C=10, class_weight=balanced, dual=True, penalty=elasticnet, solver=liblinear, score=nan, total=   0.0s\n",
      "[CV] C=10, class_weight=balanced, dual=True, penalty=elasticnet, solver=liblinear \n",
      "[CV]  C=10, class_weight=balanced, dual=True, penalty=elasticnet, solver=liblinear, score=nan, total=   0.0s\n",
      "[CV] C=10, class_weight=balanced, dual=True, penalty=elasticnet, solver=liblinear \n",
      "[CV]  C=10, class_weight=balanced, dual=True, penalty=elasticnet, solver=liblinear, score=nan, total=   0.0s\n",
      "[CV] C=10, class_weight=balanced, dual=True, penalty=elasticnet, solver=liblinear \n",
      "[CV]  C=10, class_weight=balanced, dual=True, penalty=elasticnet, solver=liblinear, score=nan, total=   0.0s\n",
      "[CV] C=10, class_weight=balanced, dual=True, penalty=elasticnet, solver=liblinear \n",
      "[CV]  C=10, class_weight=balanced, dual=True, penalty=elasticnet, solver=liblinear, score=nan, total=   0.0s\n",
      "[CV] C=10, class_weight=balanced, dual=False, penalty=l1, solver=newton-cg \n",
      "[CV]  C=10, class_weight=balanced, dual=False, penalty=l1, solver=newton-cg, score=nan, total=   0.0s\n",
      "[CV] C=10, class_weight=balanced, dual=False, penalty=l1, solver=newton-cg \n",
      "[CV]  C=10, class_weight=balanced, dual=False, penalty=l1, solver=newton-cg, score=nan, total=   0.0s\n",
      "[CV] C=10, class_weight=balanced, dual=False, penalty=l1, solver=newton-cg \n",
      "[CV]  C=10, class_weight=balanced, dual=False, penalty=l1, solver=newton-cg, score=nan, total=   0.0s\n",
      "[CV] C=10, class_weight=balanced, dual=False, penalty=l1, solver=newton-cg \n",
      "[CV]  C=10, class_weight=balanced, dual=False, penalty=l1, solver=newton-cg, score=nan, total=   0.0s\n",
      "[CV] C=10, class_weight=balanced, dual=False, penalty=l1, solver=newton-cg \n",
      "[CV]  C=10, class_weight=balanced, dual=False, penalty=l1, solver=newton-cg, score=nan, total=   0.0s\n",
      "[CV] C=10, class_weight=balanced, dual=False, penalty=l1, solver=lbfgs \n",
      "[CV]  C=10, class_weight=balanced, dual=False, penalty=l1, solver=lbfgs, score=nan, total=   0.0s\n",
      "[CV] C=10, class_weight=balanced, dual=False, penalty=l1, solver=lbfgs \n",
      "[CV]  C=10, class_weight=balanced, dual=False, penalty=l1, solver=lbfgs, score=nan, total=   0.0s\n",
      "[CV] C=10, class_weight=balanced, dual=False, penalty=l1, solver=lbfgs \n",
      "[CV]  C=10, class_weight=balanced, dual=False, penalty=l1, solver=lbfgs, score=nan, total=   0.0s\n",
      "[CV] C=10, class_weight=balanced, dual=False, penalty=l1, solver=lbfgs \n",
      "[CV]  C=10, class_weight=balanced, dual=False, penalty=l1, solver=lbfgs, score=nan, total=   0.0s\n",
      "[CV] C=10, class_weight=balanced, dual=False, penalty=l1, solver=lbfgs \n",
      "[CV]  C=10, class_weight=balanced, dual=False, penalty=l1, solver=lbfgs, score=nan, total=   0.0s\n",
      "[CV] C=10, class_weight=balanced, dual=False, penalty=l1, solver=sag .\n",
      "[CV]  C=10, class_weight=balanced, dual=False, penalty=l1, solver=sag, score=nan, total=   0.0s\n",
      "[CV] C=10, class_weight=balanced, dual=False, penalty=l1, solver=sag .\n",
      "[CV]  C=10, class_weight=balanced, dual=False, penalty=l1, solver=sag, score=nan, total=   0.0s\n",
      "[CV] C=10, class_weight=balanced, dual=False, penalty=l1, solver=sag .\n",
      "[CV]  C=10, class_weight=balanced, dual=False, penalty=l1, solver=sag, score=nan, total=   0.0s\n",
      "[CV] C=10, class_weight=balanced, dual=False, penalty=l1, solver=sag .\n",
      "[CV]  C=10, class_weight=balanced, dual=False, penalty=l1, solver=sag, score=nan, total=   0.0s\n",
      "[CV] C=10, class_weight=balanced, dual=False, penalty=l1, solver=sag .\n",
      "[CV]  C=10, class_weight=balanced, dual=False, penalty=l1, solver=sag, score=nan, total=   0.0s\n",
      "[CV] C=10, class_weight=balanced, dual=False, penalty=l1, solver=saga \n"
     ]
    },
    {
     "name": "stderr",
     "output_type": "stream",
     "text": [
      "C:\\ProgramData\\Anaconda3\\lib\\site-packages\\sklearn\\linear_model\\_sag.py:329: ConvergenceWarning: The max_iter was reached which means the coef_ did not converge\n",
      "  warnings.warn(\"The max_iter was reached which means \"\n"
     ]
    },
    {
     "name": "stdout",
     "output_type": "stream",
     "text": [
      "[CV]  C=10, class_weight=balanced, dual=False, penalty=l1, solver=saga, score=0.717, total=   8.3s\n",
      "[CV] C=10, class_weight=balanced, dual=False, penalty=l1, solver=saga \n"
     ]
    },
    {
     "name": "stderr",
     "output_type": "stream",
     "text": [
      "C:\\ProgramData\\Anaconda3\\lib\\site-packages\\sklearn\\linear_model\\_sag.py:329: ConvergenceWarning: The max_iter was reached which means the coef_ did not converge\n",
      "  warnings.warn(\"The max_iter was reached which means \"\n"
     ]
    },
    {
     "name": "stdout",
     "output_type": "stream",
     "text": [
      "[CV]  C=10, class_weight=balanced, dual=False, penalty=l1, solver=saga, score=0.730, total=   5.7s\n",
      "[CV] C=10, class_weight=balanced, dual=False, penalty=l1, solver=saga \n"
     ]
    },
    {
     "name": "stderr",
     "output_type": "stream",
     "text": [
      "C:\\ProgramData\\Anaconda3\\lib\\site-packages\\sklearn\\linear_model\\_sag.py:329: ConvergenceWarning: The max_iter was reached which means the coef_ did not converge\n",
      "  warnings.warn(\"The max_iter was reached which means \"\n"
     ]
    },
    {
     "name": "stdout",
     "output_type": "stream",
     "text": [
      "[CV]  C=10, class_weight=balanced, dual=False, penalty=l1, solver=saga, score=0.650, total=   8.2s\n",
      "[CV] C=10, class_weight=balanced, dual=False, penalty=l1, solver=saga \n"
     ]
    },
    {
     "name": "stderr",
     "output_type": "stream",
     "text": [
      "C:\\ProgramData\\Anaconda3\\lib\\site-packages\\sklearn\\linear_model\\_sag.py:329: ConvergenceWarning: The max_iter was reached which means the coef_ did not converge\n",
      "  warnings.warn(\"The max_iter was reached which means \"\n"
     ]
    },
    {
     "name": "stdout",
     "output_type": "stream",
     "text": [
      "[CV]  C=10, class_weight=balanced, dual=False, penalty=l1, solver=saga, score=0.663, total=   8.2s\n",
      "[CV] C=10, class_weight=balanced, dual=False, penalty=l1, solver=saga \n"
     ]
    },
    {
     "name": "stderr",
     "output_type": "stream",
     "text": [
      "C:\\ProgramData\\Anaconda3\\lib\\site-packages\\sklearn\\linear_model\\_sag.py:329: ConvergenceWarning: The max_iter was reached which means the coef_ did not converge\n",
      "  warnings.warn(\"The max_iter was reached which means \"\n"
     ]
    },
    {
     "name": "stdout",
     "output_type": "stream",
     "text": [
      "[CV]  C=10, class_weight=balanced, dual=False, penalty=l1, solver=saga, score=0.790, total=   8.4s\n",
      "[CV] C=10, class_weight=balanced, dual=False, penalty=l1, solver=liblinear \n",
      "[CV]  C=10, class_weight=balanced, dual=False, penalty=l1, solver=liblinear, score=0.707, total=   0.1s\n",
      "[CV] C=10, class_weight=balanced, dual=False, penalty=l1, solver=liblinear \n",
      "[CV]  C=10, class_weight=balanced, dual=False, penalty=l1, solver=liblinear, score=0.729, total=   0.1s\n",
      "[CV] C=10, class_weight=balanced, dual=False, penalty=l1, solver=liblinear \n",
      "[CV]  C=10, class_weight=balanced, dual=False, penalty=l1, solver=liblinear, score=0.678, total=   0.1s\n",
      "[CV] C=10, class_weight=balanced, dual=False, penalty=l1, solver=liblinear \n",
      "[CV]  C=10, class_weight=balanced, dual=False, penalty=l1, solver=liblinear, score=0.755, total=   0.1s\n",
      "[CV] C=10, class_weight=balanced, dual=False, penalty=l1, solver=liblinear \n",
      "[CV]  C=10, class_weight=balanced, dual=False, penalty=l1, solver=liblinear, score=0.710, total=   0.1s\n",
      "[CV] C=10, class_weight=balanced, dual=False, penalty=l2, solver=newton-cg \n",
      "[CV]  C=10, class_weight=balanced, dual=False, penalty=l2, solver=newton-cg, score=0.740, total=   0.3s\n",
      "[CV] C=10, class_weight=balanced, dual=False, penalty=l2, solver=newton-cg \n",
      "[CV]  C=10, class_weight=balanced, dual=False, penalty=l2, solver=newton-cg, score=0.721, total=   0.3s\n",
      "[CV] C=10, class_weight=balanced, dual=False, penalty=l2, solver=newton-cg \n",
      "[CV]  C=10, class_weight=balanced, dual=False, penalty=l2, solver=newton-cg, score=0.669, total=   0.3s\n",
      "[CV] C=10, class_weight=balanced, dual=False, penalty=l2, solver=newton-cg \n",
      "[CV]  C=10, class_weight=balanced, dual=False, penalty=l2, solver=newton-cg, score=0.686, total=   0.3s\n",
      "[CV] C=10, class_weight=balanced, dual=False, penalty=l2, solver=newton-cg \n",
      "[CV]  C=10, class_weight=balanced, dual=False, penalty=l2, solver=newton-cg, score=0.748, total=   0.3s\n",
      "[CV] C=10, class_weight=balanced, dual=False, penalty=l2, solver=lbfgs \n"
     ]
    },
    {
     "name": "stderr",
     "output_type": "stream",
     "text": [
      "C:\\ProgramData\\Anaconda3\\lib\\site-packages\\sklearn\\linear_model\\_logistic.py:762: ConvergenceWarning: lbfgs failed to converge (status=1):\n",
      "STOP: TOTAL NO. of ITERATIONS REACHED LIMIT.\n",
      "\n",
      "Increase the number of iterations (max_iter) or scale the data as shown in:\n",
      "    https://scikit-learn.org/stable/modules/preprocessing.html\n",
      "Please also refer to the documentation for alternative solver options:\n",
      "    https://scikit-learn.org/stable/modules/linear_model.html#logistic-regression\n",
      "  n_iter_i = _check_optimize_result(\n"
     ]
    },
    {
     "name": "stdout",
     "output_type": "stream",
     "text": [
      "[CV]  C=10, class_weight=balanced, dual=False, penalty=l2, solver=lbfgs, score=0.740, total=   0.5s\n",
      "[CV] C=10, class_weight=balanced, dual=False, penalty=l2, solver=lbfgs \n"
     ]
    },
    {
     "name": "stderr",
     "output_type": "stream",
     "text": [
      "C:\\ProgramData\\Anaconda3\\lib\\site-packages\\sklearn\\linear_model\\_logistic.py:762: ConvergenceWarning: lbfgs failed to converge (status=1):\n",
      "STOP: TOTAL NO. of ITERATIONS REACHED LIMIT.\n",
      "\n",
      "Increase the number of iterations (max_iter) or scale the data as shown in:\n",
      "    https://scikit-learn.org/stable/modules/preprocessing.html\n",
      "Please also refer to the documentation for alternative solver options:\n",
      "    https://scikit-learn.org/stable/modules/linear_model.html#logistic-regression\n",
      "  n_iter_i = _check_optimize_result(\n"
     ]
    },
    {
     "name": "stdout",
     "output_type": "stream",
     "text": [
      "[CV]  C=10, class_weight=balanced, dual=False, penalty=l2, solver=lbfgs, score=0.721, total=   0.6s\n",
      "[CV] C=10, class_weight=balanced, dual=False, penalty=l2, solver=lbfgs \n"
     ]
    },
    {
     "name": "stderr",
     "output_type": "stream",
     "text": [
      "C:\\ProgramData\\Anaconda3\\lib\\site-packages\\sklearn\\linear_model\\_logistic.py:762: ConvergenceWarning: lbfgs failed to converge (status=1):\n",
      "STOP: TOTAL NO. of ITERATIONS REACHED LIMIT.\n",
      "\n",
      "Increase the number of iterations (max_iter) or scale the data as shown in:\n",
      "    https://scikit-learn.org/stable/modules/preprocessing.html\n",
      "Please also refer to the documentation for alternative solver options:\n",
      "    https://scikit-learn.org/stable/modules/linear_model.html#logistic-regression\n",
      "  n_iter_i = _check_optimize_result(\n"
     ]
    },
    {
     "name": "stdout",
     "output_type": "stream",
     "text": [
      "[CV]  C=10, class_weight=balanced, dual=False, penalty=l2, solver=lbfgs, score=0.669, total=   0.6s\n",
      "[CV] C=10, class_weight=balanced, dual=False, penalty=l2, solver=lbfgs \n"
     ]
    },
    {
     "name": "stderr",
     "output_type": "stream",
     "text": [
      "C:\\ProgramData\\Anaconda3\\lib\\site-packages\\sklearn\\linear_model\\_logistic.py:762: ConvergenceWarning: lbfgs failed to converge (status=1):\n",
      "STOP: TOTAL NO. of ITERATIONS REACHED LIMIT.\n",
      "\n",
      "Increase the number of iterations (max_iter) or scale the data as shown in:\n",
      "    https://scikit-learn.org/stable/modules/preprocessing.html\n",
      "Please also refer to the documentation for alternative solver options:\n",
      "    https://scikit-learn.org/stable/modules/linear_model.html#logistic-regression\n",
      "  n_iter_i = _check_optimize_result(\n"
     ]
    },
    {
     "name": "stdout",
     "output_type": "stream",
     "text": [
      "[CV]  C=10, class_weight=balanced, dual=False, penalty=l2, solver=lbfgs, score=0.686, total=   0.5s\n",
      "[CV] C=10, class_weight=balanced, dual=False, penalty=l2, solver=lbfgs \n"
     ]
    },
    {
     "name": "stderr",
     "output_type": "stream",
     "text": [
      "C:\\ProgramData\\Anaconda3\\lib\\site-packages\\sklearn\\linear_model\\_logistic.py:762: ConvergenceWarning: lbfgs failed to converge (status=1):\n",
      "STOP: TOTAL NO. of ITERATIONS REACHED LIMIT.\n",
      "\n",
      "Increase the number of iterations (max_iter) or scale the data as shown in:\n",
      "    https://scikit-learn.org/stable/modules/preprocessing.html\n",
      "Please also refer to the documentation for alternative solver options:\n",
      "    https://scikit-learn.org/stable/modules/linear_model.html#logistic-regression\n",
      "  n_iter_i = _check_optimize_result(\n"
     ]
    },
    {
     "name": "stdout",
     "output_type": "stream",
     "text": [
      "[CV]  C=10, class_weight=balanced, dual=False, penalty=l2, solver=lbfgs, score=0.748, total=   0.6s\n",
      "[CV] C=10, class_weight=balanced, dual=False, penalty=l2, solver=sag .\n"
     ]
    },
    {
     "name": "stderr",
     "output_type": "stream",
     "text": [
      "C:\\ProgramData\\Anaconda3\\lib\\site-packages\\sklearn\\linear_model\\_sag.py:329: ConvergenceWarning: The max_iter was reached which means the coef_ did not converge\n",
      "  warnings.warn(\"The max_iter was reached which means \"\n"
     ]
    },
    {
     "name": "stdout",
     "output_type": "stream",
     "text": [
      "[CV]  C=10, class_weight=balanced, dual=False, penalty=l2, solver=sag, score=0.704, total=   0.2s\n",
      "[CV] C=10, class_weight=balanced, dual=False, penalty=l2, solver=sag .\n"
     ]
    },
    {
     "name": "stderr",
     "output_type": "stream",
     "text": [
      "C:\\ProgramData\\Anaconda3\\lib\\site-packages\\sklearn\\linear_model\\_sag.py:329: ConvergenceWarning: The max_iter was reached which means the coef_ did not converge\n",
      "  warnings.warn(\"The max_iter was reached which means \"\n"
     ]
    },
    {
     "name": "stdout",
     "output_type": "stream",
     "text": [
      "[CV]  C=10, class_weight=balanced, dual=False, penalty=l2, solver=sag, score=0.696, total=   0.2s\n",
      "[CV] C=10, class_weight=balanced, dual=False, penalty=l2, solver=sag .\n"
     ]
    },
    {
     "name": "stderr",
     "output_type": "stream",
     "text": [
      "C:\\ProgramData\\Anaconda3\\lib\\site-packages\\sklearn\\linear_model\\_sag.py:329: ConvergenceWarning: The max_iter was reached which means the coef_ did not converge\n",
      "  warnings.warn(\"The max_iter was reached which means \"\n"
     ]
    },
    {
     "name": "stdout",
     "output_type": "stream",
     "text": [
      "[CV]  C=10, class_weight=balanced, dual=False, penalty=l2, solver=sag, score=0.672, total=   0.2s\n",
      "[CV] C=10, class_weight=balanced, dual=False, penalty=l2, solver=sag .\n"
     ]
    },
    {
     "name": "stderr",
     "output_type": "stream",
     "text": [
      "C:\\ProgramData\\Anaconda3\\lib\\site-packages\\sklearn\\linear_model\\_sag.py:329: ConvergenceWarning: The max_iter was reached which means the coef_ did not converge\n",
      "  warnings.warn(\"The max_iter was reached which means \"\n",
      "C:\\ProgramData\\Anaconda3\\lib\\site-packages\\sklearn\\linear_model\\_sag.py:329: ConvergenceWarning: The max_iter was reached which means the coef_ did not converge\n",
      "  warnings.warn(\"The max_iter was reached which means \"\n"
     ]
    },
    {
     "name": "stdout",
     "output_type": "stream",
     "text": [
      "[CV]  C=10, class_weight=balanced, dual=False, penalty=l2, solver=sag, score=0.674, total=   0.2s\n",
      "[CV] C=10, class_weight=balanced, dual=False, penalty=l2, solver=sag .\n",
      "[CV]  C=10, class_weight=balanced, dual=False, penalty=l2, solver=sag, score=0.723, total=   0.2s\n",
      "[CV] C=10, class_weight=balanced, dual=False, penalty=l2, solver=saga \n"
     ]
    },
    {
     "name": "stderr",
     "output_type": "stream",
     "text": [
      "C:\\ProgramData\\Anaconda3\\lib\\site-packages\\sklearn\\linear_model\\_sag.py:329: ConvergenceWarning: The max_iter was reached which means the coef_ did not converge\n",
      "  warnings.warn(\"The max_iter was reached which means \"\n"
     ]
    },
    {
     "name": "stdout",
     "output_type": "stream",
     "text": [
      "[CV]  C=10, class_weight=balanced, dual=False, penalty=l2, solver=saga, score=0.723, total=   0.2s\n",
      "[CV] C=10, class_weight=balanced, dual=False, penalty=l2, solver=saga \n"
     ]
    },
    {
     "name": "stderr",
     "output_type": "stream",
     "text": [
      "C:\\ProgramData\\Anaconda3\\lib\\site-packages\\sklearn\\linear_model\\_sag.py:329: ConvergenceWarning: The max_iter was reached which means the coef_ did not converge\n",
      "  warnings.warn(\"The max_iter was reached which means \"\n"
     ]
    },
    {
     "name": "stdout",
     "output_type": "stream",
     "text": [
      "[CV]  C=10, class_weight=balanced, dual=False, penalty=l2, solver=saga, score=0.688, total=   0.2s\n",
      "[CV] C=10, class_weight=balanced, dual=False, penalty=l2, solver=saga \n"
     ]
    },
    {
     "name": "stderr",
     "output_type": "stream",
     "text": [
      "C:\\ProgramData\\Anaconda3\\lib\\site-packages\\sklearn\\linear_model\\_sag.py:329: ConvergenceWarning: The max_iter was reached which means the coef_ did not converge\n",
      "  warnings.warn(\"The max_iter was reached which means \"\n"
     ]
    },
    {
     "name": "stdout",
     "output_type": "stream",
     "text": [
      "[CV]  C=10, class_weight=balanced, dual=False, penalty=l2, solver=saga, score=0.652, total=   0.3s\n",
      "[CV] C=10, class_weight=balanced, dual=False, penalty=l2, solver=saga \n"
     ]
    },
    {
     "name": "stderr",
     "output_type": "stream",
     "text": [
      "C:\\ProgramData\\Anaconda3\\lib\\site-packages\\sklearn\\linear_model\\_sag.py:329: ConvergenceWarning: The max_iter was reached which means the coef_ did not converge\n",
      "  warnings.warn(\"The max_iter was reached which means \"\n"
     ]
    },
    {
     "name": "stdout",
     "output_type": "stream",
     "text": [
      "[CV]  C=10, class_weight=balanced, dual=False, penalty=l2, solver=saga, score=0.661, total=   0.3s\n",
      "[CV] C=10, class_weight=balanced, dual=False, penalty=l2, solver=saga \n"
     ]
    },
    {
     "name": "stderr",
     "output_type": "stream",
     "text": [
      "C:\\ProgramData\\Anaconda3\\lib\\site-packages\\sklearn\\linear_model\\_sag.py:329: ConvergenceWarning: The max_iter was reached which means the coef_ did not converge\n",
      "  warnings.warn(\"The max_iter was reached which means \"\n"
     ]
    },
    {
     "name": "stdout",
     "output_type": "stream",
     "text": [
      "[CV]  C=10, class_weight=balanced, dual=False, penalty=l2, solver=saga, score=0.776, total=   0.3s\n",
      "[CV] C=10, class_weight=balanced, dual=False, penalty=l2, solver=liblinear \n",
      "[CV]  C=10, class_weight=balanced, dual=False, penalty=l2, solver=liblinear, score=0.719, total=   0.2s\n",
      "[CV] C=10, class_weight=balanced, dual=False, penalty=l2, solver=liblinear \n",
      "[CV]  C=10, class_weight=balanced, dual=False, penalty=l2, solver=liblinear, score=0.696, total=   0.1s\n",
      "[CV] C=10, class_weight=balanced, dual=False, penalty=l2, solver=liblinear \n",
      "[CV]  C=10, class_weight=balanced, dual=False, penalty=l2, solver=liblinear, score=0.648, total=   0.1s\n",
      "[CV] C=10, class_weight=balanced, dual=False, penalty=l2, solver=liblinear \n",
      "[CV]  C=10, class_weight=balanced, dual=False, penalty=l2, solver=liblinear, score=0.668, total=   0.1s\n",
      "[CV] C=10, class_weight=balanced, dual=False, penalty=l2, solver=liblinear \n",
      "[CV]  C=10, class_weight=balanced, dual=False, penalty=l2, solver=liblinear, score=0.741, total=   0.1s\n",
      "[CV] C=10, class_weight=balanced, dual=False, penalty=elasticnet, solver=newton-cg \n",
      "[CV]  C=10, class_weight=balanced, dual=False, penalty=elasticnet, solver=newton-cg, score=nan, total=   0.0s\n",
      "[CV] C=10, class_weight=balanced, dual=False, penalty=elasticnet, solver=newton-cg \n",
      "[CV]  C=10, class_weight=balanced, dual=False, penalty=elasticnet, solver=newton-cg, score=nan, total=   0.0s\n",
      "[CV] C=10, class_weight=balanced, dual=False, penalty=elasticnet, solver=newton-cg \n",
      "[CV]  C=10, class_weight=balanced, dual=False, penalty=elasticnet, solver=newton-cg, score=nan, total=   0.0s\n",
      "[CV] C=10, class_weight=balanced, dual=False, penalty=elasticnet, solver=newton-cg \n",
      "[CV]  C=10, class_weight=balanced, dual=False, penalty=elasticnet, solver=newton-cg, score=nan, total=   0.0s\n",
      "[CV] C=10, class_weight=balanced, dual=False, penalty=elasticnet, solver=newton-cg \n",
      "[CV]  C=10, class_weight=balanced, dual=False, penalty=elasticnet, solver=newton-cg, score=nan, total=   0.0s\n",
      "[CV] C=10, class_weight=balanced, dual=False, penalty=elasticnet, solver=lbfgs \n",
      "[CV]  C=10, class_weight=balanced, dual=False, penalty=elasticnet, solver=lbfgs, score=nan, total=   0.0s\n",
      "[CV] C=10, class_weight=balanced, dual=False, penalty=elasticnet, solver=lbfgs \n",
      "[CV]  C=10, class_weight=balanced, dual=False, penalty=elasticnet, solver=lbfgs, score=nan, total=   0.0s\n",
      "[CV] C=10, class_weight=balanced, dual=False, penalty=elasticnet, solver=lbfgs \n",
      "[CV]  C=10, class_weight=balanced, dual=False, penalty=elasticnet, solver=lbfgs, score=nan, total=   0.0s\n",
      "[CV] C=10, class_weight=balanced, dual=False, penalty=elasticnet, solver=lbfgs \n",
      "[CV]  C=10, class_weight=balanced, dual=False, penalty=elasticnet, solver=lbfgs, score=nan, total=   0.0s\n",
      "[CV] C=10, class_weight=balanced, dual=False, penalty=elasticnet, solver=lbfgs \n",
      "[CV]  C=10, class_weight=balanced, dual=False, penalty=elasticnet, solver=lbfgs, score=nan, total=   0.0s\n",
      "[CV] C=10, class_weight=balanced, dual=False, penalty=elasticnet, solver=sag \n",
      "[CV]  C=10, class_weight=balanced, dual=False, penalty=elasticnet, solver=sag, score=nan, total=   0.0s\n",
      "[CV] C=10, class_weight=balanced, dual=False, penalty=elasticnet, solver=sag \n",
      "[CV]  C=10, class_weight=balanced, dual=False, penalty=elasticnet, solver=sag, score=nan, total=   0.0s\n",
      "[CV] C=10, class_weight=balanced, dual=False, penalty=elasticnet, solver=sag \n",
      "[CV]  C=10, class_weight=balanced, dual=False, penalty=elasticnet, solver=sag, score=nan, total=   0.0s\n",
      "[CV] C=10, class_weight=balanced, dual=False, penalty=elasticnet, solver=sag \n",
      "[CV]  C=10, class_weight=balanced, dual=False, penalty=elasticnet, solver=sag, score=nan, total=   0.0s\n",
      "[CV] C=10, class_weight=balanced, dual=False, penalty=elasticnet, solver=sag \n",
      "[CV]  C=10, class_weight=balanced, dual=False, penalty=elasticnet, solver=sag, score=nan, total=   0.0s\n",
      "[CV] C=10, class_weight=balanced, dual=False, penalty=elasticnet, solver=saga \n",
      "[CV]  C=10, class_weight=balanced, dual=False, penalty=elasticnet, solver=saga, score=nan, total=   0.0s\n",
      "[CV] C=10, class_weight=balanced, dual=False, penalty=elasticnet, solver=saga \n",
      "[CV]  C=10, class_weight=balanced, dual=False, penalty=elasticnet, solver=saga, score=nan, total=   0.0s\n",
      "[CV] C=10, class_weight=balanced, dual=False, penalty=elasticnet, solver=saga \n",
      "[CV]  C=10, class_weight=balanced, dual=False, penalty=elasticnet, solver=saga, score=nan, total=   0.0s\n",
      "[CV] C=10, class_weight=balanced, dual=False, penalty=elasticnet, solver=saga \n",
      "[CV]  C=10, class_weight=balanced, dual=False, penalty=elasticnet, solver=saga, score=nan, total=   0.0s\n",
      "[CV] C=10, class_weight=balanced, dual=False, penalty=elasticnet, solver=saga \n",
      "[CV]  C=10, class_weight=balanced, dual=False, penalty=elasticnet, solver=saga, score=nan, total=   0.0s\n",
      "[CV] C=10, class_weight=balanced, dual=False, penalty=elasticnet, solver=liblinear \n",
      "[CV]  C=10, class_weight=balanced, dual=False, penalty=elasticnet, solver=liblinear, score=nan, total=   0.0s\n",
      "[CV] C=10, class_weight=balanced, dual=False, penalty=elasticnet, solver=liblinear \n",
      "[CV]  C=10, class_weight=balanced, dual=False, penalty=elasticnet, solver=liblinear, score=nan, total=   0.0s\n",
      "[CV] C=10, class_weight=balanced, dual=False, penalty=elasticnet, solver=liblinear \n",
      "[CV]  C=10, class_weight=balanced, dual=False, penalty=elasticnet, solver=liblinear, score=nan, total=   0.0s\n",
      "[CV] C=10, class_weight=balanced, dual=False, penalty=elasticnet, solver=liblinear \n",
      "[CV]  C=10, class_weight=balanced, dual=False, penalty=elasticnet, solver=liblinear, score=nan, total=   0.0s\n",
      "[CV] C=10, class_weight=balanced, dual=False, penalty=elasticnet, solver=liblinear \n",
      "[CV]  C=10, class_weight=balanced, dual=False, penalty=elasticnet, solver=liblinear, score=nan, total=   0.0s\n",
      "[CV] C=30, class_weight=None, dual=True, penalty=l1, solver=newton-cg \n"
     ]
    },
    {
     "name": "stderr",
     "output_type": "stream",
     "text": [
      "C:\\ProgramData\\Anaconda3\\lib\\site-packages\\sklearn\\model_selection\\_validation.py:548: FitFailedWarning: Estimator fit failed. The score on this train-test partition for these parameters will be set to nan. Details: \n",
      "Traceback (most recent call last):\n",
      "  File \"C:\\ProgramData\\Anaconda3\\lib\\site-packages\\sklearn\\model_selection\\_validation.py\", line 531, in _fit_and_score\n",
      "    estimator.fit(X_train, y_train, **fit_params)\n",
      "  File \"C:\\ProgramData\\Anaconda3\\lib\\site-packages\\sklearn\\linear_model\\_logistic.py\", line 1304, in fit\n",
      "    solver = _check_solver(self.solver, self.penalty, self.dual)\n",
      "  File \"C:\\ProgramData\\Anaconda3\\lib\\site-packages\\sklearn\\linear_model\\_logistic.py\", line 442, in _check_solver\n",
      "    raise ValueError(\"Solver %s supports only 'l2' or 'none' penalties, \"\n",
      "ValueError: Solver newton-cg supports only 'l2' or 'none' penalties, got elasticnet penalty.\n",
      "\n",
      "  warnings.warn(\"Estimator fit failed. The score on this train-test\"\n",
      "C:\\ProgramData\\Anaconda3\\lib\\site-packages\\sklearn\\model_selection\\_validation.py:548: FitFailedWarning: Estimator fit failed. The score on this train-test partition for these parameters will be set to nan. Details: \n",
      "Traceback (most recent call last):\n",
      "  File \"C:\\ProgramData\\Anaconda3\\lib\\site-packages\\sklearn\\model_selection\\_validation.py\", line 531, in _fit_and_score\n",
      "    estimator.fit(X_train, y_train, **fit_params)\n",
      "  File \"C:\\ProgramData\\Anaconda3\\lib\\site-packages\\sklearn\\linear_model\\_logistic.py\", line 1304, in fit\n",
      "    solver = _check_solver(self.solver, self.penalty, self.dual)\n",
      "  File \"C:\\ProgramData\\Anaconda3\\lib\\site-packages\\sklearn\\linear_model\\_logistic.py\", line 442, in _check_solver\n",
      "    raise ValueError(\"Solver %s supports only 'l2' or 'none' penalties, \"\n",
      "ValueError: Solver lbfgs supports only 'l2' or 'none' penalties, got elasticnet penalty.\n",
      "\n",
      "  warnings.warn(\"Estimator fit failed. The score on this train-test\"\n",
      "C:\\ProgramData\\Anaconda3\\lib\\site-packages\\sklearn\\model_selection\\_validation.py:548: FitFailedWarning: Estimator fit failed. The score on this train-test partition for these parameters will be set to nan. Details: \n",
      "Traceback (most recent call last):\n",
      "  File \"C:\\ProgramData\\Anaconda3\\lib\\site-packages\\sklearn\\model_selection\\_validation.py\", line 531, in _fit_and_score\n",
      "    estimator.fit(X_train, y_train, **fit_params)\n",
      "  File \"C:\\ProgramData\\Anaconda3\\lib\\site-packages\\sklearn\\linear_model\\_logistic.py\", line 1304, in fit\n",
      "    solver = _check_solver(self.solver, self.penalty, self.dual)\n",
      "  File \"C:\\ProgramData\\Anaconda3\\lib\\site-packages\\sklearn\\linear_model\\_logistic.py\", line 442, in _check_solver\n",
      "    raise ValueError(\"Solver %s supports only 'l2' or 'none' penalties, \"\n",
      "ValueError: Solver sag supports only 'l2' or 'none' penalties, got elasticnet penalty.\n",
      "\n",
      "  warnings.warn(\"Estimator fit failed. The score on this train-test\"\n",
      "C:\\ProgramData\\Anaconda3\\lib\\site-packages\\sklearn\\model_selection\\_validation.py:548: FitFailedWarning: Estimator fit failed. The score on this train-test partition for these parameters will be set to nan. Details: \n",
      "Traceback (most recent call last):\n",
      "  File \"C:\\ProgramData\\Anaconda3\\lib\\site-packages\\sklearn\\model_selection\\_validation.py\", line 531, in _fit_and_score\n",
      "    estimator.fit(X_train, y_train, **fit_params)\n",
      "  File \"C:\\ProgramData\\Anaconda3\\lib\\site-packages\\sklearn\\linear_model\\_logistic.py\", line 1312, in fit\n",
      "    raise ValueError(\"l1_ratio must be between 0 and 1;\"\n",
      "ValueError: l1_ratio must be between 0 and 1; got (l1_ratio=None)\n",
      "\n",
      "  warnings.warn(\"Estimator fit failed. The score on this train-test\"\n",
      "C:\\ProgramData\\Anaconda3\\lib\\site-packages\\sklearn\\model_selection\\_validation.py:548: FitFailedWarning: Estimator fit failed. The score on this train-test partition for these parameters will be set to nan. Details: \n",
      "Traceback (most recent call last):\n",
      "  File \"C:\\ProgramData\\Anaconda3\\lib\\site-packages\\sklearn\\model_selection\\_validation.py\", line 531, in _fit_and_score\n",
      "    estimator.fit(X_train, y_train, **fit_params)\n",
      "  File \"C:\\ProgramData\\Anaconda3\\lib\\site-packages\\sklearn\\linear_model\\_logistic.py\", line 1304, in fit\n",
      "    solver = _check_solver(self.solver, self.penalty, self.dual)\n",
      "  File \"C:\\ProgramData\\Anaconda3\\lib\\site-packages\\sklearn\\linear_model\\_logistic.py\", line 449, in _check_solver\n",
      "    raise ValueError(\"Only 'saga' solver supports elasticnet penalty,\"\n",
      "ValueError: Only 'saga' solver supports elasticnet penalty, got solver=liblinear.\n",
      "\n",
      "  warnings.warn(\"Estimator fit failed. The score on this train-test\"\n",
      "C:\\ProgramData\\Anaconda3\\lib\\site-packages\\sklearn\\model_selection\\_validation.py:548: FitFailedWarning: Estimator fit failed. The score on this train-test partition for these parameters will be set to nan. Details: \n",
      "Traceback (most recent call last):\n",
      "  File \"C:\\ProgramData\\Anaconda3\\lib\\site-packages\\sklearn\\model_selection\\_validation.py\", line 531, in _fit_and_score\n",
      "    estimator.fit(X_train, y_train, **fit_params)\n",
      "  File \"C:\\ProgramData\\Anaconda3\\lib\\site-packages\\sklearn\\linear_model\\_logistic.py\", line 1304, in fit\n",
      "    solver = _check_solver(self.solver, self.penalty, self.dual)\n",
      "  File \"C:\\ProgramData\\Anaconda3\\lib\\site-packages\\sklearn\\linear_model\\_logistic.py\", line 442, in _check_solver\n",
      "    raise ValueError(\"Solver %s supports only 'l2' or 'none' penalties, \"\n",
      "ValueError: Solver newton-cg supports only 'l2' or 'none' penalties, got l1 penalty.\n",
      "\n",
      "  warnings.warn(\"Estimator fit failed. The score on this train-test\"\n",
      "C:\\ProgramData\\Anaconda3\\lib\\site-packages\\sklearn\\model_selection\\_validation.py:548: FitFailedWarning: Estimator fit failed. The score on this train-test partition for these parameters will be set to nan. Details: \n",
      "Traceback (most recent call last):\n",
      "  File \"C:\\ProgramData\\Anaconda3\\lib\\site-packages\\sklearn\\model_selection\\_validation.py\", line 531, in _fit_and_score\n",
      "    estimator.fit(X_train, y_train, **fit_params)\n",
      "  File \"C:\\ProgramData\\Anaconda3\\lib\\site-packages\\sklearn\\linear_model\\_logistic.py\", line 1304, in fit\n",
      "    solver = _check_solver(self.solver, self.penalty, self.dual)\n",
      "  File \"C:\\ProgramData\\Anaconda3\\lib\\site-packages\\sklearn\\linear_model\\_logistic.py\", line 442, in _check_solver\n",
      "    raise ValueError(\"Solver %s supports only 'l2' or 'none' penalties, \"\n",
      "ValueError: Solver lbfgs supports only 'l2' or 'none' penalties, got l1 penalty.\n",
      "\n",
      "  warnings.warn(\"Estimator fit failed. The score on this train-test\"\n",
      "C:\\ProgramData\\Anaconda3\\lib\\site-packages\\sklearn\\model_selection\\_validation.py:548: FitFailedWarning: Estimator fit failed. The score on this train-test partition for these parameters will be set to nan. Details: \n",
      "Traceback (most recent call last):\n",
      "  File \"C:\\ProgramData\\Anaconda3\\lib\\site-packages\\sklearn\\model_selection\\_validation.py\", line 531, in _fit_and_score\n",
      "    estimator.fit(X_train, y_train, **fit_params)\n",
      "  File \"C:\\ProgramData\\Anaconda3\\lib\\site-packages\\sklearn\\linear_model\\_logistic.py\", line 1304, in fit\n",
      "    solver = _check_solver(self.solver, self.penalty, self.dual)\n",
      "  File \"C:\\ProgramData\\Anaconda3\\lib\\site-packages\\sklearn\\linear_model\\_logistic.py\", line 442, in _check_solver\n",
      "    raise ValueError(\"Solver %s supports only 'l2' or 'none' penalties, \"\n",
      "ValueError: Solver sag supports only 'l2' or 'none' penalties, got l1 penalty.\n",
      "\n",
      "  warnings.warn(\"Estimator fit failed. The score on this train-test\"\n",
      "C:\\ProgramData\\Anaconda3\\lib\\site-packages\\sklearn\\model_selection\\_validation.py:548: FitFailedWarning: Estimator fit failed. The score on this train-test partition for these parameters will be set to nan. Details: \n",
      "Traceback (most recent call last):\n",
      "  File \"C:\\ProgramData\\Anaconda3\\lib\\site-packages\\sklearn\\model_selection\\_validation.py\", line 531, in _fit_and_score\n",
      "    estimator.fit(X_train, y_train, **fit_params)\n",
      "  File \"C:\\ProgramData\\Anaconda3\\lib\\site-packages\\sklearn\\linear_model\\_logistic.py\", line 1304, in fit\n",
      "    solver = _check_solver(self.solver, self.penalty, self.dual)\n",
      "  File \"C:\\ProgramData\\Anaconda3\\lib\\site-packages\\sklearn\\linear_model\\_logistic.py\", line 445, in _check_solver\n",
      "    raise ValueError(\"Solver %s supports only \"\n",
      "ValueError: Solver saga supports only dual=False, got dual=True\n",
      "\n",
      "  warnings.warn(\"Estimator fit failed. The score on this train-test\"\n",
      "C:\\ProgramData\\Anaconda3\\lib\\site-packages\\sklearn\\model_selection\\_validation.py:548: FitFailedWarning: Estimator fit failed. The score on this train-test partition for these parameters will be set to nan. Details: \n",
      "Traceback (most recent call last):\n",
      "  File \"C:\\ProgramData\\Anaconda3\\lib\\site-packages\\sklearn\\model_selection\\_validation.py\", line 531, in _fit_and_score\n",
      "    estimator.fit(X_train, y_train, **fit_params)\n",
      "  File \"C:\\ProgramData\\Anaconda3\\lib\\site-packages\\sklearn\\linear_model\\_logistic.py\", line 1356, in fit\n",
      "    self.coef_, self.intercept_, n_iter_ = _fit_liblinear(\n",
      "  File \"C:\\ProgramData\\Anaconda3\\lib\\site-packages\\sklearn\\svm\\_base.py\", line 965, in _fit_liblinear\n",
      "    solver_type = _get_liblinear_solver_type(multi_class, penalty, loss, dual)\n",
      "  File \"C:\\ProgramData\\Anaconda3\\lib\\site-packages\\sklearn\\svm\\_base.py\", line 821, in _get_liblinear_solver_type\n",
      "    raise ValueError('Unsupported set of arguments: %s, '\n",
      "ValueError: Unsupported set of arguments: The combination of penalty='l1' and loss='logistic_regression' are not supported when dual=True, Parameters: penalty='l1', loss='logistic_regression', dual=True\n",
      "\n",
      "  warnings.warn(\"Estimator fit failed. The score on this train-test\"\n",
      "C:\\ProgramData\\Anaconda3\\lib\\site-packages\\sklearn\\model_selection\\_validation.py:548: FitFailedWarning: Estimator fit failed. The score on this train-test partition for these parameters will be set to nan. Details: \n",
      "Traceback (most recent call last):\n",
      "  File \"C:\\ProgramData\\Anaconda3\\lib\\site-packages\\sklearn\\model_selection\\_validation.py\", line 531, in _fit_and_score\n",
      "    estimator.fit(X_train, y_train, **fit_params)\n",
      "  File \"C:\\ProgramData\\Anaconda3\\lib\\site-packages\\sklearn\\linear_model\\_logistic.py\", line 1304, in fit\n",
      "    solver = _check_solver(self.solver, self.penalty, self.dual)\n",
      "  File \"C:\\ProgramData\\Anaconda3\\lib\\site-packages\\sklearn\\linear_model\\_logistic.py\", line 445, in _check_solver\n",
      "    raise ValueError(\"Solver %s supports only \"\n",
      "ValueError: Solver newton-cg supports only dual=False, got dual=True\n",
      "\n",
      "  warnings.warn(\"Estimator fit failed. The score on this train-test\"\n",
      "C:\\ProgramData\\Anaconda3\\lib\\site-packages\\sklearn\\model_selection\\_validation.py:548: FitFailedWarning: Estimator fit failed. The score on this train-test partition for these parameters will be set to nan. Details: \n",
      "Traceback (most recent call last):\n",
      "  File \"C:\\ProgramData\\Anaconda3\\lib\\site-packages\\sklearn\\model_selection\\_validation.py\", line 531, in _fit_and_score\n",
      "    estimator.fit(X_train, y_train, **fit_params)\n",
      "  File \"C:\\ProgramData\\Anaconda3\\lib\\site-packages\\sklearn\\linear_model\\_logistic.py\", line 1304, in fit\n",
      "    solver = _check_solver(self.solver, self.penalty, self.dual)\n",
      "  File \"C:\\ProgramData\\Anaconda3\\lib\\site-packages\\sklearn\\linear_model\\_logistic.py\", line 445, in _check_solver\n",
      "    raise ValueError(\"Solver %s supports only \"\n",
      "ValueError: Solver lbfgs supports only dual=False, got dual=True\n",
      "\n",
      "  warnings.warn(\"Estimator fit failed. The score on this train-test\"\n",
      "C:\\ProgramData\\Anaconda3\\lib\\site-packages\\sklearn\\model_selection\\_validation.py:548: FitFailedWarning: Estimator fit failed. The score on this train-test partition for these parameters will be set to nan. Details: \n",
      "Traceback (most recent call last):\n",
      "  File \"C:\\ProgramData\\Anaconda3\\lib\\site-packages\\sklearn\\model_selection\\_validation.py\", line 531, in _fit_and_score\n",
      "    estimator.fit(X_train, y_train, **fit_params)\n",
      "  File \"C:\\ProgramData\\Anaconda3\\lib\\site-packages\\sklearn\\linear_model\\_logistic.py\", line 1304, in fit\n",
      "    solver = _check_solver(self.solver, self.penalty, self.dual)\n",
      "  File \"C:\\ProgramData\\Anaconda3\\lib\\site-packages\\sklearn\\linear_model\\_logistic.py\", line 445, in _check_solver\n",
      "    raise ValueError(\"Solver %s supports only \"\n",
      "ValueError: Solver sag supports only dual=False, got dual=True\n",
      "\n",
      "  warnings.warn(\"Estimator fit failed. The score on this train-test\"\n"
     ]
    },
    {
     "name": "stdout",
     "output_type": "stream",
     "text": [
      "[CV]  C=30, class_weight=None, dual=True, penalty=l1, solver=newton-cg, score=nan, total=   0.0s\n",
      "[CV] C=30, class_weight=None, dual=True, penalty=l1, solver=newton-cg \n",
      "[CV]  C=30, class_weight=None, dual=True, penalty=l1, solver=newton-cg, score=nan, total=   0.0s\n",
      "[CV] C=30, class_weight=None, dual=True, penalty=l1, solver=newton-cg \n",
      "[CV]  C=30, class_weight=None, dual=True, penalty=l1, solver=newton-cg, score=nan, total=   0.0s\n",
      "[CV] C=30, class_weight=None, dual=True, penalty=l1, solver=newton-cg \n",
      "[CV]  C=30, class_weight=None, dual=True, penalty=l1, solver=newton-cg, score=nan, total=   0.0s\n",
      "[CV] C=30, class_weight=None, dual=True, penalty=l1, solver=newton-cg \n",
      "[CV]  C=30, class_weight=None, dual=True, penalty=l1, solver=newton-cg, score=nan, total=   0.0s\n",
      "[CV] C=30, class_weight=None, dual=True, penalty=l1, solver=lbfgs ....\n",
      "[CV]  C=30, class_weight=None, dual=True, penalty=l1, solver=lbfgs, score=nan, total=   0.0s\n",
      "[CV] C=30, class_weight=None, dual=True, penalty=l1, solver=lbfgs ....\n",
      "[CV]  C=30, class_weight=None, dual=True, penalty=l1, solver=lbfgs, score=nan, total=   0.0s\n",
      "[CV] C=30, class_weight=None, dual=True, penalty=l1, solver=lbfgs ....\n",
      "[CV]  C=30, class_weight=None, dual=True, penalty=l1, solver=lbfgs, score=nan, total=   0.0s\n",
      "[CV] C=30, class_weight=None, dual=True, penalty=l1, solver=lbfgs ....\n",
      "[CV]  C=30, class_weight=None, dual=True, penalty=l1, solver=lbfgs, score=nan, total=   0.0s\n",
      "[CV] C=30, class_weight=None, dual=True, penalty=l1, solver=lbfgs ....\n",
      "[CV]  C=30, class_weight=None, dual=True, penalty=l1, solver=lbfgs, score=nan, total=   0.0s\n",
      "[CV] C=30, class_weight=None, dual=True, penalty=l1, solver=sag ......\n",
      "[CV]  C=30, class_weight=None, dual=True, penalty=l1, solver=sag, score=nan, total=   0.0s\n",
      "[CV] C=30, class_weight=None, dual=True, penalty=l1, solver=sag ......\n",
      "[CV]  C=30, class_weight=None, dual=True, penalty=l1, solver=sag, score=nan, total=   0.0s\n",
      "[CV] C=30, class_weight=None, dual=True, penalty=l1, solver=sag ......\n",
      "[CV]  C=30, class_weight=None, dual=True, penalty=l1, solver=sag, score=nan, total=   0.0s\n",
      "[CV] C=30, class_weight=None, dual=True, penalty=l1, solver=sag ......\n",
      "[CV]  C=30, class_weight=None, dual=True, penalty=l1, solver=sag, score=nan, total=   0.0s\n",
      "[CV] C=30, class_weight=None, dual=True, penalty=l1, solver=sag ......\n",
      "[CV]  C=30, class_weight=None, dual=True, penalty=l1, solver=sag, score=nan, total=   0.0s\n",
      "[CV] C=30, class_weight=None, dual=True, penalty=l1, solver=saga .....\n",
      "[CV]  C=30, class_weight=None, dual=True, penalty=l1, solver=saga, score=nan, total=   0.0s\n",
      "[CV] C=30, class_weight=None, dual=True, penalty=l1, solver=saga .....\n",
      "[CV]  C=30, class_weight=None, dual=True, penalty=l1, solver=saga, score=nan, total=   0.0s\n",
      "[CV] C=30, class_weight=None, dual=True, penalty=l1, solver=saga .....\n",
      "[CV]  C=30, class_weight=None, dual=True, penalty=l1, solver=saga, score=nan, total=   0.0s\n",
      "[CV] C=30, class_weight=None, dual=True, penalty=l1, solver=saga .....\n",
      "[CV]  C=30, class_weight=None, dual=True, penalty=l1, solver=saga, score=nan, total=   0.0s\n",
      "[CV] C=30, class_weight=None, dual=True, penalty=l1, solver=saga .....\n",
      "[CV]  C=30, class_weight=None, dual=True, penalty=l1, solver=saga, score=nan, total=   0.0s\n",
      "[CV] C=30, class_weight=None, dual=True, penalty=l1, solver=liblinear \n",
      "[CV]  C=30, class_weight=None, dual=True, penalty=l1, solver=liblinear, score=nan, total=   0.0s\n",
      "[CV] C=30, class_weight=None, dual=True, penalty=l1, solver=liblinear \n",
      "[CV]  C=30, class_weight=None, dual=True, penalty=l1, solver=liblinear, score=nan, total=   0.0s\n",
      "[CV] C=30, class_weight=None, dual=True, penalty=l1, solver=liblinear \n",
      "[CV]  C=30, class_weight=None, dual=True, penalty=l1, solver=liblinear, score=nan, total=   0.0s\n",
      "[CV] C=30, class_weight=None, dual=True, penalty=l1, solver=liblinear \n",
      "[CV]  C=30, class_weight=None, dual=True, penalty=l1, solver=liblinear, score=nan, total=   0.0s\n",
      "[CV] C=30, class_weight=None, dual=True, penalty=l1, solver=liblinear \n",
      "[CV]  C=30, class_weight=None, dual=True, penalty=l1, solver=liblinear, score=nan, total=   0.0s\n",
      "[CV] C=30, class_weight=None, dual=True, penalty=l2, solver=newton-cg \n",
      "[CV]  C=30, class_weight=None, dual=True, penalty=l2, solver=newton-cg, score=nan, total=   0.0s\n",
      "[CV] C=30, class_weight=None, dual=True, penalty=l2, solver=newton-cg \n",
      "[CV]  C=30, class_weight=None, dual=True, penalty=l2, solver=newton-cg, score=nan, total=   0.0s\n",
      "[CV] C=30, class_weight=None, dual=True, penalty=l2, solver=newton-cg \n",
      "[CV]  C=30, class_weight=None, dual=True, penalty=l2, solver=newton-cg, score=nan, total=   0.0s\n",
      "[CV] C=30, class_weight=None, dual=True, penalty=l2, solver=newton-cg \n",
      "[CV]  C=30, class_weight=None, dual=True, penalty=l2, solver=newton-cg, score=nan, total=   0.0s\n",
      "[CV] C=30, class_weight=None, dual=True, penalty=l2, solver=newton-cg \n",
      "[CV]  C=30, class_weight=None, dual=True, penalty=l2, solver=newton-cg, score=nan, total=   0.0s\n",
      "[CV] C=30, class_weight=None, dual=True, penalty=l2, solver=lbfgs ....\n",
      "[CV]  C=30, class_weight=None, dual=True, penalty=l2, solver=lbfgs, score=nan, total=   0.0s\n",
      "[CV] C=30, class_weight=None, dual=True, penalty=l2, solver=lbfgs ....\n",
      "[CV]  C=30, class_weight=None, dual=True, penalty=l2, solver=lbfgs, score=nan, total=   0.0s\n",
      "[CV] C=30, class_weight=None, dual=True, penalty=l2, solver=lbfgs ....\n",
      "[CV]  C=30, class_weight=None, dual=True, penalty=l2, solver=lbfgs, score=nan, total=   0.0s\n",
      "[CV] C=30, class_weight=None, dual=True, penalty=l2, solver=lbfgs ....\n",
      "[CV]  C=30, class_weight=None, dual=True, penalty=l2, solver=lbfgs, score=nan, total=   0.0s\n",
      "[CV] C=30, class_weight=None, dual=True, penalty=l2, solver=lbfgs ....\n",
      "[CV]  C=30, class_weight=None, dual=True, penalty=l2, solver=lbfgs, score=nan, total=   0.0s\n",
      "[CV] C=30, class_weight=None, dual=True, penalty=l2, solver=sag ......\n",
      "[CV]  C=30, class_weight=None, dual=True, penalty=l2, solver=sag, score=nan, total=   0.0s\n",
      "[CV] C=30, class_weight=None, dual=True, penalty=l2, solver=sag ......\n",
      "[CV]  C=30, class_weight=None, dual=True, penalty=l2, solver=sag, score=nan, total=   0.0s\n",
      "[CV] C=30, class_weight=None, dual=True, penalty=l2, solver=sag ......\n",
      "[CV]  C=30, class_weight=None, dual=True, penalty=l2, solver=sag, score=nan, total=   0.0s\n",
      "[CV] C=30, class_weight=None, dual=True, penalty=l2, solver=sag ......\n",
      "[CV]  C=30, class_weight=None, dual=True, penalty=l2, solver=sag, score=nan, total=   0.0s\n",
      "[CV] C=30, class_weight=None, dual=True, penalty=l2, solver=sag ......\n",
      "[CV]  C=30, class_weight=None, dual=True, penalty=l2, solver=sag, score=nan, total=   0.0s\n",
      "[CV] C=30, class_weight=None, dual=True, penalty=l2, solver=saga .....\n",
      "[CV]  C=30, class_weight=None, dual=True, penalty=l2, solver=saga, score=nan, total=   0.0s\n",
      "[CV] C=30, class_weight=None, dual=True, penalty=l2, solver=saga .....\n",
      "[CV]  C=30, class_weight=None, dual=True, penalty=l2, solver=saga, score=nan, total=   0.0s\n",
      "[CV] C=30, class_weight=None, dual=True, penalty=l2, solver=saga .....\n",
      "[CV]  C=30, class_weight=None, dual=True, penalty=l2, solver=saga, score=nan, total=   0.0s\n",
      "[CV] C=30, class_weight=None, dual=True, penalty=l2, solver=saga .....\n",
      "[CV]  C=30, class_weight=None, dual=True, penalty=l2, solver=saga, score=nan, total=   0.0s\n",
      "[CV] C=30, class_weight=None, dual=True, penalty=l2, solver=saga .....\n",
      "[CV]  C=30, class_weight=None, dual=True, penalty=l2, solver=saga, score=nan, total=   0.0s\n",
      "[CV] C=30, class_weight=None, dual=True, penalty=l2, solver=liblinear \n"
     ]
    },
    {
     "name": "stderr",
     "output_type": "stream",
     "text": [
      "C:\\ProgramData\\Anaconda3\\lib\\site-packages\\sklearn\\svm\\_base.py:976: ConvergenceWarning: Liblinear failed to converge, increase the number of iterations.\n",
      "  warnings.warn(\"Liblinear failed to converge, increase \"\n"
     ]
    },
    {
     "name": "stdout",
     "output_type": "stream",
     "text": [
      "[CV]  C=30, class_weight=None, dual=True, penalty=l2, solver=liblinear, score=0.682, total=   0.2s\n",
      "[CV] C=30, class_weight=None, dual=True, penalty=l2, solver=liblinear \n",
      "[CV]  C=30, class_weight=None, dual=True, penalty=l2, solver=liblinear, score=0.650, total=   0.2s\n",
      "[CV] C=30, class_weight=None, dual=True, penalty=l2, solver=liblinear \n",
      "[CV]  C=30, class_weight=None, dual=True, penalty=l2, solver=liblinear, score=0.620, total=   0.2s\n",
      "[CV] C=30, class_weight=None, dual=True, penalty=l2, solver=liblinear \n",
      "[CV]  C=30, class_weight=None, dual=True, penalty=l2, solver=liblinear, score=0.602, total=   0.2s\n",
      "[CV] C=30, class_weight=None, dual=True, penalty=l2, solver=liblinear \n",
      "[CV]  C=30, class_weight=None, dual=True, penalty=l2, solver=liblinear, score=0.634, total=   0.2s\n",
      "[CV] C=30, class_weight=None, dual=True, penalty=elasticnet, solver=newton-cg \n",
      "[CV]  C=30, class_weight=None, dual=True, penalty=elasticnet, solver=newton-cg, score=nan, total=   0.0s\n",
      "[CV] C=30, class_weight=None, dual=True, penalty=elasticnet, solver=newton-cg \n",
      "[CV]  C=30, class_weight=None, dual=True, penalty=elasticnet, solver=newton-cg, score=nan, total=   0.0s\n",
      "[CV] C=30, class_weight=None, dual=True, penalty=elasticnet, solver=newton-cg \n",
      "[CV]  C=30, class_weight=None, dual=True, penalty=elasticnet, solver=newton-cg, score=nan, total=   0.0s\n",
      "[CV] C=30, class_weight=None, dual=True, penalty=elasticnet, solver=newton-cg \n",
      "[CV]  C=30, class_weight=None, dual=True, penalty=elasticnet, solver=newton-cg, score=nan, total=   0.0s\n",
      "[CV] C=30, class_weight=None, dual=True, penalty=elasticnet, solver=newton-cg \n",
      "[CV]  C=30, class_weight=None, dual=True, penalty=elasticnet, solver=newton-cg, score=nan, total=   0.0s\n",
      "[CV] C=30, class_weight=None, dual=True, penalty=elasticnet, solver=lbfgs \n",
      "[CV]  C=30, class_weight=None, dual=True, penalty=elasticnet, solver=lbfgs, score=nan, total=   0.0s\n",
      "[CV] C=30, class_weight=None, dual=True, penalty=elasticnet, solver=lbfgs \n",
      "[CV]  C=30, class_weight=None, dual=True, penalty=elasticnet, solver=lbfgs, score=nan, total=   0.0s\n",
      "[CV] C=30, class_weight=None, dual=True, penalty=elasticnet, solver=lbfgs \n",
      "[CV]  C=30, class_weight=None, dual=True, penalty=elasticnet, solver=lbfgs, score=nan, total=   0.0s\n",
      "[CV] C=30, class_weight=None, dual=True, penalty=elasticnet, solver=lbfgs \n",
      "[CV]  C=30, class_weight=None, dual=True, penalty=elasticnet, solver=lbfgs, score=nan, total=   0.0s\n",
      "[CV] C=30, class_weight=None, dual=True, penalty=elasticnet, solver=lbfgs \n",
      "[CV]  C=30, class_weight=None, dual=True, penalty=elasticnet, solver=lbfgs, score=nan, total=   0.0s\n",
      "[CV] C=30, class_weight=None, dual=True, penalty=elasticnet, solver=sag \n",
      "[CV]  C=30, class_weight=None, dual=True, penalty=elasticnet, solver=sag, score=nan, total=   0.0s\n",
      "[CV] C=30, class_weight=None, dual=True, penalty=elasticnet, solver=sag \n",
      "[CV]  C=30, class_weight=None, dual=True, penalty=elasticnet, solver=sag, score=nan, total=   0.0s\n",
      "[CV] C=30, class_weight=None, dual=True, penalty=elasticnet, solver=sag \n",
      "[CV]  C=30, class_weight=None, dual=True, penalty=elasticnet, solver=sag, score=nan, total=   0.0s\n",
      "[CV] C=30, class_weight=None, dual=True, penalty=elasticnet, solver=sag \n",
      "[CV]  C=30, class_weight=None, dual=True, penalty=elasticnet, solver=sag, score=nan, total=   0.0s\n",
      "[CV] C=30, class_weight=None, dual=True, penalty=elasticnet, solver=sag \n",
      "[CV]  C=30, class_weight=None, dual=True, penalty=elasticnet, solver=sag, score=nan, total=   0.0s\n",
      "[CV] C=30, class_weight=None, dual=True, penalty=elasticnet, solver=saga \n",
      "[CV]  C=30, class_weight=None, dual=True, penalty=elasticnet, solver=saga, score=nan, total=   0.0s\n",
      "[CV] C=30, class_weight=None, dual=True, penalty=elasticnet, solver=saga \n",
      "[CV]  C=30, class_weight=None, dual=True, penalty=elasticnet, solver=saga, score=nan, total=   0.0s\n",
      "[CV] C=30, class_weight=None, dual=True, penalty=elasticnet, solver=saga \n",
      "[CV]  C=30, class_weight=None, dual=True, penalty=elasticnet, solver=saga, score=nan, total=   0.0s\n",
      "[CV] C=30, class_weight=None, dual=True, penalty=elasticnet, solver=saga \n",
      "[CV]  C=30, class_weight=None, dual=True, penalty=elasticnet, solver=saga, score=nan, total=   0.0s\n",
      "[CV] C=30, class_weight=None, dual=True, penalty=elasticnet, solver=saga \n",
      "[CV]  C=30, class_weight=None, dual=True, penalty=elasticnet, solver=saga, score=nan, total=   0.0s\n",
      "[CV] C=30, class_weight=None, dual=True, penalty=elasticnet, solver=liblinear \n",
      "[CV]  C=30, class_weight=None, dual=True, penalty=elasticnet, solver=liblinear, score=nan, total=   0.0s\n",
      "[CV] C=30, class_weight=None, dual=True, penalty=elasticnet, solver=liblinear \n",
      "[CV]  C=30, class_weight=None, dual=True, penalty=elasticnet, solver=liblinear, score=nan, total=   0.0s\n",
      "[CV] C=30, class_weight=None, dual=True, penalty=elasticnet, solver=liblinear \n",
      "[CV]  C=30, class_weight=None, dual=True, penalty=elasticnet, solver=liblinear, score=nan, total=   0.0s\n",
      "[CV] C=30, class_weight=None, dual=True, penalty=elasticnet, solver=liblinear \n",
      "[CV]  C=30, class_weight=None, dual=True, penalty=elasticnet, solver=liblinear, score=nan, total=   0.0s\n",
      "[CV] C=30, class_weight=None, dual=True, penalty=elasticnet, solver=liblinear \n",
      "[CV]  C=30, class_weight=None, dual=True, penalty=elasticnet, solver=liblinear, score=nan, total=   0.0s\n",
      "[CV] C=30, class_weight=None, dual=False, penalty=l1, solver=newton-cg \n",
      "[CV]  C=30, class_weight=None, dual=False, penalty=l1, solver=newton-cg, score=nan, total=   0.0s\n",
      "[CV] C=30, class_weight=None, dual=False, penalty=l1, solver=newton-cg \n",
      "[CV]  C=30, class_weight=None, dual=False, penalty=l1, solver=newton-cg, score=nan, total=   0.0s\n",
      "[CV] C=30, class_weight=None, dual=False, penalty=l1, solver=newton-cg \n",
      "[CV]  C=30, class_weight=None, dual=False, penalty=l1, solver=newton-cg, score=nan, total=   0.0s\n",
      "[CV] C=30, class_weight=None, dual=False, penalty=l1, solver=newton-cg \n",
      "[CV]  C=30, class_weight=None, dual=False, penalty=l1, solver=newton-cg, score=nan, total=   0.0s\n",
      "[CV] C=30, class_weight=None, dual=False, penalty=l1, solver=newton-cg \n",
      "[CV]  C=30, class_weight=None, dual=False, penalty=l1, solver=newton-cg, score=nan, total=   0.0s\n",
      "[CV] C=30, class_weight=None, dual=False, penalty=l1, solver=lbfgs ...\n",
      "[CV]  C=30, class_weight=None, dual=False, penalty=l1, solver=lbfgs, score=nan, total=   0.0s\n",
      "[CV] C=30, class_weight=None, dual=False, penalty=l1, solver=lbfgs ...\n",
      "[CV]  C=30, class_weight=None, dual=False, penalty=l1, solver=lbfgs, score=nan, total=   0.0s\n",
      "[CV] C=30, class_weight=None, dual=False, penalty=l1, solver=lbfgs ...\n",
      "[CV]  C=30, class_weight=None, dual=False, penalty=l1, solver=lbfgs, score=nan, total=   0.0s\n",
      "[CV] C=30, class_weight=None, dual=False, penalty=l1, solver=lbfgs ...\n",
      "[CV]  C=30, class_weight=None, dual=False, penalty=l1, solver=lbfgs, score=nan, total=   0.0s\n",
      "[CV] C=30, class_weight=None, dual=False, penalty=l1, solver=lbfgs ...\n",
      "[CV]  C=30, class_weight=None, dual=False, penalty=l1, solver=lbfgs, score=nan, total=   0.0s\n",
      "[CV] C=30, class_weight=None, dual=False, penalty=l1, solver=sag .....\n",
      "[CV]  C=30, class_weight=None, dual=False, penalty=l1, solver=sag, score=nan, total=   0.0s\n",
      "[CV] C=30, class_weight=None, dual=False, penalty=l1, solver=sag .....\n",
      "[CV]  C=30, class_weight=None, dual=False, penalty=l1, solver=sag, score=nan, total=   0.0s\n",
      "[CV] C=30, class_weight=None, dual=False, penalty=l1, solver=sag .....\n",
      "[CV]  C=30, class_weight=None, dual=False, penalty=l1, solver=sag, score=nan, total=   0.0s\n",
      "[CV] C=30, class_weight=None, dual=False, penalty=l1, solver=sag .....\n",
      "[CV]  C=30, class_weight=None, dual=False, penalty=l1, solver=sag, score=nan, total=   0.0s\n",
      "[CV] C=30, class_weight=None, dual=False, penalty=l1, solver=sag .....\n",
      "[CV]  C=30, class_weight=None, dual=False, penalty=l1, solver=sag, score=nan, total=   0.0s\n",
      "[CV] C=30, class_weight=None, dual=False, penalty=l1, solver=saga ....\n"
     ]
    },
    {
     "name": "stderr",
     "output_type": "stream",
     "text": [
      "C:\\ProgramData\\Anaconda3\\lib\\site-packages\\sklearn\\linear_model\\_sag.py:329: ConvergenceWarning: The max_iter was reached which means the coef_ did not converge\n",
      "  warnings.warn(\"The max_iter was reached which means \"\n"
     ]
    },
    {
     "name": "stdout",
     "output_type": "stream",
     "text": [
      "[CV]  C=30, class_weight=None, dual=False, penalty=l1, solver=saga, score=0.719, total=  18.1s\n",
      "[CV] C=30, class_weight=None, dual=False, penalty=l1, solver=saga ....\n"
     ]
    },
    {
     "name": "stderr",
     "output_type": "stream",
     "text": [
      "C:\\ProgramData\\Anaconda3\\lib\\site-packages\\sklearn\\linear_model\\_sag.py:329: ConvergenceWarning: The max_iter was reached which means the coef_ did not converge\n",
      "  warnings.warn(\"The max_iter was reached which means \"\n"
     ]
    },
    {
     "name": "stdout",
     "output_type": "stream",
     "text": [
      "[CV]  C=30, class_weight=None, dual=False, penalty=l1, solver=saga, score=0.659, total=  13.5s\n",
      "[CV] C=30, class_weight=None, dual=False, penalty=l1, solver=saga ....\n"
     ]
    },
    {
     "name": "stderr",
     "output_type": "stream",
     "text": [
      "C:\\ProgramData\\Anaconda3\\lib\\site-packages\\sklearn\\linear_model\\_sag.py:329: ConvergenceWarning: The max_iter was reached which means the coef_ did not converge\n",
      "  warnings.warn(\"The max_iter was reached which means \"\n"
     ]
    },
    {
     "name": "stdout",
     "output_type": "stream",
     "text": [
      "[CV]  C=30, class_weight=None, dual=False, penalty=l1, solver=saga, score=0.636, total=  17.9s\n",
      "[CV] C=30, class_weight=None, dual=False, penalty=l1, solver=saga ....\n"
     ]
    },
    {
     "name": "stderr",
     "output_type": "stream",
     "text": [
      "C:\\ProgramData\\Anaconda3\\lib\\site-packages\\sklearn\\linear_model\\_sag.py:329: ConvergenceWarning: The max_iter was reached which means the coef_ did not converge\n",
      "  warnings.warn(\"The max_iter was reached which means \"\n"
     ]
    },
    {
     "name": "stdout",
     "output_type": "stream",
     "text": [
      "[CV]  C=30, class_weight=None, dual=False, penalty=l1, solver=saga, score=0.598, total=  17.8s\n",
      "[CV] C=30, class_weight=None, dual=False, penalty=l1, solver=saga ....\n"
     ]
    },
    {
     "name": "stderr",
     "output_type": "stream",
     "text": [
      "C:\\ProgramData\\Anaconda3\\lib\\site-packages\\sklearn\\linear_model\\_sag.py:329: ConvergenceWarning: The max_iter was reached which means the coef_ did not converge\n",
      "  warnings.warn(\"The max_iter was reached which means \"\n"
     ]
    },
    {
     "name": "stdout",
     "output_type": "stream",
     "text": [
      "[CV]  C=30, class_weight=None, dual=False, penalty=l1, solver=saga, score=0.622, total=  18.5s\n",
      "[CV] C=30, class_weight=None, dual=False, penalty=l1, solver=liblinear \n",
      "[CV]  C=30, class_weight=None, dual=False, penalty=l1, solver=liblinear, score=0.682, total=   0.1s\n",
      "[CV] C=30, class_weight=None, dual=False, penalty=l1, solver=liblinear \n",
      "[CV]  C=30, class_weight=None, dual=False, penalty=l1, solver=liblinear, score=0.684, total=   0.1s\n",
      "[CV] C=30, class_weight=None, dual=False, penalty=l1, solver=liblinear \n",
      "[CV]  C=30, class_weight=None, dual=False, penalty=l1, solver=liblinear, score=0.693, total=   0.1s\n",
      "[CV] C=30, class_weight=None, dual=False, penalty=l1, solver=liblinear \n",
      "[CV]  C=30, class_weight=None, dual=False, penalty=l1, solver=liblinear, score=0.717, total=   0.1s\n",
      "[CV] C=30, class_weight=None, dual=False, penalty=l1, solver=liblinear \n"
     ]
    },
    {
     "name": "stderr",
     "output_type": "stream",
     "text": [
      "C:\\ProgramData\\Anaconda3\\lib\\site-packages\\sklearn\\svm\\_base.py:976: ConvergenceWarning: Liblinear failed to converge, increase the number of iterations.\n",
      "  warnings.warn(\"Liblinear failed to converge, increase \"\n"
     ]
    },
    {
     "name": "stdout",
     "output_type": "stream",
     "text": [
      "[CV]  C=30, class_weight=None, dual=False, penalty=l1, solver=liblinear, score=0.692, total=   2.9s\n",
      "[CV] C=30, class_weight=None, dual=False, penalty=l2, solver=newton-cg \n",
      "[CV]  C=30, class_weight=None, dual=False, penalty=l2, solver=newton-cg, score=0.691, total=   0.4s\n",
      "[CV] C=30, class_weight=None, dual=False, penalty=l2, solver=newton-cg \n",
      "[CV]  C=30, class_weight=None, dual=False, penalty=l2, solver=newton-cg, score=0.648, total=   0.4s\n",
      "[CV] C=30, class_weight=None, dual=False, penalty=l2, solver=newton-cg \n",
      "[CV]  C=30, class_weight=None, dual=False, penalty=l2, solver=newton-cg, score=0.630, total=   0.4s\n",
      "[CV] C=30, class_weight=None, dual=False, penalty=l2, solver=newton-cg \n",
      "[CV]  C=30, class_weight=None, dual=False, penalty=l2, solver=newton-cg, score=0.580, total=   0.4s\n",
      "[CV] C=30, class_weight=None, dual=False, penalty=l2, solver=newton-cg \n",
      "[CV]  C=30, class_weight=None, dual=False, penalty=l2, solver=newton-cg, score=0.591, total=   0.5s\n",
      "[CV] C=30, class_weight=None, dual=False, penalty=l2, solver=lbfgs ...\n"
     ]
    },
    {
     "name": "stderr",
     "output_type": "stream",
     "text": [
      "C:\\ProgramData\\Anaconda3\\lib\\site-packages\\sklearn\\linear_model\\_logistic.py:762: ConvergenceWarning: lbfgs failed to converge (status=1):\n",
      "STOP: TOTAL NO. of ITERATIONS REACHED LIMIT.\n",
      "\n",
      "Increase the number of iterations (max_iter) or scale the data as shown in:\n",
      "    https://scikit-learn.org/stable/modules/preprocessing.html\n",
      "Please also refer to the documentation for alternative solver options:\n",
      "    https://scikit-learn.org/stable/modules/linear_model.html#logistic-regression\n",
      "  n_iter_i = _check_optimize_result(\n"
     ]
    },
    {
     "name": "stdout",
     "output_type": "stream",
     "text": [
      "[CV]  C=30, class_weight=None, dual=False, penalty=l2, solver=lbfgs, score=0.692, total=   0.6s\n",
      "[CV] C=30, class_weight=None, dual=False, penalty=l2, solver=lbfgs ...\n"
     ]
    },
    {
     "name": "stderr",
     "output_type": "stream",
     "text": [
      "C:\\ProgramData\\Anaconda3\\lib\\site-packages\\sklearn\\linear_model\\_logistic.py:762: ConvergenceWarning: lbfgs failed to converge (status=1):\n",
      "STOP: TOTAL NO. of ITERATIONS REACHED LIMIT.\n",
      "\n",
      "Increase the number of iterations (max_iter) or scale the data as shown in:\n",
      "    https://scikit-learn.org/stable/modules/preprocessing.html\n",
      "Please also refer to the documentation for alternative solver options:\n",
      "    https://scikit-learn.org/stable/modules/linear_model.html#logistic-regression\n",
      "  n_iter_i = _check_optimize_result(\n"
     ]
    },
    {
     "name": "stdout",
     "output_type": "stream",
     "text": [
      "[CV]  C=30, class_weight=None, dual=False, penalty=l2, solver=lbfgs, score=0.648, total=   0.6s\n",
      "[CV] C=30, class_weight=None, dual=False, penalty=l2, solver=lbfgs ...\n"
     ]
    },
    {
     "name": "stderr",
     "output_type": "stream",
     "text": [
      "C:\\ProgramData\\Anaconda3\\lib\\site-packages\\sklearn\\linear_model\\_logistic.py:762: ConvergenceWarning: lbfgs failed to converge (status=1):\n",
      "STOP: TOTAL NO. of ITERATIONS REACHED LIMIT.\n",
      "\n",
      "Increase the number of iterations (max_iter) or scale the data as shown in:\n",
      "    https://scikit-learn.org/stable/modules/preprocessing.html\n",
      "Please also refer to the documentation for alternative solver options:\n",
      "    https://scikit-learn.org/stable/modules/linear_model.html#logistic-regression\n",
      "  n_iter_i = _check_optimize_result(\n"
     ]
    },
    {
     "name": "stdout",
     "output_type": "stream",
     "text": [
      "[CV]  C=30, class_weight=None, dual=False, penalty=l2, solver=lbfgs, score=0.630, total=   0.6s\n",
      "[CV] C=30, class_weight=None, dual=False, penalty=l2, solver=lbfgs ...\n"
     ]
    },
    {
     "name": "stderr",
     "output_type": "stream",
     "text": [
      "C:\\ProgramData\\Anaconda3\\lib\\site-packages\\sklearn\\linear_model\\_logistic.py:762: ConvergenceWarning: lbfgs failed to converge (status=1):\n",
      "STOP: TOTAL NO. of ITERATIONS REACHED LIMIT.\n",
      "\n",
      "Increase the number of iterations (max_iter) or scale the data as shown in:\n",
      "    https://scikit-learn.org/stable/modules/preprocessing.html\n",
      "Please also refer to the documentation for alternative solver options:\n",
      "    https://scikit-learn.org/stable/modules/linear_model.html#logistic-regression\n",
      "  n_iter_i = _check_optimize_result(\n"
     ]
    },
    {
     "name": "stdout",
     "output_type": "stream",
     "text": [
      "[CV]  C=30, class_weight=None, dual=False, penalty=l2, solver=lbfgs, score=0.580, total=   0.6s\n",
      "[CV] C=30, class_weight=None, dual=False, penalty=l2, solver=lbfgs ...\n"
     ]
    },
    {
     "name": "stderr",
     "output_type": "stream",
     "text": [
      "C:\\ProgramData\\Anaconda3\\lib\\site-packages\\sklearn\\linear_model\\_logistic.py:762: ConvergenceWarning: lbfgs failed to converge (status=1):\n",
      "STOP: TOTAL NO. of ITERATIONS REACHED LIMIT.\n",
      "\n",
      "Increase the number of iterations (max_iter) or scale the data as shown in:\n",
      "    https://scikit-learn.org/stable/modules/preprocessing.html\n",
      "Please also refer to the documentation for alternative solver options:\n",
      "    https://scikit-learn.org/stable/modules/linear_model.html#logistic-regression\n",
      "  n_iter_i = _check_optimize_result(\n"
     ]
    },
    {
     "name": "stdout",
     "output_type": "stream",
     "text": [
      "[CV]  C=30, class_weight=None, dual=False, penalty=l2, solver=lbfgs, score=0.591, total=   0.6s\n",
      "[CV] C=30, class_weight=None, dual=False, penalty=l2, solver=sag .....\n"
     ]
    },
    {
     "name": "stderr",
     "output_type": "stream",
     "text": [
      "C:\\ProgramData\\Anaconda3\\lib\\site-packages\\sklearn\\linear_model\\_sag.py:329: ConvergenceWarning: The max_iter was reached which means the coef_ did not converge\n",
      "  warnings.warn(\"The max_iter was reached which means \"\n"
     ]
    },
    {
     "name": "stdout",
     "output_type": "stream",
     "text": [
      "[CV]  C=30, class_weight=None, dual=False, penalty=l2, solver=sag, score=0.714, total=   0.2s\n",
      "[CV] C=30, class_weight=None, dual=False, penalty=l2, solver=sag .....\n"
     ]
    },
    {
     "name": "stderr",
     "output_type": "stream",
     "text": [
      "C:\\ProgramData\\Anaconda3\\lib\\site-packages\\sklearn\\linear_model\\_sag.py:329: ConvergenceWarning: The max_iter was reached which means the coef_ did not converge\n",
      "  warnings.warn(\"The max_iter was reached which means \"\n"
     ]
    },
    {
     "name": "stdout",
     "output_type": "stream",
     "text": [
      "[CV]  C=30, class_weight=None, dual=False, penalty=l2, solver=sag, score=0.638, total=   0.2s\n",
      "[CV] C=30, class_weight=None, dual=False, penalty=l2, solver=sag .....\n"
     ]
    },
    {
     "name": "stderr",
     "output_type": "stream",
     "text": [
      "C:\\ProgramData\\Anaconda3\\lib\\site-packages\\sklearn\\linear_model\\_sag.py:329: ConvergenceWarning: The max_iter was reached which means the coef_ did not converge\n",
      "  warnings.warn(\"The max_iter was reached which means \"\n"
     ]
    },
    {
     "name": "stdout",
     "output_type": "stream",
     "text": [
      "[CV]  C=30, class_weight=None, dual=False, penalty=l2, solver=sag, score=0.620, total=   0.2s\n",
      "[CV] C=30, class_weight=None, dual=False, penalty=l2, solver=sag .....\n"
     ]
    },
    {
     "name": "stderr",
     "output_type": "stream",
     "text": [
      "C:\\ProgramData\\Anaconda3\\lib\\site-packages\\sklearn\\linear_model\\_sag.py:329: ConvergenceWarning: The max_iter was reached which means the coef_ did not converge\n",
      "  warnings.warn(\"The max_iter was reached which means \"\n"
     ]
    },
    {
     "name": "stdout",
     "output_type": "stream",
     "text": [
      "[CV]  C=30, class_weight=None, dual=False, penalty=l2, solver=sag, score=0.608, total=   0.2s\n",
      "[CV] C=30, class_weight=None, dual=False, penalty=l2, solver=sag .....\n"
     ]
    },
    {
     "name": "stderr",
     "output_type": "stream",
     "text": [
      "C:\\ProgramData\\Anaconda3\\lib\\site-packages\\sklearn\\linear_model\\_sag.py:329: ConvergenceWarning: The max_iter was reached which means the coef_ did not converge\n",
      "  warnings.warn(\"The max_iter was reached which means \"\n"
     ]
    },
    {
     "name": "stdout",
     "output_type": "stream",
     "text": [
      "[CV]  C=30, class_weight=None, dual=False, penalty=l2, solver=sag, score=0.614, total=   0.2s\n",
      "[CV] C=30, class_weight=None, dual=False, penalty=l2, solver=saga ....\n"
     ]
    },
    {
     "name": "stderr",
     "output_type": "stream",
     "text": [
      "C:\\ProgramData\\Anaconda3\\lib\\site-packages\\sklearn\\linear_model\\_sag.py:329: ConvergenceWarning: The max_iter was reached which means the coef_ did not converge\n",
      "  warnings.warn(\"The max_iter was reached which means \"\n"
     ]
    },
    {
     "name": "stdout",
     "output_type": "stream",
     "text": [
      "[CV]  C=30, class_weight=None, dual=False, penalty=l2, solver=saga, score=0.718, total=   0.3s\n",
      "[CV] C=30, class_weight=None, dual=False, penalty=l2, solver=saga ....\n"
     ]
    },
    {
     "name": "stderr",
     "output_type": "stream",
     "text": [
      "C:\\ProgramData\\Anaconda3\\lib\\site-packages\\sklearn\\linear_model\\_sag.py:329: ConvergenceWarning: The max_iter was reached which means the coef_ did not converge\n",
      "  warnings.warn(\"The max_iter was reached which means \"\n"
     ]
    },
    {
     "name": "stdout",
     "output_type": "stream",
     "text": [
      "[CV]  C=30, class_weight=None, dual=False, penalty=l2, solver=saga, score=0.657, total=   0.3s\n",
      "[CV] C=30, class_weight=None, dual=False, penalty=l2, solver=saga ....\n"
     ]
    },
    {
     "name": "stderr",
     "output_type": "stream",
     "text": [
      "C:\\ProgramData\\Anaconda3\\lib\\site-packages\\sklearn\\linear_model\\_sag.py:329: ConvergenceWarning: The max_iter was reached which means the coef_ did not converge\n",
      "  warnings.warn(\"The max_iter was reached which means \"\n"
     ]
    },
    {
     "name": "stdout",
     "output_type": "stream",
     "text": [
      "[CV]  C=30, class_weight=None, dual=False, penalty=l2, solver=saga, score=0.633, total=   0.2s\n",
      "[CV] C=30, class_weight=None, dual=False, penalty=l2, solver=saga ....\n"
     ]
    },
    {
     "name": "stderr",
     "output_type": "stream",
     "text": [
      "C:\\ProgramData\\Anaconda3\\lib\\site-packages\\sklearn\\linear_model\\_sag.py:329: ConvergenceWarning: The max_iter was reached which means the coef_ did not converge\n",
      "  warnings.warn(\"The max_iter was reached which means \"\n"
     ]
    },
    {
     "name": "stdout",
     "output_type": "stream",
     "text": [
      "[CV]  C=30, class_weight=None, dual=False, penalty=l2, solver=saga, score=0.610, total=   0.2s\n",
      "[CV] C=30, class_weight=None, dual=False, penalty=l2, solver=saga ....\n"
     ]
    },
    {
     "name": "stderr",
     "output_type": "stream",
     "text": [
      "C:\\ProgramData\\Anaconda3\\lib\\site-packages\\sklearn\\linear_model\\_sag.py:329: ConvergenceWarning: The max_iter was reached which means the coef_ did not converge\n",
      "  warnings.warn(\"The max_iter was reached which means \"\n"
     ]
    },
    {
     "name": "stdout",
     "output_type": "stream",
     "text": [
      "[CV]  C=30, class_weight=None, dual=False, penalty=l2, solver=saga, score=0.619, total=   0.2s\n",
      "[CV] C=30, class_weight=None, dual=False, penalty=l2, solver=liblinear \n",
      "[CV]  C=30, class_weight=None, dual=False, penalty=l2, solver=liblinear, score=0.683, total=   0.1s\n",
      "[CV] C=30, class_weight=None, dual=False, penalty=l2, solver=liblinear \n",
      "[CV]  C=30, class_weight=None, dual=False, penalty=l2, solver=liblinear, score=0.650, total=   0.1s\n",
      "[CV] C=30, class_weight=None, dual=False, penalty=l2, solver=liblinear \n",
      "[CV]  C=30, class_weight=None, dual=False, penalty=l2, solver=liblinear, score=0.630, total=   0.1s\n",
      "[CV] C=30, class_weight=None, dual=False, penalty=l2, solver=liblinear \n",
      "[CV]  C=30, class_weight=None, dual=False, penalty=l2, solver=liblinear, score=0.603, total=   0.1s\n",
      "[CV] C=30, class_weight=None, dual=False, penalty=l2, solver=liblinear \n",
      "[CV]  C=30, class_weight=None, dual=False, penalty=l2, solver=liblinear, score=0.634, total=   0.1s\n",
      "[CV] C=30, class_weight=None, dual=False, penalty=elasticnet, solver=newton-cg \n",
      "[CV]  C=30, class_weight=None, dual=False, penalty=elasticnet, solver=newton-cg, score=nan, total=   0.0s\n",
      "[CV] C=30, class_weight=None, dual=False, penalty=elasticnet, solver=newton-cg \n",
      "[CV]  C=30, class_weight=None, dual=False, penalty=elasticnet, solver=newton-cg, score=nan, total=   0.0s\n",
      "[CV] C=30, class_weight=None, dual=False, penalty=elasticnet, solver=newton-cg \n",
      "[CV]  C=30, class_weight=None, dual=False, penalty=elasticnet, solver=newton-cg, score=nan, total=   0.0s\n",
      "[CV] C=30, class_weight=None, dual=False, penalty=elasticnet, solver=newton-cg \n",
      "[CV]  C=30, class_weight=None, dual=False, penalty=elasticnet, solver=newton-cg, score=nan, total=   0.0s\n",
      "[CV] C=30, class_weight=None, dual=False, penalty=elasticnet, solver=newton-cg \n",
      "[CV]  C=30, class_weight=None, dual=False, penalty=elasticnet, solver=newton-cg, score=nan, total=   0.0s\n",
      "[CV] C=30, class_weight=None, dual=False, penalty=elasticnet, solver=lbfgs \n",
      "[CV]  C=30, class_weight=None, dual=False, penalty=elasticnet, solver=lbfgs, score=nan, total=   0.0s\n",
      "[CV] C=30, class_weight=None, dual=False, penalty=elasticnet, solver=lbfgs \n",
      "[CV]  C=30, class_weight=None, dual=False, penalty=elasticnet, solver=lbfgs, score=nan, total=   0.0s\n",
      "[CV] C=30, class_weight=None, dual=False, penalty=elasticnet, solver=lbfgs \n",
      "[CV]  C=30, class_weight=None, dual=False, penalty=elasticnet, solver=lbfgs, score=nan, total=   0.0s\n",
      "[CV] C=30, class_weight=None, dual=False, penalty=elasticnet, solver=lbfgs \n",
      "[CV]  C=30, class_weight=None, dual=False, penalty=elasticnet, solver=lbfgs, score=nan, total=   0.0s\n",
      "[CV] C=30, class_weight=None, dual=False, penalty=elasticnet, solver=lbfgs \n",
      "[CV]  C=30, class_weight=None, dual=False, penalty=elasticnet, solver=lbfgs, score=nan, total=   0.0s\n",
      "[CV] C=30, class_weight=None, dual=False, penalty=elasticnet, solver=sag \n",
      "[CV]  C=30, class_weight=None, dual=False, penalty=elasticnet, solver=sag, score=nan, total=   0.0s\n",
      "[CV] C=30, class_weight=None, dual=False, penalty=elasticnet, solver=sag \n",
      "[CV]  C=30, class_weight=None, dual=False, penalty=elasticnet, solver=sag, score=nan, total=   0.0s\n",
      "[CV] C=30, class_weight=None, dual=False, penalty=elasticnet, solver=sag \n",
      "[CV]  C=30, class_weight=None, dual=False, penalty=elasticnet, solver=sag, score=nan, total=   0.0s\n",
      "[CV] C=30, class_weight=None, dual=False, penalty=elasticnet, solver=sag \n",
      "[CV]  C=30, class_weight=None, dual=False, penalty=elasticnet, solver=sag, score=nan, total=   0.0s"
     ]
    },
    {
     "name": "stderr",
     "output_type": "stream",
     "text": [
      "C:\\ProgramData\\Anaconda3\\lib\\site-packages\\sklearn\\model_selection\\_validation.py:548: FitFailedWarning: Estimator fit failed. The score on this train-test partition for these parameters will be set to nan. Details: \n",
      "Traceback (most recent call last):\n",
      "  File \"C:\\ProgramData\\Anaconda3\\lib\\site-packages\\sklearn\\model_selection\\_validation.py\", line 531, in _fit_and_score\n",
      "    estimator.fit(X_train, y_train, **fit_params)\n",
      "  File \"C:\\ProgramData\\Anaconda3\\lib\\site-packages\\sklearn\\linear_model\\_logistic.py\", line 1304, in fit\n",
      "    solver = _check_solver(self.solver, self.penalty, self.dual)\n",
      "  File \"C:\\ProgramData\\Anaconda3\\lib\\site-packages\\sklearn\\linear_model\\_logistic.py\", line 442, in _check_solver\n",
      "    raise ValueError(\"Solver %s supports only 'l2' or 'none' penalties, \"\n",
      "ValueError: Solver newton-cg supports only 'l2' or 'none' penalties, got elasticnet penalty.\n",
      "\n",
      "  warnings.warn(\"Estimator fit failed. The score on this train-test\"\n",
      "C:\\ProgramData\\Anaconda3\\lib\\site-packages\\sklearn\\model_selection\\_validation.py:548: FitFailedWarning: Estimator fit failed. The score on this train-test partition for these parameters will be set to nan. Details: \n",
      "Traceback (most recent call last):\n",
      "  File \"C:\\ProgramData\\Anaconda3\\lib\\site-packages\\sklearn\\model_selection\\_validation.py\", line 531, in _fit_and_score\n",
      "    estimator.fit(X_train, y_train, **fit_params)\n",
      "  File \"C:\\ProgramData\\Anaconda3\\lib\\site-packages\\sklearn\\linear_model\\_logistic.py\", line 1304, in fit\n",
      "    solver = _check_solver(self.solver, self.penalty, self.dual)\n",
      "  File \"C:\\ProgramData\\Anaconda3\\lib\\site-packages\\sklearn\\linear_model\\_logistic.py\", line 442, in _check_solver\n",
      "    raise ValueError(\"Solver %s supports only 'l2' or 'none' penalties, \"\n",
      "ValueError: Solver lbfgs supports only 'l2' or 'none' penalties, got elasticnet penalty.\n",
      "\n",
      "  warnings.warn(\"Estimator fit failed. The score on this train-test\"\n",
      "C:\\ProgramData\\Anaconda3\\lib\\site-packages\\sklearn\\model_selection\\_validation.py:548: FitFailedWarning: Estimator fit failed. The score on this train-test partition for these parameters will be set to nan. Details: \n",
      "Traceback (most recent call last):\n",
      "  File \"C:\\ProgramData\\Anaconda3\\lib\\site-packages\\sklearn\\model_selection\\_validation.py\", line 531, in _fit_and_score\n",
      "    estimator.fit(X_train, y_train, **fit_params)\n",
      "  File \"C:\\ProgramData\\Anaconda3\\lib\\site-packages\\sklearn\\linear_model\\_logistic.py\", line 1304, in fit\n",
      "    solver = _check_solver(self.solver, self.penalty, self.dual)\n",
      "  File \"C:\\ProgramData\\Anaconda3\\lib\\site-packages\\sklearn\\linear_model\\_logistic.py\", line 442, in _check_solver\n",
      "    raise ValueError(\"Solver %s supports only 'l2' or 'none' penalties, \"\n",
      "ValueError: Solver sag supports only 'l2' or 'none' penalties, got elasticnet penalty.\n",
      "\n",
      "  warnings.warn(\"Estimator fit failed. The score on this train-test\"\n",
      "C:\\ProgramData\\Anaconda3\\lib\\site-packages\\sklearn\\model_selection\\_validation.py:548: FitFailedWarning: Estimator fit failed. The score on this train-test partition for these parameters will be set to nan. Details: \n",
      "Traceback (most recent call last):\n",
      "  File \"C:\\ProgramData\\Anaconda3\\lib\\site-packages\\sklearn\\model_selection\\_validation.py\", line 531, in _fit_and_score\n",
      "    estimator.fit(X_train, y_train, **fit_params)\n",
      "  File \"C:\\ProgramData\\Anaconda3\\lib\\site-packages\\sklearn\\linear_model\\_logistic.py\", line 1312, in fit\n",
      "    raise ValueError(\"l1_ratio must be between 0 and 1;\"\n",
      "ValueError: l1_ratio must be between 0 and 1; got (l1_ratio=None)\n",
      "\n",
      "  warnings.warn(\"Estimator fit failed. The score on this train-test\"\n",
      "C:\\ProgramData\\Anaconda3\\lib\\site-packages\\sklearn\\model_selection\\_validation.py:548: FitFailedWarning: Estimator fit failed. The score on this train-test partition for these parameters will be set to nan. Details: \n",
      "Traceback (most recent call last):\n",
      "  File \"C:\\ProgramData\\Anaconda3\\lib\\site-packages\\sklearn\\model_selection\\_validation.py\", line 531, in _fit_and_score\n",
      "    estimator.fit(X_train, y_train, **fit_params)\n",
      "  File \"C:\\ProgramData\\Anaconda3\\lib\\site-packages\\sklearn\\linear_model\\_logistic.py\", line 1304, in fit\n",
      "    solver = _check_solver(self.solver, self.penalty, self.dual)\n",
      "  File \"C:\\ProgramData\\Anaconda3\\lib\\site-packages\\sklearn\\linear_model\\_logistic.py\", line 449, in _check_solver\n",
      "    raise ValueError(\"Only 'saga' solver supports elasticnet penalty,\"\n",
      "ValueError: Only 'saga' solver supports elasticnet penalty, got solver=liblinear.\n",
      "\n",
      "  warnings.warn(\"Estimator fit failed. The score on this train-test\"\n",
      "C:\\ProgramData\\Anaconda3\\lib\\site-packages\\sklearn\\model_selection\\_validation.py:548: FitFailedWarning: Estimator fit failed. The score on this train-test partition for these parameters will be set to nan. Details: \n",
      "Traceback (most recent call last):\n",
      "  File \"C:\\ProgramData\\Anaconda3\\lib\\site-packages\\sklearn\\model_selection\\_validation.py\", line 531, in _fit_and_score\n",
      "    estimator.fit(X_train, y_train, **fit_params)\n",
      "  File \"C:\\ProgramData\\Anaconda3\\lib\\site-packages\\sklearn\\linear_model\\_logistic.py\", line 1304, in fit\n",
      "    solver = _check_solver(self.solver, self.penalty, self.dual)\n",
      "  File \"C:\\ProgramData\\Anaconda3\\lib\\site-packages\\sklearn\\linear_model\\_logistic.py\", line 442, in _check_solver\n",
      "    raise ValueError(\"Solver %s supports only 'l2' or 'none' penalties, \"\n",
      "ValueError: Solver newton-cg supports only 'l2' or 'none' penalties, got l1 penalty.\n",
      "\n",
      "  warnings.warn(\"Estimator fit failed. The score on this train-test\"\n",
      "C:\\ProgramData\\Anaconda3\\lib\\site-packages\\sklearn\\model_selection\\_validation.py:548: FitFailedWarning: Estimator fit failed. The score on this train-test partition for these parameters will be set to nan. Details: \n",
      "Traceback (most recent call last):\n",
      "  File \"C:\\ProgramData\\Anaconda3\\lib\\site-packages\\sklearn\\model_selection\\_validation.py\", line 531, in _fit_and_score\n",
      "    estimator.fit(X_train, y_train, **fit_params)\n",
      "  File \"C:\\ProgramData\\Anaconda3\\lib\\site-packages\\sklearn\\linear_model\\_logistic.py\", line 1304, in fit\n",
      "    solver = _check_solver(self.solver, self.penalty, self.dual)\n",
      "  File \"C:\\ProgramData\\Anaconda3\\lib\\site-packages\\sklearn\\linear_model\\_logistic.py\", line 442, in _check_solver\n",
      "    raise ValueError(\"Solver %s supports only 'l2' or 'none' penalties, \"\n",
      "ValueError: Solver lbfgs supports only 'l2' or 'none' penalties, got l1 penalty.\n",
      "\n",
      "  warnings.warn(\"Estimator fit failed. The score on this train-test\"\n",
      "C:\\ProgramData\\Anaconda3\\lib\\site-packages\\sklearn\\model_selection\\_validation.py:548: FitFailedWarning: Estimator fit failed. The score on this train-test partition for these parameters will be set to nan. Details: \n",
      "Traceback (most recent call last):\n",
      "  File \"C:\\ProgramData\\Anaconda3\\lib\\site-packages\\sklearn\\model_selection\\_validation.py\", line 531, in _fit_and_score\n",
      "    estimator.fit(X_train, y_train, **fit_params)\n",
      "  File \"C:\\ProgramData\\Anaconda3\\lib\\site-packages\\sklearn\\linear_model\\_logistic.py\", line 1304, in fit\n",
      "    solver = _check_solver(self.solver, self.penalty, self.dual)\n",
      "  File \"C:\\ProgramData\\Anaconda3\\lib\\site-packages\\sklearn\\linear_model\\_logistic.py\", line 442, in _check_solver\n",
      "    raise ValueError(\"Solver %s supports only 'l2' or 'none' penalties, \"\n",
      "ValueError: Solver sag supports only 'l2' or 'none' penalties, got l1 penalty.\n",
      "\n",
      "  warnings.warn(\"Estimator fit failed. The score on this train-test\"\n",
      "C:\\ProgramData\\Anaconda3\\lib\\site-packages\\sklearn\\model_selection\\_validation.py:548: FitFailedWarning: Estimator fit failed. The score on this train-test partition for these parameters will be set to nan. Details: \n",
      "Traceback (most recent call last):\n",
      "  File \"C:\\ProgramData\\Anaconda3\\lib\\site-packages\\sklearn\\model_selection\\_validation.py\", line 531, in _fit_and_score\n",
      "    estimator.fit(X_train, y_train, **fit_params)\n",
      "  File \"C:\\ProgramData\\Anaconda3\\lib\\site-packages\\sklearn\\linear_model\\_logistic.py\", line 1304, in fit\n",
      "    solver = _check_solver(self.solver, self.penalty, self.dual)\n",
      "  File \"C:\\ProgramData\\Anaconda3\\lib\\site-packages\\sklearn\\linear_model\\_logistic.py\", line 445, in _check_solver\n",
      "    raise ValueError(\"Solver %s supports only \"\n",
      "ValueError: Solver saga supports only dual=False, got dual=True\n",
      "\n",
      "  warnings.warn(\"Estimator fit failed. The score on this train-test\"\n",
      "C:\\ProgramData\\Anaconda3\\lib\\site-packages\\sklearn\\model_selection\\_validation.py:548: FitFailedWarning: Estimator fit failed. The score on this train-test partition for these parameters will be set to nan. Details: \n",
      "Traceback (most recent call last):\n",
      "  File \"C:\\ProgramData\\Anaconda3\\lib\\site-packages\\sklearn\\model_selection\\_validation.py\", line 531, in _fit_and_score\n",
      "    estimator.fit(X_train, y_train, **fit_params)\n",
      "  File \"C:\\ProgramData\\Anaconda3\\lib\\site-packages\\sklearn\\linear_model\\_logistic.py\", line 1356, in fit\n",
      "    self.coef_, self.intercept_, n_iter_ = _fit_liblinear(\n",
      "  File \"C:\\ProgramData\\Anaconda3\\lib\\site-packages\\sklearn\\svm\\_base.py\", line 965, in _fit_liblinear\n",
      "    solver_type = _get_liblinear_solver_type(multi_class, penalty, loss, dual)\n",
      "  File \"C:\\ProgramData\\Anaconda3\\lib\\site-packages\\sklearn\\svm\\_base.py\", line 821, in _get_liblinear_solver_type\n",
      "    raise ValueError('Unsupported set of arguments: %s, '\n",
      "ValueError: Unsupported set of arguments: The combination of penalty='l1' and loss='logistic_regression' are not supported when dual=True, Parameters: penalty='l1', loss='logistic_regression', dual=True\n",
      "\n",
      "  warnings.warn(\"Estimator fit failed. The score on this train-test\"\n",
      "C:\\ProgramData\\Anaconda3\\lib\\site-packages\\sklearn\\model_selection\\_validation.py:548: FitFailedWarning: Estimator fit failed. The score on this train-test partition for these parameters will be set to nan. Details: \n",
      "Traceback (most recent call last):\n",
      "  File \"C:\\ProgramData\\Anaconda3\\lib\\site-packages\\sklearn\\model_selection\\_validation.py\", line 531, in _fit_and_score\n",
      "    estimator.fit(X_train, y_train, **fit_params)\n",
      "  File \"C:\\ProgramData\\Anaconda3\\lib\\site-packages\\sklearn\\linear_model\\_logistic.py\", line 1304, in fit\n",
      "    solver = _check_solver(self.solver, self.penalty, self.dual)\n",
      "  File \"C:\\ProgramData\\Anaconda3\\lib\\site-packages\\sklearn\\linear_model\\_logistic.py\", line 445, in _check_solver\n",
      "    raise ValueError(\"Solver %s supports only \"\n",
      "ValueError: Solver newton-cg supports only dual=False, got dual=True\n",
      "\n",
      "  warnings.warn(\"Estimator fit failed. The score on this train-test\"\n",
      "C:\\ProgramData\\Anaconda3\\lib\\site-packages\\sklearn\\model_selection\\_validation.py:548: FitFailedWarning: Estimator fit failed. The score on this train-test partition for these parameters will be set to nan. Details: \n",
      "Traceback (most recent call last):\n",
      "  File \"C:\\ProgramData\\Anaconda3\\lib\\site-packages\\sklearn\\model_selection\\_validation.py\", line 531, in _fit_and_score\n",
      "    estimator.fit(X_train, y_train, **fit_params)\n",
      "  File \"C:\\ProgramData\\Anaconda3\\lib\\site-packages\\sklearn\\linear_model\\_logistic.py\", line 1304, in fit\n",
      "    solver = _check_solver(self.solver, self.penalty, self.dual)\n",
      "  File \"C:\\ProgramData\\Anaconda3\\lib\\site-packages\\sklearn\\linear_model\\_logistic.py\", line 445, in _check_solver\n",
      "    raise ValueError(\"Solver %s supports only \"\n",
      "ValueError: Solver lbfgs supports only dual=False, got dual=True\n",
      "\n",
      "  warnings.warn(\"Estimator fit failed. The score on this train-test\"\n",
      "C:\\ProgramData\\Anaconda3\\lib\\site-packages\\sklearn\\model_selection\\_validation.py:548: FitFailedWarning: Estimator fit failed. The score on this train-test partition for these parameters will be set to nan. Details: \n",
      "Traceback (most recent call last):\n",
      "  File \"C:\\ProgramData\\Anaconda3\\lib\\site-packages\\sklearn\\model_selection\\_validation.py\", line 531, in _fit_and_score\n",
      "    estimator.fit(X_train, y_train, **fit_params)\n",
      "  File \"C:\\ProgramData\\Anaconda3\\lib\\site-packages\\sklearn\\linear_model\\_logistic.py\", line 1304, in fit\n",
      "    solver = _check_solver(self.solver, self.penalty, self.dual)\n",
      "  File \"C:\\ProgramData\\Anaconda3\\lib\\site-packages\\sklearn\\linear_model\\_logistic.py\", line 445, in _check_solver\n",
      "    raise ValueError(\"Solver %s supports only \"\n",
      "ValueError: Solver sag supports only dual=False, got dual=True\n",
      "\n",
      "  warnings.warn(\"Estimator fit failed. The score on this train-test\"\n"
     ]
    },
    {
     "name": "stdout",
     "output_type": "stream",
     "text": [
      "\n",
      "[CV] C=30, class_weight=None, dual=False, penalty=elasticnet, solver=sag \n",
      "[CV]  C=30, class_weight=None, dual=False, penalty=elasticnet, solver=sag, score=nan, total=   0.0s\n",
      "[CV] C=30, class_weight=None, dual=False, penalty=elasticnet, solver=saga \n",
      "[CV]  C=30, class_weight=None, dual=False, penalty=elasticnet, solver=saga, score=nan, total=   0.0s\n",
      "[CV] C=30, class_weight=None, dual=False, penalty=elasticnet, solver=saga \n",
      "[CV]  C=30, class_weight=None, dual=False, penalty=elasticnet, solver=saga, score=nan, total=   0.0s\n",
      "[CV] C=30, class_weight=None, dual=False, penalty=elasticnet, solver=saga \n",
      "[CV]  C=30, class_weight=None, dual=False, penalty=elasticnet, solver=saga, score=nan, total=   0.0s\n",
      "[CV] C=30, class_weight=None, dual=False, penalty=elasticnet, solver=saga \n",
      "[CV]  C=30, class_weight=None, dual=False, penalty=elasticnet, solver=saga, score=nan, total=   0.0s\n",
      "[CV] C=30, class_weight=None, dual=False, penalty=elasticnet, solver=saga \n",
      "[CV]  C=30, class_weight=None, dual=False, penalty=elasticnet, solver=saga, score=nan, total=   0.0s\n",
      "[CV] C=30, class_weight=None, dual=False, penalty=elasticnet, solver=liblinear \n",
      "[CV]  C=30, class_weight=None, dual=False, penalty=elasticnet, solver=liblinear, score=nan, total=   0.0s\n",
      "[CV] C=30, class_weight=None, dual=False, penalty=elasticnet, solver=liblinear \n",
      "[CV]  C=30, class_weight=None, dual=False, penalty=elasticnet, solver=liblinear, score=nan, total=   0.0s\n",
      "[CV] C=30, class_weight=None, dual=False, penalty=elasticnet, solver=liblinear \n",
      "[CV]  C=30, class_weight=None, dual=False, penalty=elasticnet, solver=liblinear, score=nan, total=   0.0s\n",
      "[CV] C=30, class_weight=None, dual=False, penalty=elasticnet, solver=liblinear \n",
      "[CV]  C=30, class_weight=None, dual=False, penalty=elasticnet, solver=liblinear, score=nan, total=   0.0s\n",
      "[CV] C=30, class_weight=None, dual=False, penalty=elasticnet, solver=liblinear \n",
      "[CV]  C=30, class_weight=None, dual=False, penalty=elasticnet, solver=liblinear, score=nan, total=   0.0s\n",
      "[CV] C=30, class_weight=balanced, dual=True, penalty=l1, solver=newton-cg \n",
      "[CV]  C=30, class_weight=balanced, dual=True, penalty=l1, solver=newton-cg, score=nan, total=   0.0s\n",
      "[CV] C=30, class_weight=balanced, dual=True, penalty=l1, solver=newton-cg \n",
      "[CV]  C=30, class_weight=balanced, dual=True, penalty=l1, solver=newton-cg, score=nan, total=   0.0s\n",
      "[CV] C=30, class_weight=balanced, dual=True, penalty=l1, solver=newton-cg \n",
      "[CV]  C=30, class_weight=balanced, dual=True, penalty=l1, solver=newton-cg, score=nan, total=   0.0s\n",
      "[CV] C=30, class_weight=balanced, dual=True, penalty=l1, solver=newton-cg \n",
      "[CV]  C=30, class_weight=balanced, dual=True, penalty=l1, solver=newton-cg, score=nan, total=   0.0s\n",
      "[CV] C=30, class_weight=balanced, dual=True, penalty=l1, solver=newton-cg \n",
      "[CV]  C=30, class_weight=balanced, dual=True, penalty=l1, solver=newton-cg, score=nan, total=   0.0s\n",
      "[CV] C=30, class_weight=balanced, dual=True, penalty=l1, solver=lbfgs \n",
      "[CV]  C=30, class_weight=balanced, dual=True, penalty=l1, solver=lbfgs, score=nan, total=   0.0s\n",
      "[CV] C=30, class_weight=balanced, dual=True, penalty=l1, solver=lbfgs \n",
      "[CV]  C=30, class_weight=balanced, dual=True, penalty=l1, solver=lbfgs, score=nan, total=   0.0s\n",
      "[CV] C=30, class_weight=balanced, dual=True, penalty=l1, solver=lbfgs \n",
      "[CV]  C=30, class_weight=balanced, dual=True, penalty=l1, solver=lbfgs, score=nan, total=   0.0s\n",
      "[CV] C=30, class_weight=balanced, dual=True, penalty=l1, solver=lbfgs \n",
      "[CV]  C=30, class_weight=balanced, dual=True, penalty=l1, solver=lbfgs, score=nan, total=   0.0s\n",
      "[CV] C=30, class_weight=balanced, dual=True, penalty=l1, solver=lbfgs \n",
      "[CV]  C=30, class_weight=balanced, dual=True, penalty=l1, solver=lbfgs, score=nan, total=   0.0s\n",
      "[CV] C=30, class_weight=balanced, dual=True, penalty=l1, solver=sag ..\n",
      "[CV]  C=30, class_weight=balanced, dual=True, penalty=l1, solver=sag, score=nan, total=   0.0s\n",
      "[CV] C=30, class_weight=balanced, dual=True, penalty=l1, solver=sag ..\n",
      "[CV]  C=30, class_weight=balanced, dual=True, penalty=l1, solver=sag, score=nan, total=   0.0s\n",
      "[CV] C=30, class_weight=balanced, dual=True, penalty=l1, solver=sag ..\n",
      "[CV]  C=30, class_weight=balanced, dual=True, penalty=l1, solver=sag, score=nan, total=   0.0s\n",
      "[CV] C=30, class_weight=balanced, dual=True, penalty=l1, solver=sag ..\n",
      "[CV]  C=30, class_weight=balanced, dual=True, penalty=l1, solver=sag, score=nan, total=   0.0s\n",
      "[CV] C=30, class_weight=balanced, dual=True, penalty=l1, solver=sag ..\n",
      "[CV]  C=30, class_weight=balanced, dual=True, penalty=l1, solver=sag, score=nan, total=   0.0s\n",
      "[CV] C=30, class_weight=balanced, dual=True, penalty=l1, solver=saga .\n",
      "[CV]  C=30, class_weight=balanced, dual=True, penalty=l1, solver=saga, score=nan, total=   0.0s\n",
      "[CV] C=30, class_weight=balanced, dual=True, penalty=l1, solver=saga .\n",
      "[CV]  C=30, class_weight=balanced, dual=True, penalty=l1, solver=saga, score=nan, total=   0.0s\n",
      "[CV] C=30, class_weight=balanced, dual=True, penalty=l1, solver=saga .\n",
      "[CV]  C=30, class_weight=balanced, dual=True, penalty=l1, solver=saga, score=nan, total=   0.0s\n",
      "[CV] C=30, class_weight=balanced, dual=True, penalty=l1, solver=saga .\n",
      "[CV]  C=30, class_weight=balanced, dual=True, penalty=l1, solver=saga, score=nan, total=   0.0s\n",
      "[CV] C=30, class_weight=balanced, dual=True, penalty=l1, solver=saga .\n",
      "[CV]  C=30, class_weight=balanced, dual=True, penalty=l1, solver=saga, score=nan, total=   0.0s\n",
      "[CV] C=30, class_weight=balanced, dual=True, penalty=l1, solver=liblinear \n",
      "[CV]  C=30, class_weight=balanced, dual=True, penalty=l1, solver=liblinear, score=nan, total=   0.0s\n",
      "[CV] C=30, class_weight=balanced, dual=True, penalty=l1, solver=liblinear \n",
      "[CV]  C=30, class_weight=balanced, dual=True, penalty=l1, solver=liblinear, score=nan, total=   0.0s\n",
      "[CV] C=30, class_weight=balanced, dual=True, penalty=l1, solver=liblinear \n",
      "[CV]  C=30, class_weight=balanced, dual=True, penalty=l1, solver=liblinear, score=nan, total=   0.0s\n",
      "[CV] C=30, class_weight=balanced, dual=True, penalty=l1, solver=liblinear \n",
      "[CV]  C=30, class_weight=balanced, dual=True, penalty=l1, solver=liblinear, score=nan, total=   0.0s\n",
      "[CV] C=30, class_weight=balanced, dual=True, penalty=l1, solver=liblinear \n",
      "[CV]  C=30, class_weight=balanced, dual=True, penalty=l1, solver=liblinear, score=nan, total=   0.0s\n",
      "[CV] C=30, class_weight=balanced, dual=True, penalty=l2, solver=newton-cg \n",
      "[CV]  C=30, class_weight=balanced, dual=True, penalty=l2, solver=newton-cg, score=nan, total=   0.0s\n",
      "[CV] C=30, class_weight=balanced, dual=True, penalty=l2, solver=newton-cg \n",
      "[CV]  C=30, class_weight=balanced, dual=True, penalty=l2, solver=newton-cg, score=nan, total=   0.0s\n",
      "[CV] C=30, class_weight=balanced, dual=True, penalty=l2, solver=newton-cg \n",
      "[CV]  C=30, class_weight=balanced, dual=True, penalty=l2, solver=newton-cg, score=nan, total=   0.0s\n",
      "[CV] C=30, class_weight=balanced, dual=True, penalty=l2, solver=newton-cg \n",
      "[CV]  C=30, class_weight=balanced, dual=True, penalty=l2, solver=newton-cg, score=nan, total=   0.0s\n",
      "[CV] C=30, class_weight=balanced, dual=True, penalty=l2, solver=newton-cg \n",
      "[CV]  C=30, class_weight=balanced, dual=True, penalty=l2, solver=newton-cg, score=nan, total=   0.0s\n",
      "[CV] C=30, class_weight=balanced, dual=True, penalty=l2, solver=lbfgs \n",
      "[CV]  C=30, class_weight=balanced, dual=True, penalty=l2, solver=lbfgs, score=nan, total=   0.0s\n",
      "[CV] C=30, class_weight=balanced, dual=True, penalty=l2, solver=lbfgs \n",
      "[CV]  C=30, class_weight=balanced, dual=True, penalty=l2, solver=lbfgs, score=nan, total=   0.0s\n",
      "[CV] C=30, class_weight=balanced, dual=True, penalty=l2, solver=lbfgs \n",
      "[CV]  C=30, class_weight=balanced, dual=True, penalty=l2, solver=lbfgs, score=nan, total=   0.0s\n",
      "[CV] C=30, class_weight=balanced, dual=True, penalty=l2, solver=lbfgs \n",
      "[CV]  C=30, class_weight=balanced, dual=True, penalty=l2, solver=lbfgs, score=nan, total=   0.0s\n",
      "[CV] C=30, class_weight=balanced, dual=True, penalty=l2, solver=lbfgs \n",
      "[CV]  C=30, class_weight=balanced, dual=True, penalty=l2, solver=lbfgs, score=nan, total=   0.0s\n",
      "[CV] C=30, class_weight=balanced, dual=True, penalty=l2, solver=sag ..\n",
      "[CV]  C=30, class_weight=balanced, dual=True, penalty=l2, solver=sag, score=nan, total=   0.0s\n",
      "[CV] C=30, class_weight=balanced, dual=True, penalty=l2, solver=sag ..\n",
      "[CV]  C=30, class_weight=balanced, dual=True, penalty=l2, solver=sag, score=nan, total=   0.0s\n",
      "[CV] C=30, class_weight=balanced, dual=True, penalty=l2, solver=sag ..\n",
      "[CV]  C=30, class_weight=balanced, dual=True, penalty=l2, solver=sag, score=nan, total=   0.0s\n",
      "[CV] C=30, class_weight=balanced, dual=True, penalty=l2, solver=sag ..\n",
      "[CV]  C=30, class_weight=balanced, dual=True, penalty=l2, solver=sag, score=nan, total=   0.0s\n",
      "[CV] C=30, class_weight=balanced, dual=True, penalty=l2, solver=sag ..\n",
      "[CV]  C=30, class_weight=balanced, dual=True, penalty=l2, solver=sag, score=nan, total=   0.0s\n",
      "[CV] C=30, class_weight=balanced, dual=True, penalty=l2, solver=saga .\n",
      "[CV]  C=30, class_weight=balanced, dual=True, penalty=l2, solver=saga, score=nan, total=   0.0s\n",
      "[CV] C=30, class_weight=balanced, dual=True, penalty=l2, solver=saga .\n",
      "[CV]  C=30, class_weight=balanced, dual=True, penalty=l2, solver=saga, score=nan, total=   0.0s\n",
      "[CV] C=30, class_weight=balanced, dual=True, penalty=l2, solver=saga .\n",
      "[CV]  C=30, class_weight=balanced, dual=True, penalty=l2, solver=saga, score=nan, total=   0.0s\n",
      "[CV] C=30, class_weight=balanced, dual=True, penalty=l2, solver=saga .\n",
      "[CV]  C=30, class_weight=balanced, dual=True, penalty=l2, solver=saga, score=nan, total=   0.0s\n",
      "[CV] C=30, class_weight=balanced, dual=True, penalty=l2, solver=saga .\n",
      "[CV]  C=30, class_weight=balanced, dual=True, penalty=l2, solver=saga, score=nan, total=   0.0s\n",
      "[CV] C=30, class_weight=balanced, dual=True, penalty=l2, solver=liblinear \n"
     ]
    },
    {
     "name": "stderr",
     "output_type": "stream",
     "text": [
      "C:\\ProgramData\\Anaconda3\\lib\\site-packages\\sklearn\\svm\\_base.py:976: ConvergenceWarning: Liblinear failed to converge, increase the number of iterations.\n",
      "  warnings.warn(\"Liblinear failed to converge, increase \"\n"
     ]
    },
    {
     "name": "stdout",
     "output_type": "stream",
     "text": [
      "[CV]  C=30, class_weight=balanced, dual=True, penalty=l2, solver=liblinear, score=0.721, total=   0.2s\n",
      "[CV] C=30, class_weight=balanced, dual=True, penalty=l2, solver=liblinear \n",
      "[CV]  C=30, class_weight=balanced, dual=True, penalty=l2, solver=liblinear, score=0.694, total=   0.2s\n",
      "[CV] C=30, class_weight=balanced, dual=True, penalty=l2, solver=liblinear \n",
      "[CV]  C=30, class_weight=balanced, dual=True, penalty=l2, solver=liblinear, score=0.657, total=   0.2s\n",
      "[CV] C=30, class_weight=balanced, dual=True, penalty=l2, solver=liblinear \n",
      "[CV]  C=30, class_weight=balanced, dual=True, penalty=l2, solver=liblinear, score=0.702, total=   0.2s\n",
      "[CV] C=30, class_weight=balanced, dual=True, penalty=l2, solver=liblinear \n",
      "[CV]  C=30, class_weight=balanced, dual=True, penalty=l2, solver=liblinear, score=0.721, total=   0.2s\n",
      "[CV] C=30, class_weight=balanced, dual=True, penalty=elasticnet, solver=newton-cg \n",
      "[CV]  C=30, class_weight=balanced, dual=True, penalty=elasticnet, solver=newton-cg, score=nan, total=   0.0s\n",
      "[CV] C=30, class_weight=balanced, dual=True, penalty=elasticnet, solver=newton-cg \n",
      "[CV]  C=30, class_weight=balanced, dual=True, penalty=elasticnet, solver=newton-cg, score=nan, total=   0.0s\n",
      "[CV] C=30, class_weight=balanced, dual=True, penalty=elasticnet, solver=newton-cg \n",
      "[CV]  C=30, class_weight=balanced, dual=True, penalty=elasticnet, solver=newton-cg, score=nan, total=   0.0s\n",
      "[CV] C=30, class_weight=balanced, dual=True, penalty=elasticnet, solver=newton-cg \n",
      "[CV]  C=30, class_weight=balanced, dual=True, penalty=elasticnet, solver=newton-cg, score=nan, total=   0.0s\n",
      "[CV] C=30, class_weight=balanced, dual=True, penalty=elasticnet, solver=newton-cg \n",
      "[CV]  C=30, class_weight=balanced, dual=True, penalty=elasticnet, solver=newton-cg, score=nan, total=   0.0s\n",
      "[CV] C=30, class_weight=balanced, dual=True, penalty=elasticnet, solver=lbfgs \n",
      "[CV]  C=30, class_weight=balanced, dual=True, penalty=elasticnet, solver=lbfgs, score=nan, total=   0.0s\n",
      "[CV] C=30, class_weight=balanced, dual=True, penalty=elasticnet, solver=lbfgs \n",
      "[CV]  C=30, class_weight=balanced, dual=True, penalty=elasticnet, solver=lbfgs, score=nan, total=   0.0s\n",
      "[CV] C=30, class_weight=balanced, dual=True, penalty=elasticnet, solver=lbfgs \n",
      "[CV]  C=30, class_weight=balanced, dual=True, penalty=elasticnet, solver=lbfgs, score=nan, total=   0.0s\n",
      "[CV] C=30, class_weight=balanced, dual=True, penalty=elasticnet, solver=lbfgs \n",
      "[CV]  C=30, class_weight=balanced, dual=True, penalty=elasticnet, solver=lbfgs, score=nan, total=   0.0s\n",
      "[CV] C=30, class_weight=balanced, dual=True, penalty=elasticnet, solver=lbfgs \n",
      "[CV]  C=30, class_weight=balanced, dual=True, penalty=elasticnet, solver=lbfgs, score=nan, total=   0.0s\n",
      "[CV] C=30, class_weight=balanced, dual=True, penalty=elasticnet, solver=sag \n",
      "[CV]  C=30, class_weight=balanced, dual=True, penalty=elasticnet, solver=sag, score=nan, total=   0.0s\n",
      "[CV] C=30, class_weight=balanced, dual=True, penalty=elasticnet, solver=sag \n",
      "[CV]  C=30, class_weight=balanced, dual=True, penalty=elasticnet, solver=sag, score=nan, total=   0.0s\n",
      "[CV] C=30, class_weight=balanced, dual=True, penalty=elasticnet, solver=sag \n",
      "[CV]  C=30, class_weight=balanced, dual=True, penalty=elasticnet, solver=sag, score=nan, total=   0.0s\n",
      "[CV] C=30, class_weight=balanced, dual=True, penalty=elasticnet, solver=sag \n",
      "[CV]  C=30, class_weight=balanced, dual=True, penalty=elasticnet, solver=sag, score=nan, total=   0.0s\n",
      "[CV] C=30, class_weight=balanced, dual=True, penalty=elasticnet, solver=sag \n",
      "[CV]  C=30, class_weight=balanced, dual=True, penalty=elasticnet, solver=sag, score=nan, total=   0.0s\n",
      "[CV] C=30, class_weight=balanced, dual=True, penalty=elasticnet, solver=saga \n",
      "[CV]  C=30, class_weight=balanced, dual=True, penalty=elasticnet, solver=saga, score=nan, total=   0.0s\n",
      "[CV] C=30, class_weight=balanced, dual=True, penalty=elasticnet, solver=saga \n",
      "[CV]  C=30, class_weight=balanced, dual=True, penalty=elasticnet, solver=saga, score=nan, total=   0.0s\n",
      "[CV] C=30, class_weight=balanced, dual=True, penalty=elasticnet, solver=saga \n",
      "[CV]  C=30, class_weight=balanced, dual=True, penalty=elasticnet, solver=saga, score=nan, total=   0.0s\n",
      "[CV] C=30, class_weight=balanced, dual=True, penalty=elasticnet, solver=saga \n",
      "[CV]  C=30, class_weight=balanced, dual=True, penalty=elasticnet, solver=saga, score=nan, total=   0.0s\n",
      "[CV] C=30, class_weight=balanced, dual=True, penalty=elasticnet, solver=saga \n",
      "[CV]  C=30, class_weight=balanced, dual=True, penalty=elasticnet, solver=saga, score=nan, total=   0.0s\n",
      "[CV] C=30, class_weight=balanced, dual=True, penalty=elasticnet, solver=liblinear \n",
      "[CV]  C=30, class_weight=balanced, dual=True, penalty=elasticnet, solver=liblinear, score=nan, total=   0.0s\n",
      "[CV] C=30, class_weight=balanced, dual=True, penalty=elasticnet, solver=liblinear \n",
      "[CV]  C=30, class_weight=balanced, dual=True, penalty=elasticnet, solver=liblinear, score=nan, total=   0.0s\n",
      "[CV] C=30, class_weight=balanced, dual=True, penalty=elasticnet, solver=liblinear \n",
      "[CV]  C=30, class_weight=balanced, dual=True, penalty=elasticnet, solver=liblinear, score=nan, total=   0.0s\n",
      "[CV] C=30, class_weight=balanced, dual=True, penalty=elasticnet, solver=liblinear \n",
      "[CV]  C=30, class_weight=balanced, dual=True, penalty=elasticnet, solver=liblinear, score=nan, total=   0.0s\n",
      "[CV] C=30, class_weight=balanced, dual=True, penalty=elasticnet, solver=liblinear \n",
      "[CV]  C=30, class_weight=balanced, dual=True, penalty=elasticnet, solver=liblinear, score=nan, total=   0.0s\n",
      "[CV] C=30, class_weight=balanced, dual=False, penalty=l1, solver=newton-cg \n",
      "[CV]  C=30, class_weight=balanced, dual=False, penalty=l1, solver=newton-cg, score=nan, total=   0.0s\n",
      "[CV] C=30, class_weight=balanced, dual=False, penalty=l1, solver=newton-cg \n",
      "[CV]  C=30, class_weight=balanced, dual=False, penalty=l1, solver=newton-cg, score=nan, total=   0.0s\n",
      "[CV] C=30, class_weight=balanced, dual=False, penalty=l1, solver=newton-cg \n",
      "[CV]  C=30, class_weight=balanced, dual=False, penalty=l1, solver=newton-cg, score=nan, total=   0.0s\n",
      "[CV] C=30, class_weight=balanced, dual=False, penalty=l1, solver=newton-cg \n",
      "[CV]  C=30, class_weight=balanced, dual=False, penalty=l1, solver=newton-cg, score=nan, total=   0.0s\n",
      "[CV] C=30, class_weight=balanced, dual=False, penalty=l1, solver=newton-cg \n",
      "[CV]  C=30, class_weight=balanced, dual=False, penalty=l1, solver=newton-cg, score=nan, total=   0.0s\n",
      "[CV] C=30, class_weight=balanced, dual=False, penalty=l1, solver=lbfgs \n",
      "[CV]  C=30, class_weight=balanced, dual=False, penalty=l1, solver=lbfgs, score=nan, total=   0.0s\n",
      "[CV] C=30, class_weight=balanced, dual=False, penalty=l1, solver=lbfgs \n",
      "[CV]  C=30, class_weight=balanced, dual=False, penalty=l1, solver=lbfgs, score=nan, total=   0.0s\n",
      "[CV] C=30, class_weight=balanced, dual=False, penalty=l1, solver=lbfgs \n",
      "[CV]  C=30, class_weight=balanced, dual=False, penalty=l1, solver=lbfgs, score=nan, total=   0.0s\n",
      "[CV] C=30, class_weight=balanced, dual=False, penalty=l1, solver=lbfgs \n",
      "[CV]  C=30, class_weight=balanced, dual=False, penalty=l1, solver=lbfgs, score=nan, total=   0.0s\n",
      "[CV] C=30, class_weight=balanced, dual=False, penalty=l1, solver=lbfgs \n",
      "[CV]  C=30, class_weight=balanced, dual=False, penalty=l1, solver=lbfgs, score=nan, total=   0.0s\n",
      "[CV] C=30, class_weight=balanced, dual=False, penalty=l1, solver=sag .\n",
      "[CV]  C=30, class_weight=balanced, dual=False, penalty=l1, solver=sag, score=nan, total=   0.0s\n",
      "[CV] C=30, class_weight=balanced, dual=False, penalty=l1, solver=sag .\n",
      "[CV]  C=30, class_weight=balanced, dual=False, penalty=l1, solver=sag, score=nan, total=   0.0s\n",
      "[CV] C=30, class_weight=balanced, dual=False, penalty=l1, solver=sag .\n",
      "[CV]  C=30, class_weight=balanced, dual=False, penalty=l1, solver=sag, score=nan, total=   0.0s\n",
      "[CV] C=30, class_weight=balanced, dual=False, penalty=l1, solver=sag .\n",
      "[CV]  C=30, class_weight=balanced, dual=False, penalty=l1, solver=sag, score=nan, total=   0.0s\n",
      "[CV] C=30, class_weight=balanced, dual=False, penalty=l1, solver=sag .\n",
      "[CV]  C=30, class_weight=balanced, dual=False, penalty=l1, solver=sag, score=nan, total=   0.0s\n",
      "[CV] C=30, class_weight=balanced, dual=False, penalty=l1, solver=saga \n"
     ]
    },
    {
     "name": "stderr",
     "output_type": "stream",
     "text": [
      "C:\\ProgramData\\Anaconda3\\lib\\site-packages\\sklearn\\linear_model\\_sag.py:329: ConvergenceWarning: The max_iter was reached which means the coef_ did not converge\n",
      "  warnings.warn(\"The max_iter was reached which means \"\n"
     ]
    },
    {
     "name": "stdout",
     "output_type": "stream",
     "text": [
      "[CV]  C=30, class_weight=balanced, dual=False, penalty=l1, solver=saga, score=0.725, total=  15.7s\n",
      "[CV] C=30, class_weight=balanced, dual=False, penalty=l1, solver=saga \n"
     ]
    },
    {
     "name": "stderr",
     "output_type": "stream",
     "text": [
      "C:\\ProgramData\\Anaconda3\\lib\\site-packages\\sklearn\\linear_model\\_sag.py:329: ConvergenceWarning: The max_iter was reached which means the coef_ did not converge\n",
      "  warnings.warn(\"The max_iter was reached which means \"\n"
     ]
    },
    {
     "name": "stdout",
     "output_type": "stream",
     "text": [
      "[CV]  C=30, class_weight=balanced, dual=False, penalty=l1, solver=saga, score=0.713, total=  11.3s\n",
      "[CV] C=30, class_weight=balanced, dual=False, penalty=l1, solver=saga \n"
     ]
    },
    {
     "name": "stderr",
     "output_type": "stream",
     "text": [
      "C:\\ProgramData\\Anaconda3\\lib\\site-packages\\sklearn\\linear_model\\_sag.py:329: ConvergenceWarning: The max_iter was reached which means the coef_ did not converge\n",
      "  warnings.warn(\"The max_iter was reached which means \"\n"
     ]
    },
    {
     "name": "stdout",
     "output_type": "stream",
     "text": [
      "[CV]  C=30, class_weight=balanced, dual=False, penalty=l1, solver=saga, score=0.652, total=  16.1s\n",
      "[CV] C=30, class_weight=balanced, dual=False, penalty=l1, solver=saga \n"
     ]
    },
    {
     "name": "stderr",
     "output_type": "stream",
     "text": [
      "C:\\ProgramData\\Anaconda3\\lib\\site-packages\\sklearn\\linear_model\\_sag.py:329: ConvergenceWarning: The max_iter was reached which means the coef_ did not converge\n",
      "  warnings.warn(\"The max_iter was reached which means \"\n"
     ]
    },
    {
     "name": "stdout",
     "output_type": "stream",
     "text": [
      "[CV]  C=30, class_weight=balanced, dual=False, penalty=l1, solver=saga, score=0.661, total=  16.6s\n",
      "[CV] C=30, class_weight=balanced, dual=False, penalty=l1, solver=saga \n"
     ]
    },
    {
     "name": "stderr",
     "output_type": "stream",
     "text": [
      "C:\\ProgramData\\Anaconda3\\lib\\site-packages\\sklearn\\linear_model\\_sag.py:329: ConvergenceWarning: The max_iter was reached which means the coef_ did not converge\n",
      "  warnings.warn(\"The max_iter was reached which means \"\n"
     ]
    },
    {
     "name": "stdout",
     "output_type": "stream",
     "text": [
      "[CV]  C=30, class_weight=balanced, dual=False, penalty=l1, solver=saga, score=0.776, total=  15.8s\n",
      "[CV] C=30, class_weight=balanced, dual=False, penalty=l1, solver=liblinear \n",
      "[CV]  C=30, class_weight=balanced, dual=False, penalty=l1, solver=liblinear, score=0.692, total=   0.1s\n",
      "[CV] C=30, class_weight=balanced, dual=False, penalty=l1, solver=liblinear \n",
      "[CV]  C=30, class_weight=balanced, dual=False, penalty=l1, solver=liblinear, score=0.709, total=   0.1s\n",
      "[CV] C=30, class_weight=balanced, dual=False, penalty=l1, solver=liblinear \n",
      "[CV]  C=30, class_weight=balanced, dual=False, penalty=l1, solver=liblinear, score=0.689, total=   0.1s\n",
      "[CV] C=30, class_weight=balanced, dual=False, penalty=l1, solver=liblinear \n",
      "[CV]  C=30, class_weight=balanced, dual=False, penalty=l1, solver=liblinear, score=0.746, total=   0.1s\n",
      "[CV] C=30, class_weight=balanced, dual=False, penalty=l1, solver=liblinear \n",
      "[CV]  C=30, class_weight=balanced, dual=False, penalty=l1, solver=liblinear, score=0.688, total=   0.1s\n",
      "[CV] C=30, class_weight=balanced, dual=False, penalty=l2, solver=newton-cg \n",
      "[CV]  C=30, class_weight=balanced, dual=False, penalty=l2, solver=newton-cg, score=0.737, total=   0.4s\n",
      "[CV] C=30, class_weight=balanced, dual=False, penalty=l2, solver=newton-cg \n",
      "[CV]  C=30, class_weight=balanced, dual=False, penalty=l2, solver=newton-cg, score=0.716, total=   0.4s\n",
      "[CV] C=30, class_weight=balanced, dual=False, penalty=l2, solver=newton-cg \n",
      "[CV]  C=30, class_weight=balanced, dual=False, penalty=l2, solver=newton-cg, score=0.666, total=   0.4s\n",
      "[CV] C=30, class_weight=balanced, dual=False, penalty=l2, solver=newton-cg \n",
      "[CV]  C=30, class_weight=balanced, dual=False, penalty=l2, solver=newton-cg, score=0.710, total=   0.3s\n",
      "[CV] C=30, class_weight=balanced, dual=False, penalty=l2, solver=newton-cg \n",
      "[CV]  C=30, class_weight=balanced, dual=False, penalty=l2, solver=newton-cg, score=0.733, total=   0.3s\n",
      "[CV] C=30, class_weight=balanced, dual=False, penalty=l2, solver=lbfgs \n"
     ]
    },
    {
     "name": "stderr",
     "output_type": "stream",
     "text": [
      "C:\\ProgramData\\Anaconda3\\lib\\site-packages\\sklearn\\linear_model\\_logistic.py:762: ConvergenceWarning: lbfgs failed to converge (status=1):\n",
      "STOP: TOTAL NO. of ITERATIONS REACHED LIMIT.\n",
      "\n",
      "Increase the number of iterations (max_iter) or scale the data as shown in:\n",
      "    https://scikit-learn.org/stable/modules/preprocessing.html\n",
      "Please also refer to the documentation for alternative solver options:\n",
      "    https://scikit-learn.org/stable/modules/linear_model.html#logistic-regression\n",
      "  n_iter_i = _check_optimize_result(\n"
     ]
    },
    {
     "name": "stdout",
     "output_type": "stream",
     "text": [
      "[CV]  C=30, class_weight=balanced, dual=False, penalty=l2, solver=lbfgs, score=0.737, total=   0.8s\n",
      "[CV] C=30, class_weight=balanced, dual=False, penalty=l2, solver=lbfgs \n"
     ]
    },
    {
     "name": "stderr",
     "output_type": "stream",
     "text": [
      "C:\\ProgramData\\Anaconda3\\lib\\site-packages\\sklearn\\linear_model\\_logistic.py:762: ConvergenceWarning: lbfgs failed to converge (status=1):\n",
      "STOP: TOTAL NO. of ITERATIONS REACHED LIMIT.\n",
      "\n",
      "Increase the number of iterations (max_iter) or scale the data as shown in:\n",
      "    https://scikit-learn.org/stable/modules/preprocessing.html\n",
      "Please also refer to the documentation for alternative solver options:\n",
      "    https://scikit-learn.org/stable/modules/linear_model.html#logistic-regression\n",
      "  n_iter_i = _check_optimize_result(\n"
     ]
    },
    {
     "name": "stdout",
     "output_type": "stream",
     "text": [
      "[CV]  C=30, class_weight=balanced, dual=False, penalty=l2, solver=lbfgs, score=0.716, total=   0.7s\n",
      "[CV] C=30, class_weight=balanced, dual=False, penalty=l2, solver=lbfgs \n"
     ]
    },
    {
     "name": "stderr",
     "output_type": "stream",
     "text": [
      "C:\\ProgramData\\Anaconda3\\lib\\site-packages\\sklearn\\linear_model\\_logistic.py:762: ConvergenceWarning: lbfgs failed to converge (status=1):\n",
      "STOP: TOTAL NO. of ITERATIONS REACHED LIMIT.\n",
      "\n",
      "Increase the number of iterations (max_iter) or scale the data as shown in:\n",
      "    https://scikit-learn.org/stable/modules/preprocessing.html\n",
      "Please also refer to the documentation for alternative solver options:\n",
      "    https://scikit-learn.org/stable/modules/linear_model.html#logistic-regression\n",
      "  n_iter_i = _check_optimize_result(\n"
     ]
    },
    {
     "name": "stdout",
     "output_type": "stream",
     "text": [
      "[CV]  C=30, class_weight=balanced, dual=False, penalty=l2, solver=lbfgs, score=0.667, total=   0.6s\n",
      "[CV] C=30, class_weight=balanced, dual=False, penalty=l2, solver=lbfgs \n"
     ]
    },
    {
     "name": "stderr",
     "output_type": "stream",
     "text": [
      "C:\\ProgramData\\Anaconda3\\lib\\site-packages\\sklearn\\linear_model\\_logistic.py:762: ConvergenceWarning: lbfgs failed to converge (status=1):\n",
      "STOP: TOTAL NO. of ITERATIONS REACHED LIMIT.\n",
      "\n",
      "Increase the number of iterations (max_iter) or scale the data as shown in:\n",
      "    https://scikit-learn.org/stable/modules/preprocessing.html\n",
      "Please also refer to the documentation for alternative solver options:\n",
      "    https://scikit-learn.org/stable/modules/linear_model.html#logistic-regression\n",
      "  n_iter_i = _check_optimize_result(\n"
     ]
    },
    {
     "name": "stdout",
     "output_type": "stream",
     "text": [
      "[CV]  C=30, class_weight=balanced, dual=False, penalty=l2, solver=lbfgs, score=0.710, total=   0.6s\n",
      "[CV] C=30, class_weight=balanced, dual=False, penalty=l2, solver=lbfgs \n"
     ]
    },
    {
     "name": "stderr",
     "output_type": "stream",
     "text": [
      "C:\\ProgramData\\Anaconda3\\lib\\site-packages\\sklearn\\linear_model\\_logistic.py:762: ConvergenceWarning: lbfgs failed to converge (status=1):\n",
      "STOP: TOTAL NO. of ITERATIONS REACHED LIMIT.\n",
      "\n",
      "Increase the number of iterations (max_iter) or scale the data as shown in:\n",
      "    https://scikit-learn.org/stable/modules/preprocessing.html\n",
      "Please also refer to the documentation for alternative solver options:\n",
      "    https://scikit-learn.org/stable/modules/linear_model.html#logistic-regression\n",
      "  n_iter_i = _check_optimize_result(\n"
     ]
    },
    {
     "name": "stdout",
     "output_type": "stream",
     "text": [
      "[CV]  C=30, class_weight=balanced, dual=False, penalty=l2, solver=lbfgs, score=0.733, total=   0.6s\n",
      "[CV] C=30, class_weight=balanced, dual=False, penalty=l2, solver=sag .\n"
     ]
    },
    {
     "name": "stderr",
     "output_type": "stream",
     "text": [
      "C:\\ProgramData\\Anaconda3\\lib\\site-packages\\sklearn\\linear_model\\_sag.py:329: ConvergenceWarning: The max_iter was reached which means the coef_ did not converge\n",
      "  warnings.warn(\"The max_iter was reached which means \"\n"
     ]
    },
    {
     "name": "stdout",
     "output_type": "stream",
     "text": [
      "[CV]  C=30, class_weight=balanced, dual=False, penalty=l2, solver=sag, score=0.693, total=   0.2s\n",
      "[CV] C=30, class_weight=balanced, dual=False, penalty=l2, solver=sag .\n"
     ]
    },
    {
     "name": "stderr",
     "output_type": "stream",
     "text": [
      "C:\\ProgramData\\Anaconda3\\lib\\site-packages\\sklearn\\linear_model\\_sag.py:329: ConvergenceWarning: The max_iter was reached which means the coef_ did not converge\n",
      "  warnings.warn(\"The max_iter was reached which means \"\n"
     ]
    },
    {
     "name": "stdout",
     "output_type": "stream",
     "text": [
      "[CV]  C=30, class_weight=balanced, dual=False, penalty=l2, solver=sag, score=0.648, total=   0.2s\n",
      "[CV] C=30, class_weight=balanced, dual=False, penalty=l2, solver=sag .\n"
     ]
    },
    {
     "name": "stderr",
     "output_type": "stream",
     "text": [
      "C:\\ProgramData\\Anaconda3\\lib\\site-packages\\sklearn\\linear_model\\_sag.py:329: ConvergenceWarning: The max_iter was reached which means the coef_ did not converge\n",
      "  warnings.warn(\"The max_iter was reached which means \"\n"
     ]
    },
    {
     "name": "stdout",
     "output_type": "stream",
     "text": [
      "[CV]  C=30, class_weight=balanced, dual=False, penalty=l2, solver=sag, score=0.656, total=   0.2s\n",
      "[CV] C=30, class_weight=balanced, dual=False, penalty=l2, solver=sag .\n"
     ]
    },
    {
     "name": "stderr",
     "output_type": "stream",
     "text": [
      "C:\\ProgramData\\Anaconda3\\lib\\site-packages\\sklearn\\linear_model\\_sag.py:329: ConvergenceWarning: The max_iter was reached which means the coef_ did not converge\n",
      "  warnings.warn(\"The max_iter was reached which means \"\n"
     ]
    },
    {
     "name": "stdout",
     "output_type": "stream",
     "text": [
      "[CV]  C=30, class_weight=balanced, dual=False, penalty=l2, solver=sag, score=0.674, total=   0.2s\n",
      "[CV] C=30, class_weight=balanced, dual=False, penalty=l2, solver=sag .\n"
     ]
    },
    {
     "name": "stderr",
     "output_type": "stream",
     "text": [
      "C:\\ProgramData\\Anaconda3\\lib\\site-packages\\sklearn\\linear_model\\_sag.py:329: ConvergenceWarning: The max_iter was reached which means the coef_ did not converge\n",
      "  warnings.warn(\"The max_iter was reached which means \"\n"
     ]
    },
    {
     "name": "stdout",
     "output_type": "stream",
     "text": [
      "[CV]  C=30, class_weight=balanced, dual=False, penalty=l2, solver=sag, score=0.706, total=   0.2s\n",
      "[CV] C=30, class_weight=balanced, dual=False, penalty=l2, solver=saga \n"
     ]
    },
    {
     "name": "stderr",
     "output_type": "stream",
     "text": [
      "C:\\ProgramData\\Anaconda3\\lib\\site-packages\\sklearn\\linear_model\\_sag.py:329: ConvergenceWarning: The max_iter was reached which means the coef_ did not converge\n",
      "  warnings.warn(\"The max_iter was reached which means \"\n"
     ]
    },
    {
     "name": "stdout",
     "output_type": "stream",
     "text": [
      "[CV]  C=30, class_weight=balanced, dual=False, penalty=l2, solver=saga, score=0.727, total=   0.2s\n",
      "[CV] C=30, class_weight=balanced, dual=False, penalty=l2, solver=saga \n"
     ]
    },
    {
     "name": "stderr",
     "output_type": "stream",
     "text": [
      "C:\\ProgramData\\Anaconda3\\lib\\site-packages\\sklearn\\linear_model\\_sag.py:329: ConvergenceWarning: The max_iter was reached which means the coef_ did not converge\n",
      "  warnings.warn(\"The max_iter was reached which means \"\n"
     ]
    },
    {
     "name": "stdout",
     "output_type": "stream",
     "text": [
      "[CV]  C=30, class_weight=balanced, dual=False, penalty=l2, solver=saga, score=0.709, total=   0.2s\n",
      "[CV] C=30, class_weight=balanced, dual=False, penalty=l2, solver=saga \n"
     ]
    },
    {
     "name": "stderr",
     "output_type": "stream",
     "text": [
      "C:\\ProgramData\\Anaconda3\\lib\\site-packages\\sklearn\\linear_model\\_sag.py:329: ConvergenceWarning: The max_iter was reached which means the coef_ did not converge\n",
      "  warnings.warn(\"The max_iter was reached which means \"\n"
     ]
    },
    {
     "name": "stdout",
     "output_type": "stream",
     "text": [
      "[CV]  C=30, class_weight=balanced, dual=False, penalty=l2, solver=saga, score=0.653, total=   0.3s\n",
      "[CV] C=30, class_weight=balanced, dual=False, penalty=l2, solver=saga \n"
     ]
    },
    {
     "name": "stderr",
     "output_type": "stream",
     "text": [
      "C:\\ProgramData\\Anaconda3\\lib\\site-packages\\sklearn\\linear_model\\_sag.py:329: ConvergenceWarning: The max_iter was reached which means the coef_ did not converge\n",
      "  warnings.warn(\"The max_iter was reached which means \"\n"
     ]
    },
    {
     "name": "stdout",
     "output_type": "stream",
     "text": [
      "[CV]  C=30, class_weight=balanced, dual=False, penalty=l2, solver=saga, score=0.660, total=   0.2s\n",
      "[CV] C=30, class_weight=balanced, dual=False, penalty=l2, solver=saga \n"
     ]
    },
    {
     "name": "stderr",
     "output_type": "stream",
     "text": [
      "C:\\ProgramData\\Anaconda3\\lib\\site-packages\\sklearn\\linear_model\\_sag.py:329: ConvergenceWarning: The max_iter was reached which means the coef_ did not converge\n",
      "  warnings.warn(\"The max_iter was reached which means \"\n"
     ]
    },
    {
     "name": "stdout",
     "output_type": "stream",
     "text": [
      "[CV]  C=30, class_weight=balanced, dual=False, penalty=l2, solver=saga, score=0.776, total=   0.2s\n",
      "[CV] C=30, class_weight=balanced, dual=False, penalty=l2, solver=liblinear \n",
      "[CV]  C=30, class_weight=balanced, dual=False, penalty=l2, solver=liblinear, score=0.721, total=   0.1s\n",
      "[CV] C=30, class_weight=balanced, dual=False, penalty=l2, solver=liblinear \n",
      "[CV]  C=30, class_weight=balanced, dual=False, penalty=l2, solver=liblinear, score=0.694, total=   0.1s\n",
      "[CV] C=30, class_weight=balanced, dual=False, penalty=l2, solver=liblinear \n",
      "[CV]  C=30, class_weight=balanced, dual=False, penalty=l2, solver=liblinear, score=0.656, total=   0.1s\n",
      "[CV] C=30, class_weight=balanced, dual=False, penalty=l2, solver=liblinear \n",
      "[CV]  C=30, class_weight=balanced, dual=False, penalty=l2, solver=liblinear, score=0.702, total=   0.1s\n",
      "[CV] C=30, class_weight=balanced, dual=False, penalty=l2, solver=liblinear \n",
      "[CV]  C=30, class_weight=balanced, dual=False, penalty=l2, solver=liblinear, score=0.721, total=   0.1s\n",
      "[CV] C=30, class_weight=balanced, dual=False, penalty=elasticnet, solver=newton-cg \n",
      "[CV]  C=30, class_weight=balanced, dual=False, penalty=elasticnet, solver=newton-cg, score=nan, total=   0.0s\n",
      "[CV] C=30, class_weight=balanced, dual=False, penalty=elasticnet, solver=newton-cg \n",
      "[CV]  C=30, class_weight=balanced, dual=False, penalty=elasticnet, solver=newton-cg, score=nan, total=   0.0s\n",
      "[CV] C=30, class_weight=balanced, dual=False, penalty=elasticnet, solver=newton-cg \n",
      "[CV]  C=30, class_weight=balanced, dual=False, penalty=elasticnet, solver=newton-cg, score=nan, total=   0.0s\n",
      "[CV] C=30, class_weight=balanced, dual=False, penalty=elasticnet, solver=newton-cg \n",
      "[CV]  C=30, class_weight=balanced, dual=False, penalty=elasticnet, solver=newton-cg, score=nan, total=   0.0s\n",
      "[CV] C=30, class_weight=balanced, dual=False, penalty=elasticnet, solver=newton-cg \n",
      "[CV]  C=30, class_weight=balanced, dual=False, penalty=elasticnet, solver=newton-cg, score=nan, total=   0.0s\n",
      "[CV] C=30, class_weight=balanced, dual=False, penalty=elasticnet, solver=lbfgs \n",
      "[CV]  C=30, class_weight=balanced, dual=False, penalty=elasticnet, solver=lbfgs, score=nan, total=   0.0s\n",
      "[CV] C=30, class_weight=balanced, dual=False, penalty=elasticnet, solver=lbfgs \n",
      "[CV]  C=30, class_weight=balanced, dual=False, penalty=elasticnet, solver=lbfgs, score=nan, total=   0.0s\n",
      "[CV] C=30, class_weight=balanced, dual=False, penalty=elasticnet, solver=lbfgs \n",
      "[CV]  C=30, class_weight=balanced, dual=False, penalty=elasticnet, solver=lbfgs, score=nan, total=   0.0s\n",
      "[CV] C=30, class_weight=balanced, dual=False, penalty=elasticnet, solver=lbfgs \n",
      "[CV]  C=30, class_weight=balanced, dual=False, penalty=elasticnet, solver=lbfgs, score=nan, total=   0.0s\n",
      "[CV] C=30, class_weight=balanced, dual=False, penalty=elasticnet, solver=lbfgs \n",
      "[CV]  C=30, class_weight=balanced, dual=False, penalty=elasticnet, solver=lbfgs, score=nan, total=   0.0s\n",
      "[CV] C=30, class_weight=balanced, dual=False, penalty=elasticnet, solver=sag \n",
      "[CV]  C=30, class_weight=balanced, dual=False, penalty=elasticnet, solver=sag, score=nan, total=   0.0s\n",
      "[CV] C=30, class_weight=balanced, dual=False, penalty=elasticnet, solver=sag \n",
      "[CV]  C=30, class_weight=balanced, dual=False, penalty=elasticnet, solver=sag, score=nan, total=   0.0s\n",
      "[CV] C=30, class_weight=balanced, dual=False, penalty=elasticnet, solver=sag \n",
      "[CV]  C=30, class_weight=balanced, dual=False, penalty=elasticnet, solver=sag, score=nan, total=   0.0s\n",
      "[CV] C=30, class_weight=balanced, dual=False, penalty=elasticnet, solver=sag \n",
      "[CV]  C=30, class_weight=balanced, dual=False, penalty=elasticnet, solver=sag, score=nan, total=   0.0s\n",
      "[CV] C=30, class_weight=balanced, dual=False, penalty=elasticnet, solver=sag \n",
      "[CV]  C=30, class_weight=balanced, dual=False, penalty=elasticnet, solver=sag, score=nan, total=   0.0s\n",
      "[CV] C=30, class_weight=balanced, dual=False, penalty=elasticnet, solver=saga \n",
      "[CV]  C=30, class_weight=balanced, dual=False, penalty=elasticnet, solver=saga, score=nan, total=   0.0s\n",
      "[CV] C=30, class_weight=balanced, dual=False, penalty=elasticnet, solver=saga \n",
      "[CV]  C=30, class_weight=balanced, dual=False, penalty=elasticnet, solver=saga, score=nan, total=   0.0s\n",
      "[CV] C=30, class_weight=balanced, dual=False, penalty=elasticnet, solver=saga \n",
      "[CV]  C=30, class_weight=balanced, dual=False, penalty=elasticnet, solver=saga, score=nan, total=   0.0s\n",
      "[CV] C=30, class_weight=balanced, dual=False, penalty=elasticnet, solver=saga \n",
      "[CV]  C=30, class_weight=balanced, dual=False, penalty=elasticnet, solver=saga, score=nan, total=   0.0s\n",
      "[CV] C=30, class_weight=balanced, dual=False, penalty=elasticnet, solver=saga \n",
      "[CV]  C=30, class_weight=balanced, dual=False, penalty=elasticnet, solver=saga, score=nan, total=   0.0s\n",
      "[CV] C=30, class_weight=balanced, dual=False, penalty=elasticnet, solver=liblinear \n",
      "[CV]  C=30, class_weight=balanced, dual=False, penalty=elasticnet, solver=liblinear, score=nan, total=   0.0s\n",
      "[CV] C=30, class_weight=balanced, dual=False, penalty=elasticnet, solver=liblinear \n",
      "[CV]  C=30, class_weight=balanced, dual=False, penalty=elasticnet, solver=liblinear, score=nan, total=   0.0s\n",
      "[CV] C=30, class_weight=balanced, dual=False, penalty=elasticnet, solver=liblinear \n",
      "[CV]  C=30, class_weight=balanced, dual=False, penalty=elasticnet, solver=liblinear, score=nan, total=   0.0s\n",
      "[CV] C=30, class_weight=balanced, dual=False, penalty=elasticnet, solver=liblinear \n",
      "[CV]  C=30, class_weight=balanced, dual=False, penalty=elasticnet, solver=liblinear, score=nan, total=   0.0s\n",
      "[CV] C=30, class_weight=balanced, dual=False, penalty=elasticnet, solver=liblinear \n",
      "[CV]  C=30, class_weight=balanced, dual=False, penalty=elasticnet, solver=liblinear, score=nan, total=   0.0s\n"
     ]
    },
    {
     "name": "stderr",
     "output_type": "stream",
     "text": [
      "C:\\ProgramData\\Anaconda3\\lib\\site-packages\\sklearn\\model_selection\\_validation.py:548: FitFailedWarning: Estimator fit failed. The score on this train-test partition for these parameters will be set to nan. Details: \n",
      "Traceback (most recent call last):\n",
      "  File \"C:\\ProgramData\\Anaconda3\\lib\\site-packages\\sklearn\\model_selection\\_validation.py\", line 531, in _fit_and_score\n",
      "    estimator.fit(X_train, y_train, **fit_params)\n",
      "  File \"C:\\ProgramData\\Anaconda3\\lib\\site-packages\\sklearn\\linear_model\\_logistic.py\", line 1304, in fit\n",
      "    solver = _check_solver(self.solver, self.penalty, self.dual)\n",
      "  File \"C:\\ProgramData\\Anaconda3\\lib\\site-packages\\sklearn\\linear_model\\_logistic.py\", line 442, in _check_solver\n",
      "    raise ValueError(\"Solver %s supports only 'l2' or 'none' penalties, \"\n",
      "ValueError: Solver newton-cg supports only 'l2' or 'none' penalties, got elasticnet penalty.\n",
      "\n",
      "  warnings.warn(\"Estimator fit failed. The score on this train-test\"\n",
      "C:\\ProgramData\\Anaconda3\\lib\\site-packages\\sklearn\\model_selection\\_validation.py:548: FitFailedWarning: Estimator fit failed. The score on this train-test partition for these parameters will be set to nan. Details: \n",
      "Traceback (most recent call last):\n",
      "  File \"C:\\ProgramData\\Anaconda3\\lib\\site-packages\\sklearn\\model_selection\\_validation.py\", line 531, in _fit_and_score\n",
      "    estimator.fit(X_train, y_train, **fit_params)\n",
      "  File \"C:\\ProgramData\\Anaconda3\\lib\\site-packages\\sklearn\\linear_model\\_logistic.py\", line 1304, in fit\n",
      "    solver = _check_solver(self.solver, self.penalty, self.dual)\n",
      "  File \"C:\\ProgramData\\Anaconda3\\lib\\site-packages\\sklearn\\linear_model\\_logistic.py\", line 442, in _check_solver\n",
      "    raise ValueError(\"Solver %s supports only 'l2' or 'none' penalties, \"\n",
      "ValueError: Solver lbfgs supports only 'l2' or 'none' penalties, got elasticnet penalty.\n",
      "\n",
      "  warnings.warn(\"Estimator fit failed. The score on this train-test\"\n",
      "C:\\ProgramData\\Anaconda3\\lib\\site-packages\\sklearn\\model_selection\\_validation.py:548: FitFailedWarning: Estimator fit failed. The score on this train-test partition for these parameters will be set to nan. Details: \n",
      "Traceback (most recent call last):\n",
      "  File \"C:\\ProgramData\\Anaconda3\\lib\\site-packages\\sklearn\\model_selection\\_validation.py\", line 531, in _fit_and_score\n",
      "    estimator.fit(X_train, y_train, **fit_params)\n",
      "  File \"C:\\ProgramData\\Anaconda3\\lib\\site-packages\\sklearn\\linear_model\\_logistic.py\", line 1304, in fit\n",
      "    solver = _check_solver(self.solver, self.penalty, self.dual)\n",
      "  File \"C:\\ProgramData\\Anaconda3\\lib\\site-packages\\sklearn\\linear_model\\_logistic.py\", line 442, in _check_solver\n",
      "    raise ValueError(\"Solver %s supports only 'l2' or 'none' penalties, \"\n",
      "ValueError: Solver sag supports only 'l2' or 'none' penalties, got elasticnet penalty.\n",
      "\n",
      "  warnings.warn(\"Estimator fit failed. The score on this train-test\"\n",
      "C:\\ProgramData\\Anaconda3\\lib\\site-packages\\sklearn\\model_selection\\_validation.py:548: FitFailedWarning: Estimator fit failed. The score on this train-test partition for these parameters will be set to nan. Details: \n",
      "Traceback (most recent call last):\n",
      "  File \"C:\\ProgramData\\Anaconda3\\lib\\site-packages\\sklearn\\model_selection\\_validation.py\", line 531, in _fit_and_score\n",
      "    estimator.fit(X_train, y_train, **fit_params)\n",
      "  File \"C:\\ProgramData\\Anaconda3\\lib\\site-packages\\sklearn\\linear_model\\_logistic.py\", line 1312, in fit\n",
      "    raise ValueError(\"l1_ratio must be between 0 and 1;\"\n",
      "ValueError: l1_ratio must be between 0 and 1; got (l1_ratio=None)\n",
      "\n",
      "  warnings.warn(\"Estimator fit failed. The score on this train-test\"\n",
      "C:\\ProgramData\\Anaconda3\\lib\\site-packages\\sklearn\\model_selection\\_validation.py:548: FitFailedWarning: Estimator fit failed. The score on this train-test partition for these parameters will be set to nan. Details: \n",
      "Traceback (most recent call last):\n",
      "  File \"C:\\ProgramData\\Anaconda3\\lib\\site-packages\\sklearn\\model_selection\\_validation.py\", line 531, in _fit_and_score\n",
      "    estimator.fit(X_train, y_train, **fit_params)\n",
      "  File \"C:\\ProgramData\\Anaconda3\\lib\\site-packages\\sklearn\\linear_model\\_logistic.py\", line 1304, in fit\n",
      "    solver = _check_solver(self.solver, self.penalty, self.dual)\n",
      "  File \"C:\\ProgramData\\Anaconda3\\lib\\site-packages\\sklearn\\linear_model\\_logistic.py\", line 449, in _check_solver\n",
      "    raise ValueError(\"Only 'saga' solver supports elasticnet penalty,\"\n",
      "ValueError: Only 'saga' solver supports elasticnet penalty, got solver=liblinear.\n",
      "\n",
      "  warnings.warn(\"Estimator fit failed. The score on this train-test\"\n",
      "[Parallel(n_jobs=1)]: Done 900 out of 900 | elapsed:  5.3min finished\n"
     ]
    },
    {
     "data": {
      "text/plain": [
       "GridSearchCV(cv=5, estimator=LogisticRegression(C=1, random_state=12),\n",
       "             param_grid={'C': [1, 10, 30], 'class_weight': [None, 'balanced'],\n",
       "                         'dual': [True, False],\n",
       "                         'penalty': ['l1', 'l2', 'elasticnet'],\n",
       "                         'solver': ['newton-cg', 'lbfgs', 'sag', 'saga',\n",
       "                                    'liblinear']},\n",
       "             scoring='f1_macro', verbose=3)"
      ]
     },
     "execution_count": 65,
     "metadata": {},
     "output_type": "execute_result"
    }
   ],
   "source": [
    "default_grid_LR = LogisticRegression(penalty='l2', dual=False, C=1, class_weight=None, \n",
    "                                solver='lbfgs', random_state=12)\n",
    "\n",
    "# dictionary containing the parameters which will be used for grid search\n",
    "grid_search_params={'penalty': ['l1', 'l2', 'elasticnet'],  \n",
    "              'dual': [True, False], \n",
    "              'C': [1, 10, 30],\n",
    "              'class_weight': [None, 'balanced'],\n",
    "              'solver': ['newton-cg', 'lbfgs', 'sag', 'saga', 'liblinear']}\n",
    "\n",
    "# grid search with f1 being the performance metric\n",
    "grid_LR = GridSearchCV(default_grid_LR, grid_search_params, cv=5, scoring='f1_macro', verbose=3)\n",
    "grid_LR.fit(count_train, y_train)"
   ]
  },
  {
   "cell_type": "code",
   "execution_count": 66,
   "metadata": {},
   "outputs": [
    {
     "name": "stdout",
     "output_type": "stream",
     "text": [
      "Macro F1 Score: 0.743414295943096\n",
      "Best Hyperparameters: {'C': 1, 'class_weight': 'balanced', 'dual': False, 'penalty': 'l1', 'solver': 'liblinear'}\n",
      "Model object with best parameters: \n",
      "LogisticRegression(C=1, class_weight='balanced', penalty='l1', random_state=12,\n",
      "                   solver='liblinear')\n"
     ]
    }
   ],
   "source": [
    "#print best score obtained and the parameters which obtained it\n",
    "print('Macro F1 Score:', grid_LR.best_score_)\n",
    "print('Best Hyperparameters:', grid_LR.best_params_)\n",
    "print('Model object with best parameters: ')\n",
    "print(grid_LR.best_estimator_)"
   ]
  },
  {
   "cell_type": "code",
   "execution_count": 67,
   "metadata": {},
   "outputs": [
    {
     "name": "stdout",
     "output_type": "stream",
     "text": [
      "training...\n",
      "complete.\n",
      "predicting...\n",
      "complete.\n"
     ]
    }
   ],
   "source": [
    "# train classifier\n",
    "print(\"training...\")\n",
    "grid_LR.best_estimator_.fit(count_train, y_train)\n",
    "print(\"complete.\")\n",
    "# use classifier to predict on test set\n",
    "print(\"predicting...\")\n",
    "LR_test_preds = grid_LR.best_estimator_.predict(count_test)\n",
    "print(\"complete.\")"
   ]
  },
  {
   "cell_type": "code",
   "execution_count": 68,
   "metadata": {},
   "outputs": [
    {
     "name": "stdout",
     "output_type": "stream",
     "text": [
      "Model evaluation metrics\n",
      "Precision: 0.719\n",
      "Recall: 0.724\n",
      "Macro F1 Score: 0.698\n"
     ]
    }
   ],
   "source": [
    "grid_LR_precision = precision_score(y_test, LR_test_preds, average='macro')\n",
    "grid_LR_recall = recall_score(y_test, LR_test_preds, average='macro')\n",
    "grid_LR_macro_f1_score = f1_score(y_test, LR_test_preds, average='macro')\n",
    "\n",
    "#model evaluation\n",
    "print('Model evaluation metrics')\n",
    "print('Precision: {:.3}'.format(grid_LR_precision))\n",
    "print('Recall: {:.3}'.format(grid_LR_recall))\n",
    "print('Macro F1 Score: {:.3}'.format(grid_LR_macro_f1_score))\n",
    "\n",
    "LR_metrics['Grid LR  - no S/L preprocessing'] = {'precision': grid_LR_precision, 'recall': grid_LR_recall, \n",
    "                            'macro_f1': grid_LR_macro_f1_score}"
   ]
  },
  {
   "cell_type": "code",
   "execution_count": 69,
   "metadata": {},
   "outputs": [
    {
     "data": {
      "text/plain": [
       "<sklearn.metrics._plot.confusion_matrix.ConfusionMatrixDisplay at 0x21a1978a490>"
      ]
     },
     "execution_count": 69,
     "metadata": {},
     "output_type": "execute_result"
    },
    {
     "data": {
      "image/png": "[encoded data removed]",
      "text/plain": [
       "<Figure size 432x288 with 2 Axes>"
      ]
     },
     "metadata": {
      "needs_background": "light"
     },
     "output_type": "display_data"
    }
   ],
   "source": [
    "plot_confusion_matrix(grid_LR, count_test, y_test)"
   ]
  },
  {
   "cell_type": "code",
   "execution_count": 70,
   "metadata": {},
   "outputs": [
    {
     "data": {
      "text/html": [
       "<div>\n",
       "<style scoped>\n",
       "    .dataframe tbody tr th:only-of-type {\n",
       "        vertical-align: middle;\n",
       "    }\n",
       "\n",
       "    .dataframe tbody tr th {\n",
       "        vertical-align: top;\n",
       "    }\n",
       "\n",
       "    .dataframe thead th {\n",
       "        text-align: right;\n",
       "    }\n",
       "</style>\n",
       "<table border=\"1\" class=\"dataframe\">\n",
       "  <thead>\n",
       "    <tr style=\"text-align: right;\">\n",
       "      <th></th>\n",
       "      <th>precision</th>\n",
       "      <th>recall</th>\n",
       "      <th>macro_f1</th>\n",
       "    </tr>\n",
       "  </thead>\n",
       "  <tbody>\n",
       "    <tr>\n",
       "      <th>Default LR</th>\n",
       "      <td>0.797000</td>\n",
       "      <td>0.619195</td>\n",
       "      <td>0.683464</td>\n",
       "    </tr>\n",
       "    <tr>\n",
       "      <th>Grid LR</th>\n",
       "      <td>0.738632</td>\n",
       "      <td>0.767926</td>\n",
       "      <td>0.730399</td>\n",
       "    </tr>\n",
       "    <tr>\n",
       "      <th>Default LR - no S/L preprocessing</th>\n",
       "      <td>0.774458</td>\n",
       "      <td>0.552412</td>\n",
       "      <td>0.613874</td>\n",
       "    </tr>\n",
       "    <tr>\n",
       "      <th>Grid LR  - no S/L preprocessing</th>\n",
       "      <td>0.719085</td>\n",
       "      <td>0.723569</td>\n",
       "      <td>0.697932</td>\n",
       "    </tr>\n",
       "  </tbody>\n",
       "</table>\n",
       "</div>"
      ],
      "text/plain": [
       "                                   precision    recall  macro_f1\n",
       "Default LR                          0.797000  0.619195  0.683464\n",
       "Grid LR                             0.738632  0.767926  0.730399\n",
       "Default LR - no S/L preprocessing   0.774458  0.552412  0.613874\n",
       "Grid LR  - no S/L preprocessing     0.719085  0.723569  0.697932"
      ]
     },
     "execution_count": 70,
     "metadata": {},
     "output_type": "execute_result"
    }
   ],
   "source": [
    "#compare parameters\n",
    "results = pd.DataFrame.from_dict(LR_metrics, orient='index')\n",
    "results.to_csv(r\"C:\\Users\\jackc\\Semester2\\Project\\Identifying-Hate-Speech-Categories-On-Social-Media\\Results\\LR_count_results_multi\",\n",
    "               index=False)\n",
    "results"
   ]
  }
 ],
 "metadata": {
  "kernelspec": {
   "display_name": "Python 3",
   "language": "python",
   "name": "python3"
  },
  "language_info": {
   "codemirror_mode": {
    "name": "ipython",
    "version": 3
   },
   "file_extension": ".py",
   "mimetype": "text/x-python",
   "name": "python",
   "nbconvert_exporter": "python",
   "pygments_lexer": "ipython3",
   "version": "3.8.5"
  }
 },
 "nbformat": 4,
 "nbformat_minor": 4
}
